{
 "cells": [
  {
   "cell_type": "code",
   "execution_count": 15,
   "id": "ebf7643e-6b79-414e-b2b5-6bff265cc12f",
   "metadata": {},
   "outputs": [],
   "source": [
    "import pandas as pd\n",
    "from pandas import DataFrame\n",
    "import numpy as np\n",
    "import seaborn as sns\n",
    "import matplotlib.pyplot as plt\n",
    "\n",
    "import platform\n",
    "from matplotlib import font_manager, rc # Runtime Configuration\n",
    "path = \"c:/Windows/Fonts/malgun.ttf\"\n",
    "if platform.system() == 'Darwin':\n",
    "    rc('font', family='AppleGothic')\n",
    "elif platform.system() == 'Windows':\n",
    "    font_name = font_manager.FontProperties(fname=path).get_name()\n",
    "    rc('font', family=font_name)\n",
    "else:\n",
    "    print('Unknown system')"
   ]
  },
  {
   "cell_type": "code",
   "execution_count": null,
   "id": "cd49fe55-29a8-4396-9b4e-663dd80d86e1",
   "metadata": {},
   "outputs": [],
   "source": [
    "# https://nbviewer.jupyter.org/\n",
    "# github에서 ipynb file 안 열릴 떄 "
   ]
  },
  {
   "cell_type": "code",
   "execution_count": null,
   "id": "a8a79417-1c51-4bcd-8d6b-dbfcff241e74",
   "metadata": {},
   "outputs": [],
   "source": []
  },
  {
   "cell_type": "code",
   "execution_count": 2,
   "id": "842cebad-aa82-4c7a-bfe4-ce51fc6f8fb0",
   "metadata": {
    "collapsed": true,
    "jupyter": {
     "outputs_hidden": true
    },
    "tags": []
   },
   "outputs": [
    {
     "data": {
      "text/html": [
       "<div>\n",
       "<style scoped>\n",
       "    .dataframe tbody tr th:only-of-type {\n",
       "        vertical-align: middle;\n",
       "    }\n",
       "\n",
       "    .dataframe tbody tr th {\n",
       "        vertical-align: top;\n",
       "    }\n",
       "\n",
       "    .dataframe thead th {\n",
       "        text-align: right;\n",
       "    }\n",
       "</style>\n",
       "<table border=\"1\" class=\"dataframe\">\n",
       "  <thead>\n",
       "    <tr style=\"text-align: right;\">\n",
       "      <th></th>\n",
       "      <th>Unnamed: 0</th>\n",
       "      <th>대여일자</th>\n",
       "      <th>대여시간(24)</th>\n",
       "      <th>대여소번호</th>\n",
       "      <th>대여소명</th>\n",
       "      <th>대여권</th>\n",
       "      <th>연령대</th>\n",
       "      <th>성별</th>\n",
       "      <th>이동거리(km)</th>\n",
       "      <th>사용시간(hr)</th>\n",
       "      <th>속도(km/h)</th>\n",
       "      <th>년</th>\n",
       "      <th>월</th>\n",
       "    </tr>\n",
       "  </thead>\n",
       "  <tbody>\n",
       "    <tr>\n",
       "      <th>0</th>\n",
       "      <td>0</td>\n",
       "      <td>2018-12-02</td>\n",
       "      <td>14</td>\n",
       "      <td>1366</td>\n",
       "      <td>1366. 일신초등학교 옆</td>\n",
       "      <td>정기권</td>\n",
       "      <td>30대</td>\n",
       "      <td>M</td>\n",
       "      <td>2.43</td>\n",
       "      <td>0.32</td>\n",
       "      <td>7.59</td>\n",
       "      <td>2018</td>\n",
       "      <td>12</td>\n",
       "    </tr>\n",
       "    <tr>\n",
       "      <th>1</th>\n",
       "      <td>1</td>\n",
       "      <td>2018-06-16</td>\n",
       "      <td>12</td>\n",
       "      <td>1675</td>\n",
       "      <td>1675.  월계문화체육센터</td>\n",
       "      <td>단체권</td>\n",
       "      <td>30대</td>\n",
       "      <td>F</td>\n",
       "      <td>31.01</td>\n",
       "      <td>3.20</td>\n",
       "      <td>9.69</td>\n",
       "      <td>2018</td>\n",
       "      <td>6</td>\n",
       "    </tr>\n",
       "    <tr>\n",
       "      <th>2</th>\n",
       "      <td>2</td>\n",
       "      <td>2018-07-03</td>\n",
       "      <td>11</td>\n",
       "      <td>567</td>\n",
       "      <td>567.  성수역 2번출구 앞</td>\n",
       "      <td>정기권</td>\n",
       "      <td>70대~</td>\n",
       "      <td>M</td>\n",
       "      <td>3.73</td>\n",
       "      <td>0.72</td>\n",
       "      <td>5.18</td>\n",
       "      <td>2018</td>\n",
       "      <td>7</td>\n",
       "    </tr>\n",
       "    <tr>\n",
       "      <th>3</th>\n",
       "      <td>3</td>\n",
       "      <td>2018-04-21</td>\n",
       "      <td>11</td>\n",
       "      <td>3102</td>\n",
       "      <td>3102.  연희삼거리</td>\n",
       "      <td>정기권</td>\n",
       "      <td>30대</td>\n",
       "      <td>M</td>\n",
       "      <td>3.01</td>\n",
       "      <td>0.28</td>\n",
       "      <td>10.75</td>\n",
       "      <td>2018</td>\n",
       "      <td>4</td>\n",
       "    </tr>\n",
       "    <tr>\n",
       "      <th>4</th>\n",
       "      <td>4</td>\n",
       "      <td>2019-09-30</td>\n",
       "      <td>19</td>\n",
       "      <td>111</td>\n",
       "      <td>111. 상수역 2번출구 앞</td>\n",
       "      <td>정기권</td>\n",
       "      <td>20대</td>\n",
       "      <td>M</td>\n",
       "      <td>1.70</td>\n",
       "      <td>0.20</td>\n",
       "      <td>8.50</td>\n",
       "      <td>2019</td>\n",
       "      <td>9</td>\n",
       "    </tr>\n",
       "    <tr>\n",
       "      <th>...</th>\n",
       "      <td>...</td>\n",
       "      <td>...</td>\n",
       "      <td>...</td>\n",
       "      <td>...</td>\n",
       "      <td>...</td>\n",
       "      <td>...</td>\n",
       "      <td>...</td>\n",
       "      <td>...</td>\n",
       "      <td>...</td>\n",
       "      <td>...</td>\n",
       "      <td>...</td>\n",
       "      <td>...</td>\n",
       "      <td>...</td>\n",
       "    </tr>\n",
       "    <tr>\n",
       "      <th>701468</th>\n",
       "      <td>701468</td>\n",
       "      <td>2020-03-02</td>\n",
       "      <td>18</td>\n",
       "      <td>1288</td>\n",
       "      <td>1288. 문정중교 사거리</td>\n",
       "      <td>일일권</td>\n",
       "      <td>30대</td>\n",
       "      <td>M</td>\n",
       "      <td>12.64</td>\n",
       "      <td>1.55</td>\n",
       "      <td>8.15</td>\n",
       "      <td>2020</td>\n",
       "      <td>3</td>\n",
       "    </tr>\n",
       "    <tr>\n",
       "      <th>701469</th>\n",
       "      <td>701469</td>\n",
       "      <td>2018-08-22</td>\n",
       "      <td>8</td>\n",
       "      <td>714</td>\n",
       "      <td>714.  한국SGI 양천문화회관 앞</td>\n",
       "      <td>정기권</td>\n",
       "      <td>20대</td>\n",
       "      <td>F</td>\n",
       "      <td>1.38</td>\n",
       "      <td>0.17</td>\n",
       "      <td>8.12</td>\n",
       "      <td>2018</td>\n",
       "      <td>8</td>\n",
       "    </tr>\n",
       "    <tr>\n",
       "      <th>701470</th>\n",
       "      <td>701470</td>\n",
       "      <td>2020-07-01</td>\n",
       "      <td>17</td>\n",
       "      <td>2621</td>\n",
       "      <td>2621. 한성백제역 2번 출구</td>\n",
       "      <td>정기권</td>\n",
       "      <td>70대~</td>\n",
       "      <td>NaN</td>\n",
       "      <td>1.07</td>\n",
       "      <td>0.27</td>\n",
       "      <td>3.96</td>\n",
       "      <td>2020</td>\n",
       "      <td>7</td>\n",
       "    </tr>\n",
       "    <tr>\n",
       "      <th>701471</th>\n",
       "      <td>701471</td>\n",
       "      <td>2018-04-16</td>\n",
       "      <td>15</td>\n",
       "      <td>305</td>\n",
       "      <td>305.  종로구청 옆</td>\n",
       "      <td>정기권</td>\n",
       "      <td>40대</td>\n",
       "      <td>F</td>\n",
       "      <td>2.83</td>\n",
       "      <td>0.40</td>\n",
       "      <td>7.08</td>\n",
       "      <td>2018</td>\n",
       "      <td>4</td>\n",
       "    </tr>\n",
       "    <tr>\n",
       "      <th>701472</th>\n",
       "      <td>701472</td>\n",
       "      <td>2018-07-29</td>\n",
       "      <td>17</td>\n",
       "      <td>1019</td>\n",
       "      <td>1019.  다성이즈빌아파트(호원대 대각선 맞은편)</td>\n",
       "      <td>정기권</td>\n",
       "      <td>20대</td>\n",
       "      <td>F</td>\n",
       "      <td>1.21</td>\n",
       "      <td>0.13</td>\n",
       "      <td>9.31</td>\n",
       "      <td>2018</td>\n",
       "      <td>7</td>\n",
       "    </tr>\n",
       "  </tbody>\n",
       "</table>\n",
       "<p>701473 rows × 13 columns</p>\n",
       "</div>"
      ],
      "text/plain": [
       "        Unnamed: 0        대여일자  대여시간(24)  대여소번호                          대여소명  \\\n",
       "0                0  2018-12-02        14   1366                1366. 일신초등학교 옆   \n",
       "1                1  2018-06-16        12   1675               1675.  월계문화체육센터   \n",
       "2                2  2018-07-03        11    567              567.  성수역 2번출구 앞   \n",
       "3                3  2018-04-21        11   3102                  3102.  연희삼거리   \n",
       "4                4  2019-09-30        19    111               111. 상수역 2번출구 앞   \n",
       "...            ...         ...       ...    ...                           ...   \n",
       "701468      701468  2020-03-02        18   1288                1288. 문정중교 사거리   \n",
       "701469      701469  2018-08-22         8    714          714.  한국SGI 양천문화회관 앞   \n",
       "701470      701470  2020-07-01        17   2621             2621. 한성백제역 2번 출구   \n",
       "701471      701471  2018-04-16        15    305                  305.  종로구청 옆   \n",
       "701472      701472  2018-07-29        17   1019  1019.  다성이즈빌아파트(호원대 대각선 맞은편)   \n",
       "\n",
       "        대여권   연령대   성별  이동거리(km)  사용시간(hr)  속도(km/h)     년   월  \n",
       "0       정기권   30대    M      2.43      0.32      7.59  2018  12  \n",
       "1       단체권   30대    F     31.01      3.20      9.69  2018   6  \n",
       "2       정기권  70대~    M      3.73      0.72      5.18  2018   7  \n",
       "3       정기권   30대    M      3.01      0.28     10.75  2018   4  \n",
       "4       정기권   20대    M      1.70      0.20      8.50  2019   9  \n",
       "...     ...   ...  ...       ...       ...       ...   ...  ..  \n",
       "701468  일일권   30대    M     12.64      1.55      8.15  2020   3  \n",
       "701469  정기권   20대    F      1.38      0.17      8.12  2018   8  \n",
       "701470  정기권  70대~  NaN      1.07      0.27      3.96  2020   7  \n",
       "701471  정기권   40대    F      2.83      0.40      7.08  2018   4  \n",
       "701472  정기권   20대    F      1.21      0.13      9.31  2018   7  \n",
       "\n",
       "[701473 rows x 13 columns]"
      ]
     },
     "execution_count": 2,
     "metadata": {},
     "output_type": "execute_result"
    }
   ],
   "source": [
    "df = pd.read_csv('bicycle5.csv', encoding='utf-8')\n",
    "df"
   ]
  },
  {
   "cell_type": "code",
   "execution_count": 3,
   "id": "526a2d86-b3ac-42b2-91e3-b4eb846f0a3a",
   "metadata": {
    "tags": []
   },
   "outputs": [
    {
     "data": {
      "text/html": [
       "<div>\n",
       "<style scoped>\n",
       "    .dataframe tbody tr th:only-of-type {\n",
       "        vertical-align: middle;\n",
       "    }\n",
       "\n",
       "    .dataframe tbody tr th {\n",
       "        vertical-align: top;\n",
       "    }\n",
       "\n",
       "    .dataframe thead th {\n",
       "        text-align: right;\n",
       "    }\n",
       "</style>\n",
       "<table border=\"1\" class=\"dataframe\">\n",
       "  <thead>\n",
       "    <tr style=\"text-align: right;\">\n",
       "      <th></th>\n",
       "      <th>대여일자</th>\n",
       "      <th>대여시간(24)</th>\n",
       "      <th>대여소번호</th>\n",
       "      <th>대여소명</th>\n",
       "      <th>대여권</th>\n",
       "      <th>연령대</th>\n",
       "      <th>성별</th>\n",
       "      <th>이동거리(km)</th>\n",
       "      <th>사용시간(hr)</th>\n",
       "      <th>속도(km/h)</th>\n",
       "      <th>년</th>\n",
       "      <th>월</th>\n",
       "    </tr>\n",
       "  </thead>\n",
       "  <tbody>\n",
       "    <tr>\n",
       "      <th>0</th>\n",
       "      <td>2018-12-02</td>\n",
       "      <td>14</td>\n",
       "      <td>1366</td>\n",
       "      <td>1366. 일신초등학교 옆</td>\n",
       "      <td>정기권</td>\n",
       "      <td>30대</td>\n",
       "      <td>M</td>\n",
       "      <td>2.43</td>\n",
       "      <td>0.32</td>\n",
       "      <td>7.59</td>\n",
       "      <td>2018</td>\n",
       "      <td>12</td>\n",
       "    </tr>\n",
       "    <tr>\n",
       "      <th>1</th>\n",
       "      <td>2018-06-16</td>\n",
       "      <td>12</td>\n",
       "      <td>1675</td>\n",
       "      <td>1675.  월계문화체육센터</td>\n",
       "      <td>단체권</td>\n",
       "      <td>30대</td>\n",
       "      <td>F</td>\n",
       "      <td>31.01</td>\n",
       "      <td>3.20</td>\n",
       "      <td>9.69</td>\n",
       "      <td>2018</td>\n",
       "      <td>6</td>\n",
       "    </tr>\n",
       "    <tr>\n",
       "      <th>2</th>\n",
       "      <td>2018-07-03</td>\n",
       "      <td>11</td>\n",
       "      <td>567</td>\n",
       "      <td>567.  성수역 2번출구 앞</td>\n",
       "      <td>정기권</td>\n",
       "      <td>70대~</td>\n",
       "      <td>M</td>\n",
       "      <td>3.73</td>\n",
       "      <td>0.72</td>\n",
       "      <td>5.18</td>\n",
       "      <td>2018</td>\n",
       "      <td>7</td>\n",
       "    </tr>\n",
       "    <tr>\n",
       "      <th>3</th>\n",
       "      <td>2018-04-21</td>\n",
       "      <td>11</td>\n",
       "      <td>3102</td>\n",
       "      <td>3102.  연희삼거리</td>\n",
       "      <td>정기권</td>\n",
       "      <td>30대</td>\n",
       "      <td>M</td>\n",
       "      <td>3.01</td>\n",
       "      <td>0.28</td>\n",
       "      <td>10.75</td>\n",
       "      <td>2018</td>\n",
       "      <td>4</td>\n",
       "    </tr>\n",
       "    <tr>\n",
       "      <th>4</th>\n",
       "      <td>2019-09-30</td>\n",
       "      <td>19</td>\n",
       "      <td>111</td>\n",
       "      <td>111. 상수역 2번출구 앞</td>\n",
       "      <td>정기권</td>\n",
       "      <td>20대</td>\n",
       "      <td>M</td>\n",
       "      <td>1.70</td>\n",
       "      <td>0.20</td>\n",
       "      <td>8.50</td>\n",
       "      <td>2019</td>\n",
       "      <td>9</td>\n",
       "    </tr>\n",
       "  </tbody>\n",
       "</table>\n",
       "</div>"
      ],
      "text/plain": [
       "         대여일자  대여시간(24)  대여소번호              대여소명  대여권   연령대 성별  이동거리(km)  \\\n",
       "0  2018-12-02        14   1366    1366. 일신초등학교 옆  정기권   30대  M      2.43   \n",
       "1  2018-06-16        12   1675   1675.  월계문화체육센터  단체권   30대  F     31.01   \n",
       "2  2018-07-03        11    567  567.  성수역 2번출구 앞  정기권  70대~  M      3.73   \n",
       "3  2018-04-21        11   3102      3102.  연희삼거리  정기권   30대  M      3.01   \n",
       "4  2019-09-30        19    111   111. 상수역 2번출구 앞  정기권   20대  M      1.70   \n",
       "\n",
       "   사용시간(hr)  속도(km/h)     년   월  \n",
       "0      0.32      7.59  2018  12  \n",
       "1      3.20      9.69  2018   6  \n",
       "2      0.72      5.18  2018   7  \n",
       "3      0.28     10.75  2018   4  \n",
       "4      0.20      8.50  2019   9  "
      ]
     },
     "execution_count": 3,
     "metadata": {},
     "output_type": "execute_result"
    }
   ],
   "source": [
    "del df['Unnamed: 0']\n",
    "df.head()"
   ]
  },
  {
   "cell_type": "code",
   "execution_count": 8,
   "id": "b1af7689-f797-4b75-977e-58d43b6e483b",
   "metadata": {
    "tags": []
   },
   "outputs": [],
   "source": [
    "# Pandas 에서 조건에 맞는 컬럼에서 단일값 바꾸기\n",
    "# ## 단일값 바꾸는 부분             # https://developer-ping9.tistory.com/111\n",
    "\n",
    "# 1. Index 기반 접근방법 \n",
    "# df.at[4,'dest_loc'] = '홍대'          # 4행, 'dest_loc'칼럼 값을 홍대로 변경\n",
    "\n",
    "# 2. True/False 기반 접근 방법\n",
    "# df[(df['col_name'] == '대명동')] = '홍대'     # 'dest_loc'칼럼 中 '대명동'과 일치하는 데이터\n",
    "                                              # '홍대'로 일괄변경\n",
    "df[(df['성별'] == 'f')] = 'F'"
   ]
  },
  {
   "cell_type": "code",
   "execution_count": 9,
   "id": "868f2727-b579-4384-b2b9-180481cceaf7",
   "metadata": {},
   "outputs": [
    {
     "data": {
      "text/plain": [
       "m         181\n",
       "\\N       3690\n",
       "F      172641\n",
       "NaN    239841\n",
       "M      285120\n",
       "Name: 성별, dtype: int64"
      ]
     },
     "execution_count": 9,
     "metadata": {},
     "output_type": "execute_result"
    }
   ],
   "source": [
    "df['성별'].value_counts(ascending=True, dropna=False)\n",
    "# f : 112 , F : 172529 --> F : 172641"
   ]
  },
  {
   "cell_type": "code",
   "execution_count": 10,
   "id": "6bc796df-c5c5-4571-b2a4-2837a6e2682f",
   "metadata": {},
   "outputs": [
    {
     "data": {
      "text/plain": [
       "\\N       3690\n",
       "F      172641\n",
       "NaN    239841\n",
       "M      285301\n",
       "Name: 성별, dtype: int64"
      ]
     },
     "execution_count": 10,
     "metadata": {},
     "output_type": "execute_result"
    }
   ],
   "source": [
    "df[(df['성별'] == 'm')] = 'M'\n",
    "df['성별'].value_counts(ascending=True, dropna=False)"
   ]
  },
  {
   "cell_type": "code",
   "execution_count": 30,
   "id": "0d5773c3-b1d5-471b-a8cf-fead7d3d5cfd",
   "metadata": {},
   "outputs": [],
   "source": [
    "# 특정 row 값이 있는 row 제거 \n",
    "#               연령대 안  F M \n",
    "#               대여시간 안 F M \n",
    "df['대여시간(24)'].str.contains('M').sum()\n",
    "# 2) 삭제방법 1 : 조건 만족 행의 index 추출 --> drop \n",
    "idx = df[df['대여시간(24)']=='M'].index \n",
    "df.drop(idx, inplace=True)"
   ]
  },
  {
   "cell_type": "code",
   "execution_count": 31,
   "id": "87749f05-3f3b-4be9-a2bd-4650890c2367",
   "metadata": {
    "collapsed": true,
    "jupyter": {
     "outputs_hidden": true
    },
    "tags": []
   },
   "outputs": [
    {
     "data": {
      "text/plain": [
       "18    62498\n",
       "17    49650\n",
       "19    49481\n",
       "20    43944\n",
       "21    41911\n",
       "16    40118\n",
       "8     39880\n",
       "22    36740\n",
       "15    35665\n",
       "14    32736\n",
       "13    30310\n",
       "12    28838\n",
       "23    26420\n",
       "9     26036\n",
       "11    25009\n",
       "7     24758\n",
       "0     22175\n",
       "10    21689\n",
       "1     18247\n",
       "2     13178\n",
       "6     11107\n",
       "3      8925\n",
       "4      5938\n",
       "5      5927\n",
       "F       112\n",
       "Name: 대여시간(24), dtype: int64"
      ]
     },
     "execution_count": 31,
     "metadata": {},
     "output_type": "execute_result"
    }
   ],
   "source": [
    "df['대여시간(24)'].value_counts()"
   ]
  },
  {
   "cell_type": "code",
   "execution_count": 32,
   "id": "2a7c0c45-3001-48f0-a050-7486427f58e8",
   "metadata": {},
   "outputs": [],
   "source": [
    "df['대여시간(24)'].str.contains('F').sum()\n",
    "# 2) 삭제방법 1 : 조건 만족 행의 index 추출 --> drop \n",
    "idx = df[df['대여시간(24)']=='F'].index \n",
    "df.drop(idx, inplace=True)"
   ]
  },
  {
   "cell_type": "code",
   "execution_count": 33,
   "id": "fc2d12b4-aac3-4ad5-83fe-6d26160aa408",
   "metadata": {
    "collapsed": true,
    "jupyter": {
     "outputs_hidden": true
    },
    "tags": []
   },
   "outputs": [
    {
     "data": {
      "text/plain": [
       "18    62498\n",
       "17    49650\n",
       "19    49481\n",
       "20    43944\n",
       "21    41911\n",
       "16    40118\n",
       "8     39880\n",
       "22    36740\n",
       "15    35665\n",
       "14    32736\n",
       "13    30310\n",
       "12    28838\n",
       "23    26420\n",
       "9     26036\n",
       "11    25009\n",
       "7     24758\n",
       "0     22175\n",
       "10    21689\n",
       "1     18247\n",
       "2     13178\n",
       "6     11107\n",
       "3      8925\n",
       "4      5938\n",
       "5      5927\n",
       "Name: 대여시간(24), dtype: int64"
      ]
     },
     "execution_count": 33,
     "metadata": {},
     "output_type": "execute_result"
    }
   ],
   "source": [
    "df['대여시간(24)'].value_counts()"
   ]
  },
  {
   "cell_type": "code",
   "execution_count": 34,
   "id": "004a8faa-143e-449f-a012-ff7f9e98431b",
   "metadata": {},
   "outputs": [],
   "source": [
    "df['연령대'].str.contains('F').sum()\n",
    "idx = df[df['연령대']=='F'].index \n",
    "df.drop(idx, inplace=True)"
   ]
  },
  {
   "cell_type": "code",
   "execution_count": 35,
   "id": "62144e48-c57e-4bf2-ad4a-6c1d19347d0f",
   "metadata": {},
   "outputs": [],
   "source": [
    "df['연령대'].str.contains('M').sum()\n",
    "idx = df[df['연령대']=='M'].index \n",
    "df.drop(idx, inplace=True)"
   ]
  },
  {
   "cell_type": "code",
   "execution_count": 36,
   "id": "cf3e2e63-a2d9-40dd-817c-01f34ddca6f4",
   "metadata": {},
   "outputs": [
    {
     "data": {
      "text/plain": [
       "20대     313988\n",
       "30대     172220\n",
       "40대     107051\n",
       "50대      56831\n",
       "~10대     29555\n",
       "60대      14659\n",
       "70대~      3929\n",
       "Name: 연령대, dtype: int64"
      ]
     },
     "execution_count": 36,
     "metadata": {},
     "output_type": "execute_result"
    }
   ],
   "source": [
    "df['연령대'].value_counts()"
   ]
  },
  {
   "cell_type": "code",
   "execution_count": null,
   "id": "4856dfb7-c337-4e33-9661-adc285039d69",
   "metadata": {
    "jupyter": {
     "source_hidden": true
    },
    "tags": []
   },
   "outputs": [],
   "source": [
    "# Pandas 에서 조건에 맞는 컬럼에서 여러값 바꾸기\n",
    "# col1과 col2에 괄호<(,)> 를 포함한 값을 모두 괄호안의 값으로 변경\n",
    "\n",
    "# # 1. True/False 기반 For 문 접근 방법 (비추천)\n",
    "# 연산속도 엄청느림 + CopyWarning 발생 (되긴함)\n",
    "\n",
    "# 2. Pandas apply 메소드 기반 접근방법 (강추!)\n",
    "\n",
    "# 연산속도 엄청빠름"
   ]
  },
  {
   "cell_type": "code",
   "execution_count": null,
   "id": "b822225d-f0f0-47fe-9cc2-5aef6fae8a3b",
   "metadata": {},
   "outputs": [],
   "source": [
    "# 연령대 비율 \n",
    "# 1. 년 별 \n",
    "# 2. 월 별                                이용수 \n",
    "# 3. 성별                               이용 수 & 비율\n",
    "# 4. 연령대 별\n",
    "# 5. 평균 속도, 사용시간 (년도 별, 월 별 )"
   ]
  },
  {
   "cell_type": "code",
   "execution_count": 13,
   "id": "668bdec9-1e72-491d-bb7e-4246c3417bac",
   "metadata": {
    "collapsed": true,
    "jupyter": {
     "outputs_hidden": true
    },
    "tags": []
   },
   "outputs": [
    {
     "data": {
      "text/html": [
       "<div>\n",
       "<style scoped>\n",
       "    .dataframe tbody tr th:only-of-type {\n",
       "        vertical-align: middle;\n",
       "    }\n",
       "\n",
       "    .dataframe tbody tr th {\n",
       "        vertical-align: top;\n",
       "    }\n",
       "\n",
       "    .dataframe thead th {\n",
       "        text-align: right;\n",
       "    }\n",
       "</style>\n",
       "<table border=\"1\" class=\"dataframe\">\n",
       "  <thead>\n",
       "    <tr style=\"text-align: right;\">\n",
       "      <th></th>\n",
       "      <th>대여일자</th>\n",
       "      <th>대여시간(24)</th>\n",
       "      <th>대여소번호</th>\n",
       "      <th>대여소명</th>\n",
       "      <th>대여권</th>\n",
       "      <th>연령대</th>\n",
       "      <th>성별</th>\n",
       "      <th>이동거리(km)</th>\n",
       "      <th>사용시간(hr)</th>\n",
       "      <th>속도(km/h)</th>\n",
       "      <th>년</th>\n",
       "      <th>월</th>\n",
       "    </tr>\n",
       "  </thead>\n",
       "  <tbody>\n",
       "    <tr>\n",
       "      <th>count</th>\n",
       "      <td>701473</td>\n",
       "      <td>701473</td>\n",
       "      <td>701473</td>\n",
       "      <td>701473</td>\n",
       "      <td>701473</td>\n",
       "      <td>698526</td>\n",
       "      <td>461632</td>\n",
       "      <td>701473.00</td>\n",
       "      <td>701473.0</td>\n",
       "      <td>701473.0</td>\n",
       "      <td>701473</td>\n",
       "      <td>701473</td>\n",
       "    </tr>\n",
       "    <tr>\n",
       "      <th>unique</th>\n",
       "      <td>1404</td>\n",
       "      <td>26</td>\n",
       "      <td>2106</td>\n",
       "      <td>3586</td>\n",
       "      <td>12</td>\n",
       "      <td>9</td>\n",
       "      <td>3</td>\n",
       "      <td>6295.00</td>\n",
       "      <td>362.0</td>\n",
       "      <td>4040.0</td>\n",
       "      <td>6</td>\n",
       "      <td>14</td>\n",
       "    </tr>\n",
       "    <tr>\n",
       "      <th>top</th>\n",
       "      <td>2020-07-11</td>\n",
       "      <td>18</td>\n",
       "      <td>113</td>\n",
       "      <td>502. 뚝섬유원지역 1번출구 앞</td>\n",
       "      <td>정기권</td>\n",
       "      <td>20대</td>\n",
       "      <td>M</td>\n",
       "      <td>0.87</td>\n",
       "      <td>0.1</td>\n",
       "      <td>10.0</td>\n",
       "      <td>2019</td>\n",
       "      <td>7</td>\n",
       "    </tr>\n",
       "    <tr>\n",
       "      <th>freq</th>\n",
       "      <td>1819</td>\n",
       "      <td>62498</td>\n",
       "      <td>2378</td>\n",
       "      <td>1324</td>\n",
       "      <td>484872</td>\n",
       "      <td>313988</td>\n",
       "      <td>285301</td>\n",
       "      <td>2252.00</td>\n",
       "      <td>27474.0</td>\n",
       "      <td>3849.0</td>\n",
       "      <td>297704</td>\n",
       "      <td>87012</td>\n",
       "    </tr>\n",
       "  </tbody>\n",
       "</table>\n",
       "</div>"
      ],
      "text/plain": [
       "              대여일자  대여시간(24)   대여소번호                대여소명     대여권     연령대  \\\n",
       "count       701473    701473  701473              701473  701473  698526   \n",
       "unique        1404        26    2106                3586      12       9   \n",
       "top     2020-07-11        18     113  502. 뚝섬유원지역 1번출구 앞     정기권     20대   \n",
       "freq          1819     62498    2378                1324  484872  313988   \n",
       "\n",
       "            성별   이동거리(km)  사용시간(hr)  속도(km/h)       년       월  \n",
       "count   461632  701473.00  701473.0  701473.0  701473  701473  \n",
       "unique       3    6295.00     362.0    4040.0       6      14  \n",
       "top          M       0.87       0.1      10.0    2019       7  \n",
       "freq    285301    2252.00   27474.0    3849.0  297704   87012  "
      ]
     },
     "execution_count": 13,
     "metadata": {},
     "output_type": "execute_result"
    }
   ],
   "source": [
    "df.describe()"
   ]
  },
  {
   "cell_type": "code",
   "execution_count": null,
   "id": "0b66e339-1fdf-476a-bfa4-983104cb7b96",
   "metadata": {},
   "outputs": [],
   "source": []
  },
  {
   "cell_type": "code",
   "execution_count": 25,
   "id": "bd8d795a-258c-4191-b820-741f1eed313c",
   "metadata": {},
   "outputs": [],
   "source": [
    "import json \n",
    "from collections import Counter"
   ]
  },
  {
   "cell_type": "code",
   "execution_count": 37,
   "id": "2f529784-4d87-4466-9b11-84eddb482f28",
   "metadata": {},
   "outputs": [
    {
     "data": {
      "text/plain": [
       "20대     313988\n",
       "30대     172220\n",
       "40대     107051\n",
       "50대      56831\n",
       "~10대     29555\n",
       "60대      14659\n",
       "70대~      3929\n",
       "Name: 연령대, dtype: int64"
      ]
     },
     "execution_count": 37,
     "metadata": {},
     "output_type": "execute_result"
    }
   ],
   "source": [
    "age_counts = df['연령대'].value_counts()\n",
    "age_counts"
   ]
  },
  {
   "cell_type": "code",
   "execution_count": 38,
   "id": "a6e9bf26-d823-4130-a8ed-4b7871100cee",
   "metadata": {
    "tags": []
   },
   "outputs": [
    {
     "data": {
      "text/plain": [
       "<AxesSubplot:>"
      ]
     },
     "execution_count": 38,
     "metadata": {},
     "output_type": "execute_result"
    },
    {
     "data": {
      "image/png": "[encoded data removed]",
      "text/plain": [
       "<Figure size 432x288 with 1 Axes>"
      ]
     },
     "metadata": {
      "needs_background": "light"
     },
     "output_type": "display_data"
    }
   ],
   "source": [
    "sns.barplot(y=age_counts.index, x=age_counts.values)"
   ]
  },
  {
   "cell_type": "code",
   "execution_count": 39,
   "id": "210986a7-2b05-4a1b-9cfb-f1e09ea5f97e",
   "metadata": {},
   "outputs": [
    {
     "data": {
      "text/html": [
       "<div>\n",
       "<style scoped>\n",
       "    .dataframe tbody tr th:only-of-type {\n",
       "        vertical-align: middle;\n",
       "    }\n",
       "\n",
       "    .dataframe tbody tr th {\n",
       "        vertical-align: top;\n",
       "    }\n",
       "\n",
       "    .dataframe thead th {\n",
       "        text-align: right;\n",
       "    }\n",
       "</style>\n",
       "<table border=\"1\" class=\"dataframe\">\n",
       "  <thead>\n",
       "    <tr style=\"text-align: right;\">\n",
       "      <th></th>\n",
       "      <th>대여일자</th>\n",
       "      <th>대여시간(24)</th>\n",
       "      <th>대여소번호</th>\n",
       "      <th>대여소명</th>\n",
       "      <th>대여권</th>\n",
       "      <th>연령대</th>\n",
       "      <th>성별</th>\n",
       "      <th>이동거리(km)</th>\n",
       "      <th>사용시간(hr)</th>\n",
       "      <th>속도(km/h)</th>\n",
       "      <th>년</th>\n",
       "      <th>월</th>\n",
       "    </tr>\n",
       "  </thead>\n",
       "  <tbody>\n",
       "    <tr>\n",
       "      <th>0</th>\n",
       "      <td>2018-12-02</td>\n",
       "      <td>14</td>\n",
       "      <td>1366</td>\n",
       "      <td>1366. 일신초등학교 옆</td>\n",
       "      <td>정기권</td>\n",
       "      <td>30대</td>\n",
       "      <td>M</td>\n",
       "      <td>2.43</td>\n",
       "      <td>0.32</td>\n",
       "      <td>7.59</td>\n",
       "      <td>2018</td>\n",
       "      <td>12</td>\n",
       "    </tr>\n",
       "    <tr>\n",
       "      <th>1</th>\n",
       "      <td>2018-06-16</td>\n",
       "      <td>12</td>\n",
       "      <td>1675</td>\n",
       "      <td>1675.  월계문화체육센터</td>\n",
       "      <td>단체권</td>\n",
       "      <td>30대</td>\n",
       "      <td>F</td>\n",
       "      <td>31.01</td>\n",
       "      <td>3.2</td>\n",
       "      <td>9.69</td>\n",
       "      <td>2018</td>\n",
       "      <td>6</td>\n",
       "    </tr>\n",
       "    <tr>\n",
       "      <th>2</th>\n",
       "      <td>2018-07-03</td>\n",
       "      <td>11</td>\n",
       "      <td>567</td>\n",
       "      <td>567.  성수역 2번출구 앞</td>\n",
       "      <td>정기권</td>\n",
       "      <td>70대~</td>\n",
       "      <td>M</td>\n",
       "      <td>3.73</td>\n",
       "      <td>0.72</td>\n",
       "      <td>5.18</td>\n",
       "      <td>2018</td>\n",
       "      <td>7</td>\n",
       "    </tr>\n",
       "    <tr>\n",
       "      <th>3</th>\n",
       "      <td>2018-04-21</td>\n",
       "      <td>11</td>\n",
       "      <td>3102</td>\n",
       "      <td>3102.  연희삼거리</td>\n",
       "      <td>정기권</td>\n",
       "      <td>30대</td>\n",
       "      <td>M</td>\n",
       "      <td>3.01</td>\n",
       "      <td>0.28</td>\n",
       "      <td>10.75</td>\n",
       "      <td>2018</td>\n",
       "      <td>4</td>\n",
       "    </tr>\n",
       "    <tr>\n",
       "      <th>4</th>\n",
       "      <td>2019-09-30</td>\n",
       "      <td>19</td>\n",
       "      <td>111</td>\n",
       "      <td>111. 상수역 2번출구 앞</td>\n",
       "      <td>정기권</td>\n",
       "      <td>20대</td>\n",
       "      <td>M</td>\n",
       "      <td>1.7</td>\n",
       "      <td>0.2</td>\n",
       "      <td>8.5</td>\n",
       "      <td>2019</td>\n",
       "      <td>9</td>\n",
       "    </tr>\n",
       "  </tbody>\n",
       "</table>\n",
       "</div>"
      ],
      "text/plain": [
       "         대여일자 대여시간(24) 대여소번호              대여소명  대여권   연령대 성별 이동거리(km)  \\\n",
       "0  2018-12-02       14  1366    1366. 일신초등학교 옆  정기권   30대  M     2.43   \n",
       "1  2018-06-16       12  1675   1675.  월계문화체육센터  단체권   30대  F    31.01   \n",
       "2  2018-07-03       11   567  567.  성수역 2번출구 앞  정기권  70대~  M     3.73   \n",
       "3  2018-04-21       11  3102      3102.  연희삼거리  정기권   30대  M     3.01   \n",
       "4  2019-09-30       19   111   111. 상수역 2번출구 앞  정기권   20대  M      1.7   \n",
       "\n",
       "  사용시간(hr) 속도(km/h)     년   월  \n",
       "0     0.32     7.59  2018  12  \n",
       "1      3.2     9.69  2018   6  \n",
       "2     0.72     5.18  2018   7  \n",
       "3     0.28    10.75  2018   4  \n",
       "4      0.2      8.5  2019   9  "
      ]
     },
     "execution_count": 39,
     "metadata": {},
     "output_type": "execute_result"
    }
   ],
   "source": [
    "df.head()"
   ]
  },
  {
   "cell_type": "code",
   "execution_count": 40,
   "id": "298d453d-d219-410a-809c-3de1004c14e3",
   "metadata": {},
   "outputs": [
    {
     "data": {
      "text/plain": [
       "정기권         484872\n",
       "일일권         114962\n",
       "정기           69948\n",
       "일일(회원)       18676\n",
       "단체권           4316\n",
       "일일(비회원)       4243\n",
       "정기(2시간권)      2193\n",
       "일일(2시간권)      1438\n",
       "단체             504\n",
       "일일권(비회원)        28\n",
       "Name: 대여권, dtype: int64"
      ]
     },
     "execution_count": 40,
     "metadata": {},
     "output_type": "execute_result"
    }
   ],
   "source": [
    "df['대여권'].unique()"
   ]
  },
  {
   "cell_type": "code",
   "execution_count": null,
   "id": "1438a69e-ba77-4add-95e7-a580301182d4",
   "metadata": {},
   "outputs": [],
   "source": [
    "# del 단체권, 단체 \n",
    "\n",
    "# 삭제방법 2 : 해당 열에 해당하는 Pandas Series 선택 --> != row만 df1 에 새로 저장 \n",
    "# df1['대여소명'].str.contains('위트콤').sum()    #49\n",
    "# df1 = df1[df1.대여소명 !='위트콤']\n",
    "# df1\n",
    "\n",
    "# 삭제방법 1\n",
    "# df['연령대'].str.contains('F').sum()\n",
    "# idx = df[df['연령대']=='F'].index \n",
    "# df.drop(idx, inplace=True)"
   ]
  },
  {
   "cell_type": "code",
   "execution_count": 41,
   "id": "f7e20a4a-d493-49ec-bb6f-94108ab1c22b",
   "metadata": {},
   "outputs": [],
   "source": [
    "df['대여권'].str.contains('단체권').sum()\n",
    "idx = df[df['대여권']=='단체권'].index \n",
    "df.drop(idx, inplace=True)"
   ]
  },
  {
   "cell_type": "code",
   "execution_count": 43,
   "id": "9c7d918a-5b37-4cf5-b2e5-fe0162a2d1ef",
   "metadata": {},
   "outputs": [
    {
     "data": {
      "text/plain": [
       "array(['정기권', '정기', '일일(회원)', '일일권', '일일(비회원)', '일일(2시간권)', '정기(2시간권)',\n",
       "       '단체', '일일권(비회원)'], dtype=object)"
      ]
     },
     "execution_count": 43,
     "metadata": {},
     "output_type": "execute_result"
    }
   ],
   "source": [
    "df['대여권'].unique()"
   ]
  },
  {
   "cell_type": "code",
   "execution_count": 44,
   "id": "e8c99ba9-f33f-4d03-96f0-d783406846b4",
   "metadata": {},
   "outputs": [],
   "source": [
    "df['대여권'].str.contains('단체').sum()\n",
    "idx = df[df['대여권']=='단체'].index \n",
    "df.drop(idx, inplace=True)"
   ]
  },
  {
   "cell_type": "code",
   "execution_count": 45,
   "id": "1028318f-fd47-4f81-806d-ed0dcf3e59ff",
   "metadata": {},
   "outputs": [
    {
     "data": {
      "text/plain": [
       "array(['정기권', '정기', '일일(회원)', '일일권', '일일(비회원)', '일일(2시간권)', '정기(2시간권)',\n",
       "       '일일권(비회원)'], dtype=object)"
      ]
     },
     "execution_count": 45,
     "metadata": {},
     "output_type": "execute_result"
    }
   ],
   "source": [
    "df['대여권'].unique()"
   ]
  },
  {
   "cell_type": "code",
   "execution_count": null,
   "id": "9258d409-ff0b-422d-9c3e-ae54fe209422",
   "metadata": {},
   "outputs": [],
   "source": [
    "# 정기, 정기(2시간권) -> 정기권 \n",
    "# 일일(2시간권), 일일(회원), 일일(비회원), 일일권(비회원) --> 일일권 "
   ]
  },
  {
   "cell_type": "code",
   "execution_count": 50,
   "id": "dcc98504-375e-429a-a49a-139da7091b45",
   "metadata": {},
   "outputs": [],
   "source": [
    "# Pandas 에서 조건에 맞는 컬럼에서 단일값 바꾸기\n",
    "\n",
    "# df['대여권'].value_counts()                        \n",
    "                                # # 정기권         484872\n",
    "                                # 일일권         114962\n",
    "                                # 정기           69948\n",
    "                                # 일일(회원)       18676\n",
    "                                # 일일(비회원)       4243\n",
    "                                # 정기(2시간권)      2193\n",
    "                                # 일일(2시간권)      1438\n",
    "                                # 일일권(비회원)        28\n",
    "                                \n",
    "df[(df['대여권'] == '정기')] = '정기권'\n",
    "df[(df['대여권'] == '정기(2시간권)')] = '정기권'\n",
    "df[(df['대여권'] == '일일(2시간권)')] = '일일권'\n",
    "df[(df['대여권'] == '일일(회원)')] = '일일권'\n",
    "df[(df['대여권'] == '일일(비회원)')] = '일일권'\n",
    "df[(df['대여권'] == '일일권(비회원)')] = '일일권'"
   ]
  },
  {
   "cell_type": "code",
   "execution_count": 51,
   "id": "2a398fb6-57c9-4182-9f96-d00f9118183a",
   "metadata": {},
   "outputs": [
    {
     "data": {
      "text/plain": [
       "정기권    557013\n",
       "일일권    139347\n",
       "Name: 대여권, dtype: int64"
      ]
     },
     "execution_count": 51,
     "metadata": {},
     "output_type": "execute_result"
    }
   ],
   "source": [
    "df['대여권'].value_counts() "
   ]
  },
  {
   "cell_type": "code",
   "execution_count": 57,
   "id": "d5a3213a-e534-4eb9-82da-32a95e15b729",
   "metadata": {},
   "outputs": [],
   "source": [
    "# 연령대 & 대여권 \n",
    "\n",
    "age_counts = df['연령대'].value_counts()\n",
    "membership_type = df['대여권'].value_counts()"
   ]
  },
  {
   "cell_type": "code",
   "execution_count": 60,
   "id": "ae021c6b-f348-452b-ae5f-a0fb03edf8ad",
   "metadata": {},
   "outputs": [
    {
     "data": {
      "text/plain": [
       "<AxesSubplot:>"
      ]
     },
     "execution_count": 60,
     "metadata": {},
     "output_type": "execute_result"
    },
    {
     "data": {
      "image/png": "[encoded data removed]",
      "text/plain": [
       "<Figure size 432x288 with 1 Axes>"
      ]
     },
     "metadata": {
      "needs_background": "light"
     },
     "output_type": "display_data"
    }
   ],
   "source": [
    "sns.barplot(y=membership_type.index, x=membership_type.values)"
   ]
  },
  {
   "cell_type": "code",
   "execution_count": 66,
   "id": "85270b9f-3de4-4529-82ce-39d02eddeb3f",
   "metadata": {},
   "outputs": [],
   "source": [
    "age = df['연령대']\n",
    "membership = df['대여권']"
   ]
  },
  {
   "cell_type": "code",
   "execution_count": 68,
   "id": "f0388c01-9f43-415a-920c-cb8f55d39f55",
   "metadata": {},
   "outputs": [
    {
     "data": {
      "text/html": [
       "<div>\n",
       "<style scoped>\n",
       "    .dataframe tbody tr th:only-of-type {\n",
       "        vertical-align: middle;\n",
       "    }\n",
       "\n",
       "    .dataframe tbody tr th {\n",
       "        vertical-align: top;\n",
       "    }\n",
       "\n",
       "    .dataframe thead th {\n",
       "        text-align: right;\n",
       "    }\n",
       "</style>\n",
       "<table border=\"1\" class=\"dataframe\">\n",
       "  <thead>\n",
       "    <tr style=\"text-align: right;\">\n",
       "      <th></th>\n",
       "      <th>연령대</th>\n",
       "      <th>대여권</th>\n",
       "    </tr>\n",
       "  </thead>\n",
       "  <tbody>\n",
       "    <tr>\n",
       "      <th>0</th>\n",
       "      <td>30대</td>\n",
       "      <td>정기권</td>\n",
       "    </tr>\n",
       "    <tr>\n",
       "      <th>2</th>\n",
       "      <td>70대~</td>\n",
       "      <td>정기권</td>\n",
       "    </tr>\n",
       "    <tr>\n",
       "      <th>3</th>\n",
       "      <td>30대</td>\n",
       "      <td>정기권</td>\n",
       "    </tr>\n",
       "    <tr>\n",
       "      <th>4</th>\n",
       "      <td>20대</td>\n",
       "      <td>정기권</td>\n",
       "    </tr>\n",
       "    <tr>\n",
       "      <th>5</th>\n",
       "      <td>50대</td>\n",
       "      <td>정기권</td>\n",
       "    </tr>\n",
       "    <tr>\n",
       "      <th>...</th>\n",
       "      <td>...</td>\n",
       "      <td>...</td>\n",
       "    </tr>\n",
       "    <tr>\n",
       "      <th>701468</th>\n",
       "      <td>30대</td>\n",
       "      <td>일일권</td>\n",
       "    </tr>\n",
       "    <tr>\n",
       "      <th>701469</th>\n",
       "      <td>20대</td>\n",
       "      <td>정기권</td>\n",
       "    </tr>\n",
       "    <tr>\n",
       "      <th>701470</th>\n",
       "      <td>70대~</td>\n",
       "      <td>정기권</td>\n",
       "    </tr>\n",
       "    <tr>\n",
       "      <th>701471</th>\n",
       "      <td>40대</td>\n",
       "      <td>정기권</td>\n",
       "    </tr>\n",
       "    <tr>\n",
       "      <th>701472</th>\n",
       "      <td>20대</td>\n",
       "      <td>정기권</td>\n",
       "    </tr>\n",
       "  </tbody>\n",
       "</table>\n",
       "<p>696360 rows × 2 columns</p>\n",
       "</div>"
      ],
      "text/plain": [
       "         연령대  대여권\n",
       "0        30대  정기권\n",
       "2       70대~  정기권\n",
       "3        30대  정기권\n",
       "4        20대  정기권\n",
       "5        50대  정기권\n",
       "...      ...  ...\n",
       "701468   30대  일일권\n",
       "701469   20대  정기권\n",
       "701470  70대~  정기권\n",
       "701471   40대  정기권\n",
       "701472   20대  정기권\n",
       "\n",
       "[696360 rows x 2 columns]"
      ]
     },
     "execution_count": 68,
     "metadata": {},
     "output_type": "execute_result"
    }
   ],
   "source": [
    "df2 = pd.merge(age, membership, left_index=True, right_index=True, how='left')\n",
    "df2"
   ]
  },
  {
   "cell_type": "code",
   "execution_count": 69,
   "id": "02d3bd83-83fa-4f04-9746-e6504bc5125d",
   "metadata": {},
   "outputs": [
    {
     "data": {
      "image/png": "[encoded data removed]",
      "text/plain": [
       "<Figure size 432x432 with 1 Axes>"
      ]
     },
     "metadata": {
      "needs_background": "light"
     },
     "output_type": "display_data"
    }
   ],
   "source": [
    "plt.figure(figsize=(6,6))\n",
    "\n",
    "plt.scatter(df2['연령대'], df2['대여권'], s=50)\n",
    "\n",
    "plt.xlabel('연령대')\n",
    "plt.ylabel('대여권') \n",
    "plt.grid()\n",
    "plt.show()"
   ]
  },
  {
   "cell_type": "code",
   "execution_count": null,
   "id": "b103dcf1-b6cd-418e-ac3f-20a1003e39df",
   "metadata": {},
   "outputs": [],
   "source": []
  },
  {
   "cell_type": "code",
   "execution_count": null,
   "id": "85b94571-3ebe-4b7e-9a18-93c4ed00bba7",
   "metadata": {},
   "outputs": [],
   "source": []
  },
  {
   "cell_type": "code",
   "execution_count": null,
   "id": "d28c53c8-e1cf-46aa-b561-56fbd77f7b93",
   "metadata": {},
   "outputs": [],
   "source": [
    "# from pyecharts import Bar from pyecharts"
   ]
  }
 ],
 "metadata": {
  "kernelspec": {
   "display_name": "Python 3 (ipykernel)",
   "language": "python",
   "name": "python3"
  },
  "language_info": {
   "codemirror_mode": {
    "name": "ipython",
    "version": 3
   },
   "file_extension": ".py",
   "mimetype": "text/x-python",
   "name": "python",
   "nbconvert_exporter": "python",
   "pygments_lexer": "ipython3",
   "version": "3.7.10"
  }
 },
 "nbformat": 4,
 "nbformat_minor": 5
}
