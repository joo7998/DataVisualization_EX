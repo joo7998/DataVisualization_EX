{
 "cells": [
  {
   "cell_type": "code",
   "execution_count": 1,
   "id": "e2c157e5-3ea3-45b6-b0f8-21f72c6f7de0",
   "metadata": {
    "tags": []
   },
   "outputs": [
    {
     "data": {
      "text/html": [
       "<div>\n",
       "<style scoped>\n",
       "    .dataframe tbody tr th:only-of-type {\n",
       "        vertical-align: middle;\n",
       "    }\n",
       "\n",
       "    .dataframe tbody tr th {\n",
       "        vertical-align: top;\n",
       "    }\n",
       "\n",
       "    .dataframe thead th {\n",
       "        text-align: right;\n",
       "    }\n",
       "</style>\n",
       "<table border=\"1\" class=\"dataframe\">\n",
       "  <thead>\n",
       "    <tr style=\"text-align: right;\">\n",
       "      <th></th>\n",
       "      <th>대여일자</th>\n",
       "      <th>대여시간(24)</th>\n",
       "      <th>대여소번호</th>\n",
       "      <th>대여소명</th>\n",
       "      <th>대여권</th>\n",
       "      <th>연령대</th>\n",
       "      <th>성별</th>\n",
       "      <th>이동거리(km)</th>\n",
       "      <th>사용시간(hr)</th>\n",
       "      <th>속도(km/h)</th>\n",
       "      <th>년</th>\n",
       "      <th>월</th>\n",
       "    </tr>\n",
       "  </thead>\n",
       "  <tbody>\n",
       "    <tr>\n",
       "      <th>1</th>\n",
       "      <td>2018-12-02</td>\n",
       "      <td>14</td>\n",
       "      <td>1366</td>\n",
       "      <td>1366. 일신초등학교 옆</td>\n",
       "      <td>정기권</td>\n",
       "      <td>30대</td>\n",
       "      <td>M</td>\n",
       "      <td>2.43</td>\n",
       "      <td>0.32</td>\n",
       "      <td>7.59</td>\n",
       "      <td>2018</td>\n",
       "      <td>12</td>\n",
       "    </tr>\n",
       "    <tr>\n",
       "      <th>2</th>\n",
       "      <td>2018-06-16</td>\n",
       "      <td>12</td>\n",
       "      <td>1675</td>\n",
       "      <td>1675.  월계문화체육센터</td>\n",
       "      <td>단체권</td>\n",
       "      <td>30대</td>\n",
       "      <td>F</td>\n",
       "      <td>31.01</td>\n",
       "      <td>3.20</td>\n",
       "      <td>9.69</td>\n",
       "      <td>2018</td>\n",
       "      <td>6</td>\n",
       "    </tr>\n",
       "    <tr>\n",
       "      <th>3</th>\n",
       "      <td>2018-07-03</td>\n",
       "      <td>11</td>\n",
       "      <td>567</td>\n",
       "      <td>567.  성수역 2번출구 앞</td>\n",
       "      <td>정기권</td>\n",
       "      <td>70대~</td>\n",
       "      <td>M</td>\n",
       "      <td>3.73</td>\n",
       "      <td>0.72</td>\n",
       "      <td>5.18</td>\n",
       "      <td>2018</td>\n",
       "      <td>7</td>\n",
       "    </tr>\n",
       "    <tr>\n",
       "      <th>5</th>\n",
       "      <td>2018-04-21</td>\n",
       "      <td>11</td>\n",
       "      <td>3102</td>\n",
       "      <td>3102.  연희삼거리</td>\n",
       "      <td>정기권</td>\n",
       "      <td>30대</td>\n",
       "      <td>M</td>\n",
       "      <td>3.01</td>\n",
       "      <td>0.28</td>\n",
       "      <td>10.75</td>\n",
       "      <td>2018</td>\n",
       "      <td>4</td>\n",
       "    </tr>\n",
       "    <tr>\n",
       "      <th>7</th>\n",
       "      <td>2019-09-30</td>\n",
       "      <td>19</td>\n",
       "      <td>111</td>\n",
       "      <td>111. 상수역 2번출구 앞</td>\n",
       "      <td>정기권</td>\n",
       "      <td>20대</td>\n",
       "      <td>M</td>\n",
       "      <td>1.70</td>\n",
       "      <td>0.20</td>\n",
       "      <td>8.50</td>\n",
       "      <td>2019</td>\n",
       "      <td>9</td>\n",
       "    </tr>\n",
       "    <tr>\n",
       "      <th>...</th>\n",
       "      <td>...</td>\n",
       "      <td>...</td>\n",
       "      <td>...</td>\n",
       "      <td>...</td>\n",
       "      <td>...</td>\n",
       "      <td>...</td>\n",
       "      <td>...</td>\n",
       "      <td>...</td>\n",
       "      <td>...</td>\n",
       "      <td>...</td>\n",
       "      <td>...</td>\n",
       "      <td>...</td>\n",
       "    </tr>\n",
       "    <tr>\n",
       "      <th>999995</th>\n",
       "      <td>2020-03-02</td>\n",
       "      <td>18</td>\n",
       "      <td>1288</td>\n",
       "      <td>1288. 문정중교 사거리</td>\n",
       "      <td>일일권</td>\n",
       "      <td>30대</td>\n",
       "      <td>M</td>\n",
       "      <td>12.64</td>\n",
       "      <td>1.55</td>\n",
       "      <td>8.15</td>\n",
       "      <td>2020</td>\n",
       "      <td>3</td>\n",
       "    </tr>\n",
       "    <tr>\n",
       "      <th>999996</th>\n",
       "      <td>2018-08-22</td>\n",
       "      <td>8</td>\n",
       "      <td>714</td>\n",
       "      <td>714.  한국SGI 양천문화회관 앞</td>\n",
       "      <td>정기권</td>\n",
       "      <td>20대</td>\n",
       "      <td>F</td>\n",
       "      <td>1.38</td>\n",
       "      <td>0.17</td>\n",
       "      <td>8.12</td>\n",
       "      <td>2018</td>\n",
       "      <td>8</td>\n",
       "    </tr>\n",
       "    <tr>\n",
       "      <th>999997</th>\n",
       "      <td>2020-07-01</td>\n",
       "      <td>17</td>\n",
       "      <td>2621</td>\n",
       "      <td>2621. 한성백제역 2번 출구</td>\n",
       "      <td>정기권</td>\n",
       "      <td>70대~</td>\n",
       "      <td>NaN</td>\n",
       "      <td>1.07</td>\n",
       "      <td>0.27</td>\n",
       "      <td>3.96</td>\n",
       "      <td>2020</td>\n",
       "      <td>7</td>\n",
       "    </tr>\n",
       "    <tr>\n",
       "      <th>999998</th>\n",
       "      <td>2018-04-16</td>\n",
       "      <td>15</td>\n",
       "      <td>305</td>\n",
       "      <td>305.  종로구청 옆</td>\n",
       "      <td>정기권</td>\n",
       "      <td>40대</td>\n",
       "      <td>F</td>\n",
       "      <td>2.83</td>\n",
       "      <td>0.40</td>\n",
       "      <td>7.08</td>\n",
       "      <td>2018</td>\n",
       "      <td>4</td>\n",
       "    </tr>\n",
       "    <tr>\n",
       "      <th>999999</th>\n",
       "      <td>2018-07-29</td>\n",
       "      <td>17</td>\n",
       "      <td>1019</td>\n",
       "      <td>1019.  다성이즈빌아파트(호원대 대각선 맞은편)</td>\n",
       "      <td>정기권</td>\n",
       "      <td>20대</td>\n",
       "      <td>F</td>\n",
       "      <td>1.21</td>\n",
       "      <td>0.13</td>\n",
       "      <td>9.31</td>\n",
       "      <td>2018</td>\n",
       "      <td>7</td>\n",
       "    </tr>\n",
       "  </tbody>\n",
       "</table>\n",
       "<p>604150 rows × 12 columns</p>\n",
       "</div>"
      ],
      "text/plain": [
       "              대여일자  대여시간(24)  대여소번호                          대여소명  대여권   연령대  \\\n",
       "1       2018-12-02        14   1366                1366. 일신초등학교 옆  정기권   30대   \n",
       "2       2018-06-16        12   1675               1675.  월계문화체육센터  단체권   30대   \n",
       "3       2018-07-03        11    567              567.  성수역 2번출구 앞  정기권  70대~   \n",
       "5       2018-04-21        11   3102                  3102.  연희삼거리  정기권   30대   \n",
       "7       2019-09-30        19    111               111. 상수역 2번출구 앞  정기권   20대   \n",
       "...            ...       ...    ...                           ...  ...   ...   \n",
       "999995  2020-03-02        18   1288                1288. 문정중교 사거리  일일권   30대   \n",
       "999996  2018-08-22         8    714          714.  한국SGI 양천문화회관 앞  정기권   20대   \n",
       "999997  2020-07-01        17   2621             2621. 한성백제역 2번 출구  정기권  70대~   \n",
       "999998  2018-04-16        15    305                  305.  종로구청 옆  정기권   40대   \n",
       "999999  2018-07-29        17   1019  1019.  다성이즈빌아파트(호원대 대각선 맞은편)  정기권   20대   \n",
       "\n",
       "         성별  이동거리(km)  사용시간(hr)  속도(km/h)     년   월  \n",
       "1         M      2.43      0.32      7.59  2018  12  \n",
       "2         F     31.01      3.20      9.69  2018   6  \n",
       "3         M      3.73      0.72      5.18  2018   7  \n",
       "5         M      3.01      0.28     10.75  2018   4  \n",
       "7         M      1.70      0.20      8.50  2019   9  \n",
       "...     ...       ...       ...       ...   ...  ..  \n",
       "999995    M     12.64      1.55      8.15  2020   3  \n",
       "999996    F      1.38      0.17      8.12  2018   8  \n",
       "999997  NaN      1.07      0.27      3.96  2020   7  \n",
       "999998    F      2.83      0.40      7.08  2018   4  \n",
       "999999    F      1.21      0.13      9.31  2018   7  \n",
       "\n",
       "[604150 rows x 12 columns]"
      ]
     },
     "execution_count": 1,
     "metadata": {},
     "output_type": "execute_result"
    }
   ],
   "source": [
    "import pandas as pd\n",
    "from pandas import DataFrame, Series\n",
    "import numpy as np\n",
    "import seaborn as sns\n",
    "import matplotlib.pyplot as plt\n",
    "%matplotlib inline\n",
    "\n",
    "import platform\n",
    "from matplotlib import font_manager, rc # Runtime Configuration\n",
    "path = \"c:/Windows/Fonts/malgun.ttf\"\n",
    "if platform.system() == 'Darwin':\n",
    "    rc('font', family='AppleGothic')\n",
    "elif platform.system() == 'Windows':\n",
    "    font_name = font_manager.FontProperties(fname=path).get_name()\n",
    "    rc('font', family=font_name)\n",
    "else:\n",
    "    print('Unknown system')\n",
    "    \n",
    "df = pd.read_csv('bicycle6.csv', encoding='utf-8', index_col=0)\n",
    "df"
   ]
  },
  {
   "cell_type": "code",
   "execution_count": 2,
   "id": "69a6ed11-3e67-4aa7-a0cf-f97cf65d485d",
   "metadata": {},
   "outputs": [
    {
     "data": {
      "text/plain": [
       "20대     270832\n",
       "30대     147281\n",
       "40대      92456\n",
       "50대      50552\n",
       "~10대     26889\n",
       "60대      12967\n",
       "70대~      3173\n",
       "Name: 연령대, dtype: int64"
      ]
     },
     "execution_count": 2,
     "metadata": {},
     "output_type": "execute_result"
    }
   ],
   "source": [
    "df['연령대'].value_counts()"
   ]
  },
  {
   "cell_type": "code",
   "execution_count": 3,
   "id": "050fb3df-713a-4dea-a6b7-ad557ba07784",
   "metadata": {},
   "outputs": [
    {
     "data": {
      "text/plain": [
       "20대     0.45\n",
       "30대     0.24\n",
       "40대     0.15\n",
       "50대     0.08\n",
       "~10대    0.04\n",
       "60대     0.02\n",
       "70대~    0.01\n",
       "Name: 연령대, dtype: float64"
      ]
     },
     "execution_count": 3,
     "metadata": {},
     "output_type": "execute_result"
    }
   ],
   "source": [
    "# %로 표현\n",
    "per_age = round(df['연령대'].value_counts(normalize=True), 2)\n",
    "per_age"
   ]
  },
  {
   "cell_type": "code",
   "execution_count": 4,
   "id": "94d1c801-262b-402c-bf05-e395114f1c7b",
   "metadata": {},
   "outputs": [
    {
     "data": {
      "text/plain": [
       "7     0.131\n",
       "6     0.122\n",
       "5     0.119\n",
       "10    0.099\n",
       "9     0.093\n",
       "4     0.090\n",
       "8     0.088\n",
       "11    0.067\n",
       "3     0.056\n",
       "12    0.053\n",
       "1     0.043\n",
       "2     0.039\n",
       "Name: 월, dtype: float64"
      ]
     },
     "execution_count": 4,
     "metadata": {},
     "output_type": "execute_result"
    }
   ],
   "source": [
    "per_mth = round(df['월'].value_counts(normalize=True),3)\n",
    "per_mth"
   ]
  },
  {
   "cell_type": "code",
   "execution_count": 5,
   "id": "c9347625-0a6b-4e29-8581-c444eea31970",
   "metadata": {},
   "outputs": [
    {
     "data": {
      "text/plain": [
       "2018    148866\n",
       "2019    297695\n",
       "2020    157589\n",
       "Name: 년, dtype: int64"
      ]
     },
     "execution_count": 5,
     "metadata": {},
     "output_type": "execute_result"
    }
   ],
   "source": [
    "num_yr = df['년'].value_counts(sort=False, ascending=False)\n",
    "num_yr"
   ]
  },
  {
   "cell_type": "code",
   "execution_count": 6,
   "id": "ffac136b-fee8-496e-8657-131f5f3b4c5b",
   "metadata": {},
   "outputs": [
    {
     "data": {
      "text/plain": [
       "2018    0.25\n",
       "2019    0.49\n",
       "2020    0.26\n",
       "Name: 년, dtype: float64"
      ]
     },
     "execution_count": 6,
     "metadata": {},
     "output_type": "execute_result"
    }
   ],
   "source": [
    "per_yr = round(df['년'].value_counts(normalize=True, sort=False, ascending=False),2)\n",
    "per_yr"
   ]
  },
  {
   "cell_type": "code",
   "execution_count": 7,
   "id": "0b6563c1-ab44-4851-9751-89a1935c03b8",
   "metadata": {},
   "outputs": [
    {
     "data": {
      "text/html": [
       "<div>\n",
       "<style scoped>\n",
       "    .dataframe tbody tr th:only-of-type {\n",
       "        vertical-align: middle;\n",
       "    }\n",
       "\n",
       "    .dataframe tbody tr th {\n",
       "        vertical-align: top;\n",
       "    }\n",
       "\n",
       "    .dataframe thead th {\n",
       "        text-align: right;\n",
       "    }\n",
       "</style>\n",
       "<table border=\"1\" class=\"dataframe\">\n",
       "  <thead>\n",
       "    <tr style=\"text-align: right;\">\n",
       "      <th></th>\n",
       "      <th>년</th>\n",
       "      <th>년</th>\n",
       "    </tr>\n",
       "  </thead>\n",
       "  <tbody>\n",
       "    <tr>\n",
       "      <th>2018</th>\n",
       "      <td>148866</td>\n",
       "      <td>0.25</td>\n",
       "    </tr>\n",
       "    <tr>\n",
       "      <th>2019</th>\n",
       "      <td>297695</td>\n",
       "      <td>0.49</td>\n",
       "    </tr>\n",
       "    <tr>\n",
       "      <th>2020</th>\n",
       "      <td>157589</td>\n",
       "      <td>0.26</td>\n",
       "    </tr>\n",
       "  </tbody>\n",
       "</table>\n",
       "</div>"
      ],
      "text/plain": [
       "           년     년\n",
       "2018  148866  0.25\n",
       "2019  297695  0.49\n",
       "2020  157589  0.26"
      ]
     },
     "execution_count": 7,
     "metadata": {},
     "output_type": "execute_result"
    }
   ],
   "source": [
    "# 연도별 자전거 이용 증가량 (1. concat : axis=1 좌우로 붙이기)\n",
    "num_yr_per = pd.concat([num_yr, per_yr], axis=1)\n",
    "num_yr_per"
   ]
  },
  {
   "cell_type": "code",
   "execution_count": 8,
   "id": "37d0b0ef-d1bd-42bf-9c54-cb1aeeb643bc",
   "metadata": {},
   "outputs": [
    {
     "data": {
      "text/html": [
       "<div>\n",
       "<style scoped>\n",
       "    .dataframe tbody tr th:only-of-type {\n",
       "        vertical-align: middle;\n",
       "    }\n",
       "\n",
       "    .dataframe tbody tr th {\n",
       "        vertical-align: top;\n",
       "    }\n",
       "\n",
       "    .dataframe thead th {\n",
       "        text-align: right;\n",
       "    }\n",
       "</style>\n",
       "<table border=\"1\" class=\"dataframe\">\n",
       "  <thead>\n",
       "    <tr style=\"text-align: right;\">\n",
       "      <th></th>\n",
       "      <th>대여횟수</th>\n",
       "      <th>대여량(%)</th>\n",
       "    </tr>\n",
       "  </thead>\n",
       "  <tbody>\n",
       "    <tr>\n",
       "      <th>2018</th>\n",
       "      <td>148866</td>\n",
       "      <td>0.25</td>\n",
       "    </tr>\n",
       "    <tr>\n",
       "      <th>2019</th>\n",
       "      <td>297695</td>\n",
       "      <td>0.49</td>\n",
       "    </tr>\n",
       "    <tr>\n",
       "      <th>2020</th>\n",
       "      <td>157589</td>\n",
       "      <td>0.26</td>\n",
       "    </tr>\n",
       "  </tbody>\n",
       "</table>\n",
       "</div>"
      ],
      "text/plain": [
       "        대여횟수  대여량(%)\n",
       "2018  148866    0.25\n",
       "2019  297695    0.49\n",
       "2020  157589    0.26"
      ]
     },
     "execution_count": 8,
     "metadata": {},
     "output_type": "execute_result"
    }
   ],
   "source": [
    "# 2. column 이름 바꾸기 : 년, 년-> 대여횟수, (%)\n",
    "num_yr_per.columns=['대여횟수', '대여량(%)']\n",
    "num_yr_per"
   ]
  },
  {
   "cell_type": "code",
   "execution_count": 9,
   "id": "b10bddf6-d489-454d-9622-a6a0a8ff4c8e",
   "metadata": {
    "tags": []
   },
   "outputs": [
    {
     "data": {
      "text/html": [
       "<div>\n",
       "<style scoped>\n",
       "    .dataframe tbody tr th:only-of-type {\n",
       "        vertical-align: middle;\n",
       "    }\n",
       "\n",
       "    .dataframe tbody tr th {\n",
       "        vertical-align: top;\n",
       "    }\n",
       "\n",
       "    .dataframe thead th {\n",
       "        text-align: right;\n",
       "    }\n",
       "</style>\n",
       "<table border=\"1\" class=\"dataframe\">\n",
       "  <thead>\n",
       "    <tr style=\"text-align: right;\">\n",
       "      <th></th>\n",
       "      <th>대여횟수</th>\n",
       "      <th>대여량(%)</th>\n",
       "      <th>연도별 증가량(%)</th>\n",
       "    </tr>\n",
       "  </thead>\n",
       "  <tbody>\n",
       "    <tr>\n",
       "      <th>2018</th>\n",
       "      <td>148866</td>\n",
       "      <td>0.25</td>\n",
       "      <td>52.936395</td>\n",
       "    </tr>\n",
       "    <tr>\n",
       "      <th>2019</th>\n",
       "      <td>297695</td>\n",
       "      <td>0.49</td>\n",
       "      <td>52.936395</td>\n",
       "    </tr>\n",
       "    <tr>\n",
       "      <th>2020</th>\n",
       "      <td>157589</td>\n",
       "      <td>0.26</td>\n",
       "      <td>52.936395</td>\n",
       "    </tr>\n",
       "  </tbody>\n",
       "</table>\n",
       "</div>"
      ],
      "text/plain": [
       "        대여횟수  대여량(%)  연도별 증가량(%)\n",
       "2018  148866    0.25   52.936395\n",
       "2019  297695    0.49   52.936395\n",
       "2020  157589    0.26   52.936395"
      ]
     },
     "execution_count": 9,
     "metadata": {},
     "output_type": "execute_result"
    }
   ],
   "source": [
    "# 3. 증가량 column \n",
    "num_yr_per['연도별 증가량(%)'] = num_yr_per.iloc[2, 0] / num_yr_per.iloc[1, 0] * 100\n",
    "# 2018 num_yr_per.iloc[0, 0]\n",
    "# 2019 num_yr_per.iloc[1, 0]\n",
    "# 2020 num_yr_per.iloc[2, 0]                  # [행, 렬]\n",
    "num_yr_per"
   ]
  },
  {
   "cell_type": "code",
   "execution_count": 10,
   "id": "7f4adf64-d5be-4303-b1aa-f57b20f4fb0f",
   "metadata": {},
   "outputs": [
    {
     "data": {
      "text/html": [
       "<div>\n",
       "<style scoped>\n",
       "    .dataframe tbody tr th:only-of-type {\n",
       "        vertical-align: middle;\n",
       "    }\n",
       "\n",
       "    .dataframe tbody tr th {\n",
       "        vertical-align: top;\n",
       "    }\n",
       "\n",
       "    .dataframe thead th {\n",
       "        text-align: right;\n",
       "    }\n",
       "</style>\n",
       "<table border=\"1\" class=\"dataframe\">\n",
       "  <thead>\n",
       "    <tr style=\"text-align: right;\">\n",
       "      <th></th>\n",
       "      <th>대여횟수</th>\n",
       "      <th>대여량(%)</th>\n",
       "      <th>연도별 증가량(%)</th>\n",
       "    </tr>\n",
       "  </thead>\n",
       "  <tbody>\n",
       "    <tr>\n",
       "      <th>2018</th>\n",
       "      <td>148866</td>\n",
       "      <td>0.25</td>\n",
       "      <td>0.0</td>\n",
       "    </tr>\n",
       "    <tr>\n",
       "      <th>2019</th>\n",
       "      <td>297695</td>\n",
       "      <td>0.49</td>\n",
       "      <td>200.0</td>\n",
       "    </tr>\n",
       "    <tr>\n",
       "      <th>2020</th>\n",
       "      <td>157589</td>\n",
       "      <td>0.26</td>\n",
       "      <td>53.0</td>\n",
       "    </tr>\n",
       "  </tbody>\n",
       "</table>\n",
       "</div>"
      ],
      "text/plain": [
       "        대여횟수  대여량(%)  연도별 증가량(%)\n",
       "2018  148866    0.25         0.0\n",
       "2019  297695    0.49       200.0\n",
       "2020  157589    0.26        53.0"
      ]
     },
     "execution_count": 10,
     "metadata": {},
     "output_type": "execute_result"
    }
   ],
   "source": [
    "num_yr_per.iloc[0, 2] = 0\n",
    "num_yr_per.iloc[1, 2] = num_yr_per.iloc[1, 0] / num_yr_per.iloc[0, 0] * 100\n",
    "num_yr_per['연도별 증가량(%)'] = round(num_yr_per['연도별 증가량(%)'])\n",
    "num_yr_per"
   ]
  },
  {
   "cell_type": "code",
   "execution_count": 11,
   "id": "b334c4c6-17ac-4b72-94ed-f622cb545214",
   "metadata": {},
   "outputs": [
    {
     "data": {
      "text/plain": [
       "7"
      ]
     },
     "execution_count": 11,
     "metadata": {},
     "output_type": "execute_result"
    }
   ],
   "source": [
    "# nuniuqe = num of unique\n",
    "df['연령대'].nunique()"
   ]
  },
  {
   "cell_type": "code",
   "execution_count": 12,
   "id": "391343ca-2576-4514-ad5b-134be913f0af",
   "metadata": {
    "tags": []
   },
   "outputs": [
    {
     "data": {
      "text/html": [
       "<div>\n",
       "<style scoped>\n",
       "    .dataframe tbody tr th:only-of-type {\n",
       "        vertical-align: middle;\n",
       "    }\n",
       "\n",
       "    .dataframe tbody tr th {\n",
       "        vertical-align: top;\n",
       "    }\n",
       "\n",
       "    .dataframe thead th {\n",
       "        text-align: right;\n",
       "    }\n",
       "</style>\n",
       "<table border=\"1\" class=\"dataframe\">\n",
       "  <thead>\n",
       "    <tr style=\"text-align: right;\">\n",
       "      <th></th>\n",
       "      <th>대여일자</th>\n",
       "      <th>대여시간(24)</th>\n",
       "      <th>대여소번호</th>\n",
       "      <th>대여소명</th>\n",
       "      <th>대여권</th>\n",
       "      <th>연령대</th>\n",
       "      <th>성별</th>\n",
       "      <th>이동거리(km)</th>\n",
       "      <th>사용시간(hr)</th>\n",
       "      <th>속도(km/h)</th>\n",
       "      <th>년</th>\n",
       "      <th>월</th>\n",
       "    </tr>\n",
       "  </thead>\n",
       "  <tbody>\n",
       "    <tr>\n",
       "      <th>1</th>\n",
       "      <td>2018-12-02</td>\n",
       "      <td>14</td>\n",
       "      <td>1366</td>\n",
       "      <td>1366. 일신초등학교 옆</td>\n",
       "      <td>정기권</td>\n",
       "      <td>30대</td>\n",
       "      <td>M</td>\n",
       "      <td>2.43</td>\n",
       "      <td>0.32</td>\n",
       "      <td>7.59</td>\n",
       "      <td>2018</td>\n",
       "      <td>12</td>\n",
       "    </tr>\n",
       "    <tr>\n",
       "      <th>2</th>\n",
       "      <td>2018-06-16</td>\n",
       "      <td>12</td>\n",
       "      <td>1675</td>\n",
       "      <td>1675.  월계문화체육센터</td>\n",
       "      <td>단체권</td>\n",
       "      <td>30대</td>\n",
       "      <td>F</td>\n",
       "      <td>31.01</td>\n",
       "      <td>3.20</td>\n",
       "      <td>9.69</td>\n",
       "      <td>2018</td>\n",
       "      <td>6</td>\n",
       "    </tr>\n",
       "    <tr>\n",
       "      <th>3</th>\n",
       "      <td>2018-07-03</td>\n",
       "      <td>11</td>\n",
       "      <td>567</td>\n",
       "      <td>567.  성수역 2번출구 앞</td>\n",
       "      <td>정기권</td>\n",
       "      <td>70대~</td>\n",
       "      <td>M</td>\n",
       "      <td>3.73</td>\n",
       "      <td>0.72</td>\n",
       "      <td>5.18</td>\n",
       "      <td>2018</td>\n",
       "      <td>7</td>\n",
       "    </tr>\n",
       "    <tr>\n",
       "      <th>5</th>\n",
       "      <td>2018-04-21</td>\n",
       "      <td>11</td>\n",
       "      <td>3102</td>\n",
       "      <td>3102.  연희삼거리</td>\n",
       "      <td>정기권</td>\n",
       "      <td>30대</td>\n",
       "      <td>M</td>\n",
       "      <td>3.01</td>\n",
       "      <td>0.28</td>\n",
       "      <td>10.75</td>\n",
       "      <td>2018</td>\n",
       "      <td>4</td>\n",
       "    </tr>\n",
       "    <tr>\n",
       "      <th>7</th>\n",
       "      <td>2019-09-30</td>\n",
       "      <td>19</td>\n",
       "      <td>111</td>\n",
       "      <td>111. 상수역 2번출구 앞</td>\n",
       "      <td>정기권</td>\n",
       "      <td>20대</td>\n",
       "      <td>M</td>\n",
       "      <td>1.70</td>\n",
       "      <td>0.20</td>\n",
       "      <td>8.50</td>\n",
       "      <td>2019</td>\n",
       "      <td>9</td>\n",
       "    </tr>\n",
       "  </tbody>\n",
       "</table>\n",
       "</div>"
      ],
      "text/plain": [
       "         대여일자  대여시간(24)  대여소번호              대여소명  대여권   연령대 성별  이동거리(km)  \\\n",
       "1  2018-12-02        14   1366    1366. 일신초등학교 옆  정기권   30대  M      2.43   \n",
       "2  2018-06-16        12   1675   1675.  월계문화체육센터  단체권   30대  F     31.01   \n",
       "3  2018-07-03        11    567  567.  성수역 2번출구 앞  정기권  70대~  M      3.73   \n",
       "5  2018-04-21        11   3102      3102.  연희삼거리  정기권   30대  M      3.01   \n",
       "7  2019-09-30        19    111   111. 상수역 2번출구 앞  정기권   20대  M      1.70   \n",
       "\n",
       "   사용시간(hr)  속도(km/h)     년   월  \n",
       "1      0.32      7.59  2018  12  \n",
       "2      3.20      9.69  2018   6  \n",
       "3      0.72      5.18  2018   7  \n",
       "5      0.28     10.75  2018   4  \n",
       "7      0.20      8.50  2019   9  "
      ]
     },
     "execution_count": 12,
     "metadata": {},
     "output_type": "execute_result"
    }
   ],
   "source": [
    "df.head(5)"
   ]
  },
  {
   "cell_type": "code",
   "execution_count": 13,
   "id": "f80ade7d-e760-4a10-bbef-0e7d9089ecd5",
   "metadata": {
    "tags": []
   },
   "outputs": [
    {
     "data": {
      "text/html": [
       "<div>\n",
       "<style scoped>\n",
       "    .dataframe tbody tr th:only-of-type {\n",
       "        vertical-align: middle;\n",
       "    }\n",
       "\n",
       "    .dataframe tbody tr th {\n",
       "        vertical-align: top;\n",
       "    }\n",
       "\n",
       "    .dataframe thead th {\n",
       "        text-align: right;\n",
       "    }\n",
       "</style>\n",
       "<table border=\"1\" class=\"dataframe\">\n",
       "  <thead>\n",
       "    <tr style=\"text-align: right;\">\n",
       "      <th></th>\n",
       "      <th>대여일자</th>\n",
       "      <th>대여시간(24)</th>\n",
       "      <th>대여소번호</th>\n",
       "      <th>대여소명</th>\n",
       "      <th>대여권</th>\n",
       "      <th>연령대</th>\n",
       "      <th>성별</th>\n",
       "      <th>이동거리(km)</th>\n",
       "      <th>사용시간(hr)</th>\n",
       "      <th>속도(km/h)</th>\n",
       "      <th>년</th>\n",
       "      <th>월</th>\n",
       "    </tr>\n",
       "  </thead>\n",
       "  <tbody>\n",
       "    <tr>\n",
       "      <th>999997</th>\n",
       "      <td>2020-07-01</td>\n",
       "      <td>17</td>\n",
       "      <td>2621</td>\n",
       "      <td>2621. 한성백제역 2번 출구</td>\n",
       "      <td>정기권</td>\n",
       "      <td>70대~</td>\n",
       "      <td>NaN</td>\n",
       "      <td>1.07</td>\n",
       "      <td>0.27</td>\n",
       "      <td>3.96</td>\n",
       "      <td>2020</td>\n",
       "      <td>7</td>\n",
       "    </tr>\n",
       "    <tr>\n",
       "      <th>999998</th>\n",
       "      <td>2018-04-16</td>\n",
       "      <td>15</td>\n",
       "      <td>305</td>\n",
       "      <td>305.  종로구청 옆</td>\n",
       "      <td>정기권</td>\n",
       "      <td>40대</td>\n",
       "      <td>F</td>\n",
       "      <td>2.83</td>\n",
       "      <td>0.40</td>\n",
       "      <td>7.08</td>\n",
       "      <td>2018</td>\n",
       "      <td>4</td>\n",
       "    </tr>\n",
       "    <tr>\n",
       "      <th>999999</th>\n",
       "      <td>2018-07-29</td>\n",
       "      <td>17</td>\n",
       "      <td>1019</td>\n",
       "      <td>1019.  다성이즈빌아파트(호원대 대각선 맞은편)</td>\n",
       "      <td>정기권</td>\n",
       "      <td>20대</td>\n",
       "      <td>F</td>\n",
       "      <td>1.21</td>\n",
       "      <td>0.13</td>\n",
       "      <td>9.31</td>\n",
       "      <td>2018</td>\n",
       "      <td>7</td>\n",
       "    </tr>\n",
       "  </tbody>\n",
       "</table>\n",
       "</div>"
      ],
      "text/plain": [
       "              대여일자  대여시간(24)  대여소번호                          대여소명  대여권   연령대  \\\n",
       "999997  2020-07-01        17   2621             2621. 한성백제역 2번 출구  정기권  70대~   \n",
       "999998  2018-04-16        15    305                  305.  종로구청 옆  정기권   40대   \n",
       "999999  2018-07-29        17   1019  1019.  다성이즈빌아파트(호원대 대각선 맞은편)  정기권   20대   \n",
       "\n",
       "         성별  이동거리(km)  사용시간(hr)  속도(km/h)     년  월  \n",
       "999997  NaN      1.07      0.27      3.96  2020  7  \n",
       "999998    F      2.83      0.40      7.08  2018  4  \n",
       "999999    F      1.21      0.13      9.31  2018  7  "
      ]
     },
     "execution_count": 13,
     "metadata": {},
     "output_type": "execute_result"
    }
   ],
   "source": [
    "df.tail(3)"
   ]
  },
  {
   "cell_type": "code",
   "execution_count": 14,
   "id": "d6e4ca1d-495a-43e3-a799-45f7284cefb1",
   "metadata": {
    "tags": []
   },
   "outputs": [
    {
     "name": "stdout",
     "output_type": "stream",
     "text": [
      "<class 'pandas.core.frame.DataFrame'>\n",
      "Int64Index: 604150 entries, 1 to 999999\n",
      "Data columns (total 12 columns):\n",
      " #   Column    Non-Null Count   Dtype  \n",
      "---  ------    --------------   -----  \n",
      " 0   대여일자      604150 non-null  object \n",
      " 1   대여시간(24)  604150 non-null  int64  \n",
      " 2   대여소번호     604150 non-null  int64  \n",
      " 3   대여소명      604150 non-null  object \n",
      " 4   대여권       604150 non-null  object \n",
      " 5   연령대       604150 non-null  object \n",
      " 6   성별        366920 non-null  object \n",
      " 7   이동거리(km)  604150 non-null  float64\n",
      " 8   사용시간(hr)  604150 non-null  float64\n",
      " 9   속도(km/h)  604150 non-null  float64\n",
      " 10  년         604150 non-null  int64  \n",
      " 11  월         604150 non-null  int64  \n",
      "dtypes: float64(3), int64(4), object(5)\n",
      "memory usage: 59.9+ MB\n"
     ]
    }
   ],
   "source": [
    "df.info()"
   ]
  },
  {
   "cell_type": "code",
   "execution_count": 15,
   "id": "0c78dde2-3a55-4f7b-8871-484c1a1e6dc2",
   "metadata": {
    "tags": []
   },
   "outputs": [
    {
     "data": {
      "text/html": [
       "<div>\n",
       "<style scoped>\n",
       "    .dataframe tbody tr th:only-of-type {\n",
       "        vertical-align: middle;\n",
       "    }\n",
       "\n",
       "    .dataframe tbody tr th {\n",
       "        vertical-align: top;\n",
       "    }\n",
       "\n",
       "    .dataframe thead th {\n",
       "        text-align: right;\n",
       "    }\n",
       "</style>\n",
       "<table border=\"1\" class=\"dataframe\">\n",
       "  <thead>\n",
       "    <tr style=\"text-align: right;\">\n",
       "      <th></th>\n",
       "      <th>대여시간(24)</th>\n",
       "      <th>대여소번호</th>\n",
       "      <th>이동거리(km)</th>\n",
       "      <th>사용시간(hr)</th>\n",
       "      <th>속도(km/h)</th>\n",
       "      <th>년</th>\n",
       "      <th>월</th>\n",
       "    </tr>\n",
       "  </thead>\n",
       "  <tbody>\n",
       "    <tr>\n",
       "      <th>count</th>\n",
       "      <td>604150.000000</td>\n",
       "      <td>604150.000000</td>\n",
       "      <td>604150.000000</td>\n",
       "      <td>604150.000000</td>\n",
       "      <td>604150.000000</td>\n",
       "      <td>604150.000000</td>\n",
       "      <td>604150.000000</td>\n",
       "    </tr>\n",
       "    <tr>\n",
       "      <th>mean</th>\n",
       "      <td>14.032312</td>\n",
       "      <td>1186.427854</td>\n",
       "      <td>4.647419</td>\n",
       "      <td>0.555990</td>\n",
       "      <td>9.569248</td>\n",
       "      <td>2019.014438</td>\n",
       "      <td>6.800167</td>\n",
       "    </tr>\n",
       "    <tr>\n",
       "      <th>std</th>\n",
       "      <td>6.247060</td>\n",
       "      <td>835.176688</td>\n",
       "      <td>6.652068</td>\n",
       "      <td>0.652241</td>\n",
       "      <td>4.381393</td>\n",
       "      <td>0.712069</td>\n",
       "      <td>2.918796</td>\n",
       "    </tr>\n",
       "    <tr>\n",
       "      <th>min</th>\n",
       "      <td>0.000000</td>\n",
       "      <td>101.000000</td>\n",
       "      <td>0.010000</td>\n",
       "      <td>0.020000</td>\n",
       "      <td>0.000000</td>\n",
       "      <td>2018.000000</td>\n",
       "      <td>1.000000</td>\n",
       "    </tr>\n",
       "    <tr>\n",
       "      <th>25%</th>\n",
       "      <td>9.000000</td>\n",
       "      <td>440.000000</td>\n",
       "      <td>1.310000</td>\n",
       "      <td>0.150000</td>\n",
       "      <td>6.970000</td>\n",
       "      <td>2019.000000</td>\n",
       "      <td>5.000000</td>\n",
       "    </tr>\n",
       "    <tr>\n",
       "      <th>50%</th>\n",
       "      <td>15.000000</td>\n",
       "      <td>1119.000000</td>\n",
       "      <td>2.510000</td>\n",
       "      <td>0.320000</td>\n",
       "      <td>9.470000</td>\n",
       "      <td>2019.000000</td>\n",
       "      <td>7.000000</td>\n",
       "    </tr>\n",
       "    <tr>\n",
       "      <th>75%</th>\n",
       "      <td>19.000000</td>\n",
       "      <td>1742.000000</td>\n",
       "      <td>5.340000</td>\n",
       "      <td>0.720000</td>\n",
       "      <td>11.950000</td>\n",
       "      <td>2020.000000</td>\n",
       "      <td>9.000000</td>\n",
       "    </tr>\n",
       "    <tr>\n",
       "      <th>max</th>\n",
       "      <td>23.000000</td>\n",
       "      <td>4778.000000</td>\n",
       "      <td>230.590000</td>\n",
       "      <td>6.000000</td>\n",
       "      <td>45.000000</td>\n",
       "      <td>2020.000000</td>\n",
       "      <td>12.000000</td>\n",
       "    </tr>\n",
       "  </tbody>\n",
       "</table>\n",
       "</div>"
      ],
      "text/plain": [
       "            대여시간(24)          대여소번호       이동거리(km)       사용시간(hr)  \\\n",
       "count  604150.000000  604150.000000  604150.000000  604150.000000   \n",
       "mean       14.032312    1186.427854       4.647419       0.555990   \n",
       "std         6.247060     835.176688       6.652068       0.652241   \n",
       "min         0.000000     101.000000       0.010000       0.020000   \n",
       "25%         9.000000     440.000000       1.310000       0.150000   \n",
       "50%        15.000000    1119.000000       2.510000       0.320000   \n",
       "75%        19.000000    1742.000000       5.340000       0.720000   \n",
       "max        23.000000    4778.000000     230.590000       6.000000   \n",
       "\n",
       "            속도(km/h)              년              월  \n",
       "count  604150.000000  604150.000000  604150.000000  \n",
       "mean        9.569248    2019.014438       6.800167  \n",
       "std         4.381393       0.712069       2.918796  \n",
       "min         0.000000    2018.000000       1.000000  \n",
       "25%         6.970000    2019.000000       5.000000  \n",
       "50%         9.470000    2019.000000       7.000000  \n",
       "75%        11.950000    2020.000000       9.000000  \n",
       "max        45.000000    2020.000000      12.000000  "
      ]
     },
     "execution_count": 15,
     "metadata": {},
     "output_type": "execute_result"
    }
   ],
   "source": [
    "df.describe()"
   ]
  },
  {
   "cell_type": "code",
   "execution_count": 16,
   "id": "3ca902ea-a607-457a-9bfc-e835d6c0b0b5",
   "metadata": {},
   "outputs": [
    {
     "data": {
      "text/plain": [
       "대여시간(24)      15.00\n",
       "대여소번호       1119.00\n",
       "이동거리(km)       2.51\n",
       "사용시간(hr)       0.32\n",
       "속도(km/h)       9.47\n",
       "년           2019.00\n",
       "월              7.00\n",
       "dtype: float64"
      ]
     },
     "execution_count": 16,
     "metadata": {},
     "output_type": "execute_result"
    }
   ],
   "source": [
    "df.median() # 중앙값 (50%)"
   ]
  },
  {
   "cell_type": "code",
   "execution_count": 17,
   "id": "66cf609b-ca16-42ad-9d7a-284357c1d88e",
   "metadata": {},
   "outputs": [
    {
     "name": "stdout",
     "output_type": "stream",
     "text": [
      "대여일자\n",
      "대여시간(24)\n",
      "대여소번호\n",
      "대여소명\n",
      "대여권\n",
      "연령대\n",
      "성별\n",
      "이동거리(km)\n",
      "사용시간(hr)\n",
      "속도(km/h)\n",
      "년\n",
      "월\n"
     ]
    }
   ],
   "source": [
    "for col in df.columns: \n",
    "    print(col)  "
   ]
  },
  {
   "cell_type": "code",
   "execution_count": 18,
   "id": "e7addbaa-d405-462e-b7cc-5d33f0923187",
   "metadata": {},
   "outputs": [
    {
     "data": {
      "text/plain": [
       "(604150, 12)"
      ]
     },
     "execution_count": 18,
     "metadata": {},
     "output_type": "execute_result"
    }
   ],
   "source": [
    "# 데이터 프레임의 크기: shape (행,열)\n",
    "size = df.shape\n",
    "size"
   ]
  },
  {
   "cell_type": "code",
   "execution_count": 19,
   "id": "ee0dd8b4-4a67-4161-81db-87d6a034539a",
   "metadata": {},
   "outputs": [
    {
     "data": {
      "text/plain": [
       "Index(['대여일자', '대여시간(24)', '대여소번호', '대여소명', '대여권', '연령대', '성별', '이동거리(km)',\n",
       "       '사용시간(hr)', '속도(km/h)', '년', '월'],\n",
       "      dtype='object')"
      ]
     },
     "execution_count": 19,
     "metadata": {},
     "output_type": "execute_result"
    }
   ],
   "source": [
    "df.columns"
   ]
  },
  {
   "cell_type": "code",
   "execution_count": 20,
   "id": "9cdfc420-aae0-411f-9dc8-958a4ba115e5",
   "metadata": {},
   "outputs": [
    {
     "data": {
      "text/plain": [
       "대여일자         object\n",
       "대여시간(24)      int64\n",
       "대여소번호         int64\n",
       "대여소명         object\n",
       "대여권          object\n",
       "연령대          object\n",
       "성별           object\n",
       "이동거리(km)    float64\n",
       "사용시간(hr)    float64\n",
       "속도(km/h)    float64\n",
       "년             int64\n",
       "월             int64\n",
       "dtype: object"
      ]
     },
     "execution_count": 20,
     "metadata": {},
     "output_type": "execute_result"
    }
   ],
   "source": [
    "df.dtypes"
   ]
  },
  {
   "cell_type": "code",
   "execution_count": 21,
   "id": "d9f84943-52f5-4268-8662-49507db792c2",
   "metadata": {},
   "outputs": [
    {
     "data": {
      "text/plain": [
       "pandas.core.series.Series"
      ]
     },
     "execution_count": 21,
     "metadata": {},
     "output_type": "execute_result"
    }
   ],
   "source": [
    "months = df['월']\n",
    "type(months)"
   ]
  },
  {
   "cell_type": "code",
   "execution_count": 22,
   "id": "39ce44b3-c14e-4992-8b79-c2fb21ab1305",
   "metadata": {},
   "outputs": [
    {
     "data": {
      "text/html": [
       "<div>\n",
       "<style scoped>\n",
       "    .dataframe tbody tr th:only-of-type {\n",
       "        vertical-align: middle;\n",
       "    }\n",
       "\n",
       "    .dataframe tbody tr th {\n",
       "        vertical-align: top;\n",
       "    }\n",
       "\n",
       "    .dataframe thead th {\n",
       "        text-align: right;\n",
       "    }\n",
       "</style>\n",
       "<table border=\"1\" class=\"dataframe\">\n",
       "  <thead>\n",
       "    <tr style=\"text-align: right;\">\n",
       "      <th></th>\n",
       "      <th>연령대</th>\n",
       "      <th>대여권</th>\n",
       "      <th>대여시간(24)</th>\n",
       "    </tr>\n",
       "  </thead>\n",
       "  <tbody>\n",
       "    <tr>\n",
       "      <th>1</th>\n",
       "      <td>30대</td>\n",
       "      <td>정기권</td>\n",
       "      <td>14</td>\n",
       "    </tr>\n",
       "    <tr>\n",
       "      <th>2</th>\n",
       "      <td>30대</td>\n",
       "      <td>단체권</td>\n",
       "      <td>12</td>\n",
       "    </tr>\n",
       "    <tr>\n",
       "      <th>3</th>\n",
       "      <td>70대~</td>\n",
       "      <td>정기권</td>\n",
       "      <td>11</td>\n",
       "    </tr>\n",
       "    <tr>\n",
       "      <th>5</th>\n",
       "      <td>30대</td>\n",
       "      <td>정기권</td>\n",
       "      <td>11</td>\n",
       "    </tr>\n",
       "    <tr>\n",
       "      <th>7</th>\n",
       "      <td>20대</td>\n",
       "      <td>정기권</td>\n",
       "      <td>19</td>\n",
       "    </tr>\n",
       "    <tr>\n",
       "      <th>...</th>\n",
       "      <td>...</td>\n",
       "      <td>...</td>\n",
       "      <td>...</td>\n",
       "    </tr>\n",
       "    <tr>\n",
       "      <th>999995</th>\n",
       "      <td>30대</td>\n",
       "      <td>일일권</td>\n",
       "      <td>18</td>\n",
       "    </tr>\n",
       "    <tr>\n",
       "      <th>999996</th>\n",
       "      <td>20대</td>\n",
       "      <td>정기권</td>\n",
       "      <td>8</td>\n",
       "    </tr>\n",
       "    <tr>\n",
       "      <th>999997</th>\n",
       "      <td>70대~</td>\n",
       "      <td>정기권</td>\n",
       "      <td>17</td>\n",
       "    </tr>\n",
       "    <tr>\n",
       "      <th>999998</th>\n",
       "      <td>40대</td>\n",
       "      <td>정기권</td>\n",
       "      <td>15</td>\n",
       "    </tr>\n",
       "    <tr>\n",
       "      <th>999999</th>\n",
       "      <td>20대</td>\n",
       "      <td>정기권</td>\n",
       "      <td>17</td>\n",
       "    </tr>\n",
       "  </tbody>\n",
       "</table>\n",
       "<p>604150 rows × 3 columns</p>\n",
       "</div>"
      ],
      "text/plain": [
       "         연령대  대여권  대여시간(24)\n",
       "1        30대  정기권        14\n",
       "2        30대  단체권        12\n",
       "3       70대~  정기권        11\n",
       "5        30대  정기권        11\n",
       "7        20대  정기권        19\n",
       "...      ...  ...       ...\n",
       "999995   30대  일일권        18\n",
       "999996   20대  정기권         8\n",
       "999997  70대~  정기권        17\n",
       "999998   40대  정기권        15\n",
       "999999   20대  정기권        17\n",
       "\n",
       "[604150 rows x 3 columns]"
      ]
     },
     "execution_count": 22,
     "metadata": {},
     "output_type": "execute_result"
    }
   ],
   "source": [
    "# 컬럼 뽑기 : 연령대 대여권 대여시간 \n",
    "subset = df[['연령대', '대여권', '대여시간(24)']]\n",
    "# type(subset)\n",
    "subset"
   ]
  },
  {
   "cell_type": "code",
   "execution_count": 23,
   "id": "cc096588-4a33-481f-b1d1-cda5bc47c2bc",
   "metadata": {},
   "outputs": [
    {
     "name": "stdout",
     "output_type": "stream",
     "text": [
      "         성별  대여권\n",
      "1         M  정기권\n",
      "2         F  단체권\n",
      "3         M  정기권\n",
      "5         M  정기권\n",
      "7         M  정기권\n",
      "...     ...  ...\n",
      "999995    M  일일권\n",
      "999996    F  정기권\n",
      "999997  NaN  정기권\n",
      "999998    F  정기권\n",
      "999999    F  정기권\n",
      "\n",
      "[604150 rows x 2 columns]\n"
     ]
    }
   ],
   "source": [
    "# loc - 문자열 접근 \n",
    "# df.loc[:, ['성별']]\n",
    "print(df.loc[:, ['성별', '대여권']])            # : 모든행출력 "
   ]
  },
  {
   "cell_type": "code",
   "execution_count": 24,
   "id": "fadeab2e-15ed-4d3d-b556-4cc5c65ab9e1",
   "metadata": {},
   "outputs": [
    {
     "data": {
      "text/html": [
       "<div>\n",
       "<style scoped>\n",
       "    .dataframe tbody tr th:only-of-type {\n",
       "        vertical-align: middle;\n",
       "    }\n",
       "\n",
       "    .dataframe tbody tr th {\n",
       "        vertical-align: top;\n",
       "    }\n",
       "\n",
       "    .dataframe thead th {\n",
       "        text-align: right;\n",
       "    }\n",
       "</style>\n",
       "<table border=\"1\" class=\"dataframe\">\n",
       "  <thead>\n",
       "    <tr style=\"text-align: right;\">\n",
       "      <th></th>\n",
       "      <th>년</th>\n",
       "      <th>대여권</th>\n",
       "      <th>대여시간(24)</th>\n",
       "      <th>이동거리(km)</th>\n",
       "      <th>사용시간(hr)</th>\n",
       "      <th>속도(km/h)</th>\n",
       "    </tr>\n",
       "  </thead>\n",
       "  <tbody>\n",
       "    <tr>\n",
       "      <th>1</th>\n",
       "      <td>2018</td>\n",
       "      <td>정기권</td>\n",
       "      <td>14</td>\n",
       "      <td>2.43</td>\n",
       "      <td>0.32</td>\n",
       "      <td>7.59</td>\n",
       "    </tr>\n",
       "    <tr>\n",
       "      <th>2</th>\n",
       "      <td>2018</td>\n",
       "      <td>단체권</td>\n",
       "      <td>12</td>\n",
       "      <td>31.01</td>\n",
       "      <td>3.20</td>\n",
       "      <td>9.69</td>\n",
       "    </tr>\n",
       "    <tr>\n",
       "      <th>3</th>\n",
       "      <td>2018</td>\n",
       "      <td>정기권</td>\n",
       "      <td>11</td>\n",
       "      <td>3.73</td>\n",
       "      <td>0.72</td>\n",
       "      <td>5.18</td>\n",
       "    </tr>\n",
       "    <tr>\n",
       "      <th>5</th>\n",
       "      <td>2018</td>\n",
       "      <td>정기권</td>\n",
       "      <td>11</td>\n",
       "      <td>3.01</td>\n",
       "      <td>0.28</td>\n",
       "      <td>10.75</td>\n",
       "    </tr>\n",
       "    <tr>\n",
       "      <th>7</th>\n",
       "      <td>2019</td>\n",
       "      <td>정기권</td>\n",
       "      <td>19</td>\n",
       "      <td>1.70</td>\n",
       "      <td>0.20</td>\n",
       "      <td>8.50</td>\n",
       "    </tr>\n",
       "    <tr>\n",
       "      <th>...</th>\n",
       "      <td>...</td>\n",
       "      <td>...</td>\n",
       "      <td>...</td>\n",
       "      <td>...</td>\n",
       "      <td>...</td>\n",
       "      <td>...</td>\n",
       "    </tr>\n",
       "    <tr>\n",
       "      <th>999995</th>\n",
       "      <td>2020</td>\n",
       "      <td>일일권</td>\n",
       "      <td>18</td>\n",
       "      <td>12.64</td>\n",
       "      <td>1.55</td>\n",
       "      <td>8.15</td>\n",
       "    </tr>\n",
       "    <tr>\n",
       "      <th>999996</th>\n",
       "      <td>2018</td>\n",
       "      <td>정기권</td>\n",
       "      <td>8</td>\n",
       "      <td>1.38</td>\n",
       "      <td>0.17</td>\n",
       "      <td>8.12</td>\n",
       "    </tr>\n",
       "    <tr>\n",
       "      <th>999997</th>\n",
       "      <td>2020</td>\n",
       "      <td>정기권</td>\n",
       "      <td>17</td>\n",
       "      <td>1.07</td>\n",
       "      <td>0.27</td>\n",
       "      <td>3.96</td>\n",
       "    </tr>\n",
       "    <tr>\n",
       "      <th>999998</th>\n",
       "      <td>2018</td>\n",
       "      <td>정기권</td>\n",
       "      <td>15</td>\n",
       "      <td>2.83</td>\n",
       "      <td>0.40</td>\n",
       "      <td>7.08</td>\n",
       "    </tr>\n",
       "    <tr>\n",
       "      <th>999999</th>\n",
       "      <td>2018</td>\n",
       "      <td>정기권</td>\n",
       "      <td>17</td>\n",
       "      <td>1.21</td>\n",
       "      <td>0.13</td>\n",
       "      <td>9.31</td>\n",
       "    </tr>\n",
       "  </tbody>\n",
       "</table>\n",
       "<p>604150 rows × 6 columns</p>\n",
       "</div>"
      ],
      "text/plain": [
       "           년  대여권  대여시간(24)  이동거리(km)  사용시간(hr)  속도(km/h)\n",
       "1       2018  정기권        14      2.43      0.32      7.59\n",
       "2       2018  단체권        12     31.01      3.20      9.69\n",
       "3       2018  정기권        11      3.73      0.72      5.18\n",
       "5       2018  정기권        11      3.01      0.28     10.75\n",
       "7       2019  정기권        19      1.70      0.20      8.50\n",
       "...      ...  ...       ...       ...       ...       ...\n",
       "999995  2020  일일권        18     12.64      1.55      8.15\n",
       "999996  2018  정기권         8      1.38      0.17      8.12\n",
       "999997  2020  정기권        17      1.07      0.27      3.96\n",
       "999998  2018  정기권        15      2.83      0.40      7.08\n",
       "999999  2018  정기권        17      1.21      0.13      9.31\n",
       "\n",
       "[604150 rows x 6 columns]"
      ]
     },
     "execution_count": 24,
     "metadata": {},
     "output_type": "execute_result"
    }
   ],
   "source": [
    "subset = df.loc[:, ['년','대여권', '대여시간(24)', '이동거리(km)', '사용시간(hr)', '속도(km/h)']]\n",
    "subset"
   ]
  },
  {
   "cell_type": "code",
   "execution_count": 25,
   "id": "747e1d71-a6f3-4d10-82f5-99b947111ed6",
   "metadata": {},
   "outputs": [],
   "source": [
    "# subset에 년 별 사용 횟수 / 증가량 column 추가 "
   ]
  },
  {
   "cell_type": "code",
   "execution_count": 26,
   "id": "162b0b74-17e1-4007-9089-cb3e4a9ba8a3",
   "metadata": {},
   "outputs": [
    {
     "name": "stdout",
     "output_type": "stream",
     "text": [
      "M\n"
     ]
    }
   ],
   "source": [
    "print(df.loc[5, '성별'])                # df.loc[row, column]"
   ]
  },
  {
   "cell_type": "code",
   "execution_count": 27,
   "id": "919443e9-9b26-4b05-8e97-353db74d4eb5",
   "metadata": {},
   "outputs": [
    {
     "name": "stdout",
     "output_type": "stream",
     "text": [
      "14\n"
     ]
    }
   ],
   "source": [
    "# iloc - 숫자 기준 -> 행, 렬\n",
    "print(df.iloc[0, 1])                   # [행, 렬]"
   ]
  },
  {
   "cell_type": "code",
   "execution_count": 28,
   "id": "47e092d5-3bf6-4af1-b9dd-175ba7f2c5f7",
   "metadata": {},
   "outputs": [
    {
     "name": "stdout",
     "output_type": "stream",
     "text": [
      "  성별  이동거리(km)\n",
      "1  M      2.43\n",
      "2  F     31.01\n",
      "3  M      3.73\n",
      "5  M      3.01\n",
      "7  M      1.70\n"
     ]
    }
   ],
   "source": [
    "print(df.iloc[0:5, 6:8])                 # slice"
   ]
  },
  {
   "cell_type": "code",
   "execution_count": 29,
   "id": "278a3148-d05a-4324-9e34-253dfc9ce4ae",
   "metadata": {},
   "outputs": [
    {
     "data": {
      "text/plain": [
       "Index(['대여일자', '대여시간(24)', '대여소번호', '대여소명', '대여권', '연령대', '성별', '이동거리(km)',\n",
       "       '사용시간(hr)', '속도(km/h)', '년', '월'],\n",
       "      dtype='object')"
      ]
     },
     "execution_count": 29,
     "metadata": {},
     "output_type": "execute_result"
    }
   ],
   "source": [
    "df.columns"
   ]
  },
  {
   "cell_type": "code",
   "execution_count": 30,
   "id": "589a191a-a736-471d-a2e1-61ed69d0aa00",
   "metadata": {},
   "outputs": [
    {
     "data": {
      "text/html": [
       "<div>\n",
       "<style scoped>\n",
       "    .dataframe tbody tr th:only-of-type {\n",
       "        vertical-align: middle;\n",
       "    }\n",
       "\n",
       "    .dataframe tbody tr th {\n",
       "        vertical-align: top;\n",
       "    }\n",
       "\n",
       "    .dataframe thead th {\n",
       "        text-align: right;\n",
       "    }\n",
       "</style>\n",
       "<table border=\"1\" class=\"dataframe\">\n",
       "  <thead>\n",
       "    <tr style=\"text-align: right;\">\n",
       "      <th></th>\n",
       "      <th>대여권</th>\n",
       "      <th>연령대</th>\n",
       "      <th>속도(km/h)</th>\n",
       "      <th>월</th>\n",
       "    </tr>\n",
       "  </thead>\n",
       "  <tbody>\n",
       "    <tr>\n",
       "      <th>1</th>\n",
       "      <td>정기권</td>\n",
       "      <td>30대</td>\n",
       "      <td>7.59</td>\n",
       "      <td>12</td>\n",
       "    </tr>\n",
       "    <tr>\n",
       "      <th>2</th>\n",
       "      <td>단체권</td>\n",
       "      <td>30대</td>\n",
       "      <td>9.69</td>\n",
       "      <td>6</td>\n",
       "    </tr>\n",
       "    <tr>\n",
       "      <th>3</th>\n",
       "      <td>정기권</td>\n",
       "      <td>70대~</td>\n",
       "      <td>5.18</td>\n",
       "      <td>7</td>\n",
       "    </tr>\n",
       "    <tr>\n",
       "      <th>5</th>\n",
       "      <td>정기권</td>\n",
       "      <td>30대</td>\n",
       "      <td>10.75</td>\n",
       "      <td>4</td>\n",
       "    </tr>\n",
       "    <tr>\n",
       "      <th>7</th>\n",
       "      <td>정기권</td>\n",
       "      <td>20대</td>\n",
       "      <td>8.50</td>\n",
       "      <td>9</td>\n",
       "    </tr>\n",
       "    <tr>\n",
       "      <th>...</th>\n",
       "      <td>...</td>\n",
       "      <td>...</td>\n",
       "      <td>...</td>\n",
       "      <td>...</td>\n",
       "    </tr>\n",
       "    <tr>\n",
       "      <th>999995</th>\n",
       "      <td>일일권</td>\n",
       "      <td>30대</td>\n",
       "      <td>8.15</td>\n",
       "      <td>3</td>\n",
       "    </tr>\n",
       "    <tr>\n",
       "      <th>999996</th>\n",
       "      <td>정기권</td>\n",
       "      <td>20대</td>\n",
       "      <td>8.12</td>\n",
       "      <td>8</td>\n",
       "    </tr>\n",
       "    <tr>\n",
       "      <th>999997</th>\n",
       "      <td>정기권</td>\n",
       "      <td>70대~</td>\n",
       "      <td>3.96</td>\n",
       "      <td>7</td>\n",
       "    </tr>\n",
       "    <tr>\n",
       "      <th>999998</th>\n",
       "      <td>정기권</td>\n",
       "      <td>40대</td>\n",
       "      <td>7.08</td>\n",
       "      <td>4</td>\n",
       "    </tr>\n",
       "    <tr>\n",
       "      <th>999999</th>\n",
       "      <td>정기권</td>\n",
       "      <td>20대</td>\n",
       "      <td>9.31</td>\n",
       "      <td>7</td>\n",
       "    </tr>\n",
       "  </tbody>\n",
       "</table>\n",
       "<p>604150 rows × 4 columns</p>\n",
       "</div>"
      ],
      "text/plain": [
       "        대여권   연령대  속도(km/h)   월\n",
       "1       정기권   30대      7.59  12\n",
       "2       단체권   30대      9.69   6\n",
       "3       정기권  70대~      5.18   7\n",
       "5       정기권   30대     10.75   4\n",
       "7       정기권   20대      8.50   9\n",
       "...     ...   ...       ...  ..\n",
       "999995  일일권   30대      8.15   3\n",
       "999996  정기권   20대      8.12   8\n",
       "999997  정기권  70대~      3.96   7\n",
       "999998  정기권   40대      7.08   4\n",
       "999999  정기권   20대      9.31   7\n",
       "\n",
       "[604150 rows x 4 columns]"
      ]
     },
     "execution_count": 30,
     "metadata": {},
     "output_type": "execute_result"
    }
   ],
   "source": [
    "df.iloc[:, [4,5,9,11]]"
   ]
  },
  {
   "cell_type": "code",
   "execution_count": 31,
   "id": "a2fba311-f0c9-4467-8a97-5110aaebea4f",
   "metadata": {
    "tags": []
   },
   "outputs": [
    {
     "data": {
      "text/html": [
       "<div>\n",
       "<style scoped>\n",
       "    .dataframe tbody tr th:only-of-type {\n",
       "        vertical-align: middle;\n",
       "    }\n",
       "\n",
       "    .dataframe tbody tr th {\n",
       "        vertical-align: top;\n",
       "    }\n",
       "\n",
       "    .dataframe thead th {\n",
       "        text-align: right;\n",
       "    }\n",
       "</style>\n",
       "<table border=\"1\" class=\"dataframe\">\n",
       "  <thead>\n",
       "    <tr style=\"text-align: right;\">\n",
       "      <th></th>\n",
       "      <th>대여시간(24)</th>\n",
       "      <th>연령대</th>\n",
       "      <th>성별</th>\n",
       "      <th>이동거리(km)</th>\n",
       "      <th>사용시간(hr)</th>\n",
       "      <th>속도(km/h)</th>\n",
       "      <th>년</th>\n",
       "    </tr>\n",
       "  </thead>\n",
       "  <tbody>\n",
       "    <tr>\n",
       "      <th>2</th>\n",
       "      <td>12</td>\n",
       "      <td>30대</td>\n",
       "      <td>F</td>\n",
       "      <td>31.01</td>\n",
       "      <td>3.20</td>\n",
       "      <td>9.69</td>\n",
       "      <td>2018</td>\n",
       "    </tr>\n",
       "    <tr>\n",
       "      <th>15</th>\n",
       "      <td>17</td>\n",
       "      <td>30대</td>\n",
       "      <td>F</td>\n",
       "      <td>2.62</td>\n",
       "      <td>0.33</td>\n",
       "      <td>7.94</td>\n",
       "      <td>2020</td>\n",
       "    </tr>\n",
       "    <tr>\n",
       "      <th>17</th>\n",
       "      <td>21</td>\n",
       "      <td>30대</td>\n",
       "      <td>F</td>\n",
       "      <td>1.69</td>\n",
       "      <td>0.60</td>\n",
       "      <td>2.82</td>\n",
       "      <td>2019</td>\n",
       "    </tr>\n",
       "    <tr>\n",
       "      <th>21</th>\n",
       "      <td>18</td>\n",
       "      <td>30대</td>\n",
       "      <td>F</td>\n",
       "      <td>0.76</td>\n",
       "      <td>0.10</td>\n",
       "      <td>7.60</td>\n",
       "      <td>2020</td>\n",
       "    </tr>\n",
       "    <tr>\n",
       "      <th>23</th>\n",
       "      <td>21</td>\n",
       "      <td>50대</td>\n",
       "      <td>F</td>\n",
       "      <td>14.28</td>\n",
       "      <td>1.17</td>\n",
       "      <td>12.21</td>\n",
       "      <td>2019</td>\n",
       "    </tr>\n",
       "    <tr>\n",
       "      <th>...</th>\n",
       "      <td>...</td>\n",
       "      <td>...</td>\n",
       "      <td>...</td>\n",
       "      <td>...</td>\n",
       "      <td>...</td>\n",
       "      <td>...</td>\n",
       "      <td>...</td>\n",
       "    </tr>\n",
       "    <tr>\n",
       "      <th>999983</th>\n",
       "      <td>11</td>\n",
       "      <td>20대</td>\n",
       "      <td>F</td>\n",
       "      <td>1.72</td>\n",
       "      <td>0.42</td>\n",
       "      <td>4.10</td>\n",
       "      <td>2020</td>\n",
       "    </tr>\n",
       "    <tr>\n",
       "      <th>999991</th>\n",
       "      <td>23</td>\n",
       "      <td>20대</td>\n",
       "      <td>F</td>\n",
       "      <td>6.82</td>\n",
       "      <td>0.57</td>\n",
       "      <td>11.96</td>\n",
       "      <td>2019</td>\n",
       "    </tr>\n",
       "    <tr>\n",
       "      <th>999996</th>\n",
       "      <td>8</td>\n",
       "      <td>20대</td>\n",
       "      <td>F</td>\n",
       "      <td>1.38</td>\n",
       "      <td>0.17</td>\n",
       "      <td>8.12</td>\n",
       "      <td>2018</td>\n",
       "    </tr>\n",
       "    <tr>\n",
       "      <th>999998</th>\n",
       "      <td>15</td>\n",
       "      <td>40대</td>\n",
       "      <td>F</td>\n",
       "      <td>2.83</td>\n",
       "      <td>0.40</td>\n",
       "      <td>7.08</td>\n",
       "      <td>2018</td>\n",
       "    </tr>\n",
       "    <tr>\n",
       "      <th>999999</th>\n",
       "      <td>17</td>\n",
       "      <td>20대</td>\n",
       "      <td>F</td>\n",
       "      <td>1.21</td>\n",
       "      <td>0.13</td>\n",
       "      <td>9.31</td>\n",
       "      <td>2018</td>\n",
       "    </tr>\n",
       "  </tbody>\n",
       "</table>\n",
       "<p>136147 rows × 7 columns</p>\n",
       "</div>"
      ],
      "text/plain": [
       "        대여시간(24)  연령대 성별  이동거리(km)  사용시간(hr)  속도(km/h)     년\n",
       "2             12  30대  F     31.01      3.20      9.69  2018\n",
       "15            17  30대  F      2.62      0.33      7.94  2020\n",
       "17            21  30대  F      1.69      0.60      2.82  2019\n",
       "21            18  30대  F      0.76      0.10      7.60  2020\n",
       "23            21  50대  F     14.28      1.17     12.21  2019\n",
       "...          ...  ... ..       ...       ...       ...   ...\n",
       "999983        11  20대  F      1.72      0.42      4.10  2020\n",
       "999991        23  20대  F      6.82      0.57     11.96  2019\n",
       "999996         8  20대  F      1.38      0.17      8.12  2018\n",
       "999998        15  40대  F      2.83      0.40      7.08  2018\n",
       "999999        17  20대  F      1.21      0.13      9.31  2018\n",
       "\n",
       "[136147 rows x 7 columns]"
      ]
     },
     "execution_count": 31,
     "metadata": {},
     "output_type": "execute_result"
    }
   ],
   "source": [
    "# iloc 행 - 조건\n",
    "df.iloc[:, [1,5,6,7,8,9,10]].query('성별 == \"F\"')"
   ]
  },
  {
   "cell_type": "code",
   "execution_count": 32,
   "id": "3f9462fa-fb7d-4b99-bba4-404b65d93291",
   "metadata": {},
   "outputs": [
    {
     "data": {
      "text/html": [
       "<div>\n",
       "<style scoped>\n",
       "    .dataframe tbody tr th:only-of-type {\n",
       "        vertical-align: middle;\n",
       "    }\n",
       "\n",
       "    .dataframe tbody tr th {\n",
       "        vertical-align: top;\n",
       "    }\n",
       "\n",
       "    .dataframe thead th {\n",
       "        text-align: right;\n",
       "    }\n",
       "</style>\n",
       "<table border=\"1\" class=\"dataframe\">\n",
       "  <thead>\n",
       "    <tr style=\"text-align: right;\">\n",
       "      <th></th>\n",
       "      <th>대여일자</th>\n",
       "      <th>대여시간(24)</th>\n",
       "      <th>대여소번호</th>\n",
       "      <th>대여소명</th>\n",
       "    </tr>\n",
       "  </thead>\n",
       "  <tbody>\n",
       "    <tr>\n",
       "      <th>1</th>\n",
       "      <td>2018-12-02</td>\n",
       "      <td>14</td>\n",
       "      <td>1366</td>\n",
       "      <td>1366. 일신초등학교 옆</td>\n",
       "    </tr>\n",
       "    <tr>\n",
       "      <th>2</th>\n",
       "      <td>2018-06-16</td>\n",
       "      <td>12</td>\n",
       "      <td>1675</td>\n",
       "      <td>1675.  월계문화체육센터</td>\n",
       "    </tr>\n",
       "    <tr>\n",
       "      <th>3</th>\n",
       "      <td>2018-07-03</td>\n",
       "      <td>11</td>\n",
       "      <td>567</td>\n",
       "      <td>567.  성수역 2번출구 앞</td>\n",
       "    </tr>\n",
       "    <tr>\n",
       "      <th>5</th>\n",
       "      <td>2018-04-21</td>\n",
       "      <td>11</td>\n",
       "      <td>3102</td>\n",
       "      <td>3102.  연희삼거리</td>\n",
       "    </tr>\n",
       "    <tr>\n",
       "      <th>7</th>\n",
       "      <td>2019-09-30</td>\n",
       "      <td>19</td>\n",
       "      <td>111</td>\n",
       "      <td>111. 상수역 2번출구 앞</td>\n",
       "    </tr>\n",
       "    <tr>\n",
       "      <th>...</th>\n",
       "      <td>...</td>\n",
       "      <td>...</td>\n",
       "      <td>...</td>\n",
       "      <td>...</td>\n",
       "    </tr>\n",
       "    <tr>\n",
       "      <th>999995</th>\n",
       "      <td>2020-03-02</td>\n",
       "      <td>18</td>\n",
       "      <td>1288</td>\n",
       "      <td>1288. 문정중교 사거리</td>\n",
       "    </tr>\n",
       "    <tr>\n",
       "      <th>999996</th>\n",
       "      <td>2018-08-22</td>\n",
       "      <td>8</td>\n",
       "      <td>714</td>\n",
       "      <td>714.  한국SGI 양천문화회관 앞</td>\n",
       "    </tr>\n",
       "    <tr>\n",
       "      <th>999997</th>\n",
       "      <td>2020-07-01</td>\n",
       "      <td>17</td>\n",
       "      <td>2621</td>\n",
       "      <td>2621. 한성백제역 2번 출구</td>\n",
       "    </tr>\n",
       "    <tr>\n",
       "      <th>999998</th>\n",
       "      <td>2018-04-16</td>\n",
       "      <td>15</td>\n",
       "      <td>305</td>\n",
       "      <td>305.  종로구청 옆</td>\n",
       "    </tr>\n",
       "    <tr>\n",
       "      <th>999999</th>\n",
       "      <td>2018-07-29</td>\n",
       "      <td>17</td>\n",
       "      <td>1019</td>\n",
       "      <td>1019.  다성이즈빌아파트(호원대 대각선 맞은편)</td>\n",
       "    </tr>\n",
       "  </tbody>\n",
       "</table>\n",
       "<p>604150 rows × 4 columns</p>\n",
       "</div>"
      ],
      "text/plain": [
       "              대여일자  대여시간(24)  대여소번호                          대여소명\n",
       "1       2018-12-02        14   1366                1366. 일신초등학교 옆\n",
       "2       2018-06-16        12   1675               1675.  월계문화체육센터\n",
       "3       2018-07-03        11    567              567.  성수역 2번출구 앞\n",
       "5       2018-04-21        11   3102                  3102.  연희삼거리\n",
       "7       2019-09-30        19    111               111. 상수역 2번출구 앞\n",
       "...            ...       ...    ...                           ...\n",
       "999995  2020-03-02        18   1288                1288. 문정중교 사거리\n",
       "999996  2018-08-22         8    714          714.  한국SGI 양천문화회관 앞\n",
       "999997  2020-07-01        17   2621             2621. 한성백제역 2번 출구\n",
       "999998  2018-04-16        15    305                  305.  종로구청 옆\n",
       "999999  2018-07-29        17   1019  1019.  다성이즈빌아파트(호원대 대각선 맞은편)\n",
       "\n",
       "[604150 rows x 4 columns]"
      ]
     },
     "execution_count": 32,
     "metadata": {},
     "output_type": "execute_result"
    }
   ],
   "source": [
    "# range  \n",
    "r = range(4)  # column 0 ~ 3\n",
    "df.iloc[:, r]"
   ]
  },
  {
   "cell_type": "code",
   "execution_count": 109,
   "id": "9e63b13c-f854-4cdc-aae7-125d10bd07a0",
   "metadata": {},
   "outputs": [
    {
     "data": {
      "text/plain": [
       "array([14, 12, 11, 19, 20, 15, 17, 21,  9,  7, 18,  3,  8, 13, 23, 10,  0,\n",
       "        2, 22, 16,  5,  4,  1,  6], dtype=int64)"
      ]
     },
     "execution_count": 109,
     "metadata": {},
     "output_type": "execute_result"
    }
   ],
   "source": [
    "df['대여시간(24)'].unique()"
   ]
  },
  {
   "cell_type": "code",
   "execution_count": 151,
   "id": "a4167a2f-ecc3-4385-abc1-a9284c819ffb",
   "metadata": {},
   "outputs": [
    {
     "data": {
      "text/html": [
       "<div>\n",
       "<style scoped>\n",
       "    .dataframe tbody tr th:only-of-type {\n",
       "        vertical-align: middle;\n",
       "    }\n",
       "\n",
       "    .dataframe tbody tr th {\n",
       "        vertical-align: top;\n",
       "    }\n",
       "\n",
       "    .dataframe thead th {\n",
       "        text-align: right;\n",
       "    }\n",
       "</style>\n",
       "<table border=\"1\" class=\"dataframe\">\n",
       "  <thead>\n",
       "    <tr style=\"text-align: right;\">\n",
       "      <th></th>\n",
       "      <th>대여권</th>\n",
       "      <th>연령대</th>\n",
       "      <th>이동거리(km)</th>\n",
       "      <th>사용시간(hr)</th>\n",
       "      <th>속도(km/h)</th>\n",
       "      <th>월</th>\n",
       "    </tr>\n",
       "    <tr>\n",
       "      <th>대여시간(24)</th>\n",
       "      <th></th>\n",
       "      <th></th>\n",
       "      <th></th>\n",
       "      <th></th>\n",
       "      <th></th>\n",
       "      <th></th>\n",
       "    </tr>\n",
       "  </thead>\n",
       "  <tbody>\n",
       "    <tr>\n",
       "      <th>0</th>\n",
       "      <td>정기권</td>\n",
       "      <td>30대</td>\n",
       "      <td>0.54</td>\n",
       "      <td>0.05</td>\n",
       "      <td>10.80</td>\n",
       "      <td>1</td>\n",
       "    </tr>\n",
       "    <tr>\n",
       "      <th>0</th>\n",
       "      <td>정기권</td>\n",
       "      <td>20대</td>\n",
       "      <td>10.52</td>\n",
       "      <td>0.62</td>\n",
       "      <td>16.97</td>\n",
       "      <td>7</td>\n",
       "    </tr>\n",
       "    <tr>\n",
       "      <th>0</th>\n",
       "      <td>정기권</td>\n",
       "      <td>30대</td>\n",
       "      <td>2.51</td>\n",
       "      <td>0.28</td>\n",
       "      <td>8.96</td>\n",
       "      <td>5</td>\n",
       "    </tr>\n",
       "    <tr>\n",
       "      <th>0</th>\n",
       "      <td>정기권</td>\n",
       "      <td>40대</td>\n",
       "      <td>4.47</td>\n",
       "      <td>0.65</td>\n",
       "      <td>6.88</td>\n",
       "      <td>8</td>\n",
       "    </tr>\n",
       "    <tr>\n",
       "      <th>0</th>\n",
       "      <td>정기권</td>\n",
       "      <td>40대</td>\n",
       "      <td>4.70</td>\n",
       "      <td>0.37</td>\n",
       "      <td>12.70</td>\n",
       "      <td>4</td>\n",
       "    </tr>\n",
       "    <tr>\n",
       "      <th>...</th>\n",
       "      <td>...</td>\n",
       "      <td>...</td>\n",
       "      <td>...</td>\n",
       "      <td>...</td>\n",
       "      <td>...</td>\n",
       "      <td>...</td>\n",
       "    </tr>\n",
       "    <tr>\n",
       "      <th>0</th>\n",
       "      <td>정기권</td>\n",
       "      <td>30대</td>\n",
       "      <td>1.76</td>\n",
       "      <td>0.13</td>\n",
       "      <td>13.54</td>\n",
       "      <td>11</td>\n",
       "    </tr>\n",
       "    <tr>\n",
       "      <th>0</th>\n",
       "      <td>정기권</td>\n",
       "      <td>30대</td>\n",
       "      <td>1.18</td>\n",
       "      <td>0.07</td>\n",
       "      <td>16.86</td>\n",
       "      <td>3</td>\n",
       "    </tr>\n",
       "    <tr>\n",
       "      <th>0</th>\n",
       "      <td>일일권</td>\n",
       "      <td>20대</td>\n",
       "      <td>8.29</td>\n",
       "      <td>1.57</td>\n",
       "      <td>5.28</td>\n",
       "      <td>10</td>\n",
       "    </tr>\n",
       "    <tr>\n",
       "      <th>0</th>\n",
       "      <td>정기권</td>\n",
       "      <td>50대</td>\n",
       "      <td>0.52</td>\n",
       "      <td>0.05</td>\n",
       "      <td>10.40</td>\n",
       "      <td>1</td>\n",
       "    </tr>\n",
       "    <tr>\n",
       "      <th>0</th>\n",
       "      <td>일일권</td>\n",
       "      <td>20대</td>\n",
       "      <td>23.93</td>\n",
       "      <td>2.65</td>\n",
       "      <td>9.03</td>\n",
       "      <td>8</td>\n",
       "    </tr>\n",
       "  </tbody>\n",
       "</table>\n",
       "<p>19334 rows × 6 columns</p>\n",
       "</div>"
      ],
      "text/plain": [
       "          대여권  연령대  이동거리(km)  사용시간(hr)  속도(km/h)   월\n",
       "대여시간(24)                                            \n",
       "0         정기권  30대      0.54      0.05     10.80   1\n",
       "0         정기권  20대     10.52      0.62     16.97   7\n",
       "0         정기권  30대      2.51      0.28      8.96   5\n",
       "0         정기권  40대      4.47      0.65      6.88   8\n",
       "0         정기권  40대      4.70      0.37     12.70   4\n",
       "...       ...  ...       ...       ...       ...  ..\n",
       "0         정기권  30대      1.76      0.13     13.54  11\n",
       "0         정기권  30대      1.18      0.07     16.86   3\n",
       "0         일일권  20대      8.29      1.57      5.28  10\n",
       "0         정기권  50대      0.52      0.05     10.40   1\n",
       "0         일일권  20대     23.93      2.65      9.03   8\n",
       "\n",
       "[19334 rows x 6 columns]"
      ]
     },
     "execution_count": 151,
     "metadata": {},
     "output_type": "execute_result"
    }
   ],
   "source": [
    "# 대여시간(24)(0)시간 대  를 index로 \n",
    "ds_hr0 = df.set_index('대여시간(24)').loc[0,['대여권', '연령대', '이동거리(km)', '사용시간(hr)', '속도(km/h)', '월']]\n",
    "ds_hr0"
   ]
  },
  {
   "cell_type": "code",
   "execution_count": 152,
   "id": "b830caf7-eaa5-4ee4-9dc8-c7716c0735dc",
   "metadata": {
    "tags": []
   },
   "outputs": [
    {
     "data": {
      "text/plain": [
       "4603"
      ]
     },
     "execution_count": 152,
     "metadata": {},
     "output_type": "execute_result"
    }
   ],
   "source": [
    "# 대여권별 수 (0시간)\n",
    "ds_hr0['대여권'].str.contains('일일권').sum() \n",
    "# 4603 14598/ 1243 10115 3571 2225 1657 427 0/ 826 672 783 1470 2143 2570 2854 1968 1874 1838 1326 1010"
   ]
  },
  {
   "cell_type": "code",
   "execution_count": 153,
   "id": "17da5ab2-7e8d-4c03-9822-8791ba292b34",
   "metadata": {
    "tags": []
   },
   "outputs": [
    {
     "data": {
      "text/plain": [
       "14598"
      ]
     },
     "execution_count": 153,
     "metadata": {},
     "output_type": "execute_result"
    }
   ],
   "source": [
    "ds_hr0['대여권'].str.contains('정기권').sum() "
   ]
  },
  {
   "cell_type": "code",
   "execution_count": 154,
   "id": "1b9f4bfe-f687-4958-ad66-68ee44a1d6e4",
   "metadata": {
    "tags": []
   },
   "outputs": [
    {
     "data": {
      "text/plain": [
       "1243"
      ]
     },
     "execution_count": 154,
     "metadata": {},
     "output_type": "execute_result"
    }
   ],
   "source": [
    "# 연령대별 수 \n",
    "ds_hr0['연령대'].str.contains('~10대').sum() "
   ]
  },
  {
   "cell_type": "code",
   "execution_count": 155,
   "id": "b6383a4b-72d7-4ccd-bba3-86ed248f85ce",
   "metadata": {
    "tags": []
   },
   "outputs": [
    {
     "data": {
      "text/plain": [
       "10115"
      ]
     },
     "execution_count": 155,
     "metadata": {},
     "output_type": "execute_result"
    }
   ],
   "source": [
    "ds_hr0['연령대'].str.contains('20대').sum() "
   ]
  },
  {
   "cell_type": "code",
   "execution_count": 156,
   "id": "0a6a9721-c6d8-4a6c-bed9-eb73c2285352",
   "metadata": {
    "collapsed": true,
    "jupyter": {
     "outputs_hidden": true,
     "source_hidden": true
    },
    "tags": []
   },
   "outputs": [
    {
     "data": {
      "text/plain": [
       "3571"
      ]
     },
     "execution_count": 156,
     "metadata": {},
     "output_type": "execute_result"
    }
   ],
   "source": [
    "ds_hr0['연령대'].str.contains('30대').sum() "
   ]
  },
  {
   "cell_type": "code",
   "execution_count": 157,
   "id": "36a175f3-aa43-4ef5-b3c1-1397d250cdd6",
   "metadata": {
    "collapsed": true,
    "jupyter": {
     "outputs_hidden": true,
     "source_hidden": true
    },
    "tags": []
   },
   "outputs": [
    {
     "data": {
      "text/plain": [
       "2225"
      ]
     },
     "execution_count": 157,
     "metadata": {},
     "output_type": "execute_result"
    }
   ],
   "source": [
    "ds_hr0['연령대'].str.contains('40대').sum() "
   ]
  },
  {
   "cell_type": "code",
   "execution_count": 158,
   "id": "dce44970-70d5-400d-b4b0-510f98909b06",
   "metadata": {
    "collapsed": true,
    "jupyter": {
     "outputs_hidden": true,
     "source_hidden": true
    },
    "tags": []
   },
   "outputs": [
    {
     "data": {
      "text/plain": [
       "1657"
      ]
     },
     "execution_count": 158,
     "metadata": {},
     "output_type": "execute_result"
    }
   ],
   "source": [
    "ds_hr0['연령대'].str.contains('50대').sum() "
   ]
  },
  {
   "cell_type": "code",
   "execution_count": 159,
   "id": "e4c2dd6f-ba06-4adf-a410-03a91dbe6b30",
   "metadata": {
    "collapsed": true,
    "jupyter": {
     "outputs_hidden": true,
     "source_hidden": true
    },
    "tags": []
   },
   "outputs": [
    {
     "data": {
      "text/plain": [
       "427"
      ]
     },
     "execution_count": 159,
     "metadata": {},
     "output_type": "execute_result"
    }
   ],
   "source": [
    "ds_hr0['연령대'].str.contains('60대').sum() "
   ]
  },
  {
   "cell_type": "code",
   "execution_count": 337,
   "id": "b0b6f281-0117-4937-932a-a3c8dc822039",
   "metadata": {
    "tags": []
   },
   "outputs": [
    {
     "data": {
      "text/plain": [
       "96"
      ]
     },
     "execution_count": 337,
     "metadata": {},
     "output_type": "execute_result"
    }
   ],
   "source": [
    "ds_hr0['연령대'].str.contains('70대~').sum() "
   ]
  },
  {
   "cell_type": "code",
   "execution_count": 161,
   "id": "7ce8f058-fc2a-4968-9956-fe65c0cc8f0e",
   "metadata": {
    "collapsed": true,
    "jupyter": {
     "outputs_hidden": true
    },
    "tags": []
   },
   "outputs": [
    {
     "data": {
      "text/html": [
       "<div>\n",
       "<style scoped>\n",
       "    .dataframe tbody tr th:only-of-type {\n",
       "        vertical-align: middle;\n",
       "    }\n",
       "\n",
       "    .dataframe tbody tr th {\n",
       "        vertical-align: top;\n",
       "    }\n",
       "\n",
       "    .dataframe thead th {\n",
       "        text-align: right;\n",
       "    }\n",
       "</style>\n",
       "<table border=\"1\" class=\"dataframe\">\n",
       "  <thead>\n",
       "    <tr style=\"text-align: right;\">\n",
       "      <th></th>\n",
       "      <th>대여권</th>\n",
       "      <th>연령대</th>\n",
       "      <th>이동거리(km)</th>\n",
       "      <th>사용시간(hr)</th>\n",
       "      <th>속도(km/h)</th>\n",
       "      <th>월</th>\n",
       "    </tr>\n",
       "    <tr>\n",
       "      <th>대여시간(24)</th>\n",
       "      <th></th>\n",
       "      <th></th>\n",
       "      <th></th>\n",
       "      <th></th>\n",
       "      <th></th>\n",
       "      <th></th>\n",
       "    </tr>\n",
       "  </thead>\n",
       "  <tbody>\n",
       "    <tr>\n",
       "      <th>0</th>\n",
       "      <td>정기권</td>\n",
       "      <td>30대</td>\n",
       "      <td>0.54</td>\n",
       "      <td>0.05</td>\n",
       "      <td>10.80</td>\n",
       "      <td>1</td>\n",
       "    </tr>\n",
       "    <tr>\n",
       "      <th>0</th>\n",
       "      <td>일일권</td>\n",
       "      <td>20대</td>\n",
       "      <td>0.53</td>\n",
       "      <td>0.05</td>\n",
       "      <td>10.60</td>\n",
       "      <td>1</td>\n",
       "    </tr>\n",
       "    <tr>\n",
       "      <th>0</th>\n",
       "      <td>정기권</td>\n",
       "      <td>20대</td>\n",
       "      <td>2.85</td>\n",
       "      <td>0.22</td>\n",
       "      <td>12.95</td>\n",
       "      <td>1</td>\n",
       "    </tr>\n",
       "    <tr>\n",
       "      <th>0</th>\n",
       "      <td>정기권</td>\n",
       "      <td>20대</td>\n",
       "      <td>3.55</td>\n",
       "      <td>0.35</td>\n",
       "      <td>10.14</td>\n",
       "      <td>1</td>\n",
       "    </tr>\n",
       "    <tr>\n",
       "      <th>0</th>\n",
       "      <td>정기권</td>\n",
       "      <td>20대</td>\n",
       "      <td>2.23</td>\n",
       "      <td>0.17</td>\n",
       "      <td>13.12</td>\n",
       "      <td>1</td>\n",
       "    </tr>\n",
       "    <tr>\n",
       "      <th>...</th>\n",
       "      <td>...</td>\n",
       "      <td>...</td>\n",
       "      <td>...</td>\n",
       "      <td>...</td>\n",
       "      <td>...</td>\n",
       "      <td>...</td>\n",
       "    </tr>\n",
       "    <tr>\n",
       "      <th>0</th>\n",
       "      <td>정기권</td>\n",
       "      <td>40대</td>\n",
       "      <td>1.42</td>\n",
       "      <td>0.12</td>\n",
       "      <td>11.83</td>\n",
       "      <td>1</td>\n",
       "    </tr>\n",
       "    <tr>\n",
       "      <th>0</th>\n",
       "      <td>정기권</td>\n",
       "      <td>30대</td>\n",
       "      <td>3.69</td>\n",
       "      <td>0.35</td>\n",
       "      <td>10.54</td>\n",
       "      <td>1</td>\n",
       "    </tr>\n",
       "    <tr>\n",
       "      <th>0</th>\n",
       "      <td>정기권</td>\n",
       "      <td>30대</td>\n",
       "      <td>6.32</td>\n",
       "      <td>0.53</td>\n",
       "      <td>11.92</td>\n",
       "      <td>1</td>\n",
       "    </tr>\n",
       "    <tr>\n",
       "      <th>0</th>\n",
       "      <td>정기권</td>\n",
       "      <td>30대</td>\n",
       "      <td>2.20</td>\n",
       "      <td>0.38</td>\n",
       "      <td>5.79</td>\n",
       "      <td>1</td>\n",
       "    </tr>\n",
       "    <tr>\n",
       "      <th>0</th>\n",
       "      <td>정기권</td>\n",
       "      <td>50대</td>\n",
       "      <td>0.52</td>\n",
       "      <td>0.05</td>\n",
       "      <td>10.40</td>\n",
       "      <td>1</td>\n",
       "    </tr>\n",
       "  </tbody>\n",
       "</table>\n",
       "<p>826 rows × 6 columns</p>\n",
       "</div>"
      ],
      "text/plain": [
       "          대여권  연령대  이동거리(km)  사용시간(hr)  속도(km/h)  월\n",
       "대여시간(24)                                           \n",
       "0         정기권  30대      0.54      0.05     10.80  1\n",
       "0         일일권  20대      0.53      0.05     10.60  1\n",
       "0         정기권  20대      2.85      0.22     12.95  1\n",
       "0         정기권  20대      3.55      0.35     10.14  1\n",
       "0         정기권  20대      2.23      0.17     13.12  1\n",
       "...       ...  ...       ...       ...       ... ..\n",
       "0         정기권  40대      1.42      0.12     11.83  1\n",
       "0         정기권  30대      3.69      0.35     10.54  1\n",
       "0         정기권  30대      6.32      0.53     11.92  1\n",
       "0         정기권  30대      2.20      0.38      5.79  1\n",
       "0         정기권  50대      0.52      0.05     10.40  1\n",
       "\n",
       "[826 rows x 6 columns]"
      ]
     },
     "execution_count": 161,
     "metadata": {},
     "output_type": "execute_result"
    }
   ],
   "source": [
    "ds_hr0[ds_hr0['월'] == 1]"
   ]
  },
  {
   "cell_type": "code",
   "execution_count": 162,
   "id": "daa078c6-f97b-48aa-9698-be38ae4edf09",
   "metadata": {
    "collapsed": true,
    "jupyter": {
     "outputs_hidden": true,
     "source_hidden": true
    },
    "tags": []
   },
   "outputs": [
    {
     "data": {
      "text/html": [
       "<div>\n",
       "<style scoped>\n",
       "    .dataframe tbody tr th:only-of-type {\n",
       "        vertical-align: middle;\n",
       "    }\n",
       "\n",
       "    .dataframe tbody tr th {\n",
       "        vertical-align: top;\n",
       "    }\n",
       "\n",
       "    .dataframe thead th {\n",
       "        text-align: right;\n",
       "    }\n",
       "</style>\n",
       "<table border=\"1\" class=\"dataframe\">\n",
       "  <thead>\n",
       "    <tr style=\"text-align: right;\">\n",
       "      <th></th>\n",
       "      <th>대여권</th>\n",
       "      <th>연령대</th>\n",
       "      <th>이동거리(km)</th>\n",
       "      <th>사용시간(hr)</th>\n",
       "      <th>속도(km/h)</th>\n",
       "      <th>월</th>\n",
       "    </tr>\n",
       "    <tr>\n",
       "      <th>대여시간(24)</th>\n",
       "      <th></th>\n",
       "      <th></th>\n",
       "      <th></th>\n",
       "      <th></th>\n",
       "      <th></th>\n",
       "      <th></th>\n",
       "    </tr>\n",
       "  </thead>\n",
       "  <tbody>\n",
       "    <tr>\n",
       "      <th>0</th>\n",
       "      <td>정기권</td>\n",
       "      <td>20대</td>\n",
       "      <td>1.15</td>\n",
       "      <td>0.13</td>\n",
       "      <td>8.85</td>\n",
       "      <td>2</td>\n",
       "    </tr>\n",
       "    <tr>\n",
       "      <th>0</th>\n",
       "      <td>정기권</td>\n",
       "      <td>40대</td>\n",
       "      <td>0.86</td>\n",
       "      <td>0.18</td>\n",
       "      <td>4.78</td>\n",
       "      <td>2</td>\n",
       "    </tr>\n",
       "    <tr>\n",
       "      <th>0</th>\n",
       "      <td>정기권</td>\n",
       "      <td>50대</td>\n",
       "      <td>1.31</td>\n",
       "      <td>0.10</td>\n",
       "      <td>13.10</td>\n",
       "      <td>2</td>\n",
       "    </tr>\n",
       "    <tr>\n",
       "      <th>0</th>\n",
       "      <td>정기권</td>\n",
       "      <td>30대</td>\n",
       "      <td>11.70</td>\n",
       "      <td>1.42</td>\n",
       "      <td>8.24</td>\n",
       "      <td>2</td>\n",
       "    </tr>\n",
       "    <tr>\n",
       "      <th>0</th>\n",
       "      <td>일일권</td>\n",
       "      <td>40대</td>\n",
       "      <td>2.40</td>\n",
       "      <td>0.23</td>\n",
       "      <td>10.43</td>\n",
       "      <td>2</td>\n",
       "    </tr>\n",
       "    <tr>\n",
       "      <th>...</th>\n",
       "      <td>...</td>\n",
       "      <td>...</td>\n",
       "      <td>...</td>\n",
       "      <td>...</td>\n",
       "      <td>...</td>\n",
       "      <td>...</td>\n",
       "    </tr>\n",
       "    <tr>\n",
       "      <th>0</th>\n",
       "      <td>정기권</td>\n",
       "      <td>20대</td>\n",
       "      <td>1.34</td>\n",
       "      <td>0.08</td>\n",
       "      <td>16.75</td>\n",
       "      <td>2</td>\n",
       "    </tr>\n",
       "    <tr>\n",
       "      <th>0</th>\n",
       "      <td>정기권</td>\n",
       "      <td>40대</td>\n",
       "      <td>4.36</td>\n",
       "      <td>0.57</td>\n",
       "      <td>7.65</td>\n",
       "      <td>2</td>\n",
       "    </tr>\n",
       "    <tr>\n",
       "      <th>0</th>\n",
       "      <td>일일권</td>\n",
       "      <td>20대</td>\n",
       "      <td>2.42</td>\n",
       "      <td>0.25</td>\n",
       "      <td>9.68</td>\n",
       "      <td>2</td>\n",
       "    </tr>\n",
       "    <tr>\n",
       "      <th>0</th>\n",
       "      <td>정기권</td>\n",
       "      <td>50대</td>\n",
       "      <td>1.92</td>\n",
       "      <td>0.17</td>\n",
       "      <td>11.29</td>\n",
       "      <td>2</td>\n",
       "    </tr>\n",
       "    <tr>\n",
       "      <th>0</th>\n",
       "      <td>정기권</td>\n",
       "      <td>30대</td>\n",
       "      <td>2.00</td>\n",
       "      <td>0.20</td>\n",
       "      <td>10.00</td>\n",
       "      <td>2</td>\n",
       "    </tr>\n",
       "  </tbody>\n",
       "</table>\n",
       "<p>672 rows × 6 columns</p>\n",
       "</div>"
      ],
      "text/plain": [
       "          대여권  연령대  이동거리(km)  사용시간(hr)  속도(km/h)  월\n",
       "대여시간(24)                                           \n",
       "0         정기권  20대      1.15      0.13      8.85  2\n",
       "0         정기권  40대      0.86      0.18      4.78  2\n",
       "0         정기권  50대      1.31      0.10     13.10  2\n",
       "0         정기권  30대     11.70      1.42      8.24  2\n",
       "0         일일권  40대      2.40      0.23     10.43  2\n",
       "...       ...  ...       ...       ...       ... ..\n",
       "0         정기권  20대      1.34      0.08     16.75  2\n",
       "0         정기권  40대      4.36      0.57      7.65  2\n",
       "0         일일권  20대      2.42      0.25      9.68  2\n",
       "0         정기권  50대      1.92      0.17     11.29  2\n",
       "0         정기권  30대      2.00      0.20     10.00  2\n",
       "\n",
       "[672 rows x 6 columns]"
      ]
     },
     "execution_count": 162,
     "metadata": {},
     "output_type": "execute_result"
    }
   ],
   "source": [
    "ds_hr0[ds_hr0['월'] == 2]"
   ]
  },
  {
   "cell_type": "code",
   "execution_count": 163,
   "id": "4e6a94db-e3c3-41d8-b36c-d64ace2469f9",
   "metadata": {
    "collapsed": true,
    "jupyter": {
     "outputs_hidden": true,
     "source_hidden": true
    },
    "tags": []
   },
   "outputs": [
    {
     "data": {
      "text/html": [
       "<div>\n",
       "<style scoped>\n",
       "    .dataframe tbody tr th:only-of-type {\n",
       "        vertical-align: middle;\n",
       "    }\n",
       "\n",
       "    .dataframe tbody tr th {\n",
       "        vertical-align: top;\n",
       "    }\n",
       "\n",
       "    .dataframe thead th {\n",
       "        text-align: right;\n",
       "    }\n",
       "</style>\n",
       "<table border=\"1\" class=\"dataframe\">\n",
       "  <thead>\n",
       "    <tr style=\"text-align: right;\">\n",
       "      <th></th>\n",
       "      <th>대여권</th>\n",
       "      <th>연령대</th>\n",
       "      <th>이동거리(km)</th>\n",
       "      <th>사용시간(hr)</th>\n",
       "      <th>속도(km/h)</th>\n",
       "      <th>월</th>\n",
       "    </tr>\n",
       "    <tr>\n",
       "      <th>대여시간(24)</th>\n",
       "      <th></th>\n",
       "      <th></th>\n",
       "      <th></th>\n",
       "      <th></th>\n",
       "      <th></th>\n",
       "      <th></th>\n",
       "    </tr>\n",
       "  </thead>\n",
       "  <tbody>\n",
       "    <tr>\n",
       "      <th>0</th>\n",
       "      <td>정기권</td>\n",
       "      <td>20대</td>\n",
       "      <td>0.69</td>\n",
       "      <td>0.05</td>\n",
       "      <td>13.80</td>\n",
       "      <td>3</td>\n",
       "    </tr>\n",
       "    <tr>\n",
       "      <th>0</th>\n",
       "      <td>일일권</td>\n",
       "      <td>20대</td>\n",
       "      <td>11.04</td>\n",
       "      <td>0.95</td>\n",
       "      <td>11.62</td>\n",
       "      <td>3</td>\n",
       "    </tr>\n",
       "    <tr>\n",
       "      <th>0</th>\n",
       "      <td>일일권</td>\n",
       "      <td>20대</td>\n",
       "      <td>1.01</td>\n",
       "      <td>0.10</td>\n",
       "      <td>10.10</td>\n",
       "      <td>3</td>\n",
       "    </tr>\n",
       "    <tr>\n",
       "      <th>0</th>\n",
       "      <td>정기권</td>\n",
       "      <td>20대</td>\n",
       "      <td>1.42</td>\n",
       "      <td>0.17</td>\n",
       "      <td>8.35</td>\n",
       "      <td>3</td>\n",
       "    </tr>\n",
       "    <tr>\n",
       "      <th>0</th>\n",
       "      <td>정기권</td>\n",
       "      <td>40대</td>\n",
       "      <td>1.12</td>\n",
       "      <td>0.08</td>\n",
       "      <td>14.00</td>\n",
       "      <td>3</td>\n",
       "    </tr>\n",
       "    <tr>\n",
       "      <th>...</th>\n",
       "      <td>...</td>\n",
       "      <td>...</td>\n",
       "      <td>...</td>\n",
       "      <td>...</td>\n",
       "      <td>...</td>\n",
       "      <td>...</td>\n",
       "    </tr>\n",
       "    <tr>\n",
       "      <th>0</th>\n",
       "      <td>정기권</td>\n",
       "      <td>~10대</td>\n",
       "      <td>0.78</td>\n",
       "      <td>0.47</td>\n",
       "      <td>1.66</td>\n",
       "      <td>3</td>\n",
       "    </tr>\n",
       "    <tr>\n",
       "      <th>0</th>\n",
       "      <td>정기권</td>\n",
       "      <td>70대~</td>\n",
       "      <td>5.18</td>\n",
       "      <td>0.35</td>\n",
       "      <td>14.80</td>\n",
       "      <td>3</td>\n",
       "    </tr>\n",
       "    <tr>\n",
       "      <th>0</th>\n",
       "      <td>정기권</td>\n",
       "      <td>20대</td>\n",
       "      <td>1.46</td>\n",
       "      <td>0.23</td>\n",
       "      <td>6.35</td>\n",
       "      <td>3</td>\n",
       "    </tr>\n",
       "    <tr>\n",
       "      <th>0</th>\n",
       "      <td>정기권</td>\n",
       "      <td>30대</td>\n",
       "      <td>4.00</td>\n",
       "      <td>0.38</td>\n",
       "      <td>10.53</td>\n",
       "      <td>3</td>\n",
       "    </tr>\n",
       "    <tr>\n",
       "      <th>0</th>\n",
       "      <td>정기권</td>\n",
       "      <td>30대</td>\n",
       "      <td>1.18</td>\n",
       "      <td>0.07</td>\n",
       "      <td>16.86</td>\n",
       "      <td>3</td>\n",
       "    </tr>\n",
       "  </tbody>\n",
       "</table>\n",
       "<p>783 rows × 6 columns</p>\n",
       "</div>"
      ],
      "text/plain": [
       "          대여권   연령대  이동거리(km)  사용시간(hr)  속도(km/h)  월\n",
       "대여시간(24)                                            \n",
       "0         정기권   20대      0.69      0.05     13.80  3\n",
       "0         일일권   20대     11.04      0.95     11.62  3\n",
       "0         일일권   20대      1.01      0.10     10.10  3\n",
       "0         정기권   20대      1.42      0.17      8.35  3\n",
       "0         정기권   40대      1.12      0.08     14.00  3\n",
       "...       ...   ...       ...       ...       ... ..\n",
       "0         정기권  ~10대      0.78      0.47      1.66  3\n",
       "0         정기권  70대~      5.18      0.35     14.80  3\n",
       "0         정기권   20대      1.46      0.23      6.35  3\n",
       "0         정기권   30대      4.00      0.38     10.53  3\n",
       "0         정기권   30대      1.18      0.07     16.86  3\n",
       "\n",
       "[783 rows x 6 columns]"
      ]
     },
     "execution_count": 163,
     "metadata": {},
     "output_type": "execute_result"
    }
   ],
   "source": [
    "ds_hr0[ds_hr0['월'] == 3]"
   ]
  },
  {
   "cell_type": "code",
   "execution_count": 164,
   "id": "eb4b78bf-29db-4c33-bee7-04dac1637773",
   "metadata": {
    "collapsed": true,
    "jupyter": {
     "outputs_hidden": true,
     "source_hidden": true
    },
    "tags": []
   },
   "outputs": [
    {
     "data": {
      "text/html": [
       "<div>\n",
       "<style scoped>\n",
       "    .dataframe tbody tr th:only-of-type {\n",
       "        vertical-align: middle;\n",
       "    }\n",
       "\n",
       "    .dataframe tbody tr th {\n",
       "        vertical-align: top;\n",
       "    }\n",
       "\n",
       "    .dataframe thead th {\n",
       "        text-align: right;\n",
       "    }\n",
       "</style>\n",
       "<table border=\"1\" class=\"dataframe\">\n",
       "  <thead>\n",
       "    <tr style=\"text-align: right;\">\n",
       "      <th></th>\n",
       "      <th>대여권</th>\n",
       "      <th>연령대</th>\n",
       "      <th>이동거리(km)</th>\n",
       "      <th>사용시간(hr)</th>\n",
       "      <th>속도(km/h)</th>\n",
       "      <th>월</th>\n",
       "    </tr>\n",
       "    <tr>\n",
       "      <th>대여시간(24)</th>\n",
       "      <th></th>\n",
       "      <th></th>\n",
       "      <th></th>\n",
       "      <th></th>\n",
       "      <th></th>\n",
       "      <th></th>\n",
       "    </tr>\n",
       "  </thead>\n",
       "  <tbody>\n",
       "    <tr>\n",
       "      <th>0</th>\n",
       "      <td>정기권</td>\n",
       "      <td>40대</td>\n",
       "      <td>4.70</td>\n",
       "      <td>0.37</td>\n",
       "      <td>12.70</td>\n",
       "      <td>4</td>\n",
       "    </tr>\n",
       "    <tr>\n",
       "      <th>0</th>\n",
       "      <td>정기권</td>\n",
       "      <td>30대</td>\n",
       "      <td>0.98</td>\n",
       "      <td>0.15</td>\n",
       "      <td>6.53</td>\n",
       "      <td>4</td>\n",
       "    </tr>\n",
       "    <tr>\n",
       "      <th>0</th>\n",
       "      <td>일일권</td>\n",
       "      <td>20대</td>\n",
       "      <td>4.28</td>\n",
       "      <td>0.68</td>\n",
       "      <td>6.29</td>\n",
       "      <td>4</td>\n",
       "    </tr>\n",
       "    <tr>\n",
       "      <th>0</th>\n",
       "      <td>정기권</td>\n",
       "      <td>30대</td>\n",
       "      <td>2.99</td>\n",
       "      <td>0.37</td>\n",
       "      <td>8.08</td>\n",
       "      <td>4</td>\n",
       "    </tr>\n",
       "    <tr>\n",
       "      <th>0</th>\n",
       "      <td>정기권</td>\n",
       "      <td>20대</td>\n",
       "      <td>1.29</td>\n",
       "      <td>0.18</td>\n",
       "      <td>7.17</td>\n",
       "      <td>4</td>\n",
       "    </tr>\n",
       "    <tr>\n",
       "      <th>...</th>\n",
       "      <td>...</td>\n",
       "      <td>...</td>\n",
       "      <td>...</td>\n",
       "      <td>...</td>\n",
       "      <td>...</td>\n",
       "      <td>...</td>\n",
       "    </tr>\n",
       "    <tr>\n",
       "      <th>0</th>\n",
       "      <td>정기권</td>\n",
       "      <td>20대</td>\n",
       "      <td>3.49</td>\n",
       "      <td>0.33</td>\n",
       "      <td>10.58</td>\n",
       "      <td>4</td>\n",
       "    </tr>\n",
       "    <tr>\n",
       "      <th>0</th>\n",
       "      <td>일일권</td>\n",
       "      <td>~10대</td>\n",
       "      <td>2.74</td>\n",
       "      <td>0.30</td>\n",
       "      <td>9.13</td>\n",
       "      <td>4</td>\n",
       "    </tr>\n",
       "    <tr>\n",
       "      <th>0</th>\n",
       "      <td>정기권</td>\n",
       "      <td>30대</td>\n",
       "      <td>2.10</td>\n",
       "      <td>0.20</td>\n",
       "      <td>10.50</td>\n",
       "      <td>4</td>\n",
       "    </tr>\n",
       "    <tr>\n",
       "      <th>0</th>\n",
       "      <td>정기권</td>\n",
       "      <td>20대</td>\n",
       "      <td>1.06</td>\n",
       "      <td>0.08</td>\n",
       "      <td>13.25</td>\n",
       "      <td>4</td>\n",
       "    </tr>\n",
       "    <tr>\n",
       "      <th>0</th>\n",
       "      <td>일일권</td>\n",
       "      <td>20대</td>\n",
       "      <td>37.79</td>\n",
       "      <td>3.58</td>\n",
       "      <td>10.56</td>\n",
       "      <td>4</td>\n",
       "    </tr>\n",
       "  </tbody>\n",
       "</table>\n",
       "<p>1470 rows × 6 columns</p>\n",
       "</div>"
      ],
      "text/plain": [
       "          대여권   연령대  이동거리(km)  사용시간(hr)  속도(km/h)  월\n",
       "대여시간(24)                                            \n",
       "0         정기권   40대      4.70      0.37     12.70  4\n",
       "0         정기권   30대      0.98      0.15      6.53  4\n",
       "0         일일권   20대      4.28      0.68      6.29  4\n",
       "0         정기권   30대      2.99      0.37      8.08  4\n",
       "0         정기권   20대      1.29      0.18      7.17  4\n",
       "...       ...   ...       ...       ...       ... ..\n",
       "0         정기권   20대      3.49      0.33     10.58  4\n",
       "0         일일권  ~10대      2.74      0.30      9.13  4\n",
       "0         정기권   30대      2.10      0.20     10.50  4\n",
       "0         정기권   20대      1.06      0.08     13.25  4\n",
       "0         일일권   20대     37.79      3.58     10.56  4\n",
       "\n",
       "[1470 rows x 6 columns]"
      ]
     },
     "execution_count": 164,
     "metadata": {},
     "output_type": "execute_result"
    }
   ],
   "source": [
    "ds_hr0[ds_hr0['월'] == 4]"
   ]
  },
  {
   "cell_type": "code",
   "execution_count": 165,
   "id": "a0058fda-81b6-4cd2-a1a1-cfc491548539",
   "metadata": {
    "collapsed": true,
    "jupyter": {
     "outputs_hidden": true,
     "source_hidden": true
    },
    "tags": []
   },
   "outputs": [
    {
     "data": {
      "text/html": [
       "<div>\n",
       "<style scoped>\n",
       "    .dataframe tbody tr th:only-of-type {\n",
       "        vertical-align: middle;\n",
       "    }\n",
       "\n",
       "    .dataframe tbody tr th {\n",
       "        vertical-align: top;\n",
       "    }\n",
       "\n",
       "    .dataframe thead th {\n",
       "        text-align: right;\n",
       "    }\n",
       "</style>\n",
       "<table border=\"1\" class=\"dataframe\">\n",
       "  <thead>\n",
       "    <tr style=\"text-align: right;\">\n",
       "      <th></th>\n",
       "      <th>대여권</th>\n",
       "      <th>연령대</th>\n",
       "      <th>이동거리(km)</th>\n",
       "      <th>사용시간(hr)</th>\n",
       "      <th>속도(km/h)</th>\n",
       "      <th>월</th>\n",
       "    </tr>\n",
       "    <tr>\n",
       "      <th>대여시간(24)</th>\n",
       "      <th></th>\n",
       "      <th></th>\n",
       "      <th></th>\n",
       "      <th></th>\n",
       "      <th></th>\n",
       "      <th></th>\n",
       "    </tr>\n",
       "  </thead>\n",
       "  <tbody>\n",
       "    <tr>\n",
       "      <th>0</th>\n",
       "      <td>정기권</td>\n",
       "      <td>30대</td>\n",
       "      <td>2.51</td>\n",
       "      <td>0.28</td>\n",
       "      <td>8.96</td>\n",
       "      <td>5</td>\n",
       "    </tr>\n",
       "    <tr>\n",
       "      <th>0</th>\n",
       "      <td>정기권</td>\n",
       "      <td>20대</td>\n",
       "      <td>2.07</td>\n",
       "      <td>0.22</td>\n",
       "      <td>9.41</td>\n",
       "      <td>5</td>\n",
       "    </tr>\n",
       "    <tr>\n",
       "      <th>0</th>\n",
       "      <td>정기권</td>\n",
       "      <td>40대</td>\n",
       "      <td>0.24</td>\n",
       "      <td>0.23</td>\n",
       "      <td>1.04</td>\n",
       "      <td>5</td>\n",
       "    </tr>\n",
       "    <tr>\n",
       "      <th>0</th>\n",
       "      <td>일일권</td>\n",
       "      <td>20대</td>\n",
       "      <td>7.76</td>\n",
       "      <td>0.93</td>\n",
       "      <td>8.34</td>\n",
       "      <td>5</td>\n",
       "    </tr>\n",
       "    <tr>\n",
       "      <th>0</th>\n",
       "      <td>정기권</td>\n",
       "      <td>20대</td>\n",
       "      <td>0.91</td>\n",
       "      <td>0.08</td>\n",
       "      <td>11.38</td>\n",
       "      <td>5</td>\n",
       "    </tr>\n",
       "    <tr>\n",
       "      <th>...</th>\n",
       "      <td>...</td>\n",
       "      <td>...</td>\n",
       "      <td>...</td>\n",
       "      <td>...</td>\n",
       "      <td>...</td>\n",
       "      <td>...</td>\n",
       "    </tr>\n",
       "    <tr>\n",
       "      <th>0</th>\n",
       "      <td>정기권</td>\n",
       "      <td>50대</td>\n",
       "      <td>0.40</td>\n",
       "      <td>0.05</td>\n",
       "      <td>8.00</td>\n",
       "      <td>5</td>\n",
       "    </tr>\n",
       "    <tr>\n",
       "      <th>0</th>\n",
       "      <td>정기권</td>\n",
       "      <td>20대</td>\n",
       "      <td>5.83</td>\n",
       "      <td>0.78</td>\n",
       "      <td>7.47</td>\n",
       "      <td>5</td>\n",
       "    </tr>\n",
       "    <tr>\n",
       "      <th>0</th>\n",
       "      <td>일일권</td>\n",
       "      <td>20대</td>\n",
       "      <td>4.26</td>\n",
       "      <td>0.47</td>\n",
       "      <td>9.06</td>\n",
       "      <td>5</td>\n",
       "    </tr>\n",
       "    <tr>\n",
       "      <th>0</th>\n",
       "      <td>일일권</td>\n",
       "      <td>20대</td>\n",
       "      <td>1.56</td>\n",
       "      <td>0.15</td>\n",
       "      <td>10.40</td>\n",
       "      <td>5</td>\n",
       "    </tr>\n",
       "    <tr>\n",
       "      <th>0</th>\n",
       "      <td>일일권</td>\n",
       "      <td>~10대</td>\n",
       "      <td>2.52</td>\n",
       "      <td>0.18</td>\n",
       "      <td>14.00</td>\n",
       "      <td>5</td>\n",
       "    </tr>\n",
       "  </tbody>\n",
       "</table>\n",
       "<p>2143 rows × 6 columns</p>\n",
       "</div>"
      ],
      "text/plain": [
       "          대여권   연령대  이동거리(km)  사용시간(hr)  속도(km/h)  월\n",
       "대여시간(24)                                            \n",
       "0         정기권   30대      2.51      0.28      8.96  5\n",
       "0         정기권   20대      2.07      0.22      9.41  5\n",
       "0         정기권   40대      0.24      0.23      1.04  5\n",
       "0         일일권   20대      7.76      0.93      8.34  5\n",
       "0         정기권   20대      0.91      0.08     11.38  5\n",
       "...       ...   ...       ...       ...       ... ..\n",
       "0         정기권   50대      0.40      0.05      8.00  5\n",
       "0         정기권   20대      5.83      0.78      7.47  5\n",
       "0         일일권   20대      4.26      0.47      9.06  5\n",
       "0         일일권   20대      1.56      0.15     10.40  5\n",
       "0         일일권  ~10대      2.52      0.18     14.00  5\n",
       "\n",
       "[2143 rows x 6 columns]"
      ]
     },
     "execution_count": 165,
     "metadata": {},
     "output_type": "execute_result"
    }
   ],
   "source": [
    "ds_hr0[ds_hr0['월'] == 5]"
   ]
  },
  {
   "cell_type": "code",
   "execution_count": 166,
   "id": "a57b17d7-852b-44a8-a1fd-071ec6198c66",
   "metadata": {
    "collapsed": true,
    "jupyter": {
     "outputs_hidden": true
    },
    "tags": []
   },
   "outputs": [
    {
     "data": {
      "text/html": [
       "<div>\n",
       "<style scoped>\n",
       "    .dataframe tbody tr th:only-of-type {\n",
       "        vertical-align: middle;\n",
       "    }\n",
       "\n",
       "    .dataframe tbody tr th {\n",
       "        vertical-align: top;\n",
       "    }\n",
       "\n",
       "    .dataframe thead th {\n",
       "        text-align: right;\n",
       "    }\n",
       "</style>\n",
       "<table border=\"1\" class=\"dataframe\">\n",
       "  <thead>\n",
       "    <tr style=\"text-align: right;\">\n",
       "      <th></th>\n",
       "      <th>대여권</th>\n",
       "      <th>연령대</th>\n",
       "      <th>이동거리(km)</th>\n",
       "      <th>사용시간(hr)</th>\n",
       "      <th>속도(km/h)</th>\n",
       "      <th>월</th>\n",
       "    </tr>\n",
       "    <tr>\n",
       "      <th>대여시간(24)</th>\n",
       "      <th></th>\n",
       "      <th></th>\n",
       "      <th></th>\n",
       "      <th></th>\n",
       "      <th></th>\n",
       "      <th></th>\n",
       "    </tr>\n",
       "  </thead>\n",
       "  <tbody>\n",
       "    <tr>\n",
       "      <th>0</th>\n",
       "      <td>정기권</td>\n",
       "      <td>20대</td>\n",
       "      <td>1.57</td>\n",
       "      <td>0.17</td>\n",
       "      <td>9.24</td>\n",
       "      <td>6</td>\n",
       "    </tr>\n",
       "    <tr>\n",
       "      <th>0</th>\n",
       "      <td>정기권</td>\n",
       "      <td>20대</td>\n",
       "      <td>0.66</td>\n",
       "      <td>0.07</td>\n",
       "      <td>9.43</td>\n",
       "      <td>6</td>\n",
       "    </tr>\n",
       "    <tr>\n",
       "      <th>0</th>\n",
       "      <td>일일권</td>\n",
       "      <td>20대</td>\n",
       "      <td>4.51</td>\n",
       "      <td>0.48</td>\n",
       "      <td>9.40</td>\n",
       "      <td>6</td>\n",
       "    </tr>\n",
       "    <tr>\n",
       "      <th>0</th>\n",
       "      <td>정기권</td>\n",
       "      <td>40대</td>\n",
       "      <td>2.43</td>\n",
       "      <td>0.23</td>\n",
       "      <td>10.57</td>\n",
       "      <td>6</td>\n",
       "    </tr>\n",
       "    <tr>\n",
       "      <th>0</th>\n",
       "      <td>정기권</td>\n",
       "      <td>50대</td>\n",
       "      <td>2.18</td>\n",
       "      <td>0.22</td>\n",
       "      <td>9.91</td>\n",
       "      <td>6</td>\n",
       "    </tr>\n",
       "    <tr>\n",
       "      <th>...</th>\n",
       "      <td>...</td>\n",
       "      <td>...</td>\n",
       "      <td>...</td>\n",
       "      <td>...</td>\n",
       "      <td>...</td>\n",
       "      <td>...</td>\n",
       "    </tr>\n",
       "    <tr>\n",
       "      <th>0</th>\n",
       "      <td>정기권</td>\n",
       "      <td>20대</td>\n",
       "      <td>4.38</td>\n",
       "      <td>0.52</td>\n",
       "      <td>8.42</td>\n",
       "      <td>6</td>\n",
       "    </tr>\n",
       "    <tr>\n",
       "      <th>0</th>\n",
       "      <td>정기권</td>\n",
       "      <td>20대</td>\n",
       "      <td>0.25</td>\n",
       "      <td>0.02</td>\n",
       "      <td>12.50</td>\n",
       "      <td>6</td>\n",
       "    </tr>\n",
       "    <tr>\n",
       "      <th>0</th>\n",
       "      <td>일일권</td>\n",
       "      <td>20대</td>\n",
       "      <td>7.43</td>\n",
       "      <td>0.90</td>\n",
       "      <td>8.26</td>\n",
       "      <td>6</td>\n",
       "    </tr>\n",
       "    <tr>\n",
       "      <th>0</th>\n",
       "      <td>정기권</td>\n",
       "      <td>20대</td>\n",
       "      <td>8.97</td>\n",
       "      <td>0.87</td>\n",
       "      <td>10.31</td>\n",
       "      <td>6</td>\n",
       "    </tr>\n",
       "    <tr>\n",
       "      <th>0</th>\n",
       "      <td>정기권</td>\n",
       "      <td>20대</td>\n",
       "      <td>6.06</td>\n",
       "      <td>0.42</td>\n",
       "      <td>14.43</td>\n",
       "      <td>6</td>\n",
       "    </tr>\n",
       "  </tbody>\n",
       "</table>\n",
       "<p>2570 rows × 6 columns</p>\n",
       "</div>"
      ],
      "text/plain": [
       "          대여권  연령대  이동거리(km)  사용시간(hr)  속도(km/h)  월\n",
       "대여시간(24)                                           \n",
       "0         정기권  20대      1.57      0.17      9.24  6\n",
       "0         정기권  20대      0.66      0.07      9.43  6\n",
       "0         일일권  20대      4.51      0.48      9.40  6\n",
       "0         정기권  40대      2.43      0.23     10.57  6\n",
       "0         정기권  50대      2.18      0.22      9.91  6\n",
       "...       ...  ...       ...       ...       ... ..\n",
       "0         정기권  20대      4.38      0.52      8.42  6\n",
       "0         정기권  20대      0.25      0.02     12.50  6\n",
       "0         일일권  20대      7.43      0.90      8.26  6\n",
       "0         정기권  20대      8.97      0.87     10.31  6\n",
       "0         정기권  20대      6.06      0.42     14.43  6\n",
       "\n",
       "[2570 rows x 6 columns]"
      ]
     },
     "execution_count": 166,
     "metadata": {},
     "output_type": "execute_result"
    }
   ],
   "source": [
    "ds_hr0[ds_hr0['월'] == 6]"
   ]
  },
  {
   "cell_type": "code",
   "execution_count": 167,
   "id": "48d54cb5-dc40-44c3-8721-acd7bfffa83a",
   "metadata": {
    "collapsed": true,
    "jupyter": {
     "outputs_hidden": true,
     "source_hidden": true
    },
    "tags": []
   },
   "outputs": [
    {
     "data": {
      "text/html": [
       "<div>\n",
       "<style scoped>\n",
       "    .dataframe tbody tr th:only-of-type {\n",
       "        vertical-align: middle;\n",
       "    }\n",
       "\n",
       "    .dataframe tbody tr th {\n",
       "        vertical-align: top;\n",
       "    }\n",
       "\n",
       "    .dataframe thead th {\n",
       "        text-align: right;\n",
       "    }\n",
       "</style>\n",
       "<table border=\"1\" class=\"dataframe\">\n",
       "  <thead>\n",
       "    <tr style=\"text-align: right;\">\n",
       "      <th></th>\n",
       "      <th>대여권</th>\n",
       "      <th>연령대</th>\n",
       "      <th>이동거리(km)</th>\n",
       "      <th>사용시간(hr)</th>\n",
       "      <th>속도(km/h)</th>\n",
       "      <th>월</th>\n",
       "    </tr>\n",
       "    <tr>\n",
       "      <th>대여시간(24)</th>\n",
       "      <th></th>\n",
       "      <th></th>\n",
       "      <th></th>\n",
       "      <th></th>\n",
       "      <th></th>\n",
       "      <th></th>\n",
       "    </tr>\n",
       "  </thead>\n",
       "  <tbody>\n",
       "    <tr>\n",
       "      <th>0</th>\n",
       "      <td>정기권</td>\n",
       "      <td>20대</td>\n",
       "      <td>10.52</td>\n",
       "      <td>0.62</td>\n",
       "      <td>16.97</td>\n",
       "      <td>7</td>\n",
       "    </tr>\n",
       "    <tr>\n",
       "      <th>0</th>\n",
       "      <td>일일권</td>\n",
       "      <td>20대</td>\n",
       "      <td>11.15</td>\n",
       "      <td>0.85</td>\n",
       "      <td>13.12</td>\n",
       "      <td>7</td>\n",
       "    </tr>\n",
       "    <tr>\n",
       "      <th>0</th>\n",
       "      <td>정기권</td>\n",
       "      <td>40대</td>\n",
       "      <td>2.54</td>\n",
       "      <td>0.22</td>\n",
       "      <td>11.55</td>\n",
       "      <td>7</td>\n",
       "    </tr>\n",
       "    <tr>\n",
       "      <th>0</th>\n",
       "      <td>정기권</td>\n",
       "      <td>40대</td>\n",
       "      <td>5.28</td>\n",
       "      <td>0.62</td>\n",
       "      <td>8.52</td>\n",
       "      <td>7</td>\n",
       "    </tr>\n",
       "    <tr>\n",
       "      <th>0</th>\n",
       "      <td>정기권</td>\n",
       "      <td>50대</td>\n",
       "      <td>1.03</td>\n",
       "      <td>0.07</td>\n",
       "      <td>14.71</td>\n",
       "      <td>7</td>\n",
       "    </tr>\n",
       "    <tr>\n",
       "      <th>...</th>\n",
       "      <td>...</td>\n",
       "      <td>...</td>\n",
       "      <td>...</td>\n",
       "      <td>...</td>\n",
       "      <td>...</td>\n",
       "      <td>...</td>\n",
       "    </tr>\n",
       "    <tr>\n",
       "      <th>0</th>\n",
       "      <td>일일권</td>\n",
       "      <td>20대</td>\n",
       "      <td>7.00</td>\n",
       "      <td>0.73</td>\n",
       "      <td>9.59</td>\n",
       "      <td>7</td>\n",
       "    </tr>\n",
       "    <tr>\n",
       "      <th>0</th>\n",
       "      <td>정기권</td>\n",
       "      <td>20대</td>\n",
       "      <td>2.44</td>\n",
       "      <td>0.28</td>\n",
       "      <td>8.71</td>\n",
       "      <td>7</td>\n",
       "    </tr>\n",
       "    <tr>\n",
       "      <th>0</th>\n",
       "      <td>일일권</td>\n",
       "      <td>20대</td>\n",
       "      <td>1.42</td>\n",
       "      <td>0.23</td>\n",
       "      <td>6.17</td>\n",
       "      <td>7</td>\n",
       "    </tr>\n",
       "    <tr>\n",
       "      <th>0</th>\n",
       "      <td>일일권</td>\n",
       "      <td>20대</td>\n",
       "      <td>10.98</td>\n",
       "      <td>0.77</td>\n",
       "      <td>14.26</td>\n",
       "      <td>7</td>\n",
       "    </tr>\n",
       "    <tr>\n",
       "      <th>0</th>\n",
       "      <td>일일권</td>\n",
       "      <td>30대</td>\n",
       "      <td>0.74</td>\n",
       "      <td>0.13</td>\n",
       "      <td>5.69</td>\n",
       "      <td>7</td>\n",
       "    </tr>\n",
       "  </tbody>\n",
       "</table>\n",
       "<p>2854 rows × 6 columns</p>\n",
       "</div>"
      ],
      "text/plain": [
       "          대여권  연령대  이동거리(km)  사용시간(hr)  속도(km/h)  월\n",
       "대여시간(24)                                           \n",
       "0         정기권  20대     10.52      0.62     16.97  7\n",
       "0         일일권  20대     11.15      0.85     13.12  7\n",
       "0         정기권  40대      2.54      0.22     11.55  7\n",
       "0         정기권  40대      5.28      0.62      8.52  7\n",
       "0         정기권  50대      1.03      0.07     14.71  7\n",
       "...       ...  ...       ...       ...       ... ..\n",
       "0         일일권  20대      7.00      0.73      9.59  7\n",
       "0         정기권  20대      2.44      0.28      8.71  7\n",
       "0         일일권  20대      1.42      0.23      6.17  7\n",
       "0         일일권  20대     10.98      0.77     14.26  7\n",
       "0         일일권  30대      0.74      0.13      5.69  7\n",
       "\n",
       "[2854 rows x 6 columns]"
      ]
     },
     "execution_count": 167,
     "metadata": {},
     "output_type": "execute_result"
    }
   ],
   "source": [
    "ds_hr0[ds_hr0['월'] == 7]"
   ]
  },
  {
   "cell_type": "code",
   "execution_count": 168,
   "id": "f7241c54-28a3-4afd-96e1-12e0c6f6c782",
   "metadata": {
    "collapsed": true,
    "jupyter": {
     "outputs_hidden": true,
     "source_hidden": true
    },
    "tags": []
   },
   "outputs": [
    {
     "data": {
      "text/html": [
       "<div>\n",
       "<style scoped>\n",
       "    .dataframe tbody tr th:only-of-type {\n",
       "        vertical-align: middle;\n",
       "    }\n",
       "\n",
       "    .dataframe tbody tr th {\n",
       "        vertical-align: top;\n",
       "    }\n",
       "\n",
       "    .dataframe thead th {\n",
       "        text-align: right;\n",
       "    }\n",
       "</style>\n",
       "<table border=\"1\" class=\"dataframe\">\n",
       "  <thead>\n",
       "    <tr style=\"text-align: right;\">\n",
       "      <th></th>\n",
       "      <th>대여권</th>\n",
       "      <th>연령대</th>\n",
       "      <th>이동거리(km)</th>\n",
       "      <th>사용시간(hr)</th>\n",
       "      <th>속도(km/h)</th>\n",
       "      <th>월</th>\n",
       "    </tr>\n",
       "    <tr>\n",
       "      <th>대여시간(24)</th>\n",
       "      <th></th>\n",
       "      <th></th>\n",
       "      <th></th>\n",
       "      <th></th>\n",
       "      <th></th>\n",
       "      <th></th>\n",
       "    </tr>\n",
       "  </thead>\n",
       "  <tbody>\n",
       "    <tr>\n",
       "      <th>0</th>\n",
       "      <td>정기권</td>\n",
       "      <td>40대</td>\n",
       "      <td>4.47</td>\n",
       "      <td>0.65</td>\n",
       "      <td>6.88</td>\n",
       "      <td>8</td>\n",
       "    </tr>\n",
       "    <tr>\n",
       "      <th>0</th>\n",
       "      <td>정기권</td>\n",
       "      <td>20대</td>\n",
       "      <td>1.08</td>\n",
       "      <td>0.12</td>\n",
       "      <td>9.00</td>\n",
       "      <td>8</td>\n",
       "    </tr>\n",
       "    <tr>\n",
       "      <th>0</th>\n",
       "      <td>일일권</td>\n",
       "      <td>40대</td>\n",
       "      <td>16.77</td>\n",
       "      <td>1.23</td>\n",
       "      <td>13.63</td>\n",
       "      <td>8</td>\n",
       "    </tr>\n",
       "    <tr>\n",
       "      <th>0</th>\n",
       "      <td>일일권</td>\n",
       "      <td>20대</td>\n",
       "      <td>1.78</td>\n",
       "      <td>0.20</td>\n",
       "      <td>8.90</td>\n",
       "      <td>8</td>\n",
       "    </tr>\n",
       "    <tr>\n",
       "      <th>0</th>\n",
       "      <td>정기권</td>\n",
       "      <td>30대</td>\n",
       "      <td>1.51</td>\n",
       "      <td>0.13</td>\n",
       "      <td>11.62</td>\n",
       "      <td>8</td>\n",
       "    </tr>\n",
       "    <tr>\n",
       "      <th>...</th>\n",
       "      <td>...</td>\n",
       "      <td>...</td>\n",
       "      <td>...</td>\n",
       "      <td>...</td>\n",
       "      <td>...</td>\n",
       "      <td>...</td>\n",
       "    </tr>\n",
       "    <tr>\n",
       "      <th>0</th>\n",
       "      <td>정기권</td>\n",
       "      <td>50대</td>\n",
       "      <td>13.10</td>\n",
       "      <td>0.67</td>\n",
       "      <td>19.55</td>\n",
       "      <td>8</td>\n",
       "    </tr>\n",
       "    <tr>\n",
       "      <th>0</th>\n",
       "      <td>정기권</td>\n",
       "      <td>~10대</td>\n",
       "      <td>3.43</td>\n",
       "      <td>0.27</td>\n",
       "      <td>12.70</td>\n",
       "      <td>8</td>\n",
       "    </tr>\n",
       "    <tr>\n",
       "      <th>0</th>\n",
       "      <td>정기권</td>\n",
       "      <td>20대</td>\n",
       "      <td>1.43</td>\n",
       "      <td>0.18</td>\n",
       "      <td>7.94</td>\n",
       "      <td>8</td>\n",
       "    </tr>\n",
       "    <tr>\n",
       "      <th>0</th>\n",
       "      <td>일일권</td>\n",
       "      <td>20대</td>\n",
       "      <td>4.56</td>\n",
       "      <td>0.75</td>\n",
       "      <td>6.08</td>\n",
       "      <td>8</td>\n",
       "    </tr>\n",
       "    <tr>\n",
       "      <th>0</th>\n",
       "      <td>일일권</td>\n",
       "      <td>20대</td>\n",
       "      <td>23.93</td>\n",
       "      <td>2.65</td>\n",
       "      <td>9.03</td>\n",
       "      <td>8</td>\n",
       "    </tr>\n",
       "  </tbody>\n",
       "</table>\n",
       "<p>1968 rows × 6 columns</p>\n",
       "</div>"
      ],
      "text/plain": [
       "          대여권   연령대  이동거리(km)  사용시간(hr)  속도(km/h)  월\n",
       "대여시간(24)                                            \n",
       "0         정기권   40대      4.47      0.65      6.88  8\n",
       "0         정기권   20대      1.08      0.12      9.00  8\n",
       "0         일일권   40대     16.77      1.23     13.63  8\n",
       "0         일일권   20대      1.78      0.20      8.90  8\n",
       "0         정기권   30대      1.51      0.13     11.62  8\n",
       "...       ...   ...       ...       ...       ... ..\n",
       "0         정기권   50대     13.10      0.67     19.55  8\n",
       "0         정기권  ~10대      3.43      0.27     12.70  8\n",
       "0         정기권   20대      1.43      0.18      7.94  8\n",
       "0         일일권   20대      4.56      0.75      6.08  8\n",
       "0         일일권   20대     23.93      2.65      9.03  8\n",
       "\n",
       "[1968 rows x 6 columns]"
      ]
     },
     "execution_count": 168,
     "metadata": {},
     "output_type": "execute_result"
    }
   ],
   "source": [
    "ds_hr0[ds_hr0['월'] == 8]"
   ]
  },
  {
   "cell_type": "code",
   "execution_count": 169,
   "id": "5297dae9-eec3-4781-aef8-f240bb2fb939",
   "metadata": {
    "collapsed": true,
    "jupyter": {
     "outputs_hidden": true,
     "source_hidden": true
    },
    "tags": []
   },
   "outputs": [
    {
     "data": {
      "text/html": [
       "<div>\n",
       "<style scoped>\n",
       "    .dataframe tbody tr th:only-of-type {\n",
       "        vertical-align: middle;\n",
       "    }\n",
       "\n",
       "    .dataframe tbody tr th {\n",
       "        vertical-align: top;\n",
       "    }\n",
       "\n",
       "    .dataframe thead th {\n",
       "        text-align: right;\n",
       "    }\n",
       "</style>\n",
       "<table border=\"1\" class=\"dataframe\">\n",
       "  <thead>\n",
       "    <tr style=\"text-align: right;\">\n",
       "      <th></th>\n",
       "      <th>대여권</th>\n",
       "      <th>연령대</th>\n",
       "      <th>이동거리(km)</th>\n",
       "      <th>사용시간(hr)</th>\n",
       "      <th>속도(km/h)</th>\n",
       "      <th>월</th>\n",
       "    </tr>\n",
       "    <tr>\n",
       "      <th>대여시간(24)</th>\n",
       "      <th></th>\n",
       "      <th></th>\n",
       "      <th></th>\n",
       "      <th></th>\n",
       "      <th></th>\n",
       "      <th></th>\n",
       "    </tr>\n",
       "  </thead>\n",
       "  <tbody>\n",
       "    <tr>\n",
       "      <th>0</th>\n",
       "      <td>정기권</td>\n",
       "      <td>30대</td>\n",
       "      <td>20.33</td>\n",
       "      <td>1.33</td>\n",
       "      <td>15.29</td>\n",
       "      <td>9</td>\n",
       "    </tr>\n",
       "    <tr>\n",
       "      <th>0</th>\n",
       "      <td>정기권</td>\n",
       "      <td>40대</td>\n",
       "      <td>0.80</td>\n",
       "      <td>0.05</td>\n",
       "      <td>16.00</td>\n",
       "      <td>9</td>\n",
       "    </tr>\n",
       "    <tr>\n",
       "      <th>0</th>\n",
       "      <td>정기권</td>\n",
       "      <td>~10대</td>\n",
       "      <td>12.94</td>\n",
       "      <td>0.90</td>\n",
       "      <td>14.38</td>\n",
       "      <td>9</td>\n",
       "    </tr>\n",
       "    <tr>\n",
       "      <th>0</th>\n",
       "      <td>일일권</td>\n",
       "      <td>20대</td>\n",
       "      <td>2.98</td>\n",
       "      <td>0.28</td>\n",
       "      <td>10.64</td>\n",
       "      <td>9</td>\n",
       "    </tr>\n",
       "    <tr>\n",
       "      <th>0</th>\n",
       "      <td>정기권</td>\n",
       "      <td>20대</td>\n",
       "      <td>2.31</td>\n",
       "      <td>0.18</td>\n",
       "      <td>12.83</td>\n",
       "      <td>9</td>\n",
       "    </tr>\n",
       "    <tr>\n",
       "      <th>...</th>\n",
       "      <td>...</td>\n",
       "      <td>...</td>\n",
       "      <td>...</td>\n",
       "      <td>...</td>\n",
       "      <td>...</td>\n",
       "      <td>...</td>\n",
       "    </tr>\n",
       "    <tr>\n",
       "      <th>0</th>\n",
       "      <td>일일권</td>\n",
       "      <td>20대</td>\n",
       "      <td>1.34</td>\n",
       "      <td>0.12</td>\n",
       "      <td>11.17</td>\n",
       "      <td>9</td>\n",
       "    </tr>\n",
       "    <tr>\n",
       "      <th>0</th>\n",
       "      <td>일일권</td>\n",
       "      <td>20대</td>\n",
       "      <td>1.74</td>\n",
       "      <td>0.27</td>\n",
       "      <td>6.44</td>\n",
       "      <td>9</td>\n",
       "    </tr>\n",
       "    <tr>\n",
       "      <th>0</th>\n",
       "      <td>정기권</td>\n",
       "      <td>30대</td>\n",
       "      <td>6.23</td>\n",
       "      <td>0.70</td>\n",
       "      <td>8.90</td>\n",
       "      <td>9</td>\n",
       "    </tr>\n",
       "    <tr>\n",
       "      <th>0</th>\n",
       "      <td>정기권</td>\n",
       "      <td>30대</td>\n",
       "      <td>6.78</td>\n",
       "      <td>0.73</td>\n",
       "      <td>9.29</td>\n",
       "      <td>9</td>\n",
       "    </tr>\n",
       "    <tr>\n",
       "      <th>0</th>\n",
       "      <td>정기권</td>\n",
       "      <td>~10대</td>\n",
       "      <td>1.94</td>\n",
       "      <td>0.38</td>\n",
       "      <td>5.11</td>\n",
       "      <td>9</td>\n",
       "    </tr>\n",
       "  </tbody>\n",
       "</table>\n",
       "<p>1874 rows × 6 columns</p>\n",
       "</div>"
      ],
      "text/plain": [
       "          대여권   연령대  이동거리(km)  사용시간(hr)  속도(km/h)  월\n",
       "대여시간(24)                                            \n",
       "0         정기권   30대     20.33      1.33     15.29  9\n",
       "0         정기권   40대      0.80      0.05     16.00  9\n",
       "0         정기권  ~10대     12.94      0.90     14.38  9\n",
       "0         일일권   20대      2.98      0.28     10.64  9\n",
       "0         정기권   20대      2.31      0.18     12.83  9\n",
       "...       ...   ...       ...       ...       ... ..\n",
       "0         일일권   20대      1.34      0.12     11.17  9\n",
       "0         일일권   20대      1.74      0.27      6.44  9\n",
       "0         정기권   30대      6.23      0.70      8.90  9\n",
       "0         정기권   30대      6.78      0.73      9.29  9\n",
       "0         정기권  ~10대      1.94      0.38      5.11  9\n",
       "\n",
       "[1874 rows x 6 columns]"
      ]
     },
     "execution_count": 169,
     "metadata": {},
     "output_type": "execute_result"
    }
   ],
   "source": [
    "ds_hr0[ds_hr0['월'] == 9]"
   ]
  },
  {
   "cell_type": "code",
   "execution_count": 170,
   "id": "e288e383-f5c3-40d0-87b5-351e8cc98872",
   "metadata": {
    "collapsed": true,
    "jupyter": {
     "outputs_hidden": true
    },
    "tags": []
   },
   "outputs": [
    {
     "data": {
      "text/html": [
       "<div>\n",
       "<style scoped>\n",
       "    .dataframe tbody tr th:only-of-type {\n",
       "        vertical-align: middle;\n",
       "    }\n",
       "\n",
       "    .dataframe tbody tr th {\n",
       "        vertical-align: top;\n",
       "    }\n",
       "\n",
       "    .dataframe thead th {\n",
       "        text-align: right;\n",
       "    }\n",
       "</style>\n",
       "<table border=\"1\" class=\"dataframe\">\n",
       "  <thead>\n",
       "    <tr style=\"text-align: right;\">\n",
       "      <th></th>\n",
       "      <th>대여권</th>\n",
       "      <th>연령대</th>\n",
       "      <th>이동거리(km)</th>\n",
       "      <th>사용시간(hr)</th>\n",
       "      <th>속도(km/h)</th>\n",
       "      <th>월</th>\n",
       "    </tr>\n",
       "    <tr>\n",
       "      <th>대여시간(24)</th>\n",
       "      <th></th>\n",
       "      <th></th>\n",
       "      <th></th>\n",
       "      <th></th>\n",
       "      <th></th>\n",
       "      <th></th>\n",
       "    </tr>\n",
       "  </thead>\n",
       "  <tbody>\n",
       "    <tr>\n",
       "      <th>0</th>\n",
       "      <td>정기권</td>\n",
       "      <td>30대</td>\n",
       "      <td>2.56</td>\n",
       "      <td>0.23</td>\n",
       "      <td>11.13</td>\n",
       "      <td>10</td>\n",
       "    </tr>\n",
       "    <tr>\n",
       "      <th>0</th>\n",
       "      <td>정기권</td>\n",
       "      <td>~10대</td>\n",
       "      <td>1.26</td>\n",
       "      <td>0.43</td>\n",
       "      <td>2.93</td>\n",
       "      <td>10</td>\n",
       "    </tr>\n",
       "    <tr>\n",
       "      <th>0</th>\n",
       "      <td>정기권</td>\n",
       "      <td>20대</td>\n",
       "      <td>1.18</td>\n",
       "      <td>0.10</td>\n",
       "      <td>11.80</td>\n",
       "      <td>10</td>\n",
       "    </tr>\n",
       "    <tr>\n",
       "      <th>0</th>\n",
       "      <td>정기권</td>\n",
       "      <td>20대</td>\n",
       "      <td>3.11</td>\n",
       "      <td>0.20</td>\n",
       "      <td>15.55</td>\n",
       "      <td>10</td>\n",
       "    </tr>\n",
       "    <tr>\n",
       "      <th>0</th>\n",
       "      <td>정기권</td>\n",
       "      <td>30대</td>\n",
       "      <td>14.07</td>\n",
       "      <td>1.35</td>\n",
       "      <td>10.42</td>\n",
       "      <td>10</td>\n",
       "    </tr>\n",
       "    <tr>\n",
       "      <th>...</th>\n",
       "      <td>...</td>\n",
       "      <td>...</td>\n",
       "      <td>...</td>\n",
       "      <td>...</td>\n",
       "      <td>...</td>\n",
       "      <td>...</td>\n",
       "    </tr>\n",
       "    <tr>\n",
       "      <th>0</th>\n",
       "      <td>정기권</td>\n",
       "      <td>20대</td>\n",
       "      <td>1.80</td>\n",
       "      <td>0.17</td>\n",
       "      <td>10.59</td>\n",
       "      <td>10</td>\n",
       "    </tr>\n",
       "    <tr>\n",
       "      <th>0</th>\n",
       "      <td>정기권</td>\n",
       "      <td>20대</td>\n",
       "      <td>3.52</td>\n",
       "      <td>0.30</td>\n",
       "      <td>11.73</td>\n",
       "      <td>10</td>\n",
       "    </tr>\n",
       "    <tr>\n",
       "      <th>0</th>\n",
       "      <td>정기권</td>\n",
       "      <td>70대~</td>\n",
       "      <td>0.93</td>\n",
       "      <td>0.12</td>\n",
       "      <td>7.75</td>\n",
       "      <td>10</td>\n",
       "    </tr>\n",
       "    <tr>\n",
       "      <th>0</th>\n",
       "      <td>정기권</td>\n",
       "      <td>40대</td>\n",
       "      <td>0.35</td>\n",
       "      <td>0.03</td>\n",
       "      <td>11.67</td>\n",
       "      <td>10</td>\n",
       "    </tr>\n",
       "    <tr>\n",
       "      <th>0</th>\n",
       "      <td>일일권</td>\n",
       "      <td>20대</td>\n",
       "      <td>8.29</td>\n",
       "      <td>1.57</td>\n",
       "      <td>5.28</td>\n",
       "      <td>10</td>\n",
       "    </tr>\n",
       "  </tbody>\n",
       "</table>\n",
       "<p>1838 rows × 6 columns</p>\n",
       "</div>"
      ],
      "text/plain": [
       "          대여권   연령대  이동거리(km)  사용시간(hr)  속도(km/h)   월\n",
       "대여시간(24)                                             \n",
       "0         정기권   30대      2.56      0.23     11.13  10\n",
       "0         정기권  ~10대      1.26      0.43      2.93  10\n",
       "0         정기권   20대      1.18      0.10     11.80  10\n",
       "0         정기권   20대      3.11      0.20     15.55  10\n",
       "0         정기권   30대     14.07      1.35     10.42  10\n",
       "...       ...   ...       ...       ...       ...  ..\n",
       "0         정기권   20대      1.80      0.17     10.59  10\n",
       "0         정기권   20대      3.52      0.30     11.73  10\n",
       "0         정기권  70대~      0.93      0.12      7.75  10\n",
       "0         정기권   40대      0.35      0.03     11.67  10\n",
       "0         일일권   20대      8.29      1.57      5.28  10\n",
       "\n",
       "[1838 rows x 6 columns]"
      ]
     },
     "execution_count": 170,
     "metadata": {},
     "output_type": "execute_result"
    }
   ],
   "source": [
    "ds_hr0[ds_hr0['월'] == 10]"
   ]
  },
  {
   "cell_type": "code",
   "execution_count": 171,
   "id": "c391ebfc-bc70-4f62-b776-cec9d3022a24",
   "metadata": {
    "collapsed": true,
    "jupyter": {
     "outputs_hidden": true,
     "source_hidden": true
    },
    "tags": []
   },
   "outputs": [
    {
     "data": {
      "text/html": [
       "<div>\n",
       "<style scoped>\n",
       "    .dataframe tbody tr th:only-of-type {\n",
       "        vertical-align: middle;\n",
       "    }\n",
       "\n",
       "    .dataframe tbody tr th {\n",
       "        vertical-align: top;\n",
       "    }\n",
       "\n",
       "    .dataframe thead th {\n",
       "        text-align: right;\n",
       "    }\n",
       "</style>\n",
       "<table border=\"1\" class=\"dataframe\">\n",
       "  <thead>\n",
       "    <tr style=\"text-align: right;\">\n",
       "      <th></th>\n",
       "      <th>대여권</th>\n",
       "      <th>연령대</th>\n",
       "      <th>이동거리(km)</th>\n",
       "      <th>사용시간(hr)</th>\n",
       "      <th>속도(km/h)</th>\n",
       "      <th>월</th>\n",
       "    </tr>\n",
       "    <tr>\n",
       "      <th>대여시간(24)</th>\n",
       "      <th></th>\n",
       "      <th></th>\n",
       "      <th></th>\n",
       "      <th></th>\n",
       "      <th></th>\n",
       "      <th></th>\n",
       "    </tr>\n",
       "  </thead>\n",
       "  <tbody>\n",
       "    <tr>\n",
       "      <th>0</th>\n",
       "      <td>정기권</td>\n",
       "      <td>30대</td>\n",
       "      <td>1.18</td>\n",
       "      <td>0.10</td>\n",
       "      <td>11.80</td>\n",
       "      <td>11</td>\n",
       "    </tr>\n",
       "    <tr>\n",
       "      <th>0</th>\n",
       "      <td>정기권</td>\n",
       "      <td>20대</td>\n",
       "      <td>4.23</td>\n",
       "      <td>0.35</td>\n",
       "      <td>12.09</td>\n",
       "      <td>11</td>\n",
       "    </tr>\n",
       "    <tr>\n",
       "      <th>0</th>\n",
       "      <td>정기권</td>\n",
       "      <td>20대</td>\n",
       "      <td>1.46</td>\n",
       "      <td>0.15</td>\n",
       "      <td>9.73</td>\n",
       "      <td>11</td>\n",
       "    </tr>\n",
       "    <tr>\n",
       "      <th>0</th>\n",
       "      <td>정기권</td>\n",
       "      <td>30대</td>\n",
       "      <td>3.24</td>\n",
       "      <td>0.28</td>\n",
       "      <td>11.57</td>\n",
       "      <td>11</td>\n",
       "    </tr>\n",
       "    <tr>\n",
       "      <th>0</th>\n",
       "      <td>정기권</td>\n",
       "      <td>40대</td>\n",
       "      <td>0.93</td>\n",
       "      <td>0.12</td>\n",
       "      <td>7.75</td>\n",
       "      <td>11</td>\n",
       "    </tr>\n",
       "    <tr>\n",
       "      <th>...</th>\n",
       "      <td>...</td>\n",
       "      <td>...</td>\n",
       "      <td>...</td>\n",
       "      <td>...</td>\n",
       "      <td>...</td>\n",
       "      <td>...</td>\n",
       "    </tr>\n",
       "    <tr>\n",
       "      <th>0</th>\n",
       "      <td>정기권</td>\n",
       "      <td>50대</td>\n",
       "      <td>0.98</td>\n",
       "      <td>0.10</td>\n",
       "      <td>9.80</td>\n",
       "      <td>11</td>\n",
       "    </tr>\n",
       "    <tr>\n",
       "      <th>0</th>\n",
       "      <td>정기권</td>\n",
       "      <td>20대</td>\n",
       "      <td>0.82</td>\n",
       "      <td>0.07</td>\n",
       "      <td>11.71</td>\n",
       "      <td>11</td>\n",
       "    </tr>\n",
       "    <tr>\n",
       "      <th>0</th>\n",
       "      <td>정기권</td>\n",
       "      <td>20대</td>\n",
       "      <td>3.40</td>\n",
       "      <td>0.22</td>\n",
       "      <td>15.45</td>\n",
       "      <td>11</td>\n",
       "    </tr>\n",
       "    <tr>\n",
       "      <th>0</th>\n",
       "      <td>정기권</td>\n",
       "      <td>30대</td>\n",
       "      <td>1.59</td>\n",
       "      <td>0.17</td>\n",
       "      <td>9.35</td>\n",
       "      <td>11</td>\n",
       "    </tr>\n",
       "    <tr>\n",
       "      <th>0</th>\n",
       "      <td>정기권</td>\n",
       "      <td>30대</td>\n",
       "      <td>1.76</td>\n",
       "      <td>0.13</td>\n",
       "      <td>13.54</td>\n",
       "      <td>11</td>\n",
       "    </tr>\n",
       "  </tbody>\n",
       "</table>\n",
       "<p>1326 rows × 6 columns</p>\n",
       "</div>"
      ],
      "text/plain": [
       "          대여권  연령대  이동거리(km)  사용시간(hr)  속도(km/h)   월\n",
       "대여시간(24)                                            \n",
       "0         정기권  30대      1.18      0.10     11.80  11\n",
       "0         정기권  20대      4.23      0.35     12.09  11\n",
       "0         정기권  20대      1.46      0.15      9.73  11\n",
       "0         정기권  30대      3.24      0.28     11.57  11\n",
       "0         정기권  40대      0.93      0.12      7.75  11\n",
       "...       ...  ...       ...       ...       ...  ..\n",
       "0         정기권  50대      0.98      0.10      9.80  11\n",
       "0         정기권  20대      0.82      0.07     11.71  11\n",
       "0         정기권  20대      3.40      0.22     15.45  11\n",
       "0         정기권  30대      1.59      0.17      9.35  11\n",
       "0         정기권  30대      1.76      0.13     13.54  11\n",
       "\n",
       "[1326 rows x 6 columns]"
      ]
     },
     "execution_count": 171,
     "metadata": {},
     "output_type": "execute_result"
    }
   ],
   "source": [
    "ds_hr0[ds_hr0['월'] == 11]"
   ]
  },
  {
   "cell_type": "code",
   "execution_count": 172,
   "id": "0a44df63-34ce-4eef-bf76-a44c8eccb520",
   "metadata": {
    "tags": []
   },
   "outputs": [
    {
     "data": {
      "text/html": [
       "<div>\n",
       "<style scoped>\n",
       "    .dataframe tbody tr th:only-of-type {\n",
       "        vertical-align: middle;\n",
       "    }\n",
       "\n",
       "    .dataframe tbody tr th {\n",
       "        vertical-align: top;\n",
       "    }\n",
       "\n",
       "    .dataframe thead th {\n",
       "        text-align: right;\n",
       "    }\n",
       "</style>\n",
       "<table border=\"1\" class=\"dataframe\">\n",
       "  <thead>\n",
       "    <tr style=\"text-align: right;\">\n",
       "      <th></th>\n",
       "      <th>대여권</th>\n",
       "      <th>연령대</th>\n",
       "      <th>이동거리(km)</th>\n",
       "      <th>사용시간(hr)</th>\n",
       "      <th>속도(km/h)</th>\n",
       "      <th>월</th>\n",
       "    </tr>\n",
       "    <tr>\n",
       "      <th>대여시간(24)</th>\n",
       "      <th></th>\n",
       "      <th></th>\n",
       "      <th></th>\n",
       "      <th></th>\n",
       "      <th></th>\n",
       "      <th></th>\n",
       "    </tr>\n",
       "  </thead>\n",
       "  <tbody>\n",
       "    <tr>\n",
       "      <th>0</th>\n",
       "      <td>정기권</td>\n",
       "      <td>50대</td>\n",
       "      <td>2.33</td>\n",
       "      <td>0.20</td>\n",
       "      <td>11.65</td>\n",
       "      <td>12</td>\n",
       "    </tr>\n",
       "    <tr>\n",
       "      <th>0</th>\n",
       "      <td>정기권</td>\n",
       "      <td>~10대</td>\n",
       "      <td>2.23</td>\n",
       "      <td>0.20</td>\n",
       "      <td>11.15</td>\n",
       "      <td>12</td>\n",
       "    </tr>\n",
       "    <tr>\n",
       "      <th>0</th>\n",
       "      <td>일일권</td>\n",
       "      <td>20대</td>\n",
       "      <td>3.48</td>\n",
       "      <td>0.30</td>\n",
       "      <td>11.60</td>\n",
       "      <td>12</td>\n",
       "    </tr>\n",
       "    <tr>\n",
       "      <th>0</th>\n",
       "      <td>정기권</td>\n",
       "      <td>30대</td>\n",
       "      <td>0.64</td>\n",
       "      <td>0.10</td>\n",
       "      <td>6.40</td>\n",
       "      <td>12</td>\n",
       "    </tr>\n",
       "    <tr>\n",
       "      <th>0</th>\n",
       "      <td>정기권</td>\n",
       "      <td>20대</td>\n",
       "      <td>5.04</td>\n",
       "      <td>0.30</td>\n",
       "      <td>16.80</td>\n",
       "      <td>12</td>\n",
       "    </tr>\n",
       "    <tr>\n",
       "      <th>...</th>\n",
       "      <td>...</td>\n",
       "      <td>...</td>\n",
       "      <td>...</td>\n",
       "      <td>...</td>\n",
       "      <td>...</td>\n",
       "      <td>...</td>\n",
       "    </tr>\n",
       "    <tr>\n",
       "      <th>0</th>\n",
       "      <td>정기권</td>\n",
       "      <td>20대</td>\n",
       "      <td>2.06</td>\n",
       "      <td>0.22</td>\n",
       "      <td>9.36</td>\n",
       "      <td>12</td>\n",
       "    </tr>\n",
       "    <tr>\n",
       "      <th>0</th>\n",
       "      <td>정기권</td>\n",
       "      <td>~10대</td>\n",
       "      <td>1.53</td>\n",
       "      <td>0.13</td>\n",
       "      <td>11.77</td>\n",
       "      <td>12</td>\n",
       "    </tr>\n",
       "    <tr>\n",
       "      <th>0</th>\n",
       "      <td>정기권</td>\n",
       "      <td>20대</td>\n",
       "      <td>1.25</td>\n",
       "      <td>0.08</td>\n",
       "      <td>15.62</td>\n",
       "      <td>12</td>\n",
       "    </tr>\n",
       "    <tr>\n",
       "      <th>0</th>\n",
       "      <td>정기권</td>\n",
       "      <td>20대</td>\n",
       "      <td>0.85</td>\n",
       "      <td>0.07</td>\n",
       "      <td>12.14</td>\n",
       "      <td>12</td>\n",
       "    </tr>\n",
       "    <tr>\n",
       "      <th>0</th>\n",
       "      <td>정기권</td>\n",
       "      <td>20대</td>\n",
       "      <td>5.29</td>\n",
       "      <td>0.47</td>\n",
       "      <td>11.26</td>\n",
       "      <td>12</td>\n",
       "    </tr>\n",
       "  </tbody>\n",
       "</table>\n",
       "<p>1010 rows × 6 columns</p>\n",
       "</div>"
      ],
      "text/plain": [
       "          대여권   연령대  이동거리(km)  사용시간(hr)  속도(km/h)   월\n",
       "대여시간(24)                                             \n",
       "0         정기권   50대      2.33      0.20     11.65  12\n",
       "0         정기권  ~10대      2.23      0.20     11.15  12\n",
       "0         일일권   20대      3.48      0.30     11.60  12\n",
       "0         정기권   30대      0.64      0.10      6.40  12\n",
       "0         정기권   20대      5.04      0.30     16.80  12\n",
       "...       ...   ...       ...       ...       ...  ..\n",
       "0         정기권   20대      2.06      0.22      9.36  12\n",
       "0         정기권  ~10대      1.53      0.13     11.77  12\n",
       "0         정기권   20대      1.25      0.08     15.62  12\n",
       "0         정기권   20대      0.85      0.07     12.14  12\n",
       "0         정기권   20대      5.29      0.47     11.26  12\n",
       "\n",
       "[1010 rows x 6 columns]"
      ]
     },
     "execution_count": 172,
     "metadata": {},
     "output_type": "execute_result"
    }
   ],
   "source": [
    "ds_hr0[ds_hr0['월'] == 12]"
   ]
  },
  {
   "cell_type": "code",
   "execution_count": 228,
   "id": "a981e924-d8a6-4ed8-9b77-1546cb3de69e",
   "metadata": {
    "collapsed": true,
    "jupyter": {
     "outputs_hidden": true
    },
    "tags": []
   },
   "outputs": [
    {
     "data": {
      "text/html": [
       "<div>\n",
       "<style scoped>\n",
       "    .dataframe tbody tr th:only-of-type {\n",
       "        vertical-align: middle;\n",
       "    }\n",
       "\n",
       "    .dataframe tbody tr th {\n",
       "        vertical-align: top;\n",
       "    }\n",
       "\n",
       "    .dataframe thead th {\n",
       "        text-align: right;\n",
       "    }\n",
       "</style>\n",
       "<table border=\"1\" class=\"dataframe\">\n",
       "  <thead>\n",
       "    <tr style=\"text-align: right;\">\n",
       "      <th></th>\n",
       "      <th>대여권</th>\n",
       "      <th>연령대</th>\n",
       "      <th>이동거리(km)</th>\n",
       "      <th>사용시간(hr)</th>\n",
       "      <th>속도(km/h)</th>\n",
       "      <th>월</th>\n",
       "    </tr>\n",
       "    <tr>\n",
       "      <th>대여시간(24)</th>\n",
       "      <th></th>\n",
       "      <th></th>\n",
       "      <th></th>\n",
       "      <th></th>\n",
       "      <th></th>\n",
       "      <th></th>\n",
       "    </tr>\n",
       "  </thead>\n",
       "  <tbody>\n",
       "    <tr>\n",
       "      <th>0</th>\n",
       "      <td>정기권</td>\n",
       "      <td>20대</td>\n",
       "      <td>0.56</td>\n",
       "      <td>0.02</td>\n",
       "      <td>28.00</td>\n",
       "      <td>6</td>\n",
       "    </tr>\n",
       "    <tr>\n",
       "      <th>0</th>\n",
       "      <td>정기권</td>\n",
       "      <td>20대</td>\n",
       "      <td>5.14</td>\n",
       "      <td>0.13</td>\n",
       "      <td>39.54</td>\n",
       "      <td>10</td>\n",
       "    </tr>\n",
       "    <tr>\n",
       "      <th>0</th>\n",
       "      <td>정기권</td>\n",
       "      <td>20대</td>\n",
       "      <td>8.17</td>\n",
       "      <td>0.25</td>\n",
       "      <td>32.68</td>\n",
       "      <td>7</td>\n",
       "    </tr>\n",
       "    <tr>\n",
       "      <th>0</th>\n",
       "      <td>정기권</td>\n",
       "      <td>20대</td>\n",
       "      <td>0.78</td>\n",
       "      <td>0.03</td>\n",
       "      <td>26.00</td>\n",
       "      <td>3</td>\n",
       "    </tr>\n",
       "    <tr>\n",
       "      <th>0</th>\n",
       "      <td>정기권</td>\n",
       "      <td>20대</td>\n",
       "      <td>1.35</td>\n",
       "      <td>0.05</td>\n",
       "      <td>27.00</td>\n",
       "      <td>9</td>\n",
       "    </tr>\n",
       "    <tr>\n",
       "      <th>...</th>\n",
       "      <td>...</td>\n",
       "      <td>...</td>\n",
       "      <td>...</td>\n",
       "      <td>...</td>\n",
       "      <td>...</td>\n",
       "      <td>...</td>\n",
       "    </tr>\n",
       "    <tr>\n",
       "      <th>0</th>\n",
       "      <td>정기권</td>\n",
       "      <td>60대</td>\n",
       "      <td>27.23</td>\n",
       "      <td>0.88</td>\n",
       "      <td>30.94</td>\n",
       "      <td>7</td>\n",
       "    </tr>\n",
       "    <tr>\n",
       "      <th>0</th>\n",
       "      <td>일일권</td>\n",
       "      <td>20대</td>\n",
       "      <td>90.80</td>\n",
       "      <td>3.43</td>\n",
       "      <td>26.47</td>\n",
       "      <td>5</td>\n",
       "    </tr>\n",
       "    <tr>\n",
       "      <th>0</th>\n",
       "      <td>정기권</td>\n",
       "      <td>30대</td>\n",
       "      <td>1.27</td>\n",
       "      <td>0.05</td>\n",
       "      <td>25.40</td>\n",
       "      <td>7</td>\n",
       "    </tr>\n",
       "    <tr>\n",
       "      <th>0</th>\n",
       "      <td>정기권</td>\n",
       "      <td>20대</td>\n",
       "      <td>0.77</td>\n",
       "      <td>0.03</td>\n",
       "      <td>25.67</td>\n",
       "      <td>3</td>\n",
       "    </tr>\n",
       "    <tr>\n",
       "      <th>0</th>\n",
       "      <td>정기권</td>\n",
       "      <td>20대</td>\n",
       "      <td>68.56</td>\n",
       "      <td>1.75</td>\n",
       "      <td>39.18</td>\n",
       "      <td>9</td>\n",
       "    </tr>\n",
       "  </tbody>\n",
       "</table>\n",
       "<p>94 rows × 6 columns</p>\n",
       "</div>"
      ],
      "text/plain": [
       "          대여권  연령대  이동거리(km)  사용시간(hr)  속도(km/h)   월\n",
       "대여시간(24)                                            \n",
       "0         정기권  20대      0.56      0.02     28.00   6\n",
       "0         정기권  20대      5.14      0.13     39.54  10\n",
       "0         정기권  20대      8.17      0.25     32.68   7\n",
       "0         정기권  20대      0.78      0.03     26.00   3\n",
       "0         정기권  20대      1.35      0.05     27.00   9\n",
       "...       ...  ...       ...       ...       ...  ..\n",
       "0         정기권  60대     27.23      0.88     30.94   7\n",
       "0         일일권  20대     90.80      3.43     26.47   5\n",
       "0         정기권  30대      1.27      0.05     25.40   7\n",
       "0         정기권  20대      0.77      0.03     25.67   3\n",
       "0         정기권  20대     68.56      1.75     39.18   9\n",
       "\n",
       "[94 rows x 6 columns]"
      ]
     },
     "execution_count": 228,
     "metadata": {},
     "output_type": "execute_result"
    }
   ],
   "source": [
    "ds_hr0[ds_hr0['속도(km/h)'] > 25] #94"
   ]
  },
  {
   "cell_type": "code",
   "execution_count": 224,
   "id": "ba6d5b9d-9f83-47c2-ad2b-2e93753ef08a",
   "metadata": {
    "collapsed": true,
    "jupyter": {
     "outputs_hidden": true
    },
    "tags": []
   },
   "outputs": [
    {
     "data": {
      "text/html": [
       "<div>\n",
       "<style scoped>\n",
       "    .dataframe tbody tr th:only-of-type {\n",
       "        vertical-align: middle;\n",
       "    }\n",
       "\n",
       "    .dataframe tbody tr th {\n",
       "        vertical-align: top;\n",
       "    }\n",
       "\n",
       "    .dataframe thead th {\n",
       "        text-align: right;\n",
       "    }\n",
       "</style>\n",
       "<table border=\"1\" class=\"dataframe\">\n",
       "  <thead>\n",
       "    <tr style=\"text-align: right;\">\n",
       "      <th></th>\n",
       "      <th>대여권</th>\n",
       "      <th>연령대</th>\n",
       "      <th>이동거리(km)</th>\n",
       "      <th>사용시간(hr)</th>\n",
       "      <th>속도(km/h)</th>\n",
       "      <th>월</th>\n",
       "    </tr>\n",
       "    <tr>\n",
       "      <th>대여시간(24)</th>\n",
       "      <th></th>\n",
       "      <th></th>\n",
       "      <th></th>\n",
       "      <th></th>\n",
       "      <th></th>\n",
       "      <th></th>\n",
       "    </tr>\n",
       "  </thead>\n",
       "  <tbody>\n",
       "    <tr>\n",
       "      <th>1</th>\n",
       "      <td>일일권</td>\n",
       "      <td>40대</td>\n",
       "      <td>9.74</td>\n",
       "      <td>0.92</td>\n",
       "      <td>10.59</td>\n",
       "      <td>8</td>\n",
       "    </tr>\n",
       "    <tr>\n",
       "      <th>1</th>\n",
       "      <td>정기권</td>\n",
       "      <td>50대</td>\n",
       "      <td>1.08</td>\n",
       "      <td>0.20</td>\n",
       "      <td>5.40</td>\n",
       "      <td>7</td>\n",
       "    </tr>\n",
       "    <tr>\n",
       "      <th>1</th>\n",
       "      <td>정기권</td>\n",
       "      <td>40대</td>\n",
       "      <td>0.95</td>\n",
       "      <td>0.08</td>\n",
       "      <td>11.88</td>\n",
       "      <td>7</td>\n",
       "    </tr>\n",
       "    <tr>\n",
       "      <th>1</th>\n",
       "      <td>단체권</td>\n",
       "      <td>20대</td>\n",
       "      <td>3.31</td>\n",
       "      <td>0.50</td>\n",
       "      <td>6.62</td>\n",
       "      <td>5</td>\n",
       "    </tr>\n",
       "    <tr>\n",
       "      <th>1</th>\n",
       "      <td>일일권</td>\n",
       "      <td>20대</td>\n",
       "      <td>5.26</td>\n",
       "      <td>0.87</td>\n",
       "      <td>6.05</td>\n",
       "      <td>4</td>\n",
       "    </tr>\n",
       "    <tr>\n",
       "      <th>...</th>\n",
       "      <td>...</td>\n",
       "      <td>...</td>\n",
       "      <td>...</td>\n",
       "      <td>...</td>\n",
       "      <td>...</td>\n",
       "      <td>...</td>\n",
       "    </tr>\n",
       "    <tr>\n",
       "      <th>1</th>\n",
       "      <td>정기권</td>\n",
       "      <td>50대</td>\n",
       "      <td>1.07</td>\n",
       "      <td>0.12</td>\n",
       "      <td>8.92</td>\n",
       "      <td>4</td>\n",
       "    </tr>\n",
       "    <tr>\n",
       "      <th>1</th>\n",
       "      <td>정기권</td>\n",
       "      <td>40대</td>\n",
       "      <td>1.83</td>\n",
       "      <td>0.13</td>\n",
       "      <td>14.08</td>\n",
       "      <td>9</td>\n",
       "    </tr>\n",
       "    <tr>\n",
       "      <th>1</th>\n",
       "      <td>일일권</td>\n",
       "      <td>40대</td>\n",
       "      <td>5.32</td>\n",
       "      <td>0.42</td>\n",
       "      <td>12.67</td>\n",
       "      <td>4</td>\n",
       "    </tr>\n",
       "    <tr>\n",
       "      <th>1</th>\n",
       "      <td>정기권</td>\n",
       "      <td>20대</td>\n",
       "      <td>3.34</td>\n",
       "      <td>0.27</td>\n",
       "      <td>12.37</td>\n",
       "      <td>9</td>\n",
       "    </tr>\n",
       "    <tr>\n",
       "      <th>1</th>\n",
       "      <td>정기권</td>\n",
       "      <td>50대</td>\n",
       "      <td>1.73</td>\n",
       "      <td>0.13</td>\n",
       "      <td>13.31</td>\n",
       "      <td>3</td>\n",
       "    </tr>\n",
       "  </tbody>\n",
       "</table>\n",
       "<p>16044 rows × 6 columns</p>\n",
       "</div>"
      ],
      "text/plain": [
       "          대여권  연령대  이동거리(km)  사용시간(hr)  속도(km/h)  월\n",
       "대여시간(24)                                           \n",
       "1         일일권  40대      9.74      0.92     10.59  8\n",
       "1         정기권  50대      1.08      0.20      5.40  7\n",
       "1         정기권  40대      0.95      0.08     11.88  7\n",
       "1         단체권  20대      3.31      0.50      6.62  5\n",
       "1         일일권  20대      5.26      0.87      6.05  4\n",
       "...       ...  ...       ...       ...       ... ..\n",
       "1         정기권  50대      1.07      0.12      8.92  4\n",
       "1         정기권  40대      1.83      0.13     14.08  9\n",
       "1         일일권  40대      5.32      0.42     12.67  4\n",
       "1         정기권  20대      3.34      0.27     12.37  9\n",
       "1         정기권  50대      1.73      0.13     13.31  3\n",
       "\n",
       "[16044 rows x 6 columns]"
      ]
     },
     "execution_count": 224,
     "metadata": {},
     "output_type": "execute_result"
    }
   ],
   "source": [
    "# 대여시간(24) (1)시간 대를 index로 \n",
    "ds_hr1 = df.set_index('대여시간(24)').loc[1,['대여권', '연령대', '이동거리(km)', '사용시간(hr)', '속도(km/h)', '월']]\n",
    "ds_hr1"
   ]
  },
  {
   "cell_type": "code",
   "execution_count": 115,
   "id": "d142ce68-9587-4c28-9653-69b37e973892",
   "metadata": {
    "collapsed": true,
    "jupyter": {
     "outputs_hidden": true,
     "source_hidden": true
    },
    "tags": []
   },
   "outputs": [
    {
     "data": {
      "text/plain": [
       "3745"
      ]
     },
     "execution_count": 115,
     "metadata": {},
     "output_type": "execute_result"
    }
   ],
   "source": [
    "# 대여권별 수 \n",
    "ds_hr1['대여권'].str.contains('일일권').sum() # 3745"
   ]
  },
  {
   "cell_type": "code",
   "execution_count": 116,
   "id": "f9d53c78-d82d-469f-819f-3a6829793a2b",
   "metadata": {
    "collapsed": true,
    "jupyter": {
     "outputs_hidden": true,
     "source_hidden": true
    },
    "tags": []
   },
   "outputs": [
    {
     "data": {
      "text/plain": [
       "12196"
      ]
     },
     "execution_count": 116,
     "metadata": {},
     "output_type": "execute_result"
    }
   ],
   "source": [
    "ds_hr1['대여권'].str.contains('정기권').sum() # 12196"
   ]
  },
  {
   "cell_type": "code",
   "execution_count": 117,
   "id": "728e4423-f12e-49e6-b969-77a0c1264de8",
   "metadata": {
    "collapsed": true,
    "jupyter": {
     "outputs_hidden": true,
     "source_hidden": true
    },
    "tags": []
   },
   "outputs": [
    {
     "data": {
      "text/plain": [
       "869"
      ]
     },
     "execution_count": 117,
     "metadata": {},
     "output_type": "execute_result"
    }
   ],
   "source": [
    "# 연령대별 수 \n",
    "ds_hr1['연령대'].str.contains('~10대').sum() # 869"
   ]
  },
  {
   "cell_type": "code",
   "execution_count": 118,
   "id": "098205e3-ccd6-4e20-bb90-22bfac9bb243",
   "metadata": {
    "collapsed": true,
    "jupyter": {
     "outputs_hidden": true,
     "source_hidden": true
    },
    "tags": []
   },
   "outputs": [
    {
     "data": {
      "text/plain": [
       "7334"
      ]
     },
     "execution_count": 118,
     "metadata": {},
     "output_type": "execute_result"
    }
   ],
   "source": [
    "ds_hr1['연령대'].str.contains('20대').sum() # 7334"
   ]
  },
  {
   "cell_type": "code",
   "execution_count": 119,
   "id": "af2bd187-cd67-4ca4-8b74-4857a0bb279f",
   "metadata": {
    "collapsed": true,
    "jupyter": {
     "outputs_hidden": true,
     "source_hidden": true
    },
    "tags": []
   },
   "outputs": [
    {
     "data": {
      "text/plain": [
       "2694"
      ]
     },
     "execution_count": 119,
     "metadata": {},
     "output_type": "execute_result"
    }
   ],
   "source": [
    "ds_hr1['연령대'].str.contains('30대').sum() # 2694"
   ]
  },
  {
   "cell_type": "code",
   "execution_count": 120,
   "id": "f1b47e31-ae2a-4877-af8c-e74ee9fb5aee",
   "metadata": {
    "collapsed": true,
    "jupyter": {
     "outputs_hidden": true
    },
    "tags": []
   },
   "outputs": [
    {
     "data": {
      "text/plain": [
       "2345"
      ]
     },
     "execution_count": 120,
     "metadata": {},
     "output_type": "execute_result"
    }
   ],
   "source": [
    "ds_hr1['연령대'].str.contains('40대').sum() # 2345"
   ]
  },
  {
   "cell_type": "code",
   "execution_count": 121,
   "id": "e847cd56-cb07-46bb-bf83-4dfa5c8d660f",
   "metadata": {
    "collapsed": true,
    "jupyter": {
     "outputs_hidden": true,
     "source_hidden": true
    },
    "tags": []
   },
   "outputs": [
    {
     "data": {
      "text/plain": [
       "2104"
      ]
     },
     "execution_count": 121,
     "metadata": {},
     "output_type": "execute_result"
    }
   ],
   "source": [
    "ds_hr1['연령대'].str.contains('50대').sum() # 2104"
   ]
  },
  {
   "cell_type": "code",
   "execution_count": 122,
   "id": "ddd97e2f-b5ce-48cd-aa1e-e76b25dcb916",
   "metadata": {
    "collapsed": true,
    "jupyter": {
     "outputs_hidden": true,
     "source_hidden": true
    },
    "tags": []
   },
   "outputs": [
    {
     "data": {
      "text/plain": [
       "574"
      ]
     },
     "execution_count": 122,
     "metadata": {},
     "output_type": "execute_result"
    }
   ],
   "source": [
    "ds_hr1['연령대'].str.contains('60대').sum() # 574"
   ]
  },
  {
   "cell_type": "code",
   "execution_count": 338,
   "id": "9656c1bc-6b4d-4167-820a-1b2420694a1c",
   "metadata": {
    "tags": []
   },
   "outputs": [
    {
     "data": {
      "text/plain": [
       "124"
      ]
     },
     "execution_count": 338,
     "metadata": {},
     "output_type": "execute_result"
    }
   ],
   "source": [
    "ds_hr1['연령대'].str.contains('70대~').sum() "
   ]
  },
  {
   "cell_type": "code",
   "execution_count": 134,
   "id": "8aa611dd-9e15-4356-a68f-f89c647b66a0",
   "metadata": {
    "collapsed": true,
    "jupyter": {
     "outputs_hidden": true
    },
    "tags": []
   },
   "outputs": [
    {
     "data": {
      "text/html": [
       "<div>\n",
       "<style scoped>\n",
       "    .dataframe tbody tr th:only-of-type {\n",
       "        vertical-align: middle;\n",
       "    }\n",
       "\n",
       "    .dataframe tbody tr th {\n",
       "        vertical-align: top;\n",
       "    }\n",
       "\n",
       "    .dataframe thead th {\n",
       "        text-align: right;\n",
       "    }\n",
       "</style>\n",
       "<table border=\"1\" class=\"dataframe\">\n",
       "  <thead>\n",
       "    <tr style=\"text-align: right;\">\n",
       "      <th></th>\n",
       "      <th>대여권</th>\n",
       "      <th>연령대</th>\n",
       "      <th>이동거리(km)</th>\n",
       "      <th>사용시간(hr)</th>\n",
       "      <th>속도(km/h)</th>\n",
       "      <th>월</th>\n",
       "    </tr>\n",
       "    <tr>\n",
       "      <th>대여시간(24)</th>\n",
       "      <th></th>\n",
       "      <th></th>\n",
       "      <th></th>\n",
       "      <th></th>\n",
       "      <th></th>\n",
       "      <th></th>\n",
       "    </tr>\n",
       "  </thead>\n",
       "  <tbody>\n",
       "    <tr>\n",
       "      <th>1</th>\n",
       "      <td>정기권</td>\n",
       "      <td>20대</td>\n",
       "      <td>1.21</td>\n",
       "      <td>0.13</td>\n",
       "      <td>9.31</td>\n",
       "      <td>1</td>\n",
       "    </tr>\n",
       "    <tr>\n",
       "      <th>1</th>\n",
       "      <td>단체권</td>\n",
       "      <td>~10대</td>\n",
       "      <td>0.80</td>\n",
       "      <td>0.43</td>\n",
       "      <td>1.86</td>\n",
       "      <td>1</td>\n",
       "    </tr>\n",
       "    <tr>\n",
       "      <th>1</th>\n",
       "      <td>정기권</td>\n",
       "      <td>20대</td>\n",
       "      <td>1.13</td>\n",
       "      <td>0.07</td>\n",
       "      <td>16.14</td>\n",
       "      <td>1</td>\n",
       "    </tr>\n",
       "    <tr>\n",
       "      <th>1</th>\n",
       "      <td>일일권</td>\n",
       "      <td>20대</td>\n",
       "      <td>11.04</td>\n",
       "      <td>1.25</td>\n",
       "      <td>8.83</td>\n",
       "      <td>1</td>\n",
       "    </tr>\n",
       "    <tr>\n",
       "      <th>1</th>\n",
       "      <td>정기권</td>\n",
       "      <td>20대</td>\n",
       "      <td>0.39</td>\n",
       "      <td>0.05</td>\n",
       "      <td>7.80</td>\n",
       "      <td>1</td>\n",
       "    </tr>\n",
       "    <tr>\n",
       "      <th>...</th>\n",
       "      <td>...</td>\n",
       "      <td>...</td>\n",
       "      <td>...</td>\n",
       "      <td>...</td>\n",
       "      <td>...</td>\n",
       "      <td>...</td>\n",
       "    </tr>\n",
       "    <tr>\n",
       "      <th>1</th>\n",
       "      <td>정기권</td>\n",
       "      <td>20대</td>\n",
       "      <td>13.33</td>\n",
       "      <td>0.98</td>\n",
       "      <td>13.60</td>\n",
       "      <td>1</td>\n",
       "    </tr>\n",
       "    <tr>\n",
       "      <th>1</th>\n",
       "      <td>정기권</td>\n",
       "      <td>20대</td>\n",
       "      <td>6.35</td>\n",
       "      <td>0.65</td>\n",
       "      <td>9.77</td>\n",
       "      <td>1</td>\n",
       "    </tr>\n",
       "    <tr>\n",
       "      <th>1</th>\n",
       "      <td>정기권</td>\n",
       "      <td>50대</td>\n",
       "      <td>0.58</td>\n",
       "      <td>0.07</td>\n",
       "      <td>8.29</td>\n",
       "      <td>1</td>\n",
       "    </tr>\n",
       "    <tr>\n",
       "      <th>1</th>\n",
       "      <td>정기권</td>\n",
       "      <td>20대</td>\n",
       "      <td>3.30</td>\n",
       "      <td>0.27</td>\n",
       "      <td>12.22</td>\n",
       "      <td>1</td>\n",
       "    </tr>\n",
       "    <tr>\n",
       "      <th>1</th>\n",
       "      <td>정기권</td>\n",
       "      <td>20대</td>\n",
       "      <td>1.51</td>\n",
       "      <td>0.13</td>\n",
       "      <td>11.62</td>\n",
       "      <td>1</td>\n",
       "    </tr>\n",
       "  </tbody>\n",
       "</table>\n",
       "<p>809 rows × 6 columns</p>\n",
       "</div>"
      ],
      "text/plain": [
       "          대여권   연령대  이동거리(km)  사용시간(hr)  속도(km/h)  월\n",
       "대여시간(24)                                            \n",
       "1         정기권   20대      1.21      0.13      9.31  1\n",
       "1         단체권  ~10대      0.80      0.43      1.86  1\n",
       "1         정기권   20대      1.13      0.07     16.14  1\n",
       "1         일일권   20대     11.04      1.25      8.83  1\n",
       "1         정기권   20대      0.39      0.05      7.80  1\n",
       "...       ...   ...       ...       ...       ... ..\n",
       "1         정기권   20대     13.33      0.98     13.60  1\n",
       "1         정기권   20대      6.35      0.65      9.77  1\n",
       "1         정기권   50대      0.58      0.07      8.29  1\n",
       "1         정기권   20대      3.30      0.27     12.22  1\n",
       "1         정기권   20대      1.51      0.13     11.62  1\n",
       "\n",
       "[809 rows x 6 columns]"
      ]
     },
     "execution_count": 134,
     "metadata": {},
     "output_type": "execute_result"
    }
   ],
   "source": [
    "# 월별 수 \n",
    "# ds_hr0[ds_hr0['월'] == 1].info()               #809 619 704 1109 1720 1881 2277 1700 1521 1514 1136 1054\n",
    "ds_hr1[ds_hr1['월'] == 1]"
   ]
  },
  {
   "cell_type": "code",
   "execution_count": 135,
   "id": "ccec7579-4659-45f2-9550-f0c95519f2f4",
   "metadata": {
    "collapsed": true,
    "jupyter": {
     "outputs_hidden": true,
     "source_hidden": true
    },
    "tags": []
   },
   "outputs": [
    {
     "name": "stdout",
     "output_type": "stream",
     "text": [
      "<class 'pandas.core.frame.DataFrame'>\n",
      "Int64Index: 619 entries, 1 to 1\n",
      "Data columns (total 6 columns):\n",
      " #   Column    Non-Null Count  Dtype  \n",
      "---  ------    --------------  -----  \n",
      " 0   대여권       619 non-null    object \n",
      " 1   연령대       619 non-null    object \n",
      " 2   이동거리(km)  619 non-null    float64\n",
      " 3   사용시간(hr)  619 non-null    float64\n",
      " 4   속도(km/h)  619 non-null    float64\n",
      " 5   월         619 non-null    int64  \n",
      "dtypes: float64(3), int64(1), object(2)\n",
      "memory usage: 33.9+ KB\n"
     ]
    }
   ],
   "source": [
    "ds_hr1[ds_hr1['월'] == 2].info()                # 619"
   ]
  },
  {
   "cell_type": "code",
   "execution_count": 136,
   "id": "f534e8d8-3180-42c1-a99b-5ff6aab06732",
   "metadata": {
    "collapsed": true,
    "jupyter": {
     "outputs_hidden": true
    },
    "tags": []
   },
   "outputs": [
    {
     "name": "stdout",
     "output_type": "stream",
     "text": [
      "<class 'pandas.core.frame.DataFrame'>\n",
      "Int64Index: 704 entries, 1 to 1\n",
      "Data columns (total 6 columns):\n",
      " #   Column    Non-Null Count  Dtype  \n",
      "---  ------    --------------  -----  \n",
      " 0   대여권       704 non-null    object \n",
      " 1   연령대       704 non-null    object \n",
      " 2   이동거리(km)  704 non-null    float64\n",
      " 3   사용시간(hr)  704 non-null    float64\n",
      " 4   속도(km/h)  704 non-null    float64\n",
      " 5   월         704 non-null    int64  \n",
      "dtypes: float64(3), int64(1), object(2)\n",
      "memory usage: 38.5+ KB\n"
     ]
    }
   ],
   "source": [
    "ds_hr1[ds_hr1['월'] == 3].info()                # 704"
   ]
  },
  {
   "cell_type": "code",
   "execution_count": 137,
   "id": "98019b0e-c205-49f4-9540-0444af9f7e72",
   "metadata": {
    "collapsed": true,
    "jupyter": {
     "outputs_hidden": true,
     "source_hidden": true
    },
    "tags": []
   },
   "outputs": [
    {
     "name": "stdout",
     "output_type": "stream",
     "text": [
      "<class 'pandas.core.frame.DataFrame'>\n",
      "Int64Index: 1109 entries, 1 to 1\n",
      "Data columns (total 6 columns):\n",
      " #   Column    Non-Null Count  Dtype  \n",
      "---  ------    --------------  -----  \n",
      " 0   대여권       1109 non-null   object \n",
      " 1   연령대       1109 non-null   object \n",
      " 2   이동거리(km)  1109 non-null   float64\n",
      " 3   사용시간(hr)  1109 non-null   float64\n",
      " 4   속도(km/h)  1109 non-null   float64\n",
      " 5   월         1109 non-null   int64  \n",
      "dtypes: float64(3), int64(1), object(2)\n",
      "memory usage: 60.6+ KB\n"
     ]
    }
   ],
   "source": [
    "ds_hr1[ds_hr1['월'] == 4].info()                 # 1109"
   ]
  },
  {
   "cell_type": "code",
   "execution_count": 138,
   "id": "83b54234-f722-4bae-aa8f-84aeab9ef22f",
   "metadata": {
    "collapsed": true,
    "jupyter": {
     "outputs_hidden": true,
     "source_hidden": true
    },
    "tags": []
   },
   "outputs": [
    {
     "name": "stdout",
     "output_type": "stream",
     "text": [
      "<class 'pandas.core.frame.DataFrame'>\n",
      "Int64Index: 1720 entries, 1 to 1\n",
      "Data columns (total 6 columns):\n",
      " #   Column    Non-Null Count  Dtype  \n",
      "---  ------    --------------  -----  \n",
      " 0   대여권       1720 non-null   object \n",
      " 1   연령대       1720 non-null   object \n",
      " 2   이동거리(km)  1720 non-null   float64\n",
      " 3   사용시간(hr)  1720 non-null   float64\n",
      " 4   속도(km/h)  1720 non-null   float64\n",
      " 5   월         1720 non-null   int64  \n",
      "dtypes: float64(3), int64(1), object(2)\n",
      "memory usage: 94.1+ KB\n"
     ]
    }
   ],
   "source": [
    "ds_hr1[ds_hr1['월'] == 5].info()               # 1720"
   ]
  },
  {
   "cell_type": "code",
   "execution_count": 139,
   "id": "042eafcb-a00e-48a6-b442-372db3e0fa37",
   "metadata": {
    "collapsed": true,
    "jupyter": {
     "outputs_hidden": true,
     "source_hidden": true
    },
    "tags": []
   },
   "outputs": [
    {
     "name": "stdout",
     "output_type": "stream",
     "text": [
      "<class 'pandas.core.frame.DataFrame'>\n",
      "Int64Index: 1881 entries, 1 to 1\n",
      "Data columns (total 6 columns):\n",
      " #   Column    Non-Null Count  Dtype  \n",
      "---  ------    --------------  -----  \n",
      " 0   대여권       1881 non-null   object \n",
      " 1   연령대       1881 non-null   object \n",
      " 2   이동거리(km)  1881 non-null   float64\n",
      " 3   사용시간(hr)  1881 non-null   float64\n",
      " 4   속도(km/h)  1881 non-null   float64\n",
      " 5   월         1881 non-null   int64  \n",
      "dtypes: float64(3), int64(1), object(2)\n",
      "memory usage: 102.9+ KB\n"
     ]
    }
   ],
   "source": [
    "ds_hr1[ds_hr1['월'] == 6].info() #1881"
   ]
  },
  {
   "cell_type": "code",
   "execution_count": 140,
   "id": "588396fe-141c-4d2c-ad8e-7b0c11b2176e",
   "metadata": {
    "collapsed": true,
    "jupyter": {
     "outputs_hidden": true,
     "source_hidden": true
    },
    "tags": []
   },
   "outputs": [
    {
     "name": "stdout",
     "output_type": "stream",
     "text": [
      "<class 'pandas.core.frame.DataFrame'>\n",
      "Int64Index: 2277 entries, 1 to 1\n",
      "Data columns (total 6 columns):\n",
      " #   Column    Non-Null Count  Dtype  \n",
      "---  ------    --------------  -----  \n",
      " 0   대여권       2277 non-null   object \n",
      " 1   연령대       2277 non-null   object \n",
      " 2   이동거리(km)  2277 non-null   float64\n",
      " 3   사용시간(hr)  2277 non-null   float64\n",
      " 4   속도(km/h)  2277 non-null   float64\n",
      " 5   월         2277 non-null   int64  \n",
      "dtypes: float64(3), int64(1), object(2)\n",
      "memory usage: 124.5+ KB\n"
     ]
    }
   ],
   "source": [
    "ds_hr1[ds_hr1['월'] == 7].info() #2277"
   ]
  },
  {
   "cell_type": "code",
   "execution_count": 141,
   "id": "d7f07192-ccf2-4dff-b610-19cdee18bd6a",
   "metadata": {
    "collapsed": true,
    "jupyter": {
     "outputs_hidden": true,
     "source_hidden": true
    },
    "tags": []
   },
   "outputs": [
    {
     "name": "stdout",
     "output_type": "stream",
     "text": [
      "<class 'pandas.core.frame.DataFrame'>\n",
      "Int64Index: 1700 entries, 1 to 1\n",
      "Data columns (total 6 columns):\n",
      " #   Column    Non-Null Count  Dtype  \n",
      "---  ------    --------------  -----  \n",
      " 0   대여권       1700 non-null   object \n",
      " 1   연령대       1700 non-null   object \n",
      " 2   이동거리(km)  1700 non-null   float64\n",
      " 3   사용시간(hr)  1700 non-null   float64\n",
      " 4   속도(km/h)  1700 non-null   float64\n",
      " 5   월         1700 non-null   int64  \n",
      "dtypes: float64(3), int64(1), object(2)\n",
      "memory usage: 93.0+ KB\n"
     ]
    }
   ],
   "source": [
    "ds_hr1[ds_hr1['월'] == 8].info() #1700"
   ]
  },
  {
   "cell_type": "code",
   "execution_count": 142,
   "id": "d728c1a4-755c-4535-91b0-5e66c35cd591",
   "metadata": {
    "collapsed": true,
    "jupyter": {
     "outputs_hidden": true,
     "source_hidden": true
    },
    "tags": []
   },
   "outputs": [
    {
     "name": "stdout",
     "output_type": "stream",
     "text": [
      "<class 'pandas.core.frame.DataFrame'>\n",
      "Int64Index: 1521 entries, 1 to 1\n",
      "Data columns (total 6 columns):\n",
      " #   Column    Non-Null Count  Dtype  \n",
      "---  ------    --------------  -----  \n",
      " 0   대여권       1521 non-null   object \n",
      " 1   연령대       1521 non-null   object \n",
      " 2   이동거리(km)  1521 non-null   float64\n",
      " 3   사용시간(hr)  1521 non-null   float64\n",
      " 4   속도(km/h)  1521 non-null   float64\n",
      " 5   월         1521 non-null   int64  \n",
      "dtypes: float64(3), int64(1), object(2)\n",
      "memory usage: 83.2+ KB\n"
     ]
    }
   ],
   "source": [
    "ds_hr1[ds_hr1['월'] == 9].info() #1521"
   ]
  },
  {
   "cell_type": "code",
   "execution_count": 143,
   "id": "da583803-8925-48ae-b08d-a484651b3d82",
   "metadata": {
    "collapsed": true,
    "jupyter": {
     "outputs_hidden": true
    },
    "tags": []
   },
   "outputs": [
    {
     "name": "stdout",
     "output_type": "stream",
     "text": [
      "<class 'pandas.core.frame.DataFrame'>\n",
      "Int64Index: 1514 entries, 1 to 1\n",
      "Data columns (total 6 columns):\n",
      " #   Column    Non-Null Count  Dtype  \n",
      "---  ------    --------------  -----  \n",
      " 0   대여권       1514 non-null   object \n",
      " 1   연령대       1514 non-null   object \n",
      " 2   이동거리(km)  1514 non-null   float64\n",
      " 3   사용시간(hr)  1514 non-null   float64\n",
      " 4   속도(km/h)  1514 non-null   float64\n",
      " 5   월         1514 non-null   int64  \n",
      "dtypes: float64(3), int64(1), object(2)\n",
      "memory usage: 82.8+ KB\n"
     ]
    }
   ],
   "source": [
    "ds_hr1[ds_hr1['월'] == 10].info() #1514"
   ]
  },
  {
   "cell_type": "code",
   "execution_count": 144,
   "id": "81c66246-c0c5-4892-ba23-28059bbb0f1d",
   "metadata": {
    "collapsed": true,
    "jupyter": {
     "outputs_hidden": true,
     "source_hidden": true
    },
    "tags": []
   },
   "outputs": [
    {
     "name": "stdout",
     "output_type": "stream",
     "text": [
      "<class 'pandas.core.frame.DataFrame'>\n",
      "Int64Index: 1136 entries, 1 to 1\n",
      "Data columns (total 6 columns):\n",
      " #   Column    Non-Null Count  Dtype  \n",
      "---  ------    --------------  -----  \n",
      " 0   대여권       1136 non-null   object \n",
      " 1   연령대       1136 non-null   object \n",
      " 2   이동거리(km)  1136 non-null   float64\n",
      " 3   사용시간(hr)  1136 non-null   float64\n",
      " 4   속도(km/h)  1136 non-null   float64\n",
      " 5   월         1136 non-null   int64  \n",
      "dtypes: float64(3), int64(1), object(2)\n",
      "memory usage: 62.1+ KB\n"
     ]
    }
   ],
   "source": [
    "ds_hr1[ds_hr1['월'] == 11].info() #1136"
   ]
  },
  {
   "cell_type": "code",
   "execution_count": 145,
   "id": "091bae14-3fa5-4ff3-8fae-667a68c70eed",
   "metadata": {
    "collapsed": true,
    "jupyter": {
     "outputs_hidden": true,
     "source_hidden": true
    },
    "tags": []
   },
   "outputs": [
    {
     "name": "stdout",
     "output_type": "stream",
     "text": [
      "<class 'pandas.core.frame.DataFrame'>\n",
      "Int64Index: 1054 entries, 1 to 1\n",
      "Data columns (total 6 columns):\n",
      " #   Column    Non-Null Count  Dtype  \n",
      "---  ------    --------------  -----  \n",
      " 0   대여권       1054 non-null   object \n",
      " 1   연령대       1054 non-null   object \n",
      " 2   이동거리(km)  1054 non-null   float64\n",
      " 3   사용시간(hr)  1054 non-null   float64\n",
      " 4   속도(km/h)  1054 non-null   float64\n",
      " 5   월         1054 non-null   int64  \n",
      "dtypes: float64(3), int64(1), object(2)\n",
      "memory usage: 57.6+ KB\n"
     ]
    }
   ],
   "source": [
    "ds_hr1[ds_hr1['월'] == 12].info() #1054"
   ]
  },
  {
   "cell_type": "code",
   "execution_count": 229,
   "id": "902a838d-80b8-4421-ba34-4d8e6c151590",
   "metadata": {
    "collapsed": true,
    "jupyter": {
     "outputs_hidden": true
    },
    "tags": []
   },
   "outputs": [
    {
     "name": "stdout",
     "output_type": "stream",
     "text": [
      "<class 'pandas.core.frame.DataFrame'>\n",
      "Int64Index: 90 entries, 1 to 1\n",
      "Data columns (total 6 columns):\n",
      " #   Column    Non-Null Count  Dtype  \n",
      "---  ------    --------------  -----  \n",
      " 0   대여권       90 non-null     object \n",
      " 1   연령대       90 non-null     object \n",
      " 2   이동거리(km)  90 non-null     float64\n",
      " 3   사용시간(hr)  90 non-null     float64\n",
      " 4   속도(km/h)  90 non-null     float64\n",
      " 5   월         90 non-null     int64  \n",
      "dtypes: float64(3), int64(1), object(2)\n",
      "memory usage: 4.9+ KB\n"
     ]
    }
   ],
   "source": [
    "# 속도 \n",
    "ds_hr1[ds_hr1['속도(km/h)'] > 25].info() #90"
   ]
  },
  {
   "cell_type": "code",
   "execution_count": null,
   "id": "8eaf1f9b-9821-4a0b-bbe8-fa593eed7436",
   "metadata": {
    "tags": []
   },
   "outputs": [],
   "source": []
  },
  {
   "cell_type": "code",
   "execution_count": 174,
   "id": "dad10425-187b-49da-8eea-231ccecd92b0",
   "metadata": {
    "collapsed": true,
    "jupyter": {
     "outputs_hidden": true,
     "source_hidden": true
    },
    "tags": []
   },
   "outputs": [
    {
     "data": {
      "text/html": [
       "<div>\n",
       "<style scoped>\n",
       "    .dataframe tbody tr th:only-of-type {\n",
       "        vertical-align: middle;\n",
       "    }\n",
       "\n",
       "    .dataframe tbody tr th {\n",
       "        vertical-align: top;\n",
       "    }\n",
       "\n",
       "    .dataframe thead th {\n",
       "        text-align: right;\n",
       "    }\n",
       "</style>\n",
       "<table border=\"1\" class=\"dataframe\">\n",
       "  <thead>\n",
       "    <tr style=\"text-align: right;\">\n",
       "      <th></th>\n",
       "      <th>대여권</th>\n",
       "      <th>연령대</th>\n",
       "      <th>속도(km/h)</th>\n",
       "      <th>월</th>\n",
       "    </tr>\n",
       "    <tr>\n",
       "      <th>대여시간(24)</th>\n",
       "      <th></th>\n",
       "      <th></th>\n",
       "      <th></th>\n",
       "      <th></th>\n",
       "    </tr>\n",
       "  </thead>\n",
       "  <tbody>\n",
       "    <tr>\n",
       "      <th>2</th>\n",
       "      <td>정기권</td>\n",
       "      <td>20대</td>\n",
       "      <td>8.55</td>\n",
       "      <td>4</td>\n",
       "    </tr>\n",
       "    <tr>\n",
       "      <th>2</th>\n",
       "      <td>일일권</td>\n",
       "      <td>20대</td>\n",
       "      <td>14.11</td>\n",
       "      <td>8</td>\n",
       "    </tr>\n",
       "    <tr>\n",
       "      <th>2</th>\n",
       "      <td>일일권</td>\n",
       "      <td>20대</td>\n",
       "      <td>10.75</td>\n",
       "      <td>7</td>\n",
       "    </tr>\n",
       "    <tr>\n",
       "      <th>2</th>\n",
       "      <td>정기권</td>\n",
       "      <td>30대</td>\n",
       "      <td>30.29</td>\n",
       "      <td>7</td>\n",
       "    </tr>\n",
       "    <tr>\n",
       "      <th>2</th>\n",
       "      <td>일일권</td>\n",
       "      <td>20대</td>\n",
       "      <td>7.76</td>\n",
       "      <td>7</td>\n",
       "    </tr>\n",
       "    <tr>\n",
       "      <th>...</th>\n",
       "      <td>...</td>\n",
       "      <td>...</td>\n",
       "      <td>...</td>\n",
       "      <td>...</td>\n",
       "    </tr>\n",
       "    <tr>\n",
       "      <th>2</th>\n",
       "      <td>일일권</td>\n",
       "      <td>20대</td>\n",
       "      <td>15.81</td>\n",
       "      <td>5</td>\n",
       "    </tr>\n",
       "    <tr>\n",
       "      <th>2</th>\n",
       "      <td>정기권</td>\n",
       "      <td>30대</td>\n",
       "      <td>12.00</td>\n",
       "      <td>12</td>\n",
       "    </tr>\n",
       "    <tr>\n",
       "      <th>2</th>\n",
       "      <td>일일권</td>\n",
       "      <td>20대</td>\n",
       "      <td>10.20</td>\n",
       "      <td>8</td>\n",
       "    </tr>\n",
       "    <tr>\n",
       "      <th>2</th>\n",
       "      <td>정기권</td>\n",
       "      <td>30대</td>\n",
       "      <td>11.12</td>\n",
       "      <td>6</td>\n",
       "    </tr>\n",
       "    <tr>\n",
       "      <th>2</th>\n",
       "      <td>정기권</td>\n",
       "      <td>60대</td>\n",
       "      <td>9.52</td>\n",
       "      <td>1</td>\n",
       "    </tr>\n",
       "  </tbody>\n",
       "</table>\n",
       "<p>11573 rows × 4 columns</p>\n",
       "</div>"
      ],
      "text/plain": [
       "          대여권  연령대  속도(km/h)   월\n",
       "대여시간(24)                        \n",
       "2         정기권  20대      8.55   4\n",
       "2         일일권  20대     14.11   8\n",
       "2         일일권  20대     10.75   7\n",
       "2         정기권  30대     30.29   7\n",
       "2         일일권  20대      7.76   7\n",
       "...       ...  ...       ...  ..\n",
       "2         일일권  20대     15.81   5\n",
       "2         정기권  30대     12.00  12\n",
       "2         일일권  20대     10.20   8\n",
       "2         정기권  30대     11.12   6\n",
       "2         정기권  60대      9.52   1\n",
       "\n",
       "[11573 rows x 4 columns]"
      ]
     },
     "execution_count": 174,
     "metadata": {},
     "output_type": "execute_result"
    }
   ],
   "source": [
    "# 대여시간(24) (2)시간 대 를 index로\n",
    "ds_hr2 = df.set_index('대여시간(24)').loc[2,['대여권', '연령대', '속도(km/h)', '월']]\n",
    "ds_hr2"
   ]
  },
  {
   "cell_type": "code",
   "execution_count": 175,
   "id": "0b22870e-94d3-4e98-bd2e-255908f2f772",
   "metadata": {
    "tags": []
   },
   "outputs": [
    {
     "data": {
      "text/plain": [
       "2584"
      ]
     },
     "execution_count": 175,
     "metadata": {},
     "output_type": "execute_result"
    }
   ],
   "source": [
    "# 대여권별 수 (2시간)\n",
    "ds_hr2['대여권'].str.contains('일일권').sum() "
   ]
  },
  {
   "cell_type": "code",
   "execution_count": 176,
   "id": "ba53e179-7091-417d-ae94-777371031cd2",
   "metadata": {
    "collapsed": true,
    "jupyter": {
     "outputs_hidden": true
    },
    "tags": []
   },
   "outputs": [
    {
     "data": {
      "text/plain": [
       "8941"
      ]
     },
     "execution_count": 176,
     "metadata": {},
     "output_type": "execute_result"
    }
   ],
   "source": [
    "ds_hr2['대여권'].str.contains('정기권').sum() "
   ]
  },
  {
   "cell_type": "code",
   "execution_count": 340,
   "id": "2e12e768-cba6-4774-ae8c-c49e6b60dab7",
   "metadata": {
    "tags": []
   },
   "outputs": [
    {
     "data": {
      "text/plain": [
       "85"
      ]
     },
     "execution_count": 340,
     "metadata": {},
     "output_type": "execute_result"
    }
   ],
   "source": [
    "ds_hr2['연령대'].str.contains('70대~').sum()   # 10 ~ 70대"
   ]
  },
  {
   "cell_type": "code",
   "execution_count": 198,
   "id": "cb2b5d4e-896d-488e-9548-6a4c5a270aa1",
   "metadata": {
    "collapsed": true,
    "jupyter": {
     "outputs_hidden": true
    },
    "tags": []
   },
   "outputs": [
    {
     "name": "stdout",
     "output_type": "stream",
     "text": [
      "<class 'pandas.core.frame.DataFrame'>\n",
      "Int64Index: 802 entries, 2 to 2\n",
      "Data columns (total 4 columns):\n",
      " #   Column    Non-Null Count  Dtype  \n",
      "---  ------    --------------  -----  \n",
      " 0   대여권       802 non-null    object \n",
      " 1   연령대       802 non-null    object \n",
      " 2   속도(km/h)  802 non-null    float64\n",
      " 3   월         802 non-null    int64  \n",
      "dtypes: float64(1), int64(1), object(2)\n",
      "memory usage: 31.3+ KB\n"
     ]
    }
   ],
   "source": [
    "ds_hr2[ds_hr2['월'] == 12].info() # 1 ~ 12 월"
   ]
  },
  {
   "cell_type": "code",
   "execution_count": 232,
   "id": "44558cfb-15b4-4fb7-a722-bd46b462b11c",
   "metadata": {
    "collapsed": true,
    "jupyter": {
     "outputs_hidden": true
    },
    "tags": []
   },
   "outputs": [
    {
     "name": "stdout",
     "output_type": "stream",
     "text": [
      "<class 'pandas.core.frame.DataFrame'>\n",
      "Int64Index: 44 entries, 2 to 2\n",
      "Data columns (total 4 columns):\n",
      " #   Column    Non-Null Count  Dtype  \n",
      "---  ------    --------------  -----  \n",
      " 0   대여권       44 non-null     object \n",
      " 1   연령대       44 non-null     object \n",
      " 2   속도(km/h)  44 non-null     float64\n",
      " 3   월         44 non-null     int64  \n",
      "dtypes: float64(1), int64(1), object(2)\n",
      "memory usage: 1.7+ KB\n"
     ]
    }
   ],
   "source": [
    "# 속도 \n",
    "ds_hr2[ds_hr2['속도(km/h)'] > 25].info() #44"
   ]
  },
  {
   "cell_type": "code",
   "execution_count": 200,
   "id": "6694e124-89a9-4e47-9990-67c779dc0c57",
   "metadata": {
    "collapsed": true,
    "jupyter": {
     "outputs_hidden": true,
     "source_hidden": true
    },
    "tags": []
   },
   "outputs": [
    {
     "data": {
      "text/html": [
       "<div>\n",
       "<style scoped>\n",
       "    .dataframe tbody tr th:only-of-type {\n",
       "        vertical-align: middle;\n",
       "    }\n",
       "\n",
       "    .dataframe tbody tr th {\n",
       "        vertical-align: top;\n",
       "    }\n",
       "\n",
       "    .dataframe thead th {\n",
       "        text-align: right;\n",
       "    }\n",
       "</style>\n",
       "<table border=\"1\" class=\"dataframe\">\n",
       "  <thead>\n",
       "    <tr style=\"text-align: right;\">\n",
       "      <th></th>\n",
       "      <th>대여권</th>\n",
       "      <th>연령대</th>\n",
       "      <th>속도(km/h)</th>\n",
       "      <th>월</th>\n",
       "    </tr>\n",
       "    <tr>\n",
       "      <th>대여시간(24)</th>\n",
       "      <th></th>\n",
       "      <th></th>\n",
       "      <th></th>\n",
       "      <th></th>\n",
       "    </tr>\n",
       "  </thead>\n",
       "  <tbody>\n",
       "    <tr>\n",
       "      <th>3</th>\n",
       "      <td>정기권</td>\n",
       "      <td>40대</td>\n",
       "      <td>3.40</td>\n",
       "      <td>3</td>\n",
       "    </tr>\n",
       "    <tr>\n",
       "      <th>3</th>\n",
       "      <td>정기권</td>\n",
       "      <td>20대</td>\n",
       "      <td>9.03</td>\n",
       "      <td>5</td>\n",
       "    </tr>\n",
       "    <tr>\n",
       "      <th>3</th>\n",
       "      <td>일일권</td>\n",
       "      <td>~10대</td>\n",
       "      <td>2.73</td>\n",
       "      <td>7</td>\n",
       "    </tr>\n",
       "    <tr>\n",
       "      <th>3</th>\n",
       "      <td>정기권</td>\n",
       "      <td>20대</td>\n",
       "      <td>8.13</td>\n",
       "      <td>11</td>\n",
       "    </tr>\n",
       "    <tr>\n",
       "      <th>3</th>\n",
       "      <td>정기권</td>\n",
       "      <td>20대</td>\n",
       "      <td>11.29</td>\n",
       "      <td>6</td>\n",
       "    </tr>\n",
       "    <tr>\n",
       "      <th>...</th>\n",
       "      <td>...</td>\n",
       "      <td>...</td>\n",
       "      <td>...</td>\n",
       "      <td>...</td>\n",
       "    </tr>\n",
       "    <tr>\n",
       "      <th>3</th>\n",
       "      <td>정기권</td>\n",
       "      <td>30대</td>\n",
       "      <td>11.77</td>\n",
       "      <td>5</td>\n",
       "    </tr>\n",
       "    <tr>\n",
       "      <th>3</th>\n",
       "      <td>정기권</td>\n",
       "      <td>20대</td>\n",
       "      <td>9.40</td>\n",
       "      <td>4</td>\n",
       "    </tr>\n",
       "    <tr>\n",
       "      <th>3</th>\n",
       "      <td>정기권</td>\n",
       "      <td>50대</td>\n",
       "      <td>1.87</td>\n",
       "      <td>10</td>\n",
       "    </tr>\n",
       "    <tr>\n",
       "      <th>3</th>\n",
       "      <td>정기권</td>\n",
       "      <td>50대</td>\n",
       "      <td>9.00</td>\n",
       "      <td>7</td>\n",
       "    </tr>\n",
       "    <tr>\n",
       "      <th>3</th>\n",
       "      <td>일일권</td>\n",
       "      <td>~10대</td>\n",
       "      <td>14.46</td>\n",
       "      <td>9</td>\n",
       "    </tr>\n",
       "  </tbody>\n",
       "</table>\n",
       "<p>7930 rows × 4 columns</p>\n",
       "</div>"
      ],
      "text/plain": [
       "          대여권   연령대  속도(km/h)   월\n",
       "대여시간(24)                         \n",
       "3         정기권   40대      3.40   3\n",
       "3         정기권   20대      9.03   5\n",
       "3         일일권  ~10대      2.73   7\n",
       "3         정기권   20대      8.13  11\n",
       "3         정기권   20대     11.29   6\n",
       "...       ...   ...       ...  ..\n",
       "3         정기권   30대     11.77   5\n",
       "3         정기권   20대      9.40   4\n",
       "3         정기권   50대      1.87  10\n",
       "3         정기권   50대      9.00   7\n",
       "3         일일권  ~10대     14.46   9\n",
       "\n",
       "[7930 rows x 4 columns]"
      ]
     },
     "execution_count": 200,
     "metadata": {},
     "output_type": "execute_result"
    }
   ],
   "source": [
    "# 대여시간(24) (3)시간 대 를 index로\n",
    "ds_hr3 = df.set_index('대여시간(24)').loc[3,['대여권', '연령대', '속도(km/h)', '월']]\n",
    "ds_hr3"
   ]
  },
  {
   "cell_type": "code",
   "execution_count": 201,
   "id": "0622d964-180a-493b-bb04-5c6f4fe7f7e4",
   "metadata": {
    "collapsed": true,
    "jupyter": {
     "outputs_hidden": true
    },
    "tags": []
   },
   "outputs": [
    {
     "data": {
      "text/plain": [
       "1660"
      ]
     },
     "execution_count": 201,
     "metadata": {},
     "output_type": "execute_result"
    }
   ],
   "source": [
    "# 대여권별 수 (2시간)\n",
    "ds_hr3['대여권'].str.contains('일일권').sum() # 1660 6227 / 314 3210 1215 1363 1364 392 0 / 421 323 359 539 726 1025, 1144 843 728 700 560 552"
   ]
  },
  {
   "cell_type": "code",
   "execution_count": 202,
   "id": "da76b54f-5760-427e-9834-fbf3325c9e92",
   "metadata": {
    "collapsed": true,
    "jupyter": {
     "outputs_hidden": true,
     "source_hidden": true
    },
    "tags": []
   },
   "outputs": [
    {
     "data": {
      "text/plain": [
       "6227"
      ]
     },
     "execution_count": 202,
     "metadata": {},
     "output_type": "execute_result"
    }
   ],
   "source": [
    "ds_hr3['대여권'].str.contains('정기권').sum() "
   ]
  },
  {
   "cell_type": "code",
   "execution_count": 342,
   "id": "78db6e24-da97-4d7a-bf16-eec9be205bd6",
   "metadata": {
    "tags": []
   },
   "outputs": [
    {
     "data": {
      "text/plain": [
       "72"
      ]
     },
     "execution_count": 342,
     "metadata": {},
     "output_type": "execute_result"
    }
   ],
   "source": [
    "ds_hr3['연령대'].str.contains('70대~').sum()   # 10 ~ 70대"
   ]
  },
  {
   "cell_type": "code",
   "execution_count": 222,
   "id": "598c1400-5631-443d-b988-f49d7a3b19ef",
   "metadata": {
    "collapsed": true,
    "jupyter": {
     "outputs_hidden": true
    },
    "tags": []
   },
   "outputs": [
    {
     "name": "stdout",
     "output_type": "stream",
     "text": [
      "<class 'pandas.core.frame.DataFrame'>\n",
      "Int64Index: 552 entries, 3 to 3\n",
      "Data columns (total 4 columns):\n",
      " #   Column    Non-Null Count  Dtype  \n",
      "---  ------    --------------  -----  \n",
      " 0   대여권       552 non-null    object \n",
      " 1   연령대       552 non-null    object \n",
      " 2   속도(km/h)  552 non-null    float64\n",
      " 3   월         552 non-null    int64  \n",
      "dtypes: float64(1), int64(1), object(2)\n",
      "memory usage: 21.6+ KB\n"
     ]
    }
   ],
   "source": [
    "ds_hr3[ds_hr3['월'] == 12].info() # 1 ~ 12 월"
   ]
  },
  {
   "cell_type": "code",
   "execution_count": 233,
   "id": "bb53d7cd-a77f-475f-abe1-a23a44f56b89",
   "metadata": {
    "collapsed": true,
    "jupyter": {
     "outputs_hidden": true,
     "source_hidden": true
    },
    "tags": []
   },
   "outputs": [
    {
     "name": "stdout",
     "output_type": "stream",
     "text": [
      "<class 'pandas.core.frame.DataFrame'>\n",
      "Int64Index: 26 entries, 3 to 3\n",
      "Data columns (total 4 columns):\n",
      " #   Column    Non-Null Count  Dtype  \n",
      "---  ------    --------------  -----  \n",
      " 0   대여권       26 non-null     object \n",
      " 1   연령대       26 non-null     object \n",
      " 2   속도(km/h)  26 non-null     float64\n",
      " 3   월         26 non-null     int64  \n",
      "dtypes: float64(1), int64(1), object(2)\n",
      "memory usage: 1.0+ KB\n"
     ]
    }
   ],
   "source": [
    "ds_hr3[ds_hr3['속도(km/h)'] > 25].info() #26"
   ]
  },
  {
   "cell_type": "code",
   "execution_count": 234,
   "id": "1840d194-bb34-431b-86e0-73e9a8fdeb7f",
   "metadata": {
    "collapsed": true,
    "jupyter": {
     "outputs_hidden": true,
     "source_hidden": true
    },
    "tags": []
   },
   "outputs": [
    {
     "data": {
      "text/html": [
       "<div>\n",
       "<style scoped>\n",
       "    .dataframe tbody tr th:only-of-type {\n",
       "        vertical-align: middle;\n",
       "    }\n",
       "\n",
       "    .dataframe tbody tr th {\n",
       "        vertical-align: top;\n",
       "    }\n",
       "\n",
       "    .dataframe thead th {\n",
       "        text-align: right;\n",
       "    }\n",
       "</style>\n",
       "<table border=\"1\" class=\"dataframe\">\n",
       "  <thead>\n",
       "    <tr style=\"text-align: right;\">\n",
       "      <th></th>\n",
       "      <th>대여권</th>\n",
       "      <th>연령대</th>\n",
       "      <th>속도(km/h)</th>\n",
       "      <th>월</th>\n",
       "    </tr>\n",
       "    <tr>\n",
       "      <th>대여시간(24)</th>\n",
       "      <th></th>\n",
       "      <th></th>\n",
       "      <th></th>\n",
       "      <th></th>\n",
       "    </tr>\n",
       "  </thead>\n",
       "  <tbody>\n",
       "    <tr>\n",
       "      <th>4</th>\n",
       "      <td>정기권</td>\n",
       "      <td>20대</td>\n",
       "      <td>9.20</td>\n",
       "      <td>4</td>\n",
       "    </tr>\n",
       "    <tr>\n",
       "      <th>4</th>\n",
       "      <td>정기권</td>\n",
       "      <td>40대</td>\n",
       "      <td>13.17</td>\n",
       "      <td>8</td>\n",
       "    </tr>\n",
       "    <tr>\n",
       "      <th>4</th>\n",
       "      <td>정기권</td>\n",
       "      <td>50대</td>\n",
       "      <td>14.00</td>\n",
       "      <td>12</td>\n",
       "    </tr>\n",
       "    <tr>\n",
       "      <th>4</th>\n",
       "      <td>정기권</td>\n",
       "      <td>40대</td>\n",
       "      <td>12.90</td>\n",
       "      <td>7</td>\n",
       "    </tr>\n",
       "    <tr>\n",
       "      <th>4</th>\n",
       "      <td>정기권</td>\n",
       "      <td>50대</td>\n",
       "      <td>9.50</td>\n",
       "      <td>11</td>\n",
       "    </tr>\n",
       "    <tr>\n",
       "      <th>...</th>\n",
       "      <td>...</td>\n",
       "      <td>...</td>\n",
       "      <td>...</td>\n",
       "      <td>...</td>\n",
       "    </tr>\n",
       "    <tr>\n",
       "      <th>4</th>\n",
       "      <td>정기권</td>\n",
       "      <td>30대</td>\n",
       "      <td>11.88</td>\n",
       "      <td>9</td>\n",
       "    </tr>\n",
       "    <tr>\n",
       "      <th>4</th>\n",
       "      <td>정기권</td>\n",
       "      <td>20대</td>\n",
       "      <td>18.51</td>\n",
       "      <td>10</td>\n",
       "    </tr>\n",
       "    <tr>\n",
       "      <th>4</th>\n",
       "      <td>정기권</td>\n",
       "      <td>30대</td>\n",
       "      <td>0.94</td>\n",
       "      <td>8</td>\n",
       "    </tr>\n",
       "    <tr>\n",
       "      <th>4</th>\n",
       "      <td>정기권</td>\n",
       "      <td>40대</td>\n",
       "      <td>15.33</td>\n",
       "      <td>8</td>\n",
       "    </tr>\n",
       "    <tr>\n",
       "      <th>4</th>\n",
       "      <td>정기권</td>\n",
       "      <td>50대</td>\n",
       "      <td>14.62</td>\n",
       "      <td>12</td>\n",
       "    </tr>\n",
       "  </tbody>\n",
       "</table>\n",
       "<p>5242 rows × 4 columns</p>\n",
       "</div>"
      ],
      "text/plain": [
       "          대여권  연령대  속도(km/h)   월\n",
       "대여시간(24)                        \n",
       "4         정기권  20대      9.20   4\n",
       "4         정기권  40대     13.17   8\n",
       "4         정기권  50대     14.00  12\n",
       "4         정기권  40대     12.90   7\n",
       "4         정기권  50대      9.50  11\n",
       "...       ...  ...       ...  ..\n",
       "4         정기권  30대     11.88   9\n",
       "4         정기권  20대     18.51  10\n",
       "4         정기권  30대      0.94   8\n",
       "4         정기권  40대     15.33   8\n",
       "4         정기권  50대     14.62  12\n",
       "\n",
       "[5242 rows x 4 columns]"
      ]
     },
     "execution_count": 234,
     "metadata": {},
     "output_type": "execute_result"
    }
   ],
   "source": [
    "# 대여시간(24) (4)시간 대 를 index로\n",
    "ds_hr4 = df.set_index('대여시간(24)').loc[4,['대여권', '연령대', '속도(km/h)', '월']]\n",
    "ds_hr4"
   ]
  },
  {
   "cell_type": "code",
   "execution_count": 236,
   "id": "be6abb3f-323d-4970-ba21-03c2ecbf520b",
   "metadata": {
    "collapsed": true,
    "jupyter": {
     "outputs_hidden": true,
     "source_hidden": true
    },
    "tags": []
   },
   "outputs": [
    {
     "data": {
      "text/plain": [
       "937"
      ]
     },
     "execution_count": 236,
     "metadata": {},
     "output_type": "execute_result"
    }
   ],
   "source": [
    "ds_hr4['대여권'].str.contains('일일권').sum() # 937 4276 / 219  2091 839 935 877 247 0 / 236 228 234 389 503 659, 804 583 497 457 348 304 / 24"
   ]
  },
  {
   "cell_type": "code",
   "execution_count": 237,
   "id": "8ecf042c-4ab9-46b9-867f-3f5ed695a303",
   "metadata": {
    "collapsed": true,
    "jupyter": {
     "outputs_hidden": true,
     "source_hidden": true
    },
    "tags": []
   },
   "outputs": [
    {
     "data": {
      "text/plain": [
       "4276"
      ]
     },
     "execution_count": 237,
     "metadata": {},
     "output_type": "execute_result"
    }
   ],
   "source": [
    "ds_hr4['대여권'].str.contains('정기권').sum() "
   ]
  },
  {
   "cell_type": "code",
   "execution_count": 343,
   "id": "48b7299b-bbdf-4fc6-8d84-2b773865cd86",
   "metadata": {
    "tags": []
   },
   "outputs": [
    {
     "data": {
      "text/plain": [
       "34"
      ]
     },
     "execution_count": 343,
     "metadata": {},
     "output_type": "execute_result"
    }
   ],
   "source": [
    "ds_hr4['연령대'].str.contains('70대~').sum()   # 10 ~ 70대"
   ]
  },
  {
   "cell_type": "code",
   "execution_count": 256,
   "id": "caec403a-1b29-4b4c-95e3-796c88f22d6b",
   "metadata": {
    "collapsed": true,
    "jupyter": {
     "outputs_hidden": true,
     "source_hidden": true
    },
    "tags": []
   },
   "outputs": [
    {
     "name": "stdout",
     "output_type": "stream",
     "text": [
      "<class 'pandas.core.frame.DataFrame'>\n",
      "Int64Index: 304 entries, 4 to 4\n",
      "Data columns (total 4 columns):\n",
      " #   Column    Non-Null Count  Dtype  \n",
      "---  ------    --------------  -----  \n",
      " 0   대여권       304 non-null    object \n",
      " 1   연령대       304 non-null    object \n",
      " 2   속도(km/h)  304 non-null    float64\n",
      " 3   월         304 non-null    int64  \n",
      "dtypes: float64(1), int64(1), object(2)\n",
      "memory usage: 11.9+ KB\n"
     ]
    }
   ],
   "source": [
    "ds_hr4[ds_hr4['월'] == 12].info() # 1 ~ 12 월"
   ]
  },
  {
   "cell_type": "code",
   "execution_count": 258,
   "id": "71851c18-cdb0-475e-b3a9-4b9767b32cfc",
   "metadata": {
    "collapsed": true,
    "jupyter": {
     "outputs_hidden": true,
     "source_hidden": true
    },
    "tags": []
   },
   "outputs": [
    {
     "name": "stdout",
     "output_type": "stream",
     "text": [
      "<class 'pandas.core.frame.DataFrame'>\n",
      "Int64Index: 24 entries, 4 to 4\n",
      "Data columns (total 4 columns):\n",
      " #   Column    Non-Null Count  Dtype  \n",
      "---  ------    --------------  -----  \n",
      " 0   대여권       24 non-null     object \n",
      " 1   연령대       24 non-null     object \n",
      " 2   속도(km/h)  24 non-null     float64\n",
      " 3   월         24 non-null     int64  \n",
      "dtypes: float64(1), int64(1), object(2)\n",
      "memory usage: 960.0+ bytes\n"
     ]
    }
   ],
   "source": [
    "ds_hr4[ds_hr4['속도(km/h)'] > 25].info()"
   ]
  },
  {
   "cell_type": "code",
   "execution_count": 259,
   "id": "8c841da7-262e-416d-a0b4-495dfefe0f7c",
   "metadata": {
    "collapsed": true,
    "jupyter": {
     "outputs_hidden": true
    },
    "tags": []
   },
   "outputs": [
    {
     "data": {
      "text/html": [
       "<div>\n",
       "<style scoped>\n",
       "    .dataframe tbody tr th:only-of-type {\n",
       "        vertical-align: middle;\n",
       "    }\n",
       "\n",
       "    .dataframe tbody tr th {\n",
       "        vertical-align: top;\n",
       "    }\n",
       "\n",
       "    .dataframe thead th {\n",
       "        text-align: right;\n",
       "    }\n",
       "</style>\n",
       "<table border=\"1\" class=\"dataframe\">\n",
       "  <thead>\n",
       "    <tr style=\"text-align: right;\">\n",
       "      <th></th>\n",
       "      <th>대여권</th>\n",
       "      <th>연령대</th>\n",
       "      <th>속도(km/h)</th>\n",
       "      <th>월</th>\n",
       "    </tr>\n",
       "    <tr>\n",
       "      <th>대여시간(24)</th>\n",
       "      <th></th>\n",
       "      <th></th>\n",
       "      <th></th>\n",
       "      <th></th>\n",
       "    </tr>\n",
       "  </thead>\n",
       "  <tbody>\n",
       "    <tr>\n",
       "      <th>5</th>\n",
       "      <td>정기권</td>\n",
       "      <td>20대</td>\n",
       "      <td>16.58</td>\n",
       "      <td>4</td>\n",
       "    </tr>\n",
       "    <tr>\n",
       "      <th>5</th>\n",
       "      <td>정기권</td>\n",
       "      <td>20대</td>\n",
       "      <td>10.88</td>\n",
       "      <td>6</td>\n",
       "    </tr>\n",
       "    <tr>\n",
       "      <th>5</th>\n",
       "      <td>정기권</td>\n",
       "      <td>70대~</td>\n",
       "      <td>7.17</td>\n",
       "      <td>11</td>\n",
       "    </tr>\n",
       "    <tr>\n",
       "      <th>5</th>\n",
       "      <td>정기권</td>\n",
       "      <td>50대</td>\n",
       "      <td>10.38</td>\n",
       "      <td>8</td>\n",
       "    </tr>\n",
       "    <tr>\n",
       "      <th>5</th>\n",
       "      <td>정기권</td>\n",
       "      <td>20대</td>\n",
       "      <td>8.69</td>\n",
       "      <td>10</td>\n",
       "    </tr>\n",
       "    <tr>\n",
       "      <th>...</th>\n",
       "      <td>...</td>\n",
       "      <td>...</td>\n",
       "      <td>...</td>\n",
       "      <td>...</td>\n",
       "    </tr>\n",
       "    <tr>\n",
       "      <th>5</th>\n",
       "      <td>정기권</td>\n",
       "      <td>20대</td>\n",
       "      <td>10.20</td>\n",
       "      <td>8</td>\n",
       "    </tr>\n",
       "    <tr>\n",
       "      <th>5</th>\n",
       "      <td>정기권</td>\n",
       "      <td>60대</td>\n",
       "      <td>5.90</td>\n",
       "      <td>4</td>\n",
       "    </tr>\n",
       "    <tr>\n",
       "      <th>5</th>\n",
       "      <td>정기권</td>\n",
       "      <td>50대</td>\n",
       "      <td>12.00</td>\n",
       "      <td>12</td>\n",
       "    </tr>\n",
       "    <tr>\n",
       "      <th>5</th>\n",
       "      <td>일일권</td>\n",
       "      <td>50대</td>\n",
       "      <td>11.21</td>\n",
       "      <td>10</td>\n",
       "    </tr>\n",
       "    <tr>\n",
       "      <th>5</th>\n",
       "      <td>정기권</td>\n",
       "      <td>60대</td>\n",
       "      <td>0.70</td>\n",
       "      <td>7</td>\n",
       "    </tr>\n",
       "  </tbody>\n",
       "</table>\n",
       "<p>5180 rows × 4 columns</p>\n",
       "</div>"
      ],
      "text/plain": [
       "          대여권   연령대  속도(km/h)   월\n",
       "대여시간(24)                         \n",
       "5         정기권   20대     16.58   4\n",
       "5         정기권   20대     10.88   6\n",
       "5         정기권  70대~      7.17  11\n",
       "5         정기권   50대     10.38   8\n",
       "5         정기권   20대      8.69  10\n",
       "...       ...   ...       ...  ..\n",
       "5         정기권   20대     10.20   8\n",
       "5         정기권   60대      5.90   4\n",
       "5         정기권   50대     12.00  12\n",
       "5         일일권   50대     11.21  10\n",
       "5         정기권   60대      0.70   7\n",
       "\n",
       "[5180 rows x 4 columns]"
      ]
     },
     "execution_count": 259,
     "metadata": {},
     "output_type": "execute_result"
    }
   ],
   "source": [
    "# 대여시간(24) (5)시간 대 를 index로\n",
    "ds_hr5 = df.set_index('대여시간(24)').loc[5,['대여권', '연령대', '속도(km/h)', '월']]\n",
    "ds_hr5"
   ]
  },
  {
   "cell_type": "code",
   "execution_count": 261,
   "id": "ab0ba4f8-2d56-4ffc-9dbc-ba1aca427e84",
   "metadata": {},
   "outputs": [
    {
     "data": {
      "text/plain": [
       "4580"
      ]
     },
     "execution_count": 261,
     "metadata": {},
     "output_type": "execute_result"
    }
   ],
   "source": [
    "ds_hr5['대여권'].str.contains('정기권').sum()  # 일일권  # 580 4580 /157 1966 1051 928 752 286 0 / 238 208 227 356 517 652 , 859 524 501 490 316 292 / 29 "
   ]
  },
  {
   "cell_type": "code",
   "execution_count": 269,
   "id": "7787b8b2-d8f2-4d0d-ba5f-a57245db335f",
   "metadata": {},
   "outputs": [
    {
     "data": {
      "text/plain": [
       "0"
      ]
     },
     "execution_count": 269,
     "metadata": {},
     "output_type": "execute_result"
    }
   ],
   "source": [
    "ds_hr5['연령대'].str.contains('~70대').sum()   # 10 ~ 70대"
   ]
  },
  {
   "cell_type": "code",
   "execution_count": 281,
   "id": "69af7972-295f-4650-a364-f6df63b91d08",
   "metadata": {
    "collapsed": true,
    "jupyter": {
     "outputs_hidden": true
    },
    "tags": []
   },
   "outputs": [
    {
     "name": "stdout",
     "output_type": "stream",
     "text": [
      "<class 'pandas.core.frame.DataFrame'>\n",
      "Int64Index: 292 entries, 5 to 5\n",
      "Data columns (total 4 columns):\n",
      " #   Column    Non-Null Count  Dtype  \n",
      "---  ------    --------------  -----  \n",
      " 0   대여권       292 non-null    object \n",
      " 1   연령대       292 non-null    object \n",
      " 2   속도(km/h)  292 non-null    float64\n",
      " 3   월         292 non-null    int64  \n",
      "dtypes: float64(1), int64(1), object(2)\n",
      "memory usage: 11.4+ KB\n"
     ]
    }
   ],
   "source": [
    "ds_hr5[ds_hr5['월'] == 12].info() # 1 ~ 12 월"
   ]
  },
  {
   "cell_type": "code",
   "execution_count": 282,
   "id": "f51824a0-34a2-4bf0-a0b4-36510281b3b4",
   "metadata": {
    "collapsed": true,
    "jupyter": {
     "outputs_hidden": true
    },
    "tags": []
   },
   "outputs": [
    {
     "name": "stdout",
     "output_type": "stream",
     "text": [
      "<class 'pandas.core.frame.DataFrame'>\n",
      "Int64Index: 29 entries, 5 to 5\n",
      "Data columns (total 4 columns):\n",
      " #   Column    Non-Null Count  Dtype  \n",
      "---  ------    --------------  -----  \n",
      " 0   대여권       29 non-null     object \n",
      " 1   연령대       29 non-null     object \n",
      " 2   속도(km/h)  29 non-null     float64\n",
      " 3   월         29 non-null     int64  \n",
      "dtypes: float64(1), int64(1), object(2)\n",
      "memory usage: 1.1+ KB\n"
     ]
    }
   ],
   "source": [
    "ds_hr5[ds_hr5['속도(km/h)'] > 25].info()"
   ]
  },
  {
   "cell_type": "code",
   "execution_count": 283,
   "id": "262715d7-8c75-40d6-b6bb-78837e213b64",
   "metadata": {
    "collapsed": true,
    "jupyter": {
     "outputs_hidden": true
    },
    "tags": []
   },
   "outputs": [
    {
     "data": {
      "text/html": [
       "<div>\n",
       "<style scoped>\n",
       "    .dataframe tbody tr th:only-of-type {\n",
       "        vertical-align: middle;\n",
       "    }\n",
       "\n",
       "    .dataframe tbody tr th {\n",
       "        vertical-align: top;\n",
       "    }\n",
       "\n",
       "    .dataframe thead th {\n",
       "        text-align: right;\n",
       "    }\n",
       "</style>\n",
       "<table border=\"1\" class=\"dataframe\">\n",
       "  <thead>\n",
       "    <tr style=\"text-align: right;\">\n",
       "      <th></th>\n",
       "      <th>대여권</th>\n",
       "      <th>연령대</th>\n",
       "      <th>속도(km/h)</th>\n",
       "      <th>월</th>\n",
       "    </tr>\n",
       "    <tr>\n",
       "      <th>대여시간(24)</th>\n",
       "      <th></th>\n",
       "      <th></th>\n",
       "      <th></th>\n",
       "      <th></th>\n",
       "    </tr>\n",
       "  </thead>\n",
       "  <tbody>\n",
       "    <tr>\n",
       "      <th>6</th>\n",
       "      <td>정기권</td>\n",
       "      <td>40대</td>\n",
       "      <td>11.90</td>\n",
       "      <td>5</td>\n",
       "    </tr>\n",
       "    <tr>\n",
       "      <th>6</th>\n",
       "      <td>정기권</td>\n",
       "      <td>30대</td>\n",
       "      <td>10.00</td>\n",
       "      <td>9</td>\n",
       "    </tr>\n",
       "    <tr>\n",
       "      <th>6</th>\n",
       "      <td>정기권</td>\n",
       "      <td>40대</td>\n",
       "      <td>12.08</td>\n",
       "      <td>6</td>\n",
       "    </tr>\n",
       "    <tr>\n",
       "      <th>6</th>\n",
       "      <td>정기권</td>\n",
       "      <td>70대~</td>\n",
       "      <td>10.88</td>\n",
       "      <td>11</td>\n",
       "    </tr>\n",
       "    <tr>\n",
       "      <th>6</th>\n",
       "      <td>정기권</td>\n",
       "      <td>30대</td>\n",
       "      <td>10.58</td>\n",
       "      <td>5</td>\n",
       "    </tr>\n",
       "    <tr>\n",
       "      <th>...</th>\n",
       "      <td>...</td>\n",
       "      <td>...</td>\n",
       "      <td>...</td>\n",
       "      <td>...</td>\n",
       "    </tr>\n",
       "    <tr>\n",
       "      <th>6</th>\n",
       "      <td>정기권</td>\n",
       "      <td>20대</td>\n",
       "      <td>8.71</td>\n",
       "      <td>11</td>\n",
       "    </tr>\n",
       "    <tr>\n",
       "      <th>6</th>\n",
       "      <td>정기권</td>\n",
       "      <td>30대</td>\n",
       "      <td>14.62</td>\n",
       "      <td>8</td>\n",
       "    </tr>\n",
       "    <tr>\n",
       "      <th>6</th>\n",
       "      <td>정기권</td>\n",
       "      <td>30대</td>\n",
       "      <td>15.86</td>\n",
       "      <td>4</td>\n",
       "    </tr>\n",
       "    <tr>\n",
       "      <th>6</th>\n",
       "      <td>정기권</td>\n",
       "      <td>30대</td>\n",
       "      <td>5.14</td>\n",
       "      <td>6</td>\n",
       "    </tr>\n",
       "    <tr>\n",
       "      <th>6</th>\n",
       "      <td>정기권</td>\n",
       "      <td>20대</td>\n",
       "      <td>7.89</td>\n",
       "      <td>10</td>\n",
       "    </tr>\n",
       "  </tbody>\n",
       "</table>\n",
       "<p>9704 rows × 4 columns</p>\n",
       "</div>"
      ],
      "text/plain": [
       "          대여권   연령대  속도(km/h)   월\n",
       "대여시간(24)                         \n",
       "6         정기권   40대     11.90   5\n",
       "6         정기권   30대     10.00   9\n",
       "6         정기권   40대     12.08   6\n",
       "6         정기권  70대~     10.88  11\n",
       "6         정기권   30대     10.58   5\n",
       "...       ...   ...       ...  ..\n",
       "6         정기권   20대      8.71  11\n",
       "6         정기권   30대     14.62   8\n",
       "6         정기권   30대     15.86   4\n",
       "6         정기권   30대      5.14   6\n",
       "6         정기권   20대      7.89  10\n",
       "\n",
       "[9704 rows x 4 columns]"
      ]
     },
     "execution_count": 283,
     "metadata": {},
     "output_type": "execute_result"
    }
   ],
   "source": [
    "# 대여시간(24) (6)시간 대 를 index로\n",
    "ds_hr6 = df.set_index('대여시간(24)').loc[6,['대여권', '연령대', '속도(km/h)', '월']]\n",
    "ds_hr6"
   ]
  },
  {
   "cell_type": "code",
   "execution_count": 285,
   "id": "d2bfde71-55cb-49ce-983c-8f7df9cb5960",
   "metadata": {
    "collapsed": true,
    "jupyter": {
     "outputs_hidden": true
    },
    "tags": []
   },
   "outputs": [
    {
     "data": {
      "text/plain": [
       "9199"
      ]
     },
     "execution_count": 285,
     "metadata": {},
     "output_type": "execute_result"
    }
   ],
   "source": [
    "ds_hr6['대여권'].str.contains('정기권').sum()  # 일일권     # 498 9199 / 183, 3018 , 2523, 2284, 1235, 395, 0 / 452 413 432 713 1032 1172 , 1516 1019 911 922 645 472/ 77 "
   ]
  },
  {
   "cell_type": "code",
   "execution_count": 346,
   "id": "b67c7cd2-0ba4-40ef-8f9b-0bea0d70a02e",
   "metadata": {
    "tags": []
   },
   "outputs": [
    {
     "data": {
      "text/plain": [
       "66"
      ]
     },
     "execution_count": 346,
     "metadata": {},
     "output_type": "execute_result"
    }
   ],
   "source": [
    "ds_hr6['연령대'].str.contains('70대').sum()   # 10 ~ 70대"
   ]
  },
  {
   "cell_type": "code",
   "execution_count": 304,
   "id": "feaa8546-c5f5-44f5-967b-9c59935e3710",
   "metadata": {
    "collapsed": true,
    "jupyter": {
     "outputs_hidden": true
    },
    "tags": []
   },
   "outputs": [
    {
     "name": "stdout",
     "output_type": "stream",
     "text": [
      "<class 'pandas.core.frame.DataFrame'>\n",
      "Int64Index: 472 entries, 6 to 6\n",
      "Data columns (total 4 columns):\n",
      " #   Column    Non-Null Count  Dtype  \n",
      "---  ------    --------------  -----  \n",
      " 0   대여권       472 non-null    object \n",
      " 1   연령대       472 non-null    object \n",
      " 2   속도(km/h)  472 non-null    float64\n",
      " 3   월         472 non-null    int64  \n",
      "dtypes: float64(1), int64(1), object(2)\n",
      "memory usage: 18.4+ KB\n"
     ]
    }
   ],
   "source": [
    "ds_hr6[ds_hr6['월'] == 12].info() # 1 ~ 12 월"
   ]
  },
  {
   "cell_type": "code",
   "execution_count": 305,
   "id": "be7c3b1f-1a62-4938-a923-6b8fefbdeada",
   "metadata": {
    "collapsed": true,
    "jupyter": {
     "outputs_hidden": true,
     "source_hidden": true
    },
    "tags": []
   },
   "outputs": [
    {
     "name": "stdout",
     "output_type": "stream",
     "text": [
      "<class 'pandas.core.frame.DataFrame'>\n",
      "Int64Index: 77 entries, 6 to 6\n",
      "Data columns (total 4 columns):\n",
      " #   Column    Non-Null Count  Dtype  \n",
      "---  ------    --------------  -----  \n",
      " 0   대여권       77 non-null     object \n",
      " 1   연령대       77 non-null     object \n",
      " 2   속도(km/h)  77 non-null     float64\n",
      " 3   월         77 non-null     int64  \n",
      "dtypes: float64(1), int64(1), object(2)\n",
      "memory usage: 3.0+ KB\n"
     ]
    }
   ],
   "source": [
    "ds_hr6[ds_hr6['속도(km/h)'] > 25].info()"
   ]
  },
  {
   "cell_type": "code",
   "execution_count": 306,
   "id": "b62bd3c5-398f-4278-99fa-0a8df17ef6be",
   "metadata": {
    "collapsed": true,
    "jupyter": {
     "outputs_hidden": true
    },
    "tags": []
   },
   "outputs": [
    {
     "data": {
      "text/html": [
       "<div>\n",
       "<style scoped>\n",
       "    .dataframe tbody tr th:only-of-type {\n",
       "        vertical-align: middle;\n",
       "    }\n",
       "\n",
       "    .dataframe tbody tr th {\n",
       "        vertical-align: top;\n",
       "    }\n",
       "\n",
       "    .dataframe thead th {\n",
       "        text-align: right;\n",
       "    }\n",
       "</style>\n",
       "<table border=\"1\" class=\"dataframe\">\n",
       "  <thead>\n",
       "    <tr style=\"text-align: right;\">\n",
       "      <th></th>\n",
       "      <th>대여권</th>\n",
       "      <th>연령대</th>\n",
       "      <th>속도(km/h)</th>\n",
       "      <th>월</th>\n",
       "    </tr>\n",
       "    <tr>\n",
       "      <th>대여시간(24)</th>\n",
       "      <th></th>\n",
       "      <th></th>\n",
       "      <th></th>\n",
       "      <th></th>\n",
       "    </tr>\n",
       "  </thead>\n",
       "  <tbody>\n",
       "    <tr>\n",
       "      <th>7</th>\n",
       "      <td>정기권</td>\n",
       "      <td>60대</td>\n",
       "      <td>11.73</td>\n",
       "      <td>5</td>\n",
       "    </tr>\n",
       "    <tr>\n",
       "      <th>7</th>\n",
       "      <td>정기권</td>\n",
       "      <td>40대</td>\n",
       "      <td>13.35</td>\n",
       "      <td>5</td>\n",
       "    </tr>\n",
       "    <tr>\n",
       "      <th>7</th>\n",
       "      <td>정기권</td>\n",
       "      <td>20대</td>\n",
       "      <td>16.80</td>\n",
       "      <td>6</td>\n",
       "    </tr>\n",
       "    <tr>\n",
       "      <th>7</th>\n",
       "      <td>정기권</td>\n",
       "      <td>~10대</td>\n",
       "      <td>9.71</td>\n",
       "      <td>6</td>\n",
       "    </tr>\n",
       "    <tr>\n",
       "      <th>7</th>\n",
       "      <td>일일권</td>\n",
       "      <td>30대</td>\n",
       "      <td>15.04</td>\n",
       "      <td>4</td>\n",
       "    </tr>\n",
       "    <tr>\n",
       "      <th>...</th>\n",
       "      <td>...</td>\n",
       "      <td>...</td>\n",
       "      <td>...</td>\n",
       "      <td>...</td>\n",
       "    </tr>\n",
       "    <tr>\n",
       "      <th>7</th>\n",
       "      <td>정기권</td>\n",
       "      <td>20대</td>\n",
       "      <td>7.92</td>\n",
       "      <td>9</td>\n",
       "    </tr>\n",
       "    <tr>\n",
       "      <th>7</th>\n",
       "      <td>정기권</td>\n",
       "      <td>50대</td>\n",
       "      <td>12.24</td>\n",
       "      <td>9</td>\n",
       "    </tr>\n",
       "    <tr>\n",
       "      <th>7</th>\n",
       "      <td>정기권</td>\n",
       "      <td>20대</td>\n",
       "      <td>13.94</td>\n",
       "      <td>7</td>\n",
       "    </tr>\n",
       "    <tr>\n",
       "      <th>7</th>\n",
       "      <td>정기권</td>\n",
       "      <td>20대</td>\n",
       "      <td>12.47</td>\n",
       "      <td>4</td>\n",
       "    </tr>\n",
       "    <tr>\n",
       "      <th>7</th>\n",
       "      <td>정기권</td>\n",
       "      <td>50대</td>\n",
       "      <td>11.90</td>\n",
       "      <td>1</td>\n",
       "    </tr>\n",
       "  </tbody>\n",
       "</table>\n",
       "<p>21417 rows × 4 columns</p>\n",
       "</div>"
      ],
      "text/plain": [
       "          대여권   연령대  속도(km/h)  월\n",
       "대여시간(24)                        \n",
       "7         정기권   60대     11.73  5\n",
       "7         정기권   40대     13.35  5\n",
       "7         정기권   20대     16.80  6\n",
       "7         정기권  ~10대      9.71  6\n",
       "7         일일권   30대     15.04  4\n",
       "...       ...   ...       ... ..\n",
       "7         정기권   20대      7.92  9\n",
       "7         정기권   50대     12.24  9\n",
       "7         정기권   20대     13.94  7\n",
       "7         정기권   20대     12.47  4\n",
       "7         정기권   50대     11.90  1\n",
       "\n",
       "[21417 rows x 4 columns]"
      ]
     },
     "execution_count": 306,
     "metadata": {},
     "output_type": "execute_result"
    }
   ],
   "source": [
    "# 대여시간(24) (7)시간 대 를 index로\n",
    "ds_hr7 = df.set_index('대여시간(24)').loc[7,['대여권', '연령대', '속도(km/h)', '월']]\n",
    "ds_hr7"
   ]
  },
  {
   "cell_type": "code",
   "execution_count": 319,
   "id": "00ebc7d5-1f41-48a2-9d23-137685e81067",
   "metadata": {},
   "outputs": [
    {
     "data": {
      "text/plain": [
       "20385"
      ]
     },
     "execution_count": 319,
     "metadata": {},
     "output_type": "execute_result"
    }
   ],
   "source": [
    "\n",
    "ds_hr7['대여권'].str.contains('정기권').sum()  # 정기권             # 1017 20385 /761 6456 6066 4923 2496 587 0 / 1007 885 1075 1850 2286 2566, 2041 1890 1967 2177 1591 1182 / 130 "
   ]
  },
  {
   "cell_type": "code",
   "execution_count": 345,
   "id": "69b64f95-6e29-4e55-ae2c-dd5b6065edcf",
   "metadata": {},
   "outputs": [
    {
     "data": {
      "text/plain": [
       "128"
      ]
     },
     "execution_count": 345,
     "metadata": {},
     "output_type": "execute_result"
    }
   ],
   "source": [
    "ds_hr7['연령대'].str.contains('70대~').sum()   # 10 ~ 70대"
   ]
  },
  {
   "cell_type": "code",
   "execution_count": 329,
   "id": "a497ce0b-5e38-435b-b1b2-1ef5e2171763",
   "metadata": {},
   "outputs": [
    {
     "name": "stdout",
     "output_type": "stream",
     "text": [
      "<class 'pandas.core.frame.DataFrame'>\n",
      "Int64Index: 1182 entries, 7 to 7\n",
      "Data columns (total 4 columns):\n",
      " #   Column    Non-Null Count  Dtype  \n",
      "---  ------    --------------  -----  \n",
      " 0   대여권       1182 non-null   object \n",
      " 1   연령대       1182 non-null   object \n",
      " 2   속도(km/h)  1182 non-null   float64\n",
      " 3   월         1182 non-null   int64  \n",
      "dtypes: float64(1), int64(1), object(2)\n",
      "memory usage: 46.2+ KB\n"
     ]
    }
   ],
   "source": [
    "ds_hr7[ds_hr7['월'] == 12].info() # 1 ~ 12 월"
   ]
  },
  {
   "cell_type": "code",
   "execution_count": 330,
   "id": "4be737ac-c74e-4a4b-9a9a-f92269676763",
   "metadata": {},
   "outputs": [
    {
     "name": "stdout",
     "output_type": "stream",
     "text": [
      "<class 'pandas.core.frame.DataFrame'>\n",
      "Int64Index: 130 entries, 7 to 7\n",
      "Data columns (total 4 columns):\n",
      " #   Column    Non-Null Count  Dtype  \n",
      "---  ------    --------------  -----  \n",
      " 0   대여권       130 non-null    object \n",
      " 1   연령대       130 non-null    object \n",
      " 2   속도(km/h)  130 non-null    float64\n",
      " 3   월         130 non-null    int64  \n",
      "dtypes: float64(1), int64(1), object(2)\n",
      "memory usage: 5.1+ KB\n"
     ]
    }
   ],
   "source": [
    "ds_hr7[ds_hr7['속도(km/h)'] > 25].info()"
   ]
  },
  {
   "cell_type": "code",
   "execution_count": 331,
   "id": "cd50f1db-194d-449b-8ecf-1c43702401ab",
   "metadata": {},
   "outputs": [
    {
     "data": {
      "text/html": [
       "<div>\n",
       "<style scoped>\n",
       "    .dataframe tbody tr th:only-of-type {\n",
       "        vertical-align: middle;\n",
       "    }\n",
       "\n",
       "    .dataframe tbody tr th {\n",
       "        vertical-align: top;\n",
       "    }\n",
       "\n",
       "    .dataframe thead th {\n",
       "        text-align: right;\n",
       "    }\n",
       "</style>\n",
       "<table border=\"1\" class=\"dataframe\">\n",
       "  <thead>\n",
       "    <tr style=\"text-align: right;\">\n",
       "      <th></th>\n",
       "      <th>대여권</th>\n",
       "      <th>연령대</th>\n",
       "      <th>속도(km/h)</th>\n",
       "      <th>월</th>\n",
       "    </tr>\n",
       "    <tr>\n",
       "      <th>대여시간(24)</th>\n",
       "      <th></th>\n",
       "      <th></th>\n",
       "      <th></th>\n",
       "      <th></th>\n",
       "    </tr>\n",
       "  </thead>\n",
       "  <tbody>\n",
       "    <tr>\n",
       "      <th>8</th>\n",
       "      <td>정기권</td>\n",
       "      <td>40대</td>\n",
       "      <td>19.36</td>\n",
       "      <td>6</td>\n",
       "    </tr>\n",
       "    <tr>\n",
       "      <th>8</th>\n",
       "      <td>정기권</td>\n",
       "      <td>40대</td>\n",
       "      <td>16.06</td>\n",
       "      <td>7</td>\n",
       "    </tr>\n",
       "    <tr>\n",
       "      <th>8</th>\n",
       "      <td>정기권</td>\n",
       "      <td>30대</td>\n",
       "      <td>7.60</td>\n",
       "      <td>6</td>\n",
       "    </tr>\n",
       "    <tr>\n",
       "      <th>8</th>\n",
       "      <td>정기권</td>\n",
       "      <td>40대</td>\n",
       "      <td>9.14</td>\n",
       "      <td>12</td>\n",
       "    </tr>\n",
       "    <tr>\n",
       "      <th>8</th>\n",
       "      <td>정기권</td>\n",
       "      <td>30대</td>\n",
       "      <td>9.38</td>\n",
       "      <td>5</td>\n",
       "    </tr>\n",
       "  </tbody>\n",
       "</table>\n",
       "</div>"
      ],
      "text/plain": [
       "          대여권  연령대  속도(km/h)   월\n",
       "대여시간(24)                        \n",
       "8         정기권  40대     19.36   6\n",
       "8         정기권  40대     16.06   7\n",
       "8         정기권  30대      7.60   6\n",
       "8         정기권  40대      9.14  12\n",
       "8         정기권  30대      9.38   5"
      ]
     },
     "execution_count": 331,
     "metadata": {},
     "output_type": "execute_result"
    }
   ],
   "source": [
    "# 대여시간(24) (8)시간 대 를 index로\n",
    "ds_hr8 = df.set_index('대여시간(24)').loc[8,['대여권', '연령대', '속도(km/h)', '월']]\n",
    "ds_hr8.head()"
   ]
  },
  {
   "cell_type": "code",
   "execution_count": 333,
   "id": "c6d74ea5-816e-4811-bc49-b69da37eff6d",
   "metadata": {},
   "outputs": [
    {
     "data": {
      "text/plain": [
       "32343"
      ]
     },
     "execution_count": 333,
     "metadata": {},
     "output_type": "execute_result"
    }
   ],
   "source": [
    "ds_hr8['대여권'].str.contains('정기권').sum()  # 정기권           #2099 32343 / 609 12880 10079 6998 3129 599 182/ 1879 1603 1836 3141 3860  3773,4252 2875 2883 3383 2808 2183 / 172 "
   ]
  },
  {
   "cell_type": "code",
   "execution_count": 353,
   "id": "dc689f95-ea0b-47ae-975e-e2892c3cad9a",
   "metadata": {},
   "outputs": [
    {
     "data": {
      "text/plain": [
       "182"
      ]
     },
     "execution_count": 353,
     "metadata": {},
     "output_type": "execute_result"
    }
   ],
   "source": [
    "ds_hr8['연령대'].str.contains('70대').sum()   # 10 ~ 70대"
   ]
  },
  {
   "cell_type": "code",
   "execution_count": 365,
   "id": "aa611590-e204-4859-9ebf-c0b3215ea78f",
   "metadata": {},
   "outputs": [
    {
     "name": "stdout",
     "output_type": "stream",
     "text": [
      "<class 'pandas.core.frame.DataFrame'>\n",
      "Int64Index: 2183 entries, 8 to 8\n",
      "Data columns (total 4 columns):\n",
      " #   Column    Non-Null Count  Dtype  \n",
      "---  ------    --------------  -----  \n",
      " 0   대여권       2183 non-null   object \n",
      " 1   연령대       2183 non-null   object \n",
      " 2   속도(km/h)  2183 non-null   float64\n",
      " 3   월         2183 non-null   int64  \n",
      "dtypes: float64(1), int64(1), object(2)\n",
      "memory usage: 85.3+ KB\n"
     ]
    }
   ],
   "source": [
    "ds_hr8[ds_hr8['월'] == 12].info() # 1 ~ 12 월"
   ]
  },
  {
   "cell_type": "code",
   "execution_count": 367,
   "id": "6d2a31d1-a2d0-4b0a-8e2b-3925bf22e12f",
   "metadata": {},
   "outputs": [
    {
     "name": "stdout",
     "output_type": "stream",
     "text": [
      "<class 'pandas.core.frame.DataFrame'>\n",
      "Int64Index: 172 entries, 8 to 8\n",
      "Data columns (total 4 columns):\n",
      " #   Column    Non-Null Count  Dtype  \n",
      "---  ------    --------------  -----  \n",
      " 0   대여권       172 non-null    object \n",
      " 1   연령대       172 non-null    object \n",
      " 2   속도(km/h)  172 non-null    float64\n",
      " 3   월         172 non-null    int64  \n",
      "dtypes: float64(1), int64(1), object(2)\n",
      "memory usage: 6.7+ KB\n"
     ]
    }
   ],
   "source": [
    "ds_hr8[ds_hr8['속도(km/h)'] > 25].info()"
   ]
  },
  {
   "cell_type": "code",
   "execution_count": 368,
   "id": "b41d258b-9869-4bd9-a0ca-9390946145cf",
   "metadata": {},
   "outputs": [
    {
     "data": {
      "text/html": [
       "<div>\n",
       "<style scoped>\n",
       "    .dataframe tbody tr th:only-of-type {\n",
       "        vertical-align: middle;\n",
       "    }\n",
       "\n",
       "    .dataframe tbody tr th {\n",
       "        vertical-align: top;\n",
       "    }\n",
       "\n",
       "    .dataframe thead th {\n",
       "        text-align: right;\n",
       "    }\n",
       "</style>\n",
       "<table border=\"1\" class=\"dataframe\">\n",
       "  <thead>\n",
       "    <tr style=\"text-align: right;\">\n",
       "      <th></th>\n",
       "      <th>대여권</th>\n",
       "      <th>연령대</th>\n",
       "      <th>속도(km/h)</th>\n",
       "      <th>월</th>\n",
       "    </tr>\n",
       "    <tr>\n",
       "      <th>대여시간(24)</th>\n",
       "      <th></th>\n",
       "      <th></th>\n",
       "      <th></th>\n",
       "      <th></th>\n",
       "    </tr>\n",
       "  </thead>\n",
       "  <tbody>\n",
       "    <tr>\n",
       "      <th>9</th>\n",
       "      <td>정기권</td>\n",
       "      <td>20대</td>\n",
       "      <td>2.37</td>\n",
       "      <td>10</td>\n",
       "    </tr>\n",
       "    <tr>\n",
       "      <th>9</th>\n",
       "      <td>정기권</td>\n",
       "      <td>20대</td>\n",
       "      <td>11.77</td>\n",
       "      <td>5</td>\n",
       "    </tr>\n",
       "    <tr>\n",
       "      <th>9</th>\n",
       "      <td>정기권</td>\n",
       "      <td>40대</td>\n",
       "      <td>4.46</td>\n",
       "      <td>7</td>\n",
       "    </tr>\n",
       "    <tr>\n",
       "      <th>9</th>\n",
       "      <td>정기권</td>\n",
       "      <td>40대</td>\n",
       "      <td>8.29</td>\n",
       "      <td>8</td>\n",
       "    </tr>\n",
       "    <tr>\n",
       "      <th>9</th>\n",
       "      <td>정기권</td>\n",
       "      <td>30대</td>\n",
       "      <td>15.71</td>\n",
       "      <td>1</td>\n",
       "    </tr>\n",
       "  </tbody>\n",
       "</table>\n",
       "</div>"
      ],
      "text/plain": [
       "          대여권  연령대  속도(km/h)   월\n",
       "대여시간(24)                        \n",
       "9         정기권  20대      2.37  10\n",
       "9         정기권  20대     11.77   5\n",
       "9         정기권  40대      4.46   7\n",
       "9         정기권  40대      8.29   8\n",
       "9         정기권  30대     15.71   1"
      ]
     },
     "execution_count": 368,
     "metadata": {},
     "output_type": "execute_result"
    }
   ],
   "source": [
    "# 대여시간(24) (9)시간 대 를 index로\n",
    "ds_hr9 = df.set_index('대여시간(24)').loc[9,['대여권', '연령대', '속도(km/h)', '월']]\n",
    "ds_hr9.head()"
   ]
  },
  {
   "cell_type": "code",
   "execution_count": 390,
   "id": "5e97dd64-e4a9-4dcc-bd00-57839aad8c4d",
   "metadata": {
    "collapsed": true,
    "jupyter": {
     "outputs_hidden": true
    },
    "tags": []
   },
   "outputs": [
    {
     "name": "stdout",
     "output_type": "stream",
     "text": [
      "<class 'pandas.core.frame.DataFrame'>\n",
      "Int64Index: 116 entries, 9 to 9\n",
      "Data columns (total 4 columns):\n",
      " #   Column    Non-Null Count  Dtype  \n",
      "---  ------    --------------  -----  \n",
      " 0   대여권       116 non-null    object \n",
      " 1   연령대       116 non-null    object \n",
      " 2   속도(km/h)  116 non-null    float64\n",
      " 3   월         116 non-null    int64  \n",
      "dtypes: float64(1), int64(1), object(2)\n",
      "memory usage: 4.5+ KB\n"
     ]
    }
   ],
   "source": [
    "# ds_hr9['대여권'].str.contains('정기권').sum()  # 정기권        # 1996 20459/ 537 9280 5961 3967 2036 558 152 / 1148 992 1203 1972  2482  2678, 2841 1806 2023 2265 1770 1311  / 116\n",
    "# ds_hr9['연령대'].str.contains('70대').sum()   # 10 ~ 70대\n",
    "# ds_hr9[ds_hr9['월'] == 12].info() # 1 ~ 12 월\n",
    "ds_hr9[ds_hr9['속도(km/h)'] > 25].info()"
   ]
  },
  {
   "cell_type": "code",
   "execution_count": 391,
   "id": "2fda9b09-e1bf-4b33-a578-764ffa0132ef",
   "metadata": {
    "collapsed": true,
    "jupyter": {
     "outputs_hidden": true
    },
    "tags": []
   },
   "outputs": [
    {
     "data": {
      "text/html": [
       "<div>\n",
       "<style scoped>\n",
       "    .dataframe tbody tr th:only-of-type {\n",
       "        vertical-align: middle;\n",
       "    }\n",
       "\n",
       "    .dataframe tbody tr th {\n",
       "        vertical-align: top;\n",
       "    }\n",
       "\n",
       "    .dataframe thead th {\n",
       "        text-align: right;\n",
       "    }\n",
       "</style>\n",
       "<table border=\"1\" class=\"dataframe\">\n",
       "  <thead>\n",
       "    <tr style=\"text-align: right;\">\n",
       "      <th></th>\n",
       "      <th>대여권</th>\n",
       "      <th>연령대</th>\n",
       "      <th>속도(km/h)</th>\n",
       "      <th>월</th>\n",
       "    </tr>\n",
       "    <tr>\n",
       "      <th>대여시간(24)</th>\n",
       "      <th></th>\n",
       "      <th></th>\n",
       "      <th></th>\n",
       "      <th></th>\n",
       "    </tr>\n",
       "  </thead>\n",
       "  <tbody>\n",
       "    <tr>\n",
       "      <th>10</th>\n",
       "      <td>정기권</td>\n",
       "      <td>30대</td>\n",
       "      <td>9.50</td>\n",
       "      <td>5</td>\n",
       "    </tr>\n",
       "    <tr>\n",
       "      <th>10</th>\n",
       "      <td>정기권</td>\n",
       "      <td>30대</td>\n",
       "      <td>10.16</td>\n",
       "      <td>8</td>\n",
       "    </tr>\n",
       "    <tr>\n",
       "      <th>10</th>\n",
       "      <td>일일권</td>\n",
       "      <td>30대</td>\n",
       "      <td>11.85</td>\n",
       "      <td>7</td>\n",
       "    </tr>\n",
       "    <tr>\n",
       "      <th>10</th>\n",
       "      <td>일일권</td>\n",
       "      <td>40대</td>\n",
       "      <td>2.70</td>\n",
       "      <td>12</td>\n",
       "    </tr>\n",
       "    <tr>\n",
       "      <th>10</th>\n",
       "      <td>정기권</td>\n",
       "      <td>40대</td>\n",
       "      <td>9.26</td>\n",
       "      <td>7</td>\n",
       "    </tr>\n",
       "  </tbody>\n",
       "</table>\n",
       "</div>"
      ],
      "text/plain": [
       "          대여권  연령대  속도(km/h)   월\n",
       "대여시간(24)                        \n",
       "10        정기권  30대      9.50   5\n",
       "10        정기권  30대     10.16   8\n",
       "10        일일권  30대     11.85   7\n",
       "10        일일권  40대      2.70  12\n",
       "10        정기권  40대      9.26   7"
      ]
     },
     "execution_count": 391,
     "metadata": {},
     "output_type": "execute_result"
    }
   ],
   "source": [
    "# 대여시간(24) (10)시간 대 를 index로\n",
    "ds_hr10 = df.set_index('대여시간(24)').loc[10,['대여권', '연령대', '속도(km/h)', '월']]\n",
    "ds_hr10.head()"
   ]
  },
  {
   "cell_type": "code",
   "execution_count": 413,
   "id": "8469dfe5-664c-485a-9b8b-08159a2b68d6",
   "metadata": {},
   "outputs": [
    {
     "name": "stdout",
     "output_type": "stream",
     "text": [
      "<class 'pandas.core.frame.DataFrame'>\n",
      "Int64Index: 89 entries, 10 to 10\n",
      "Data columns (total 4 columns):\n",
      " #   Column    Non-Null Count  Dtype  \n",
      "---  ------    --------------  -----  \n",
      " 0   대여권       89 non-null     object \n",
      " 1   연령대       89 non-null     object \n",
      " 2   속도(km/h)  89 non-null     float64\n",
      " 3   월         89 non-null     int64  \n",
      "dtypes: float64(1), int64(1), object(2)\n",
      "memory usage: 3.5+ KB\n"
     ]
    }
   ],
   "source": [
    "# ds_hr10['대여권'].str.contains('정기권').sum()  # 정기권           # 2554 16001/ 561 8151 4477 3086 1666 533 159/ 906 759 1070 1698 2103 2245 , 2188 1496 1779 1943 1412 1034  / 89\n",
    "# ds_hr10['연령대'].str.contains('70대').sum()   # 10 ~ 70대\n",
    "# ds_hr10[ds_hr10['월'] == 12].info() # 1 ~ 12 월\n",
    "ds_hr10[ds_hr10['속도(km/h)'] > 25].info()"
   ]
  },
  {
   "cell_type": "code",
   "execution_count": 414,
   "id": "f3a0bb81-70b9-4090-90c2-00306cf9f5e2",
   "metadata": {
    "collapsed": true,
    "jupyter": {
     "outputs_hidden": true
    },
    "tags": []
   },
   "outputs": [
    {
     "data": {
      "text/html": [
       "<div>\n",
       "<style scoped>\n",
       "    .dataframe tbody tr th:only-of-type {\n",
       "        vertical-align: middle;\n",
       "    }\n",
       "\n",
       "    .dataframe tbody tr th {\n",
       "        vertical-align: top;\n",
       "    }\n",
       "\n",
       "    .dataframe thead th {\n",
       "        text-align: right;\n",
       "    }\n",
       "</style>\n",
       "<table border=\"1\" class=\"dataframe\">\n",
       "  <thead>\n",
       "    <tr style=\"text-align: right;\">\n",
       "      <th></th>\n",
       "      <th>대여권</th>\n",
       "      <th>연령대</th>\n",
       "      <th>속도(km/h)</th>\n",
       "      <th>월</th>\n",
       "    </tr>\n",
       "    <tr>\n",
       "      <th>대여시간(24)</th>\n",
       "      <th></th>\n",
       "      <th></th>\n",
       "      <th></th>\n",
       "      <th></th>\n",
       "    </tr>\n",
       "  </thead>\n",
       "  <tbody>\n",
       "    <tr>\n",
       "      <th>11</th>\n",
       "      <td>정기권</td>\n",
       "      <td>70대~</td>\n",
       "      <td>5.18</td>\n",
       "      <td>7</td>\n",
       "    </tr>\n",
       "    <tr>\n",
       "      <th>11</th>\n",
       "      <td>정기권</td>\n",
       "      <td>30대</td>\n",
       "      <td>10.75</td>\n",
       "      <td>4</td>\n",
       "    </tr>\n",
       "    <tr>\n",
       "      <th>11</th>\n",
       "      <td>정기권</td>\n",
       "      <td>20대</td>\n",
       "      <td>9.22</td>\n",
       "      <td>7</td>\n",
       "    </tr>\n",
       "    <tr>\n",
       "      <th>11</th>\n",
       "      <td>정기권</td>\n",
       "      <td>60대</td>\n",
       "      <td>5.80</td>\n",
       "      <td>7</td>\n",
       "    </tr>\n",
       "    <tr>\n",
       "      <th>11</th>\n",
       "      <td>정기권</td>\n",
       "      <td>~10대</td>\n",
       "      <td>8.60</td>\n",
       "      <td>7</td>\n",
       "    </tr>\n",
       "    <tr>\n",
       "      <th>...</th>\n",
       "      <td>...</td>\n",
       "      <td>...</td>\n",
       "      <td>...</td>\n",
       "      <td>...</td>\n",
       "    </tr>\n",
       "    <tr>\n",
       "      <th>11</th>\n",
       "      <td>정기권</td>\n",
       "      <td>40대</td>\n",
       "      <td>12.87</td>\n",
       "      <td>7</td>\n",
       "    </tr>\n",
       "    <tr>\n",
       "      <th>11</th>\n",
       "      <td>일일권</td>\n",
       "      <td>30대</td>\n",
       "      <td>5.71</td>\n",
       "      <td>6</td>\n",
       "    </tr>\n",
       "    <tr>\n",
       "      <th>11</th>\n",
       "      <td>정기권</td>\n",
       "      <td>30대</td>\n",
       "      <td>10.08</td>\n",
       "      <td>12</td>\n",
       "    </tr>\n",
       "    <tr>\n",
       "      <th>11</th>\n",
       "      <td>일일권</td>\n",
       "      <td>30대</td>\n",
       "      <td>4.80</td>\n",
       "      <td>6</td>\n",
       "    </tr>\n",
       "    <tr>\n",
       "      <th>11</th>\n",
       "      <td>정기권</td>\n",
       "      <td>20대</td>\n",
       "      <td>4.10</td>\n",
       "      <td>6</td>\n",
       "    </tr>\n",
       "  </tbody>\n",
       "</table>\n",
       "<p>21473 rows × 4 columns</p>\n",
       "</div>"
      ],
      "text/plain": [
       "          대여권   연령대  속도(km/h)   월\n",
       "대여시간(24)                         \n",
       "11        정기권  70대~      5.18   7\n",
       "11        정기권   30대     10.75   4\n",
       "11        정기권   20대      9.22   7\n",
       "11        정기권   60대      5.80   7\n",
       "11        정기권  ~10대      8.60   7\n",
       "...       ...   ...       ...  ..\n",
       "11        정기권   40대     12.87   7\n",
       "11        일일권   30대      5.71   6\n",
       "11        정기권   30대     10.08  12\n",
       "11        일일권   30대      4.80   6\n",
       "11        정기권   20대      4.10   6\n",
       "\n",
       "[21473 rows x 4 columns]"
      ]
     },
     "execution_count": 414,
     "metadata": {},
     "output_type": "execute_result"
    }
   ],
   "source": [
    "# 대여시간(24) (11)시간 대 를 index로\n",
    "ds_hr11 = df.set_index('대여시간(24)').loc[11,['대여권', '연령대', '속도(km/h)', '월']]\n",
    "ds_hr11"
   ]
  },
  {
   "cell_type": "code",
   "execution_count": 436,
   "id": "9ef5175d-e07e-405d-8a02-a6b869015a51",
   "metadata": {},
   "outputs": [
    {
     "name": "stdout",
     "output_type": "stream",
     "text": [
      "<class 'pandas.core.frame.DataFrame'>\n",
      "Int64Index: 95 entries, 11 to 11\n",
      "Data columns (total 4 columns):\n",
      " #   Column    Non-Null Count  Dtype  \n",
      "---  ------    --------------  -----  \n",
      " 0   대여권       95 non-null     object \n",
      " 1   연령대       95 non-null     object \n",
      " 2   속도(km/h)  95 non-null     float64\n",
      " 3   월         95 non-null     int64  \n",
      "dtypes: float64(1), int64(1), object(2)\n",
      "memory usage: 3.7+ KB\n"
     ]
    }
   ],
   "source": [
    "# ds_hr11['대여권'].str.contains('정기권').sum()  # 정기권              # 3544 17812/ 688 9241 5363 3605 1842 560 174 / 962  939 1365 2141 2555  2457, 2464 1576 2042 2198 1515 1259 / 95\n",
    "# ds_hr11['연령대'].str.contains('70대').sum()   # 10 ~ 70대\n",
    "# ds_hr11[ds_hr11['월'] == 12].info() # 1 ~ 12 월\n",
    "ds_hr11[ds_hr11['속도(km/h)'] > 25].info()"
   ]
  },
  {
   "cell_type": "code",
   "execution_count": 437,
   "id": "88f0d64f-7caa-4c00-91f4-c3be48961277",
   "metadata": {
    "collapsed": true,
    "jupyter": {
     "outputs_hidden": true
    },
    "tags": []
   },
   "outputs": [
    {
     "data": {
      "text/html": [
       "<div>\n",
       "<style scoped>\n",
       "    .dataframe tbody tr th:only-of-type {\n",
       "        vertical-align: middle;\n",
       "    }\n",
       "\n",
       "    .dataframe tbody tr th {\n",
       "        vertical-align: top;\n",
       "    }\n",
       "\n",
       "    .dataframe thead th {\n",
       "        text-align: right;\n",
       "    }\n",
       "</style>\n",
       "<table border=\"1\" class=\"dataframe\">\n",
       "  <thead>\n",
       "    <tr style=\"text-align: right;\">\n",
       "      <th></th>\n",
       "      <th>대여권</th>\n",
       "      <th>연령대</th>\n",
       "      <th>속도(km/h)</th>\n",
       "      <th>월</th>\n",
       "    </tr>\n",
       "    <tr>\n",
       "      <th>대여시간(24)</th>\n",
       "      <th></th>\n",
       "      <th></th>\n",
       "      <th></th>\n",
       "      <th></th>\n",
       "    </tr>\n",
       "  </thead>\n",
       "  <tbody>\n",
       "    <tr>\n",
       "      <th>12</th>\n",
       "      <td>단체권</td>\n",
       "      <td>30대</td>\n",
       "      <td>9.69</td>\n",
       "      <td>6</td>\n",
       "    </tr>\n",
       "    <tr>\n",
       "      <th>12</th>\n",
       "      <td>정기권</td>\n",
       "      <td>30대</td>\n",
       "      <td>8.22</td>\n",
       "      <td>3</td>\n",
       "    </tr>\n",
       "    <tr>\n",
       "      <th>12</th>\n",
       "      <td>정기권</td>\n",
       "      <td>40대</td>\n",
       "      <td>7.88</td>\n",
       "      <td>1</td>\n",
       "    </tr>\n",
       "    <tr>\n",
       "      <th>12</th>\n",
       "      <td>정기권</td>\n",
       "      <td>20대</td>\n",
       "      <td>10.40</td>\n",
       "      <td>4</td>\n",
       "    </tr>\n",
       "    <tr>\n",
       "      <th>12</th>\n",
       "      <td>정기권</td>\n",
       "      <td>20대</td>\n",
       "      <td>6.95</td>\n",
       "      <td>5</td>\n",
       "    </tr>\n",
       "  </tbody>\n",
       "</table>\n",
       "</div>"
      ],
      "text/plain": [
       "          대여권  연령대  속도(km/h)  월\n",
       "대여시간(24)                       \n",
       "12        단체권  30대      9.69  6\n",
       "12        정기권  30대      8.22  3\n",
       "12        정기권  40대      7.88  1\n",
       "12        정기권  20대     10.40  4\n",
       "12        정기권  20대      6.95  5"
      ]
     },
     "execution_count": 437,
     "metadata": {},
     "output_type": "execute_result"
    }
   ],
   "source": [
    "# 대여시간(24) (12)시간 대 를 index로\n",
    "ds_hr12 = df.set_index('대여시간(24)').loc[12,['대여권', '연령대', '속도(km/h)', '월']]\n",
    "ds_hr12.head()"
   ]
  },
  {
   "cell_type": "code",
   "execution_count": 461,
   "id": "bbe0700a-4212-4a93-99ee-a61ecfb5c0d7",
   "metadata": {
    "collapsed": true,
    "jupyter": {
     "outputs_hidden": true
    },
    "tags": []
   },
   "outputs": [
    {
     "name": "stdout",
     "output_type": "stream",
     "text": [
      "<class 'pandas.core.frame.DataFrame'>\n",
      "Int64Index: 129 entries, 12 to 12\n",
      "Data columns (total 4 columns):\n",
      " #   Column    Non-Null Count  Dtype  \n",
      "---  ------    --------------  -----  \n",
      " 0   대여권       129 non-null    object \n",
      " 1   연령대       129 non-null    object \n",
      " 2   속도(km/h)  129 non-null    float64\n",
      " 3   월         129 non-null    int64  \n",
      "dtypes: float64(1), int64(1), object(2)\n",
      "memory usage: 5.0+ KB\n"
     ]
    }
   ],
   "source": [
    "# ds_hr12['대여권'].str.contains('정기권').sum()  # 정기권           # 4429 20104/ 911 10813 6214 3984 2027 567 165/ 1178 1018 1619 2521 2950 2672 / 2807 1692 2255 2606 1873 1490  / 129\n",
    "# ds_hr12['연령대'].str.contains('70대').sum()   # 10 ~ 70대\n",
    "# ds_hr12[ds_hr12['월'] == 12].info() # 1 ~ 12 월\n",
    "ds_hr12[ds_hr12['속도(km/h)'] > 25].info()"
   ]
  },
  {
   "cell_type": "code",
   "execution_count": 462,
   "id": "80684bff-e0c1-4eb6-9d23-88b0e2903513",
   "metadata": {
    "collapsed": true,
    "jupyter": {
     "outputs_hidden": true
    },
    "tags": []
   },
   "outputs": [
    {
     "data": {
      "text/html": [
       "<div>\n",
       "<style scoped>\n",
       "    .dataframe tbody tr th:only-of-type {\n",
       "        vertical-align: middle;\n",
       "    }\n",
       "\n",
       "    .dataframe tbody tr th {\n",
       "        vertical-align: top;\n",
       "    }\n",
       "\n",
       "    .dataframe thead th {\n",
       "        text-align: right;\n",
       "    }\n",
       "</style>\n",
       "<table border=\"1\" class=\"dataframe\">\n",
       "  <thead>\n",
       "    <tr style=\"text-align: right;\">\n",
       "      <th></th>\n",
       "      <th>대여권</th>\n",
       "      <th>연령대</th>\n",
       "      <th>속도(km/h)</th>\n",
       "      <th>월</th>\n",
       "    </tr>\n",
       "    <tr>\n",
       "      <th>대여시간(24)</th>\n",
       "      <th></th>\n",
       "      <th></th>\n",
       "      <th></th>\n",
       "      <th></th>\n",
       "    </tr>\n",
       "  </thead>\n",
       "  <tbody>\n",
       "    <tr>\n",
       "      <th>13</th>\n",
       "      <td>일일권</td>\n",
       "      <td>40대</td>\n",
       "      <td>8.84</td>\n",
       "      <td>10</td>\n",
       "    </tr>\n",
       "    <tr>\n",
       "      <th>13</th>\n",
       "      <td>정기권</td>\n",
       "      <td>40대</td>\n",
       "      <td>9.73</td>\n",
       "      <td>9</td>\n",
       "    </tr>\n",
       "    <tr>\n",
       "      <th>13</th>\n",
       "      <td>정기권</td>\n",
       "      <td>20대</td>\n",
       "      <td>8.82</td>\n",
       "      <td>6</td>\n",
       "    </tr>\n",
       "    <tr>\n",
       "      <th>13</th>\n",
       "      <td>정기권</td>\n",
       "      <td>20대</td>\n",
       "      <td>2.13</td>\n",
       "      <td>6</td>\n",
       "    </tr>\n",
       "    <tr>\n",
       "      <th>13</th>\n",
       "      <td>정기권</td>\n",
       "      <td>30대</td>\n",
       "      <td>7.11</td>\n",
       "      <td>10</td>\n",
       "    </tr>\n",
       "  </tbody>\n",
       "</table>\n",
       "</div>"
      ],
      "text/plain": [
       "          대여권  연령대  속도(km/h)   월\n",
       "대여시간(24)                        \n",
       "13        일일권  40대      8.84  10\n",
       "13        정기권  40대      9.73   9\n",
       "13        정기권  20대      8.82   6\n",
       "13        정기권  20대      2.13   6\n",
       "13        정기권  30대      7.11  10"
      ]
     },
     "execution_count": 462,
     "metadata": {},
     "output_type": "execute_result"
    }
   ],
   "source": [
    "# 대여시간(24) (13)시간 대 를 index로\n",
    "ds_hr13 = df.set_index('대여시간(24)').loc[13,['대여권', '연령대', '속도(km/h)', '월']]\n",
    "ds_hr13.head()"
   ]
  },
  {
   "cell_type": "code",
   "execution_count": 486,
   "id": "c4d1a275-f327-4ee2-9c8a-52117c4774e0",
   "metadata": {},
   "outputs": [
    {
     "name": "stdout",
     "output_type": "stream",
     "text": [
      "<class 'pandas.core.frame.DataFrame'>\n",
      "Int64Index: 119 entries, 13 to 13\n",
      "Data columns (total 4 columns):\n",
      " #   Column    Non-Null Count  Dtype  \n",
      "---  ------    --------------  -----  \n",
      " 0   대여권       119 non-null    object \n",
      " 1   연령대       119 non-null    object \n",
      " 2   속도(km/h)  119 non-null    float64\n",
      " 3   월         119 non-null    int64  \n",
      "dtypes: float64(1), int64(1), object(2)\n",
      "memory usage: 4.6+ KB\n"
     ]
    }
   ],
   "source": [
    "# ds_hr13['대여권'].str.contains('정기권').sum()  # 정기권           # 5464 20438/ 1015 11948 6341 3970 2085 580 163 / 1212 1179 1836 2752  3190 2853, 2902 1752 2312 2724 1827 1563 / 119\n",
    "# ds_hr13['연령대'].str.contains('70대').sum()  \n",
    "# ds_hr13[ds_hr13['월'] == 12].info() # 1 ~ 12 월\n",
    "ds_hr13[ds_hr13['속도(km/h)'] > 25].info()"
   ]
  },
  {
   "cell_type": "code",
   "execution_count": 487,
   "id": "39f93859-32b4-4844-9c1e-5c99e3238bbf",
   "metadata": {
    "collapsed": true,
    "jupyter": {
     "outputs_hidden": true
    },
    "tags": []
   },
   "outputs": [
    {
     "data": {
      "text/html": [
       "<div>\n",
       "<style scoped>\n",
       "    .dataframe tbody tr th:only-of-type {\n",
       "        vertical-align: middle;\n",
       "    }\n",
       "\n",
       "    .dataframe tbody tr th {\n",
       "        vertical-align: top;\n",
       "    }\n",
       "\n",
       "    .dataframe thead th {\n",
       "        text-align: right;\n",
       "    }\n",
       "</style>\n",
       "<table border=\"1\" class=\"dataframe\">\n",
       "  <thead>\n",
       "    <tr style=\"text-align: right;\">\n",
       "      <th></th>\n",
       "      <th>대여권</th>\n",
       "      <th>연령대</th>\n",
       "      <th>속도(km/h)</th>\n",
       "      <th>월</th>\n",
       "    </tr>\n",
       "    <tr>\n",
       "      <th>대여시간(24)</th>\n",
       "      <th></th>\n",
       "      <th></th>\n",
       "      <th></th>\n",
       "      <th></th>\n",
       "    </tr>\n",
       "  </thead>\n",
       "  <tbody>\n",
       "    <tr>\n",
       "      <th>14</th>\n",
       "      <td>정기권</td>\n",
       "      <td>30대</td>\n",
       "      <td>7.59</td>\n",
       "      <td>12</td>\n",
       "    </tr>\n",
       "    <tr>\n",
       "      <th>14</th>\n",
       "      <td>정기권</td>\n",
       "      <td>40대</td>\n",
       "      <td>16.67</td>\n",
       "      <td>12</td>\n",
       "    </tr>\n",
       "    <tr>\n",
       "      <th>14</th>\n",
       "      <td>정기권</td>\n",
       "      <td>20대</td>\n",
       "      <td>13.79</td>\n",
       "      <td>4</td>\n",
       "    </tr>\n",
       "    <tr>\n",
       "      <th>14</th>\n",
       "      <td>정기권</td>\n",
       "      <td>20대</td>\n",
       "      <td>8.70</td>\n",
       "      <td>8</td>\n",
       "    </tr>\n",
       "    <tr>\n",
       "      <th>14</th>\n",
       "      <td>정기권</td>\n",
       "      <td>30대</td>\n",
       "      <td>2.50</td>\n",
       "      <td>12</td>\n",
       "    </tr>\n",
       "  </tbody>\n",
       "</table>\n",
       "</div>"
      ],
      "text/plain": [
       "          대여권  연령대  속도(km/h)   월\n",
       "대여시간(24)                        \n",
       "14        정기권  30대      7.59  12\n",
       "14        정기권  40대     16.67  12\n",
       "14        정기권  20대     13.79   4\n",
       "14        정기권  20대      8.70   8\n",
       "14        정기권  30대      2.50  12"
      ]
     },
     "execution_count": 487,
     "metadata": {},
     "output_type": "execute_result"
    }
   ],
   "source": [
    "# 대여시간(24) (14)시간 대 를 index로\n",
    "ds_hr14 = df.set_index('대여시간(24)').loc[14,['대여권', '연령대', '속도(km/h)', '월']]\n",
    "ds_hr14.head()"
   ]
  },
  {
   "cell_type": "code",
   "execution_count": 490,
   "id": "7c1e1f66-9d26-4af5-b0d4-9ef1915db75f",
   "metadata": {},
   "outputs": [
    {
     "data": {
      "text/plain": [
       "1221"
      ]
     },
     "execution_count": 490,
     "metadata": {},
     "output_type": "execute_result"
    }
   ],
   "source": [
    "# ds_hr14['대여권'].str.contains('정기권').sum()  # 정기권          # 6693 21298 /1221 \n",
    "ds_hr14['연령대'].str.contains('10대').sum()   # 10 ~ 70대\n",
    "# ds_hr14[ds_hr14['월'] == 12].info() # 1 ~ 12 월\n",
    "# ds_hr14[ds_hr14['속도(km/h)'] > 25].info"
   ]
  },
  {
   "cell_type": "code",
   "execution_count": null,
   "id": "daa4f8dd-9c94-42be-bd93-89e877af0ba7",
   "metadata": {},
   "outputs": [],
   "source": [
    "# 대여시간(24) (15)시간 대 를 index로\n",
    "ds_hr15 = df.set_index('대여시간(24)').loc[15,['대여권', '연령대', '속도(km/h)', '월']]\n",
    "ds_hr15"
   ]
  },
  {
   "cell_type": "code",
   "execution_count": null,
   "id": "c7103849-49cd-4bdb-88df-daab0cb0b7d2",
   "metadata": {},
   "outputs": [],
   "source": [
    "ds_hr15['대여권'].str.contains('일일권').sum()  # 정기권\n",
    "ds_hr15['연령대'].str.contains('~70대').sum()   # 10 ~ 70대\n",
    "ds_hr15[ds_hr15['월'] == 12].info() # 1 ~ 12 월\n",
    "ds_hr15[ds_hr15['속도(km/h)'] > 25].info"
   ]
  },
  {
   "cell_type": "code",
   "execution_count": null,
   "id": "80dd6942-bbfe-4e05-b32f-a3b549afff2e",
   "metadata": {},
   "outputs": [],
   "source": [
    "# 대여시간(24) (16)시간 대 를 index로\n",
    "ds_hr16 = df.set_index('대여시간(24)').loc[16,['대여권', '연령대', '속도(km/h)', '월']]\n",
    "ds_hr16"
   ]
  },
  {
   "cell_type": "code",
   "execution_count": null,
   "id": "588d809a-30fe-4287-b892-5b3d44af0943",
   "metadata": {},
   "outputs": [],
   "source": [
    "dds_hr16['대여권'].str.contains('일일권').sum()  # 정기권\n",
    "ds_hr16['연령대'].str.contains('~70대').sum()   # 10 ~ 70대\n",
    "ds_hr16[ds_hr16['월'] == 12].info() # 1 ~ 12 월\n",
    "ds_hr16[ds_hr16['속도(km/h)'] > 25].info"
   ]
  },
  {
   "cell_type": "code",
   "execution_count": null,
   "id": "0f35fd1d-5b62-4447-a72f-da51d5679287",
   "metadata": {},
   "outputs": [],
   "source": [
    "# 대여시간(24) (17)시간 대 를 index로\n",
    "ds_hr17 = df.set_index('대여시간(24)').loc[17,['대여권', '연령대', '속도(km/h)', '월']]\n",
    "ds_hr17"
   ]
  },
  {
   "cell_type": "code",
   "execution_count": null,
   "id": "dfe345b5-eb8c-458a-a5c0-a1328acbff94",
   "metadata": {},
   "outputs": [],
   "source": [
    "dds_hr17['대여권'].str.contains('일일권').sum()  # 정기권\n",
    "ds_hr17['연령대'].str.contains('~70대').sum()   # 10 ~ 70대\n",
    "ds_hr17[ds_hr17['월'] == 12].info() # 1 ~ 12 월\n",
    "ds_hr17[ds_hr17['속도(km/h)'] > 25].info"
   ]
  },
  {
   "cell_type": "code",
   "execution_count": null,
   "id": "a0e2e213-75cf-4460-b865-42b0bc7ddfc2",
   "metadata": {},
   "outputs": [],
   "source": [
    "# 대여시간(24) (18)시간 대 를 index로\n",
    "ds_hr18 = df.set_index('대여시간(24)').loc[18,['대여권', '연령대', '속도(km/h)', '월']]\n",
    "ds_hr18"
   ]
  },
  {
   "cell_type": "code",
   "execution_count": null,
   "id": "1333d5a7-80ab-4c1c-90ba-123bac382ad0",
   "metadata": {},
   "outputs": [],
   "source": [
    "dds_hr18['대여권'].str.contains('일일권').sum()  # 정기권\n",
    "ds_hr18['연령대'].str.contains('~70대').sum()   # 10 ~ 70대\n",
    "ds_hr18[ds_hr18['월'] == 12].info() # 1 ~ 12 월\n",
    "ds_hr18[ds_hr18['속도(km/h)'] > 25].info"
   ]
  },
  {
   "cell_type": "code",
   "execution_count": null,
   "id": "0a9a4384-b2de-49e7-86ba-029aa385aa02",
   "metadata": {},
   "outputs": [],
   "source": [
    "# 대여시간(24) (19)시간 대 를 index로\n",
    "ds_hr19 = df.set_index('대여시간(24)').loc[19,['대여권', '연령대', '속도(km/h)', '월']]\n",
    "ds_hr19"
   ]
  },
  {
   "cell_type": "code",
   "execution_count": null,
   "id": "953b8987-f527-4e60-ad77-466b265e5231",
   "metadata": {},
   "outputs": [],
   "source": [
    "dds_hr19['대여권'].str.contains('일일권').sum()  # 정기권\n",
    "ds_hr19['연령대'].str.contains('~70대').sum()   # 10 ~ 70대\n",
    "ds_hr19[ds_hr19['월'] == 12].info() # 1 ~ 12 월\n",
    "ds_hr19[ds_hr19['속도(km/h)'] > 25].info"
   ]
  },
  {
   "cell_type": "code",
   "execution_count": null,
   "id": "60825575-7aeb-48e6-b77f-2659d2dde4c4",
   "metadata": {},
   "outputs": [],
   "source": [
    "# 대여시간(24) (20)시간 대 를 index로\n",
    "ds_hr20 = df.set_index('대여시간(24)').loc[20,['대여권', '연령대', '속도(km/h)', '월']]\n",
    "ds_hr20"
   ]
  },
  {
   "cell_type": "code",
   "execution_count": null,
   "id": "f50da61e-1e78-4089-8fdb-61deb37ece53",
   "metadata": {},
   "outputs": [],
   "source": [
    "ds_hr20['대여권'].str.contains('일일권').sum()  # 정기권\n",
    "ds_hr20['연령대'].str.contains('~70대').sum()   # 10 ~ 70대\n",
    "ds_hr20[ds_hr20['월'] == 12].info() # 1 ~ 12 월\n",
    "ds_hr20[ds_hr20['속도(km/h)'] > 25] #94"
   ]
  },
  {
   "cell_type": "code",
   "execution_count": null,
   "id": "619675cc-2c25-4da7-95d4-85ba34edb3e6",
   "metadata": {},
   "outputs": [],
   "source": [
    "# 대여시간(24) (21)시간 대 를 index로\n",
    "ds_hr21 = df.set_index('대여시간(24)').loc[21,['대여권', '연령대', '속도(km/h)', '월']]\n",
    "ds_hr21"
   ]
  },
  {
   "cell_type": "code",
   "execution_count": null,
   "id": "9bea18ee-8a94-4fbc-b0e3-d62efa4c7bd7",
   "metadata": {},
   "outputs": [],
   "source": [
    "ds_hr21['대여권'].str.contains('일일권').sum()  # 정기권\n",
    "ds_hr21['연령대'].str.contains('~70대').sum()   # 10 ~ 70대\n",
    "ds_hr21[ds_hr21['월'] == 12].info() # 1 ~ 12 월\n",
    "ds_hr21[ds_hr21['속도(km/h)'] > 25] #94"
   ]
  },
  {
   "cell_type": "code",
   "execution_count": null,
   "id": "233fc7c8-82d9-468c-b05f-1bcd961d44a3",
   "metadata": {},
   "outputs": [],
   "source": [
    "# 대여시간(24) (22)시간 대 를 index로\n",
    "ds_hr22 = df.set_index('대여시간(24)').loc[22,['대여권', '연령대', '속도(km/h)', '월']]\n",
    "ds_hr22"
   ]
  },
  {
   "cell_type": "code",
   "execution_count": null,
   "id": "d0edc9d1-8fe1-4d49-a167-ee7dced4ca8e",
   "metadata": {},
   "outputs": [],
   "source": [
    "ds_hr22['대여권'].str.contains('일일권').sum()  # 정기권\n",
    "ds_hr22['연령대'].str.contains('~70대').sum()   # 10 ~ 70대\n",
    "ds_hr22[ds_hr22['월'] == 12].info() # 1 ~ 12 월\n",
    "ds_hr22[ds_hr22['속도(km/h)'] > 25] #94"
   ]
  },
  {
   "cell_type": "code",
   "execution_count": null,
   "id": "c85534bf-5696-426e-bbcf-98db5e17fe5b",
   "metadata": {},
   "outputs": [],
   "source": [
    "# 대여시간(24) (23)시간 대 를 index로\n",
    "ds_hr23 = df.set_index('대여시간(24)').loc[23,['대여권', '연령대', '속도(km/h)', '월']]\n",
    "ds_hr23"
   ]
  },
  {
   "cell_type": "code",
   "execution_count": null,
   "id": "55f4e7aa-e4df-4232-9956-4bdcf68473ad",
   "metadata": {},
   "outputs": [],
   "source": [
    "ds_hr23['대여권'].str.contains('일일권').sum()  # 정기권\n",
    "ds_hr23['연령대'].str.contains('~70대').sum()   # 10 ~ 70대\n",
    "ds_hr23[ds_hr23['월'] == 12].info() # 1 ~ 12 월\n",
    "ds_hr23[ds_hr23['속도(km/h)'] > 25] #94"
   ]
  },
  {
   "cell_type": "code",
   "execution_count": null,
   "id": "ccf74617-2c91-4ce8-be13-05e82c922b99",
   "metadata": {},
   "outputs": [],
   "source": []
  },
  {
   "cell_type": "code",
   "execution_count": null,
   "id": "1b0669a2-e2ca-4a58-ac6a-c3074b14f3c2",
   "metadata": {},
   "outputs": [],
   "source": []
  },
  {
   "cell_type": "code",
   "execution_count": null,
   "id": "2d608943-4b13-4e7b-9829-aec25f387eb2",
   "metadata": {},
   "outputs": [],
   "source": []
  },
  {
   "cell_type": "code",
   "execution_count": null,
   "id": "f832f57b-5ffd-489d-9c46-e33b9fd3570d",
   "metadata": {},
   "outputs": [],
   "source": [
    "ds_hr = {\n",
    "#  [0, 1, 2, ....23 시]\n",
    "    # 0h : 4603 14598/ 1243 10115 3571 2225 1657 427 96/ 826 672 783 1470 2143 2570 2854 1968 1874 1838 1326 1010 / 94\n",
    "    # 1h                                                                                                         / 90\n",
    "    # 2h : 2584 8941 / 510 5123 1819 1786 1712 538 124 / 577 488 476 785 1207 1465, 1586 1233 1063 1068 823 802    / 44\n",
    "    # 3h : 1660 6227 / 314 3210 1215 1363 1364 392 85 / 421 323 359 539 726 1025, 1144 843 728 700 560 552        / 26\n",
    "    # 4h : # 937 4276 / 219  2091 839 935 877 247 72 / 236 228 234 389 503 659, 804 583 497 457 348 304 / 24\n",
    "    # 5h :  # 580 4580 /157 1966 1051 928 752 286 34 / 238 208 227 356 517 652 , 859 524 501 490 316 292 / 29 \n",
    "    # 6 # 498 9199 / 183, 3018 , 2523, 2284, 1235, 395, 66 / 452 413 432 713 1032 1172 , 1516 1019 911 922 645 472/ 77 \n",
    "    # 7 # 1017 20385 /761 6456 6066 4923 2496 587 128 / 1007 885 1075 1850 2286 2566, 2041 1890 1967 2177 1591 1182 / 130 \n",
    "    # 8   #2099 32343 / 609 12880 10079 6998 3129 599 182/ 1879 1603 1836 3141 3860  3773,4252 2875 2883 3383 2808 2183 / 172 \n",
    "    # 9 \n",
    "    # 10 \n",
    "    # 11\n",
    "    # 12\n",
    "    '일일권' : [4603, 3745, ],\n",
    "    '정기권' : [14598, 12196,],\n",
    "    '10대' : [1243, 869, ],\n",
    "    '20대' : [10115, 7334, ],\n",
    "    '30대' : [3571, 2694],\n",
    "    '40대' : [2225, 2345],\n",
    "    '50대' : [1657, 2104, ],\n",
    "    '60대' : [427, 574, ],\n",
    "    '70대' : [0, 0, ],\n",
    "    '1월' : [826, 809, ],\n",
    "    '2월' : [672, 619, ],\n",
    "    '3월' : [783, 704, ],\n",
    "    '4월' : [1470, 1109, ],\n",
    "    '5월' : [2143, 1720, ],\n",
    "    '6월' : [2570, 1881, ],\n",
    "    '7월' : [2854, 2277, ],\n",
    "    '8월' : [1968, 1700, ],\n",
    "    '9월' : [1874, 1521, ],\n",
    "    '10월' : [1838, 1514, ],\n",
    "    '11월' : [1326, 1136, ],\n",
    "    '12월' : [1010, 1054, ],\n",
    "    '35km/h 이상': [  , 35, ]\n",
    "}"
   ]
  },
  {
   "cell_type": "code",
   "execution_count": 36,
   "id": "8e131ddc-825a-41f5-b61a-d6167829b842",
   "metadata": {},
   "outputs": [],
   "source": [
    "# 대여시간 & 속도 \n",
    "# 대여시간 & 월 \n",
    "# 대여시간 & 연령대 \n",
    "# 대여시간 & 성별 "
   ]
  },
  {
   "cell_type": "code",
   "execution_count": 37,
   "id": "e0b35543-1cd9-4bc7-87d2-2563cb9326a0",
   "metadata": {
    "tags": []
   },
   "outputs": [
    {
     "data": {
      "text/html": [
       "<div>\n",
       "<style scoped>\n",
       "    .dataframe tbody tr th:only-of-type {\n",
       "        vertical-align: middle;\n",
       "    }\n",
       "\n",
       "    .dataframe tbody tr th {\n",
       "        vertical-align: top;\n",
       "    }\n",
       "\n",
       "    .dataframe thead th {\n",
       "        text-align: right;\n",
       "    }\n",
       "</style>\n",
       "<table border=\"1\" class=\"dataframe\">\n",
       "  <thead>\n",
       "    <tr style=\"text-align: right;\">\n",
       "      <th></th>\n",
       "      <th>대여일자</th>\n",
       "      <th>대여시간(24)</th>\n",
       "      <th>대여소번호</th>\n",
       "      <th>대여소명</th>\n",
       "      <th>대여권</th>\n",
       "      <th>성별</th>\n",
       "      <th>이동거리(km)</th>\n",
       "      <th>사용시간(hr)</th>\n",
       "      <th>속도(km/h)</th>\n",
       "      <th>년</th>\n",
       "      <th>월</th>\n",
       "    </tr>\n",
       "    <tr>\n",
       "      <th>연령대</th>\n",
       "      <th></th>\n",
       "      <th></th>\n",
       "      <th></th>\n",
       "      <th></th>\n",
       "      <th></th>\n",
       "      <th></th>\n",
       "      <th></th>\n",
       "      <th></th>\n",
       "      <th></th>\n",
       "      <th></th>\n",
       "      <th></th>\n",
       "    </tr>\n",
       "  </thead>\n",
       "  <tbody>\n",
       "    <tr>\n",
       "      <th>30대</th>\n",
       "      <td>2018-12-02</td>\n",
       "      <td>14</td>\n",
       "      <td>1366</td>\n",
       "      <td>1366. 일신초등학교 옆</td>\n",
       "      <td>정기권</td>\n",
       "      <td>M</td>\n",
       "      <td>2.43</td>\n",
       "      <td>0.32</td>\n",
       "      <td>7.59</td>\n",
       "      <td>2018</td>\n",
       "      <td>12</td>\n",
       "    </tr>\n",
       "    <tr>\n",
       "      <th>30대</th>\n",
       "      <td>2018-06-16</td>\n",
       "      <td>12</td>\n",
       "      <td>1675</td>\n",
       "      <td>1675.  월계문화체육센터</td>\n",
       "      <td>단체권</td>\n",
       "      <td>F</td>\n",
       "      <td>31.01</td>\n",
       "      <td>3.20</td>\n",
       "      <td>9.69</td>\n",
       "      <td>2018</td>\n",
       "      <td>6</td>\n",
       "    </tr>\n",
       "    <tr>\n",
       "      <th>70대~</th>\n",
       "      <td>2018-07-03</td>\n",
       "      <td>11</td>\n",
       "      <td>567</td>\n",
       "      <td>567.  성수역 2번출구 앞</td>\n",
       "      <td>정기권</td>\n",
       "      <td>M</td>\n",
       "      <td>3.73</td>\n",
       "      <td>0.72</td>\n",
       "      <td>5.18</td>\n",
       "      <td>2018</td>\n",
       "      <td>7</td>\n",
       "    </tr>\n",
       "    <tr>\n",
       "      <th>30대</th>\n",
       "      <td>2018-04-21</td>\n",
       "      <td>11</td>\n",
       "      <td>3102</td>\n",
       "      <td>3102.  연희삼거리</td>\n",
       "      <td>정기권</td>\n",
       "      <td>M</td>\n",
       "      <td>3.01</td>\n",
       "      <td>0.28</td>\n",
       "      <td>10.75</td>\n",
       "      <td>2018</td>\n",
       "      <td>4</td>\n",
       "    </tr>\n",
       "    <tr>\n",
       "      <th>20대</th>\n",
       "      <td>2019-09-30</td>\n",
       "      <td>19</td>\n",
       "      <td>111</td>\n",
       "      <td>111. 상수역 2번출구 앞</td>\n",
       "      <td>정기권</td>\n",
       "      <td>M</td>\n",
       "      <td>1.70</td>\n",
       "      <td>0.20</td>\n",
       "      <td>8.50</td>\n",
       "      <td>2019</td>\n",
       "      <td>9</td>\n",
       "    </tr>\n",
       "    <tr>\n",
       "      <th>...</th>\n",
       "      <td>...</td>\n",
       "      <td>...</td>\n",
       "      <td>...</td>\n",
       "      <td>...</td>\n",
       "      <td>...</td>\n",
       "      <td>...</td>\n",
       "      <td>...</td>\n",
       "      <td>...</td>\n",
       "      <td>...</td>\n",
       "      <td>...</td>\n",
       "      <td>...</td>\n",
       "    </tr>\n",
       "    <tr>\n",
       "      <th>30대</th>\n",
       "      <td>2020-03-02</td>\n",
       "      <td>18</td>\n",
       "      <td>1288</td>\n",
       "      <td>1288. 문정중교 사거리</td>\n",
       "      <td>일일권</td>\n",
       "      <td>M</td>\n",
       "      <td>12.64</td>\n",
       "      <td>1.55</td>\n",
       "      <td>8.15</td>\n",
       "      <td>2020</td>\n",
       "      <td>3</td>\n",
       "    </tr>\n",
       "    <tr>\n",
       "      <th>20대</th>\n",
       "      <td>2018-08-22</td>\n",
       "      <td>8</td>\n",
       "      <td>714</td>\n",
       "      <td>714.  한국SGI 양천문화회관 앞</td>\n",
       "      <td>정기권</td>\n",
       "      <td>F</td>\n",
       "      <td>1.38</td>\n",
       "      <td>0.17</td>\n",
       "      <td>8.12</td>\n",
       "      <td>2018</td>\n",
       "      <td>8</td>\n",
       "    </tr>\n",
       "    <tr>\n",
       "      <th>70대~</th>\n",
       "      <td>2020-07-01</td>\n",
       "      <td>17</td>\n",
       "      <td>2621</td>\n",
       "      <td>2621. 한성백제역 2번 출구</td>\n",
       "      <td>정기권</td>\n",
       "      <td>NaN</td>\n",
       "      <td>1.07</td>\n",
       "      <td>0.27</td>\n",
       "      <td>3.96</td>\n",
       "      <td>2020</td>\n",
       "      <td>7</td>\n",
       "    </tr>\n",
       "    <tr>\n",
       "      <th>40대</th>\n",
       "      <td>2018-04-16</td>\n",
       "      <td>15</td>\n",
       "      <td>305</td>\n",
       "      <td>305.  종로구청 옆</td>\n",
       "      <td>정기권</td>\n",
       "      <td>F</td>\n",
       "      <td>2.83</td>\n",
       "      <td>0.40</td>\n",
       "      <td>7.08</td>\n",
       "      <td>2018</td>\n",
       "      <td>4</td>\n",
       "    </tr>\n",
       "    <tr>\n",
       "      <th>20대</th>\n",
       "      <td>2018-07-29</td>\n",
       "      <td>17</td>\n",
       "      <td>1019</td>\n",
       "      <td>1019.  다성이즈빌아파트(호원대 대각선 맞은편)</td>\n",
       "      <td>정기권</td>\n",
       "      <td>F</td>\n",
       "      <td>1.21</td>\n",
       "      <td>0.13</td>\n",
       "      <td>9.31</td>\n",
       "      <td>2018</td>\n",
       "      <td>7</td>\n",
       "    </tr>\n",
       "  </tbody>\n",
       "</table>\n",
       "<p>604150 rows × 11 columns</p>\n",
       "</div>"
      ],
      "text/plain": [
       "            대여일자  대여시간(24)  대여소번호                          대여소명  대여권   성별  \\\n",
       "연령대                                                                         \n",
       "30대   2018-12-02        14   1366                1366. 일신초등학교 옆  정기권    M   \n",
       "30대   2018-06-16        12   1675               1675.  월계문화체육센터  단체권    F   \n",
       "70대~  2018-07-03        11    567              567.  성수역 2번출구 앞  정기권    M   \n",
       "30대   2018-04-21        11   3102                  3102.  연희삼거리  정기권    M   \n",
       "20대   2019-09-30        19    111               111. 상수역 2번출구 앞  정기권    M   \n",
       "...          ...       ...    ...                           ...  ...  ...   \n",
       "30대   2020-03-02        18   1288                1288. 문정중교 사거리  일일권    M   \n",
       "20대   2018-08-22         8    714          714.  한국SGI 양천문화회관 앞  정기권    F   \n",
       "70대~  2020-07-01        17   2621             2621. 한성백제역 2번 출구  정기권  NaN   \n",
       "40대   2018-04-16        15    305                  305.  종로구청 옆  정기권    F   \n",
       "20대   2018-07-29        17   1019  1019.  다성이즈빌아파트(호원대 대각선 맞은편)  정기권    F   \n",
       "\n",
       "      이동거리(km)  사용시간(hr)  속도(km/h)     년   월  \n",
       "연령대                                           \n",
       "30대       2.43      0.32      7.59  2018  12  \n",
       "30대      31.01      3.20      9.69  2018   6  \n",
       "70대~      3.73      0.72      5.18  2018   7  \n",
       "30대       3.01      0.28     10.75  2018   4  \n",
       "20대       1.70      0.20      8.50  2019   9  \n",
       "...        ...       ...       ...   ...  ..  \n",
       "30대      12.64      1.55      8.15  2020   3  \n",
       "20대       1.38      0.17      8.12  2018   8  \n",
       "70대~      1.07      0.27      3.96  2020   7  \n",
       "40대       2.83      0.40      7.08  2018   4  \n",
       "20대       1.21      0.13      9.31  2018   7  \n",
       "\n",
       "[604150 rows x 11 columns]"
      ]
     },
     "execution_count": 37,
     "metadata": {},
     "output_type": "execute_result"
    }
   ],
   "source": [
    "# 연령대를 index로 \n",
    "df.set_index('연령대')"
   ]
  },
  {
   "cell_type": "code",
   "execution_count": null,
   "id": "64e2bfc6-a52a-4a54-beb2-66a2d67fafda",
   "metadata": {},
   "outputs": [],
   "source": []
  },
  {
   "cell_type": "code",
   "execution_count": 38,
   "id": "2d37411e-fd66-40ea-bfbb-846764bc490f",
   "metadata": {},
   "outputs": [
    {
     "data": {
      "text/html": [
       "<div>\n",
       "<style scoped>\n",
       "    .dataframe tbody tr th:only-of-type {\n",
       "        vertical-align: middle;\n",
       "    }\n",
       "\n",
       "    .dataframe tbody tr th {\n",
       "        vertical-align: top;\n",
       "    }\n",
       "\n",
       "    .dataframe thead th {\n",
       "        text-align: right;\n",
       "    }\n",
       "</style>\n",
       "<table border=\"1\" class=\"dataframe\">\n",
       "  <thead>\n",
       "    <tr style=\"text-align: right;\">\n",
       "      <th></th>\n",
       "      <th>대여권</th>\n",
       "      <th>대여시간(24)</th>\n",
       "      <th>이동거리(km)</th>\n",
       "      <th>사용시간(hr)</th>\n",
       "      <th>속도(km/h)</th>\n",
       "    </tr>\n",
       "    <tr>\n",
       "      <th>연령대</th>\n",
       "      <th></th>\n",
       "      <th></th>\n",
       "      <th></th>\n",
       "      <th></th>\n",
       "      <th></th>\n",
       "    </tr>\n",
       "  </thead>\n",
       "  <tbody>\n",
       "    <tr>\n",
       "      <th>~10대</th>\n",
       "      <td>일일권</td>\n",
       "      <td>20</td>\n",
       "      <td>4.41</td>\n",
       "      <td>0.33</td>\n",
       "      <td>13.36</td>\n",
       "    </tr>\n",
       "    <tr>\n",
       "      <th>~10대</th>\n",
       "      <td>정기권</td>\n",
       "      <td>11</td>\n",
       "      <td>1.72</td>\n",
       "      <td>0.20</td>\n",
       "      <td>8.60</td>\n",
       "    </tr>\n",
       "    <tr>\n",
       "      <th>~10대</th>\n",
       "      <td>일일권</td>\n",
       "      <td>18</td>\n",
       "      <td>4.25</td>\n",
       "      <td>0.85</td>\n",
       "      <td>5.00</td>\n",
       "    </tr>\n",
       "    <tr>\n",
       "      <th>~10대</th>\n",
       "      <td>정기권</td>\n",
       "      <td>7</td>\n",
       "      <td>0.68</td>\n",
       "      <td>0.07</td>\n",
       "      <td>9.71</td>\n",
       "    </tr>\n",
       "    <tr>\n",
       "      <th>~10대</th>\n",
       "      <td>일일권</td>\n",
       "      <td>23</td>\n",
       "      <td>3.86</td>\n",
       "      <td>0.23</td>\n",
       "      <td>16.78</td>\n",
       "    </tr>\n",
       "  </tbody>\n",
       "</table>\n",
       "</div>"
      ],
      "text/plain": [
       "      대여권  대여시간(24)  이동거리(km)  사용시간(hr)  속도(km/h)\n",
       "연령대                                              \n",
       "~10대  일일권        20      4.41      0.33     13.36\n",
       "~10대  정기권        11      1.72      0.20      8.60\n",
       "~10대  일일권        18      4.25      0.85      5.00\n",
       "~10대  정기권         7      0.68      0.07      9.71\n",
       "~10대  일일권        23      3.86      0.23     16.78"
      ]
     },
     "execution_count": 38,
     "metadata": {},
     "output_type": "execute_result"
    }
   ],
   "source": [
    "# 연령대 (~10대) - 대여권, 대여시간, 이동거리, 사용시간, 속도\n",
    "ds10s = df.set_index('연령대').loc['~10대',['대여권', '대여시간(24)', '이동거리(km)', '사용시간(hr)', '속도(km/h)']]\n",
    "ds10s.head()"
   ]
  },
  {
   "cell_type": "code",
   "execution_count": 39,
   "id": "69166365-51fa-421b-b02f-3fc1b8ba1774",
   "metadata": {
    "tags": []
   },
   "outputs": [],
   "source": [
    "# ds10s['대여시간(24)'].plot(kind='barh', grid=True)\n",
    "# plt.show()"
   ]
  },
  {
   "cell_type": "code",
   "execution_count": 40,
   "id": "ae413e3d-1625-4a1d-b6d7-6a9f4207343a",
   "metadata": {
    "tags": []
   },
   "outputs": [
    {
     "data": {
      "text/html": [
       "<div>\n",
       "<style scoped>\n",
       "    .dataframe tbody tr th:only-of-type {\n",
       "        vertical-align: middle;\n",
       "    }\n",
       "\n",
       "    .dataframe tbody tr th {\n",
       "        vertical-align: top;\n",
       "    }\n",
       "\n",
       "    .dataframe thead th {\n",
       "        text-align: right;\n",
       "    }\n",
       "</style>\n",
       "<table border=\"1\" class=\"dataframe\">\n",
       "  <thead>\n",
       "    <tr style=\"text-align: right;\">\n",
       "      <th></th>\n",
       "      <th>대여시간(24)</th>\n",
       "      <th>이동거리(km)</th>\n",
       "      <th>사용시간(hr)</th>\n",
       "      <th>속도(km/h)</th>\n",
       "    </tr>\n",
       "  </thead>\n",
       "  <tbody>\n",
       "    <tr>\n",
       "      <th>count</th>\n",
       "      <td>26889.000000</td>\n",
       "      <td>26889.000000</td>\n",
       "      <td>26889.000000</td>\n",
       "      <td>26889.000000</td>\n",
       "    </tr>\n",
       "    <tr>\n",
       "      <th>mean</th>\n",
       "      <td>14.883038</td>\n",
       "      <td>4.591676</td>\n",
       "      <td>0.585511</td>\n",
       "      <td>9.105572</td>\n",
       "    </tr>\n",
       "    <tr>\n",
       "      <th>std</th>\n",
       "      <td>6.559132</td>\n",
       "      <td>7.049557</td>\n",
       "      <td>0.723435</td>\n",
       "      <td>4.323086</td>\n",
       "    </tr>\n",
       "    <tr>\n",
       "      <th>min</th>\n",
       "      <td>0.000000</td>\n",
       "      <td>0.010000</td>\n",
       "      <td>0.020000</td>\n",
       "      <td>0.000000</td>\n",
       "    </tr>\n",
       "    <tr>\n",
       "      <th>25%</th>\n",
       "      <td>12.000000</td>\n",
       "      <td>1.300000</td>\n",
       "      <td>0.150000</td>\n",
       "      <td>6.460000</td>\n",
       "    </tr>\n",
       "    <tr>\n",
       "      <th>50%</th>\n",
       "      <td>17.000000</td>\n",
       "      <td>2.410000</td>\n",
       "      <td>0.320000</td>\n",
       "      <td>8.890000</td>\n",
       "    </tr>\n",
       "    <tr>\n",
       "      <th>75%</th>\n",
       "      <td>20.000000</td>\n",
       "      <td>5.030000</td>\n",
       "      <td>0.750000</td>\n",
       "      <td>11.320000</td>\n",
       "    </tr>\n",
       "    <tr>\n",
       "      <th>max</th>\n",
       "      <td>23.000000</td>\n",
       "      <td>197.610000</td>\n",
       "      <td>5.970000</td>\n",
       "      <td>44.890000</td>\n",
       "    </tr>\n",
       "  </tbody>\n",
       "</table>\n",
       "</div>"
      ],
      "text/plain": [
       "           대여시간(24)      이동거리(km)      사용시간(hr)      속도(km/h)\n",
       "count  26889.000000  26889.000000  26889.000000  26889.000000\n",
       "mean      14.883038      4.591676      0.585511      9.105572\n",
       "std        6.559132      7.049557      0.723435      4.323086\n",
       "min        0.000000      0.010000      0.020000      0.000000\n",
       "25%       12.000000      1.300000      0.150000      6.460000\n",
       "50%       17.000000      2.410000      0.320000      8.890000\n",
       "75%       20.000000      5.030000      0.750000     11.320000\n",
       "max       23.000000    197.610000      5.970000     44.890000"
      ]
     },
     "execution_count": 40,
     "metadata": {},
     "output_type": "execute_result"
    }
   ],
   "source": [
    "d10 = ds10s.describe()\n",
    "d10"
   ]
  },
  {
   "cell_type": "code",
   "execution_count": 41,
   "id": "23a32e26-017a-4d72-a788-237bc231bd86",
   "metadata": {
    "tags": []
   },
   "outputs": [
    {
     "data": {
      "text/plain": [
       "대여시간(24)    14.883038\n",
       "이동거리(km)     4.591676\n",
       "사용시간(hr)     0.585511\n",
       "속도(km/h)     9.105572\n",
       "Name: mean, dtype: float64"
      ]
     },
     "execution_count": 41,
     "metadata": {},
     "output_type": "execute_result"
    }
   ],
   "source": [
    "d10mean = d10.loc['mean']\n",
    "d10mean"
   ]
  },
  {
   "cell_type": "code",
   "execution_count": 42,
   "id": "62d6a0b2-3168-4c97-8ffd-dcdbdaa00e25",
   "metadata": {
    "tags": []
   },
   "outputs": [
    {
     "data": {
      "text/html": [
       "<div>\n",
       "<style scoped>\n",
       "    .dataframe tbody tr th:only-of-type {\n",
       "        vertical-align: middle;\n",
       "    }\n",
       "\n",
       "    .dataframe tbody tr th {\n",
       "        vertical-align: top;\n",
       "    }\n",
       "\n",
       "    .dataframe thead th {\n",
       "        text-align: right;\n",
       "    }\n",
       "</style>\n",
       "<table border=\"1\" class=\"dataframe\">\n",
       "  <thead>\n",
       "    <tr style=\"text-align: right;\">\n",
       "      <th></th>\n",
       "      <th>대여권</th>\n",
       "      <th>대여시간(24)</th>\n",
       "      <th>이동거리(km)</th>\n",
       "      <th>사용시간(hr)</th>\n",
       "      <th>속도(km/h)</th>\n",
       "    </tr>\n",
       "    <tr>\n",
       "      <th>연령대</th>\n",
       "      <th></th>\n",
       "      <th></th>\n",
       "      <th></th>\n",
       "      <th></th>\n",
       "      <th></th>\n",
       "    </tr>\n",
       "  </thead>\n",
       "  <tbody>\n",
       "    <tr>\n",
       "      <th>20대</th>\n",
       "      <td>정기권</td>\n",
       "      <td>19</td>\n",
       "      <td>1.70</td>\n",
       "      <td>0.20</td>\n",
       "      <td>8.50</td>\n",
       "    </tr>\n",
       "    <tr>\n",
       "      <th>20대</th>\n",
       "      <td>정기권</td>\n",
       "      <td>15</td>\n",
       "      <td>1.19</td>\n",
       "      <td>0.07</td>\n",
       "      <td>17.00</td>\n",
       "    </tr>\n",
       "    <tr>\n",
       "      <th>20대</th>\n",
       "      <td>정기권</td>\n",
       "      <td>17</td>\n",
       "      <td>2.36</td>\n",
       "      <td>0.23</td>\n",
       "      <td>10.26</td>\n",
       "    </tr>\n",
       "    <tr>\n",
       "      <th>20대</th>\n",
       "      <td>정기권</td>\n",
       "      <td>9</td>\n",
       "      <td>0.90</td>\n",
       "      <td>0.38</td>\n",
       "      <td>2.37</td>\n",
       "    </tr>\n",
       "    <tr>\n",
       "      <th>20대</th>\n",
       "      <td>정기권</td>\n",
       "      <td>11</td>\n",
       "      <td>1.66</td>\n",
       "      <td>0.18</td>\n",
       "      <td>9.22</td>\n",
       "    </tr>\n",
       "  </tbody>\n",
       "</table>\n",
       "</div>"
      ],
      "text/plain": [
       "     대여권  대여시간(24)  이동거리(km)  사용시간(hr)  속도(km/h)\n",
       "연령대                                             \n",
       "20대  정기권        19      1.70      0.20      8.50\n",
       "20대  정기권        15      1.19      0.07     17.00\n",
       "20대  정기권        17      2.36      0.23     10.26\n",
       "20대  정기권         9      0.90      0.38      2.37\n",
       "20대  정기권        11      1.66      0.18      9.22"
      ]
     },
     "execution_count": 42,
     "metadata": {},
     "output_type": "execute_result"
    }
   ],
   "source": [
    "# 20대 - 대여권, 대여시간, 이동거리, 사용시간, 속도\n",
    "ds20s = df.set_index('연령대').loc['20대',['대여권', '대여시간(24)', '이동거리(km)', '사용시간(hr)', '속도(km/h)']]\n",
    "ds20s.head()"
   ]
  },
  {
   "cell_type": "code",
   "execution_count": 43,
   "id": "9ecc6a43-20db-4842-baa1-26672641350a",
   "metadata": {
    "tags": []
   },
   "outputs": [
    {
     "data": {
      "text/html": [
       "<div>\n",
       "<style scoped>\n",
       "    .dataframe tbody tr th:only-of-type {\n",
       "        vertical-align: middle;\n",
       "    }\n",
       "\n",
       "    .dataframe tbody tr th {\n",
       "        vertical-align: top;\n",
       "    }\n",
       "\n",
       "    .dataframe thead th {\n",
       "        text-align: right;\n",
       "    }\n",
       "</style>\n",
       "<table border=\"1\" class=\"dataframe\">\n",
       "  <thead>\n",
       "    <tr style=\"text-align: right;\">\n",
       "      <th></th>\n",
       "      <th>대여시간(24)</th>\n",
       "      <th>이동거리(km)</th>\n",
       "      <th>사용시간(hr)</th>\n",
       "      <th>속도(km/h)</th>\n",
       "    </tr>\n",
       "  </thead>\n",
       "  <tbody>\n",
       "    <tr>\n",
       "      <th>count</th>\n",
       "      <td>270832.000000</td>\n",
       "      <td>270832.000000</td>\n",
       "      <td>270832.000000</td>\n",
       "      <td>270832.000000</td>\n",
       "    </tr>\n",
       "    <tr>\n",
       "      <th>mean</th>\n",
       "      <td>14.404409</td>\n",
       "      <td>4.911036</td>\n",
       "      <td>0.590600</td>\n",
       "      <td>9.525859</td>\n",
       "    </tr>\n",
       "    <tr>\n",
       "      <th>std</th>\n",
       "      <td>6.326598</td>\n",
       "      <td>7.307456</td>\n",
       "      <td>0.714522</td>\n",
       "      <td>4.364273</td>\n",
       "    </tr>\n",
       "    <tr>\n",
       "      <th>min</th>\n",
       "      <td>0.000000</td>\n",
       "      <td>0.010000</td>\n",
       "      <td>0.020000</td>\n",
       "      <td>0.000000</td>\n",
       "    </tr>\n",
       "    <tr>\n",
       "      <th>25%</th>\n",
       "      <td>10.000000</td>\n",
       "      <td>1.350000</td>\n",
       "      <td>0.150000</td>\n",
       "      <td>6.980000</td>\n",
       "    </tr>\n",
       "    <tr>\n",
       "      <th>50%</th>\n",
       "      <td>16.000000</td>\n",
       "      <td>2.600000</td>\n",
       "      <td>0.320000</td>\n",
       "      <td>9.380000</td>\n",
       "    </tr>\n",
       "    <tr>\n",
       "      <th>75%</th>\n",
       "      <td>19.000000</td>\n",
       "      <td>5.560000</td>\n",
       "      <td>0.770000</td>\n",
       "      <td>11.770000</td>\n",
       "    </tr>\n",
       "    <tr>\n",
       "      <th>max</th>\n",
       "      <td>23.000000</td>\n",
       "      <td>230.590000</td>\n",
       "      <td>6.000000</td>\n",
       "      <td>44.980000</td>\n",
       "    </tr>\n",
       "  </tbody>\n",
       "</table>\n",
       "</div>"
      ],
      "text/plain": [
       "            대여시간(24)       이동거리(km)       사용시간(hr)       속도(km/h)\n",
       "count  270832.000000  270832.000000  270832.000000  270832.000000\n",
       "mean       14.404409       4.911036       0.590600       9.525859\n",
       "std         6.326598       7.307456       0.714522       4.364273\n",
       "min         0.000000       0.010000       0.020000       0.000000\n",
       "25%        10.000000       1.350000       0.150000       6.980000\n",
       "50%        16.000000       2.600000       0.320000       9.380000\n",
       "75%        19.000000       5.560000       0.770000      11.770000\n",
       "max        23.000000     230.590000       6.000000      44.980000"
      ]
     },
     "execution_count": 43,
     "metadata": {},
     "output_type": "execute_result"
    }
   ],
   "source": [
    "d20 = ds20s.describe()\n",
    "d20"
   ]
  },
  {
   "cell_type": "code",
   "execution_count": 44,
   "id": "436e1e99-20ba-412b-ac71-3d461382d28e",
   "metadata": {
    "tags": []
   },
   "outputs": [
    {
     "data": {
      "text/plain": [
       "대여시간(24)    14.404409\n",
       "이동거리(km)     4.911036\n",
       "사용시간(hr)     0.590600\n",
       "속도(km/h)     9.525859\n",
       "Name: mean, dtype: float64"
      ]
     },
     "execution_count": 44,
     "metadata": {},
     "output_type": "execute_result"
    }
   ],
   "source": [
    "d20mean = d20.loc['mean']\n",
    "d20mean"
   ]
  },
  {
   "cell_type": "code",
   "execution_count": 45,
   "id": "0b5cc294-55c2-451f-b89e-4425e1d4c052",
   "metadata": {
    "tags": []
   },
   "outputs": [
    {
     "data": {
      "text/html": [
       "<div>\n",
       "<style scoped>\n",
       "    .dataframe tbody tr th:only-of-type {\n",
       "        vertical-align: middle;\n",
       "    }\n",
       "\n",
       "    .dataframe tbody tr th {\n",
       "        vertical-align: top;\n",
       "    }\n",
       "\n",
       "    .dataframe thead th {\n",
       "        text-align: right;\n",
       "    }\n",
       "</style>\n",
       "<table border=\"1\" class=\"dataframe\">\n",
       "  <thead>\n",
       "    <tr style=\"text-align: right;\">\n",
       "      <th></th>\n",
       "      <th>대여권</th>\n",
       "      <th>대여시간(24)</th>\n",
       "      <th>이동거리(km)</th>\n",
       "      <th>사용시간(hr)</th>\n",
       "      <th>속도(km/h)</th>\n",
       "    </tr>\n",
       "    <tr>\n",
       "      <th>연령대</th>\n",
       "      <th></th>\n",
       "      <th></th>\n",
       "      <th></th>\n",
       "      <th></th>\n",
       "      <th></th>\n",
       "    </tr>\n",
       "  </thead>\n",
       "  <tbody>\n",
       "    <tr>\n",
       "      <th>30대</th>\n",
       "      <td>정기권</td>\n",
       "      <td>14</td>\n",
       "      <td>2.43</td>\n",
       "      <td>0.32</td>\n",
       "      <td>7.59</td>\n",
       "    </tr>\n",
       "    <tr>\n",
       "      <th>30대</th>\n",
       "      <td>단체권</td>\n",
       "      <td>12</td>\n",
       "      <td>31.01</td>\n",
       "      <td>3.20</td>\n",
       "      <td>9.69</td>\n",
       "    </tr>\n",
       "    <tr>\n",
       "      <th>30대</th>\n",
       "      <td>정기권</td>\n",
       "      <td>11</td>\n",
       "      <td>3.01</td>\n",
       "      <td>0.28</td>\n",
       "      <td>10.75</td>\n",
       "    </tr>\n",
       "    <tr>\n",
       "      <th>30대</th>\n",
       "      <td>정기권</td>\n",
       "      <td>17</td>\n",
       "      <td>2.62</td>\n",
       "      <td>0.33</td>\n",
       "      <td>7.94</td>\n",
       "    </tr>\n",
       "    <tr>\n",
       "      <th>30대</th>\n",
       "      <td>정기권</td>\n",
       "      <td>21</td>\n",
       "      <td>1.69</td>\n",
       "      <td>0.60</td>\n",
       "      <td>2.82</td>\n",
       "    </tr>\n",
       "  </tbody>\n",
       "</table>\n",
       "</div>"
      ],
      "text/plain": [
       "     대여권  대여시간(24)  이동거리(km)  사용시간(hr)  속도(km/h)\n",
       "연령대                                             \n",
       "30대  정기권        14      2.43      0.32      7.59\n",
       "30대  단체권        12     31.01      3.20      9.69\n",
       "30대  정기권        11      3.01      0.28     10.75\n",
       "30대  정기권        17      2.62      0.33      7.94\n",
       "30대  정기권        21      1.69      0.60      2.82"
      ]
     },
     "execution_count": 45,
     "metadata": {},
     "output_type": "execute_result"
    }
   ],
   "source": [
    "# 연령대 (30대) - 대여권, 대여시간, 이동거리, 사용시간, 속도\n",
    "ds30s = df.set_index('연령대').loc['30대',['대여권', '대여시간(24)', '이동거리(km)', '사용시간(hr)', '속도(km/h)']]\n",
    "ds30s.head()"
   ]
  },
  {
   "cell_type": "code",
   "execution_count": 46,
   "id": "bf46af82-f9ee-4af0-b781-5893a1ac8ad8",
   "metadata": {
    "tags": []
   },
   "outputs": [
    {
     "data": {
      "text/html": [
       "<div>\n",
       "<style scoped>\n",
       "    .dataframe tbody tr th:only-of-type {\n",
       "        vertical-align: middle;\n",
       "    }\n",
       "\n",
       "    .dataframe tbody tr th {\n",
       "        vertical-align: top;\n",
       "    }\n",
       "\n",
       "    .dataframe thead th {\n",
       "        text-align: right;\n",
       "    }\n",
       "</style>\n",
       "<table border=\"1\" class=\"dataframe\">\n",
       "  <thead>\n",
       "    <tr style=\"text-align: right;\">\n",
       "      <th></th>\n",
       "      <th>대여시간(24)</th>\n",
       "      <th>이동거리(km)</th>\n",
       "      <th>사용시간(hr)</th>\n",
       "      <th>속도(km/h)</th>\n",
       "    </tr>\n",
       "  </thead>\n",
       "  <tbody>\n",
       "    <tr>\n",
       "      <th>count</th>\n",
       "      <td>147281.000000</td>\n",
       "      <td>147281.000000</td>\n",
       "      <td>147281.000000</td>\n",
       "      <td>147281.000000</td>\n",
       "    </tr>\n",
       "    <tr>\n",
       "      <th>mean</th>\n",
       "      <td>14.327109</td>\n",
       "      <td>4.533074</td>\n",
       "      <td>0.532217</td>\n",
       "      <td>9.712704</td>\n",
       "    </tr>\n",
       "    <tr>\n",
       "      <th>std</th>\n",
       "      <td>5.901090</td>\n",
       "      <td>6.279849</td>\n",
       "      <td>0.607373</td>\n",
       "      <td>4.404682</td>\n",
       "    </tr>\n",
       "    <tr>\n",
       "      <th>min</th>\n",
       "      <td>0.000000</td>\n",
       "      <td>0.010000</td>\n",
       "      <td>0.020000</td>\n",
       "      <td>0.000000</td>\n",
       "    </tr>\n",
       "    <tr>\n",
       "      <th>25%</th>\n",
       "      <td>10.000000</td>\n",
       "      <td>1.290000</td>\n",
       "      <td>0.150000</td>\n",
       "      <td>7.110000</td>\n",
       "    </tr>\n",
       "    <tr>\n",
       "      <th>50%</th>\n",
       "      <td>16.000000</td>\n",
       "      <td>2.470000</td>\n",
       "      <td>0.300000</td>\n",
       "      <td>9.620000</td>\n",
       "    </tr>\n",
       "    <tr>\n",
       "      <th>75%</th>\n",
       "      <td>19.000000</td>\n",
       "      <td>5.280000</td>\n",
       "      <td>0.700000</td>\n",
       "      <td>12.130000</td>\n",
       "    </tr>\n",
       "    <tr>\n",
       "      <th>max</th>\n",
       "      <td>23.000000</td>\n",
       "      <td>230.460000</td>\n",
       "      <td>6.000000</td>\n",
       "      <td>45.000000</td>\n",
       "    </tr>\n",
       "  </tbody>\n",
       "</table>\n",
       "</div>"
      ],
      "text/plain": [
       "            대여시간(24)       이동거리(km)       사용시간(hr)       속도(km/h)\n",
       "count  147281.000000  147281.000000  147281.000000  147281.000000\n",
       "mean       14.327109       4.533074       0.532217       9.712704\n",
       "std         5.901090       6.279849       0.607373       4.404682\n",
       "min         0.000000       0.010000       0.020000       0.000000\n",
       "25%        10.000000       1.290000       0.150000       7.110000\n",
       "50%        16.000000       2.470000       0.300000       9.620000\n",
       "75%        19.000000       5.280000       0.700000      12.130000\n",
       "max        23.000000     230.460000       6.000000      45.000000"
      ]
     },
     "execution_count": 46,
     "metadata": {},
     "output_type": "execute_result"
    }
   ],
   "source": [
    "d30 = ds30s.describe()\n",
    "d30"
   ]
  },
  {
   "cell_type": "code",
   "execution_count": 47,
   "id": "38f4043b-1fb0-488f-8f14-a4867fba9c6c",
   "metadata": {
    "tags": []
   },
   "outputs": [
    {
     "data": {
      "text/plain": [
       "대여시간(24)    14.327109\n",
       "이동거리(km)     4.533074\n",
       "사용시간(hr)     0.532217\n",
       "속도(km/h)     9.712704\n",
       "Name: mean, dtype: float64"
      ]
     },
     "execution_count": 47,
     "metadata": {},
     "output_type": "execute_result"
    }
   ],
   "source": [
    "d30mean = d30.loc['mean']\n",
    "d30mean"
   ]
  },
  {
   "cell_type": "code",
   "execution_count": 48,
   "id": "b2e3e5bf-a8e2-4076-b5fd-2d8dce640b0b",
   "metadata": {
    "tags": []
   },
   "outputs": [
    {
     "data": {
      "text/html": [
       "<div>\n",
       "<style scoped>\n",
       "    .dataframe tbody tr th:only-of-type {\n",
       "        vertical-align: middle;\n",
       "    }\n",
       "\n",
       "    .dataframe tbody tr th {\n",
       "        vertical-align: top;\n",
       "    }\n",
       "\n",
       "    .dataframe thead th {\n",
       "        text-align: right;\n",
       "    }\n",
       "</style>\n",
       "<table border=\"1\" class=\"dataframe\">\n",
       "  <thead>\n",
       "    <tr style=\"text-align: right;\">\n",
       "      <th></th>\n",
       "      <th>대여권</th>\n",
       "      <th>대여시간(24)</th>\n",
       "      <th>이동거리(km)</th>\n",
       "      <th>사용시간(hr)</th>\n",
       "      <th>속도(km/h)</th>\n",
       "    </tr>\n",
       "    <tr>\n",
       "      <th>연령대</th>\n",
       "      <th></th>\n",
       "      <th></th>\n",
       "      <th></th>\n",
       "      <th></th>\n",
       "      <th></th>\n",
       "    </tr>\n",
       "  </thead>\n",
       "  <tbody>\n",
       "    <tr>\n",
       "      <th>40대</th>\n",
       "      <td>정기권</td>\n",
       "      <td>20</td>\n",
       "      <td>3.65</td>\n",
       "      <td>0.37</td>\n",
       "      <td>9.86</td>\n",
       "    </tr>\n",
       "    <tr>\n",
       "      <th>40대</th>\n",
       "      <td>정기권</td>\n",
       "      <td>3</td>\n",
       "      <td>0.51</td>\n",
       "      <td>0.15</td>\n",
       "      <td>3.40</td>\n",
       "    </tr>\n",
       "    <tr>\n",
       "      <th>40대</th>\n",
       "      <td>정기권</td>\n",
       "      <td>8</td>\n",
       "      <td>4.84</td>\n",
       "      <td>0.25</td>\n",
       "      <td>19.36</td>\n",
       "    </tr>\n",
       "    <tr>\n",
       "      <th>40대</th>\n",
       "      <td>정기권</td>\n",
       "      <td>8</td>\n",
       "      <td>2.89</td>\n",
       "      <td>0.18</td>\n",
       "      <td>16.06</td>\n",
       "    </tr>\n",
       "    <tr>\n",
       "      <th>40대</th>\n",
       "      <td>일일권</td>\n",
       "      <td>13</td>\n",
       "      <td>3.27</td>\n",
       "      <td>0.37</td>\n",
       "      <td>8.84</td>\n",
       "    </tr>\n",
       "  </tbody>\n",
       "</table>\n",
       "</div>"
      ],
      "text/plain": [
       "     대여권  대여시간(24)  이동거리(km)  사용시간(hr)  속도(km/h)\n",
       "연령대                                             \n",
       "40대  정기권        20      3.65      0.37      9.86\n",
       "40대  정기권         3      0.51      0.15      3.40\n",
       "40대  정기권         8      4.84      0.25     19.36\n",
       "40대  정기권         8      2.89      0.18     16.06\n",
       "40대  일일권        13      3.27      0.37      8.84"
      ]
     },
     "execution_count": 48,
     "metadata": {},
     "output_type": "execute_result"
    }
   ],
   "source": [
    "# 연령대 (40대) - 대여권, 대여시간, 이동거리, 사용시간, 속도\n",
    "ds40s = df.set_index('연령대').loc['40대',['대여권', '대여시간(24)', '이동거리(km)', '사용시간(hr)', '속도(km/h)']]\n",
    "ds40s.head()"
   ]
  },
  {
   "cell_type": "code",
   "execution_count": 49,
   "id": "7c9b3532-df89-400c-a8b5-d7e15ad4bc77",
   "metadata": {
    "tags": []
   },
   "outputs": [
    {
     "data": {
      "text/html": [
       "<div>\n",
       "<style scoped>\n",
       "    .dataframe tbody tr th:only-of-type {\n",
       "        vertical-align: middle;\n",
       "    }\n",
       "\n",
       "    .dataframe tbody tr th {\n",
       "        vertical-align: top;\n",
       "    }\n",
       "\n",
       "    .dataframe thead th {\n",
       "        text-align: right;\n",
       "    }\n",
       "</style>\n",
       "<table border=\"1\" class=\"dataframe\">\n",
       "  <thead>\n",
       "    <tr style=\"text-align: right;\">\n",
       "      <th></th>\n",
       "      <th>대여시간(24)</th>\n",
       "      <th>이동거리(km)</th>\n",
       "      <th>사용시간(hr)</th>\n",
       "      <th>속도(km/h)</th>\n",
       "    </tr>\n",
       "  </thead>\n",
       "  <tbody>\n",
       "    <tr>\n",
       "      <th>count</th>\n",
       "      <td>92456.000000</td>\n",
       "      <td>92456.000000</td>\n",
       "      <td>92456.000000</td>\n",
       "      <td>92456.000000</td>\n",
       "    </tr>\n",
       "    <tr>\n",
       "      <th>mean</th>\n",
       "      <td>13.351410</td>\n",
       "      <td>4.422659</td>\n",
       "      <td>0.527742</td>\n",
       "      <td>9.651403</td>\n",
       "    </tr>\n",
       "    <tr>\n",
       "      <th>std</th>\n",
       "      <td>6.039257</td>\n",
       "      <td>5.910254</td>\n",
       "      <td>0.585579</td>\n",
       "      <td>4.445262</td>\n",
       "    </tr>\n",
       "    <tr>\n",
       "      <th>min</th>\n",
       "      <td>0.000000</td>\n",
       "      <td>0.010000</td>\n",
       "      <td>0.020000</td>\n",
       "      <td>0.000000</td>\n",
       "    </tr>\n",
       "    <tr>\n",
       "      <th>25%</th>\n",
       "      <td>8.000000</td>\n",
       "      <td>1.280000</td>\n",
       "      <td>0.150000</td>\n",
       "      <td>6.910000</td>\n",
       "    </tr>\n",
       "    <tr>\n",
       "      <th>50%</th>\n",
       "      <td>14.000000</td>\n",
       "      <td>2.470000</td>\n",
       "      <td>0.320000</td>\n",
       "      <td>9.670000</td>\n",
       "    </tr>\n",
       "    <tr>\n",
       "      <th>75%</th>\n",
       "      <td>18.000000</td>\n",
       "      <td>5.210000</td>\n",
       "      <td>0.700000</td>\n",
       "      <td>12.260000</td>\n",
       "    </tr>\n",
       "    <tr>\n",
       "      <th>max</th>\n",
       "      <td>23.000000</td>\n",
       "      <td>221.960000</td>\n",
       "      <td>5.980000</td>\n",
       "      <td>44.780000</td>\n",
       "    </tr>\n",
       "  </tbody>\n",
       "</table>\n",
       "</div>"
      ],
      "text/plain": [
       "           대여시간(24)      이동거리(km)      사용시간(hr)      속도(km/h)\n",
       "count  92456.000000  92456.000000  92456.000000  92456.000000\n",
       "mean      13.351410      4.422659      0.527742      9.651403\n",
       "std        6.039257      5.910254      0.585579      4.445262\n",
       "min        0.000000      0.010000      0.020000      0.000000\n",
       "25%        8.000000      1.280000      0.150000      6.910000\n",
       "50%       14.000000      2.470000      0.320000      9.670000\n",
       "75%       18.000000      5.210000      0.700000     12.260000\n",
       "max       23.000000    221.960000      5.980000     44.780000"
      ]
     },
     "execution_count": 49,
     "metadata": {},
     "output_type": "execute_result"
    }
   ],
   "source": [
    "d40 = ds40s.describe()\n",
    "d40"
   ]
  },
  {
   "cell_type": "code",
   "execution_count": 50,
   "id": "bab46f36-a9d3-417c-8085-8736f1bf2197",
   "metadata": {
    "tags": []
   },
   "outputs": [
    {
     "data": {
      "text/plain": [
       "대여시간(24)    13.351410\n",
       "이동거리(km)     4.422659\n",
       "사용시간(hr)     0.527742\n",
       "속도(km/h)     9.651403\n",
       "Name: mean, dtype: float64"
      ]
     },
     "execution_count": 50,
     "metadata": {},
     "output_type": "execute_result"
    }
   ],
   "source": [
    "d40mean = d40.loc['mean']\n",
    "d40mean"
   ]
  },
  {
   "cell_type": "code",
   "execution_count": 51,
   "id": "27404022-3311-442d-a770-5d7d55aecd89",
   "metadata": {
    "tags": []
   },
   "outputs": [
    {
     "data": {
      "text/html": [
       "<div>\n",
       "<style scoped>\n",
       "    .dataframe tbody tr th:only-of-type {\n",
       "        vertical-align: middle;\n",
       "    }\n",
       "\n",
       "    .dataframe tbody tr th {\n",
       "        vertical-align: top;\n",
       "    }\n",
       "\n",
       "    .dataframe thead th {\n",
       "        text-align: right;\n",
       "    }\n",
       "</style>\n",
       "<table border=\"1\" class=\"dataframe\">\n",
       "  <thead>\n",
       "    <tr style=\"text-align: right;\">\n",
       "      <th></th>\n",
       "      <th>대여권</th>\n",
       "      <th>대여시간(24)</th>\n",
       "      <th>이동거리(km)</th>\n",
       "      <th>사용시간(hr)</th>\n",
       "      <th>속도(km/h)</th>\n",
       "    </tr>\n",
       "    <tr>\n",
       "      <th>연령대</th>\n",
       "      <th></th>\n",
       "      <th></th>\n",
       "      <th></th>\n",
       "      <th></th>\n",
       "      <th></th>\n",
       "    </tr>\n",
       "  </thead>\n",
       "  <tbody>\n",
       "    <tr>\n",
       "      <th>50대</th>\n",
       "      <td>정기권</td>\n",
       "      <td>19</td>\n",
       "      <td>2.69</td>\n",
       "      <td>0.30</td>\n",
       "      <td>8.97</td>\n",
       "    </tr>\n",
       "    <tr>\n",
       "      <th>50대</th>\n",
       "      <td>정기권</td>\n",
       "      <td>21</td>\n",
       "      <td>14.28</td>\n",
       "      <td>1.17</td>\n",
       "      <td>12.21</td>\n",
       "    </tr>\n",
       "    <tr>\n",
       "      <th>50대</th>\n",
       "      <td>정기권</td>\n",
       "      <td>18</td>\n",
       "      <td>4.01</td>\n",
       "      <td>0.37</td>\n",
       "      <td>10.84</td>\n",
       "    </tr>\n",
       "    <tr>\n",
       "      <th>50대</th>\n",
       "      <td>정기권</td>\n",
       "      <td>19</td>\n",
       "      <td>1.37</td>\n",
       "      <td>0.20</td>\n",
       "      <td>6.85</td>\n",
       "    </tr>\n",
       "    <tr>\n",
       "      <th>50대</th>\n",
       "      <td>정기권</td>\n",
       "      <td>17</td>\n",
       "      <td>5.09</td>\n",
       "      <td>0.75</td>\n",
       "      <td>6.79</td>\n",
       "    </tr>\n",
       "  </tbody>\n",
       "</table>\n",
       "</div>"
      ],
      "text/plain": [
       "     대여권  대여시간(24)  이동거리(km)  사용시간(hr)  속도(km/h)\n",
       "연령대                                             \n",
       "50대  정기권        19      2.69      0.30      8.97\n",
       "50대  정기권        21     14.28      1.17     12.21\n",
       "50대  정기권        18      4.01      0.37     10.84\n",
       "50대  정기권        19      1.37      0.20      6.85\n",
       "50대  정기권        17      5.09      0.75      6.79"
      ]
     },
     "execution_count": 51,
     "metadata": {},
     "output_type": "execute_result"
    }
   ],
   "source": [
    "# 연령대 (50대) - 대여권, 대여시간, 이동거리, 사용시간, 속도\n",
    "ds50s = df.set_index('연령대').loc['50대',['대여권', '대여시간(24)', '이동거리(km)', '사용시간(hr)', '속도(km/h)']]\n",
    "ds50s.head()"
   ]
  },
  {
   "cell_type": "code",
   "execution_count": 52,
   "id": "fdec0f6b-855a-4058-942e-b6ec3c1f7a4f",
   "metadata": {
    "tags": []
   },
   "outputs": [
    {
     "data": {
      "text/html": [
       "<div>\n",
       "<style scoped>\n",
       "    .dataframe tbody tr th:only-of-type {\n",
       "        vertical-align: middle;\n",
       "    }\n",
       "\n",
       "    .dataframe tbody tr th {\n",
       "        vertical-align: top;\n",
       "    }\n",
       "\n",
       "    .dataframe thead th {\n",
       "        text-align: right;\n",
       "    }\n",
       "</style>\n",
       "<table border=\"1\" class=\"dataframe\">\n",
       "  <thead>\n",
       "    <tr style=\"text-align: right;\">\n",
       "      <th></th>\n",
       "      <th>대여시간(24)</th>\n",
       "      <th>이동거리(km)</th>\n",
       "      <th>사용시간(hr)</th>\n",
       "      <th>속도(km/h)</th>\n",
       "    </tr>\n",
       "  </thead>\n",
       "  <tbody>\n",
       "    <tr>\n",
       "      <th>count</th>\n",
       "      <td>50552.000000</td>\n",
       "      <td>50552.000000</td>\n",
       "      <td>50552.000000</td>\n",
       "      <td>50552.000000</td>\n",
       "    </tr>\n",
       "    <tr>\n",
       "      <th>mean</th>\n",
       "      <td>12.581718</td>\n",
       "      <td>4.189637</td>\n",
       "      <td>0.487778</td>\n",
       "      <td>9.641386</td>\n",
       "    </tr>\n",
       "    <tr>\n",
       "      <th>std</th>\n",
       "      <td>6.520202</td>\n",
       "      <td>5.292168</td>\n",
       "      <td>0.516999</td>\n",
       "      <td>4.287170</td>\n",
       "    </tr>\n",
       "    <tr>\n",
       "      <th>min</th>\n",
       "      <td>0.000000</td>\n",
       "      <td>0.010000</td>\n",
       "      <td>0.020000</td>\n",
       "      <td>0.010000</td>\n",
       "    </tr>\n",
       "    <tr>\n",
       "      <th>25%</th>\n",
       "      <td>8.000000</td>\n",
       "      <td>1.250000</td>\n",
       "      <td>0.150000</td>\n",
       "      <td>7.090000</td>\n",
       "    </tr>\n",
       "    <tr>\n",
       "      <th>50%</th>\n",
       "      <td>14.000000</td>\n",
       "      <td>2.400000</td>\n",
       "      <td>0.300000</td>\n",
       "      <td>9.630000</td>\n",
       "    </tr>\n",
       "    <tr>\n",
       "      <th>75%</th>\n",
       "      <td>18.000000</td>\n",
       "      <td>4.950000</td>\n",
       "      <td>0.650000</td>\n",
       "      <td>12.140000</td>\n",
       "    </tr>\n",
       "    <tr>\n",
       "      <th>max</th>\n",
       "      <td>23.000000</td>\n",
       "      <td>111.330000</td>\n",
       "      <td>5.880000</td>\n",
       "      <td>44.980000</td>\n",
       "    </tr>\n",
       "  </tbody>\n",
       "</table>\n",
       "</div>"
      ],
      "text/plain": [
       "           대여시간(24)      이동거리(km)      사용시간(hr)      속도(km/h)\n",
       "count  50552.000000  50552.000000  50552.000000  50552.000000\n",
       "mean      12.581718      4.189637      0.487778      9.641386\n",
       "std        6.520202      5.292168      0.516999      4.287170\n",
       "min        0.000000      0.010000      0.020000      0.010000\n",
       "25%        8.000000      1.250000      0.150000      7.090000\n",
       "50%       14.000000      2.400000      0.300000      9.630000\n",
       "75%       18.000000      4.950000      0.650000     12.140000\n",
       "max       23.000000    111.330000      5.880000     44.980000"
      ]
     },
     "execution_count": 52,
     "metadata": {},
     "output_type": "execute_result"
    }
   ],
   "source": [
    "d50 = ds50s.describe()\n",
    "d50"
   ]
  },
  {
   "cell_type": "code",
   "execution_count": 53,
   "id": "e7a9a10c-2e25-4e66-9c1c-75f8e7281def",
   "metadata": {
    "tags": []
   },
   "outputs": [
    {
     "data": {
      "text/plain": [
       "대여시간(24)    12.581718\n",
       "이동거리(km)     4.189637\n",
       "사용시간(hr)     0.487778\n",
       "속도(km/h)     9.641386\n",
       "Name: mean, dtype: float64"
      ]
     },
     "execution_count": 53,
     "metadata": {},
     "output_type": "execute_result"
    }
   ],
   "source": [
    "d50mean = d50.loc['mean']\n",
    "d50mean"
   ]
  },
  {
   "cell_type": "code",
   "execution_count": 54,
   "id": "e53d0d26-21b9-4b0c-9894-a8a95617135d",
   "metadata": {
    "tags": []
   },
   "outputs": [
    {
     "data": {
      "text/html": [
       "<div>\n",
       "<style scoped>\n",
       "    .dataframe tbody tr th:only-of-type {\n",
       "        vertical-align: middle;\n",
       "    }\n",
       "\n",
       "    .dataframe tbody tr th {\n",
       "        vertical-align: top;\n",
       "    }\n",
       "\n",
       "    .dataframe thead th {\n",
       "        text-align: right;\n",
       "    }\n",
       "</style>\n",
       "<table border=\"1\" class=\"dataframe\">\n",
       "  <thead>\n",
       "    <tr style=\"text-align: right;\">\n",
       "      <th></th>\n",
       "      <th>대여권</th>\n",
       "      <th>대여시간(24)</th>\n",
       "      <th>이동거리(km)</th>\n",
       "      <th>사용시간(hr)</th>\n",
       "      <th>속도(km/h)</th>\n",
       "    </tr>\n",
       "    <tr>\n",
       "      <th>연령대</th>\n",
       "      <th></th>\n",
       "      <th></th>\n",
       "      <th></th>\n",
       "      <th></th>\n",
       "      <th></th>\n",
       "    </tr>\n",
       "  </thead>\n",
       "  <tbody>\n",
       "    <tr>\n",
       "      <th>60대</th>\n",
       "      <td>정기권</td>\n",
       "      <td>7</td>\n",
       "      <td>4.34</td>\n",
       "      <td>0.37</td>\n",
       "      <td>11.73</td>\n",
       "    </tr>\n",
       "    <tr>\n",
       "      <th>60대</th>\n",
       "      <td>정기권</td>\n",
       "      <td>11</td>\n",
       "      <td>0.87</td>\n",
       "      <td>0.15</td>\n",
       "      <td>5.80</td>\n",
       "    </tr>\n",
       "    <tr>\n",
       "      <th>60대</th>\n",
       "      <td>정기권</td>\n",
       "      <td>18</td>\n",
       "      <td>1.64</td>\n",
       "      <td>0.20</td>\n",
       "      <td>8.20</td>\n",
       "    </tr>\n",
       "    <tr>\n",
       "      <th>60대</th>\n",
       "      <td>정기권</td>\n",
       "      <td>17</td>\n",
       "      <td>0.88</td>\n",
       "      <td>0.10</td>\n",
       "      <td>8.80</td>\n",
       "    </tr>\n",
       "    <tr>\n",
       "      <th>60대</th>\n",
       "      <td>정기권</td>\n",
       "      <td>21</td>\n",
       "      <td>1.46</td>\n",
       "      <td>0.23</td>\n",
       "      <td>6.35</td>\n",
       "    </tr>\n",
       "  </tbody>\n",
       "</table>\n",
       "</div>"
      ],
      "text/plain": [
       "     대여권  대여시간(24)  이동거리(km)  사용시간(hr)  속도(km/h)\n",
       "연령대                                             \n",
       "60대  정기권         7      4.34      0.37     11.73\n",
       "60대  정기권        11      0.87      0.15      5.80\n",
       "60대  정기권        18      1.64      0.20      8.20\n",
       "60대  정기권        17      0.88      0.10      8.80\n",
       "60대  정기권        21      1.46      0.23      6.35"
      ]
     },
     "execution_count": 54,
     "metadata": {},
     "output_type": "execute_result"
    }
   ],
   "source": [
    "# 연령대 (60대) - 대여권, 대여시간, 이동거리, 사용시간, 속도\n",
    "ds60s = df.set_index('연령대').loc['60대',['대여권', '대여시간(24)', '이동거리(km)', '사용시간(hr)', '속도(km/h)']]\n",
    "ds60s.head()"
   ]
  },
  {
   "cell_type": "code",
   "execution_count": 55,
   "id": "ef1723c9-868b-41c1-87fc-2d75dff504df",
   "metadata": {
    "tags": []
   },
   "outputs": [
    {
     "data": {
      "text/html": [
       "<div>\n",
       "<style scoped>\n",
       "    .dataframe tbody tr th:only-of-type {\n",
       "        vertical-align: middle;\n",
       "    }\n",
       "\n",
       "    .dataframe tbody tr th {\n",
       "        vertical-align: top;\n",
       "    }\n",
       "\n",
       "    .dataframe thead th {\n",
       "        text-align: right;\n",
       "    }\n",
       "</style>\n",
       "<table border=\"1\" class=\"dataframe\">\n",
       "  <thead>\n",
       "    <tr style=\"text-align: right;\">\n",
       "      <th></th>\n",
       "      <th>대여시간(24)</th>\n",
       "      <th>이동거리(km)</th>\n",
       "      <th>사용시간(hr)</th>\n",
       "      <th>속도(km/h)</th>\n",
       "    </tr>\n",
       "  </thead>\n",
       "  <tbody>\n",
       "    <tr>\n",
       "      <th>count</th>\n",
       "      <td>12967.000000</td>\n",
       "      <td>12967.000000</td>\n",
       "      <td>12967.000000</td>\n",
       "      <td>12967.000000</td>\n",
       "    </tr>\n",
       "    <tr>\n",
       "      <th>mean</th>\n",
       "      <td>12.027917</td>\n",
       "      <td>4.221814</td>\n",
       "      <td>0.525678</td>\n",
       "      <td>9.161338</td>\n",
       "    </tr>\n",
       "    <tr>\n",
       "      <th>std</th>\n",
       "      <td>6.418066</td>\n",
       "      <td>5.408808</td>\n",
       "      <td>0.524539</td>\n",
       "      <td>4.353453</td>\n",
       "    </tr>\n",
       "    <tr>\n",
       "      <th>min</th>\n",
       "      <td>0.000000</td>\n",
       "      <td>0.010000</td>\n",
       "      <td>0.020000</td>\n",
       "      <td>0.020000</td>\n",
       "    </tr>\n",
       "    <tr>\n",
       "      <th>25%</th>\n",
       "      <td>7.000000</td>\n",
       "      <td>1.250000</td>\n",
       "      <td>0.150000</td>\n",
       "      <td>6.500000</td>\n",
       "    </tr>\n",
       "    <tr>\n",
       "      <th>50%</th>\n",
       "      <td>13.000000</td>\n",
       "      <td>2.350000</td>\n",
       "      <td>0.320000</td>\n",
       "      <td>9.270000</td>\n",
       "    </tr>\n",
       "    <tr>\n",
       "      <th>75%</th>\n",
       "      <td>17.000000</td>\n",
       "      <td>5.040000</td>\n",
       "      <td>0.730000</td>\n",
       "      <td>11.730000</td>\n",
       "    </tr>\n",
       "    <tr>\n",
       "      <th>max</th>\n",
       "      <td>23.000000</td>\n",
       "      <td>120.620000</td>\n",
       "      <td>5.030000</td>\n",
       "      <td>44.830000</td>\n",
       "    </tr>\n",
       "  </tbody>\n",
       "</table>\n",
       "</div>"
      ],
      "text/plain": [
       "           대여시간(24)      이동거리(km)      사용시간(hr)      속도(km/h)\n",
       "count  12967.000000  12967.000000  12967.000000  12967.000000\n",
       "mean      12.027917      4.221814      0.525678      9.161338\n",
       "std        6.418066      5.408808      0.524539      4.353453\n",
       "min        0.000000      0.010000      0.020000      0.020000\n",
       "25%        7.000000      1.250000      0.150000      6.500000\n",
       "50%       13.000000      2.350000      0.320000      9.270000\n",
       "75%       17.000000      5.040000      0.730000     11.730000\n",
       "max       23.000000    120.620000      5.030000     44.830000"
      ]
     },
     "execution_count": 55,
     "metadata": {},
     "output_type": "execute_result"
    }
   ],
   "source": [
    "d60 = ds60s.describe()\n",
    "d60"
   ]
  },
  {
   "cell_type": "code",
   "execution_count": 56,
   "id": "6c3417fb-3e1a-4c59-956f-6ae22b22f8d1",
   "metadata": {
    "tags": []
   },
   "outputs": [
    {
     "data": {
      "text/plain": [
       "대여시간(24)    12.027917\n",
       "이동거리(km)     4.221814\n",
       "사용시간(hr)     0.525678\n",
       "속도(km/h)     9.161338\n",
       "Name: mean, dtype: float64"
      ]
     },
     "execution_count": 56,
     "metadata": {},
     "output_type": "execute_result"
    }
   ],
   "source": [
    "d60mean = d60.loc['mean']\n",
    "d60mean"
   ]
  },
  {
   "cell_type": "code",
   "execution_count": 57,
   "id": "9d8a6574-05f9-4a1d-b479-22ea094b19d6",
   "metadata": {
    "tags": []
   },
   "outputs": [
    {
     "data": {
      "text/html": [
       "<div>\n",
       "<style scoped>\n",
       "    .dataframe tbody tr th:only-of-type {\n",
       "        vertical-align: middle;\n",
       "    }\n",
       "\n",
       "    .dataframe tbody tr th {\n",
       "        vertical-align: top;\n",
       "    }\n",
       "\n",
       "    .dataframe thead th {\n",
       "        text-align: right;\n",
       "    }\n",
       "</style>\n",
       "<table border=\"1\" class=\"dataframe\">\n",
       "  <thead>\n",
       "    <tr style=\"text-align: right;\">\n",
       "      <th></th>\n",
       "      <th>대여권</th>\n",
       "      <th>대여시간(24)</th>\n",
       "      <th>이동거리(km)</th>\n",
       "      <th>사용시간(hr)</th>\n",
       "      <th>속도(km/h)</th>\n",
       "    </tr>\n",
       "    <tr>\n",
       "      <th>연령대</th>\n",
       "      <th></th>\n",
       "      <th></th>\n",
       "      <th></th>\n",
       "      <th></th>\n",
       "      <th></th>\n",
       "    </tr>\n",
       "  </thead>\n",
       "  <tbody>\n",
       "    <tr>\n",
       "      <th>70대~</th>\n",
       "      <td>정기권</td>\n",
       "      <td>11</td>\n",
       "      <td>3.73</td>\n",
       "      <td>0.72</td>\n",
       "      <td>5.18</td>\n",
       "    </tr>\n",
       "    <tr>\n",
       "      <th>70대~</th>\n",
       "      <td>정기권</td>\n",
       "      <td>5</td>\n",
       "      <td>1.65</td>\n",
       "      <td>0.23</td>\n",
       "      <td>7.17</td>\n",
       "    </tr>\n",
       "    <tr>\n",
       "      <th>70대~</th>\n",
       "      <td>정기권</td>\n",
       "      <td>6</td>\n",
       "      <td>0.87</td>\n",
       "      <td>0.08</td>\n",
       "      <td>10.88</td>\n",
       "    </tr>\n",
       "    <tr>\n",
       "      <th>70대~</th>\n",
       "      <td>정기권</td>\n",
       "      <td>11</td>\n",
       "      <td>2.50</td>\n",
       "      <td>0.12</td>\n",
       "      <td>20.83</td>\n",
       "    </tr>\n",
       "    <tr>\n",
       "      <th>70대~</th>\n",
       "      <td>일일권</td>\n",
       "      <td>19</td>\n",
       "      <td>1.58</td>\n",
       "      <td>0.22</td>\n",
       "      <td>7.18</td>\n",
       "    </tr>\n",
       "  </tbody>\n",
       "</table>\n",
       "</div>"
      ],
      "text/plain": [
       "      대여권  대여시간(24)  이동거리(km)  사용시간(hr)  속도(km/h)\n",
       "연령대                                              \n",
       "70대~  정기권        11      3.73      0.72      5.18\n",
       "70대~  정기권         5      1.65      0.23      7.17\n",
       "70대~  정기권         6      0.87      0.08     10.88\n",
       "70대~  정기권        11      2.50      0.12     20.83\n",
       "70대~  일일권        19      1.58      0.22      7.18"
      ]
     },
     "execution_count": 57,
     "metadata": {},
     "output_type": "execute_result"
    }
   ],
   "source": [
    "# 70대 - 대여권, 대여시간, 이동거리, 사용시간, 속도\n",
    "ds70s = df.set_index('연령대').loc['70대~',['대여권', '대여시간(24)', '이동거리(km)', '사용시간(hr)', '속도(km/h)']]\n",
    "ds70s.head()"
   ]
  },
  {
   "cell_type": "code",
   "execution_count": 58,
   "id": "e87bde83-4a1e-4060-91e3-ea2146f9b32d",
   "metadata": {
    "tags": []
   },
   "outputs": [
    {
     "data": {
      "text/html": [
       "<div>\n",
       "<style scoped>\n",
       "    .dataframe tbody tr th:only-of-type {\n",
       "        vertical-align: middle;\n",
       "    }\n",
       "\n",
       "    .dataframe tbody tr th {\n",
       "        vertical-align: top;\n",
       "    }\n",
       "\n",
       "    .dataframe thead th {\n",
       "        text-align: right;\n",
       "    }\n",
       "</style>\n",
       "<table border=\"1\" class=\"dataframe\">\n",
       "  <thead>\n",
       "    <tr style=\"text-align: right;\">\n",
       "      <th></th>\n",
       "      <th>대여시간(24)</th>\n",
       "      <th>이동거리(km)</th>\n",
       "      <th>사용시간(hr)</th>\n",
       "      <th>속도(km/h)</th>\n",
       "    </tr>\n",
       "  </thead>\n",
       "  <tbody>\n",
       "    <tr>\n",
       "      <th>count</th>\n",
       "      <td>3173.000000</td>\n",
       "      <td>3173.000000</td>\n",
       "      <td>3173.000000</td>\n",
       "      <td>3173.000000</td>\n",
       "    </tr>\n",
       "    <tr>\n",
       "      <th>mean</th>\n",
       "      <td>12.521273</td>\n",
       "      <td>3.507910</td>\n",
       "      <td>0.488957</td>\n",
       "      <td>8.667201</td>\n",
       "    </tr>\n",
       "    <tr>\n",
       "      <th>std</th>\n",
       "      <td>6.100871</td>\n",
       "      <td>4.343816</td>\n",
       "      <td>0.500004</td>\n",
       "      <td>4.437021</td>\n",
       "    </tr>\n",
       "    <tr>\n",
       "      <th>min</th>\n",
       "      <td>0.000000</td>\n",
       "      <td>0.010000</td>\n",
       "      <td>0.020000</td>\n",
       "      <td>0.030000</td>\n",
       "    </tr>\n",
       "    <tr>\n",
       "      <th>25%</th>\n",
       "      <td>8.000000</td>\n",
       "      <td>1.160000</td>\n",
       "      <td>0.150000</td>\n",
       "      <td>5.460000</td>\n",
       "    </tr>\n",
       "    <tr>\n",
       "      <th>50%</th>\n",
       "      <td>13.000000</td>\n",
       "      <td>2.080000</td>\n",
       "      <td>0.300000</td>\n",
       "      <td>8.700000</td>\n",
       "    </tr>\n",
       "    <tr>\n",
       "      <th>75%</th>\n",
       "      <td>17.000000</td>\n",
       "      <td>3.960000</td>\n",
       "      <td>0.650000</td>\n",
       "      <td>11.430000</td>\n",
       "    </tr>\n",
       "    <tr>\n",
       "      <th>max</th>\n",
       "      <td>23.000000</td>\n",
       "      <td>61.780000</td>\n",
       "      <td>3.750000</td>\n",
       "      <td>44.560000</td>\n",
       "    </tr>\n",
       "  </tbody>\n",
       "</table>\n",
       "</div>"
      ],
      "text/plain": [
       "          대여시간(24)     이동거리(km)     사용시간(hr)     속도(km/h)\n",
       "count  3173.000000  3173.000000  3173.000000  3173.000000\n",
       "mean     12.521273     3.507910     0.488957     8.667201\n",
       "std       6.100871     4.343816     0.500004     4.437021\n",
       "min       0.000000     0.010000     0.020000     0.030000\n",
       "25%       8.000000     1.160000     0.150000     5.460000\n",
       "50%      13.000000     2.080000     0.300000     8.700000\n",
       "75%      17.000000     3.960000     0.650000    11.430000\n",
       "max      23.000000    61.780000     3.750000    44.560000"
      ]
     },
     "execution_count": 58,
     "metadata": {},
     "output_type": "execute_result"
    }
   ],
   "source": [
    "d70 = ds70s.describe()\n",
    "d70"
   ]
  },
  {
   "cell_type": "code",
   "execution_count": 59,
   "id": "2710ea8d-b77e-4103-9b8b-10ac26fba046",
   "metadata": {
    "tags": []
   },
   "outputs": [
    {
     "data": {
      "text/plain": [
       "대여시간(24)    12.521273\n",
       "이동거리(km)     3.507910\n",
       "사용시간(hr)     0.488957\n",
       "속도(km/h)     8.667201\n",
       "Name: mean, dtype: float64"
      ]
     },
     "execution_count": 59,
     "metadata": {},
     "output_type": "execute_result"
    }
   ],
   "source": [
    "d70mean = d70.loc['mean']\n",
    "d70mean"
   ]
  },
  {
   "cell_type": "code",
   "execution_count": 60,
   "id": "f798292a-e020-4c2e-a61f-72c48c79bc7d",
   "metadata": {},
   "outputs": [
    {
     "data": {
      "text/html": [
       "<div>\n",
       "<style scoped>\n",
       "    .dataframe tbody tr th:only-of-type {\n",
       "        vertical-align: middle;\n",
       "    }\n",
       "\n",
       "    .dataframe tbody tr th {\n",
       "        vertical-align: top;\n",
       "    }\n",
       "\n",
       "    .dataframe thead th {\n",
       "        text-align: right;\n",
       "    }\n",
       "</style>\n",
       "<table border=\"1\" class=\"dataframe\">\n",
       "  <thead>\n",
       "    <tr style=\"text-align: right;\">\n",
       "      <th></th>\n",
       "      <th>10대</th>\n",
       "      <th>20대</th>\n",
       "      <th>30대</th>\n",
       "      <th>40대</th>\n",
       "      <th>50대</th>\n",
       "      <th>60대</th>\n",
       "      <th>70대</th>\n",
       "    </tr>\n",
       "  </thead>\n",
       "  <tbody>\n",
       "    <tr>\n",
       "      <th>대여시간(24)</th>\n",
       "      <td>14.88</td>\n",
       "      <td>14.40</td>\n",
       "      <td>14.33</td>\n",
       "      <td>13.35</td>\n",
       "      <td>12.58</td>\n",
       "      <td>12.03</td>\n",
       "      <td>12.52</td>\n",
       "    </tr>\n",
       "    <tr>\n",
       "      <th>이동거리(km)</th>\n",
       "      <td>4.59</td>\n",
       "      <td>4.91</td>\n",
       "      <td>4.53</td>\n",
       "      <td>4.42</td>\n",
       "      <td>4.19</td>\n",
       "      <td>4.22</td>\n",
       "      <td>3.51</td>\n",
       "    </tr>\n",
       "    <tr>\n",
       "      <th>사용시간(hr)</th>\n",
       "      <td>0.59</td>\n",
       "      <td>0.59</td>\n",
       "      <td>0.53</td>\n",
       "      <td>0.53</td>\n",
       "      <td>0.49</td>\n",
       "      <td>0.53</td>\n",
       "      <td>0.49</td>\n",
       "    </tr>\n",
       "    <tr>\n",
       "      <th>속도(km/h)</th>\n",
       "      <td>9.11</td>\n",
       "      <td>9.53</td>\n",
       "      <td>9.71</td>\n",
       "      <td>9.65</td>\n",
       "      <td>9.64</td>\n",
       "      <td>9.16</td>\n",
       "      <td>8.67</td>\n",
       "    </tr>\n",
       "  </tbody>\n",
       "</table>\n",
       "</div>"
      ],
      "text/plain": [
       "            10대    20대    30대    40대    50대    60대    70대\n",
       "대여시간(24)  14.88  14.40  14.33  13.35  12.58  12.03  12.52\n",
       "이동거리(km)   4.59   4.91   4.53   4.42   4.19   4.22   3.51\n",
       "사용시간(hr)   0.59   0.59   0.53   0.53   0.49   0.53   0.49\n",
       "속도(km/h)   9.11   9.53   9.71   9.65   9.64   9.16   8.67"
      ]
     },
     "execution_count": 60,
     "metadata": {},
     "output_type": "execute_result"
    }
   ],
   "source": [
    "# 10 ~ 70 대 : \"\"평균\"\" - 대여시간, 이동거리, 사용시간, 속도  \n",
    "#d10mean ~ d70mean\n",
    "avg_allage = pd.concat([d10mean, d20mean, d30mean, d40mean, d50mean, d60mean, d70mean], axis=1)\n",
    "avg_allage.columns = ['10대', '20대', '30대', '40대', '50대', '60대', '70대']\n",
    "avg_allage = round(avg_allage, 2)\n",
    "avg_allage"
   ]
  },
  {
   "cell_type": "code",
   "execution_count": 61,
   "id": "f49d3f87-d806-46b9-b3ea-57ac1640b8b7",
   "metadata": {},
   "outputs": [
    {
     "data": {
      "text/plain": [
       "3006"
      ]
     },
     "execution_count": 61,
     "metadata": {},
     "output_type": "execute_result"
    }
   ],
   "source": [
    "# 10 ~ 70 대 : 대여권 (정기, 일일) 총 합계 \n",
    "ds70s['대여권'].str.contains('정기권').sum() # 3306"
   ]
  },
  {
   "cell_type": "code",
   "execution_count": 62,
   "id": "0a050fd7-9e6f-4722-8665-a9796f9e2f80",
   "metadata": {},
   "outputs": [
    {
     "data": {
      "text/plain": [
       "164"
      ]
     },
     "execution_count": 62,
     "metadata": {},
     "output_type": "execute_result"
    }
   ],
   "source": [
    "ds70s['대여권'].str.contains('일일권').sum() # 164"
   ]
  },
  {
   "cell_type": "code",
   "execution_count": 63,
   "id": "06619982-6013-4903-b0b4-faa2ba00dc19",
   "metadata": {},
   "outputs": [
    {
     "data": {
      "text/plain": [
       "12389"
      ]
     },
     "execution_count": 63,
     "metadata": {},
     "output_type": "execute_result"
    }
   ],
   "source": [
    "ds60s['대여권'].str.contains('정기권').sum() # 12389"
   ]
  },
  {
   "cell_type": "code",
   "execution_count": 64,
   "id": "90f0590e-3a1e-4351-a8b3-b11d4b4769be",
   "metadata": {},
   "outputs": [
    {
     "data": {
      "text/plain": [
       "564"
      ]
     },
     "execution_count": 64,
     "metadata": {},
     "output_type": "execute_result"
    }
   ],
   "source": [
    "ds60s['대여권'].str.contains('일일권').sum() # 564"
   ]
  },
  {
   "cell_type": "code",
   "execution_count": 65,
   "id": "3c38bc85-7c95-4253-844a-e94df77ae6c5",
   "metadata": {},
   "outputs": [
    {
     "data": {
      "text/plain": [
       "47271"
      ]
     },
     "execution_count": 65,
     "metadata": {},
     "output_type": "execute_result"
    }
   ],
   "source": [
    "ds50s['대여권'].str.contains('정기권').sum() # 47271"
   ]
  },
  {
   "cell_type": "code",
   "execution_count": 66,
   "id": "aa986708-bc3d-442e-93dd-499d080cb519",
   "metadata": {},
   "outputs": [
    {
     "data": {
      "text/plain": [
       "3112"
      ]
     },
     "execution_count": 66,
     "metadata": {},
     "output_type": "execute_result"
    }
   ],
   "source": [
    "ds50s['대여권'].str.contains('일일권').sum() # 3112"
   ]
  },
  {
   "cell_type": "code",
   "execution_count": 67,
   "id": "11bcaaeb-6eec-4b84-bc95-8518c58f7d6c",
   "metadata": {},
   "outputs": [
    {
     "data": {
      "text/plain": [
       "82690"
      ]
     },
     "execution_count": 67,
     "metadata": {},
     "output_type": "execute_result"
    }
   ],
   "source": [
    "ds40s['대여권'].str.contains('정기권').sum() # 82690"
   ]
  },
  {
   "cell_type": "code",
   "execution_count": 68,
   "id": "c73f1b77-bd77-424f-82a4-9fb71dac4a7f",
   "metadata": {},
   "outputs": [
    {
     "data": {
      "text/plain": [
       "8832"
      ]
     },
     "execution_count": 68,
     "metadata": {},
     "output_type": "execute_result"
    }
   ],
   "source": [
    "ds40s['대여권'].str.contains('일일권').sum() # 8832"
   ]
  },
  {
   "cell_type": "code",
   "execution_count": 69,
   "id": "4095a47b-59af-4934-9c81-4bd981062530",
   "metadata": {},
   "outputs": [
    {
     "data": {
      "text/plain": [
       "122600"
      ]
     },
     "execution_count": 69,
     "metadata": {},
     "output_type": "execute_result"
    }
   ],
   "source": [
    "ds30s['대여권'].str.contains('정기권').sum() # 122600"
   ]
  },
  {
   "cell_type": "code",
   "execution_count": 70,
   "id": "e71c811e-d509-4011-983d-899905496521",
   "metadata": {},
   "outputs": [
    {
     "data": {
      "text/plain": [
       "24080"
      ]
     },
     "execution_count": 70,
     "metadata": {},
     "output_type": "execute_result"
    }
   ],
   "source": [
    "ds30s['대여권'].str.contains('일일권').sum() # 24080"
   ]
  },
  {
   "cell_type": "code",
   "execution_count": 71,
   "id": "121ecb80-b2c2-4bee-bfa7-8e8a14e59cbf",
   "metadata": {},
   "outputs": [
    {
     "data": {
      "text/plain": [
       "199708"
      ]
     },
     "execution_count": 71,
     "metadata": {},
     "output_type": "execute_result"
    }
   ],
   "source": [
    "ds20s['대여권'].str.contains('정기권').sum() # 199708"
   ]
  },
  {
   "cell_type": "code",
   "execution_count": 72,
   "id": "82a45b47-9334-4916-bd60-0c95c18447fa",
   "metadata": {},
   "outputs": [
    {
     "data": {
      "text/plain": [
       "69284"
      ]
     },
     "execution_count": 72,
     "metadata": {},
     "output_type": "execute_result"
    }
   ],
   "source": [
    "ds20s['대여권'].str.contains('일일권').sum() # 69284"
   ]
  },
  {
   "cell_type": "code",
   "execution_count": 73,
   "id": "1ac9445c-f427-4330-a24b-269c478c7710",
   "metadata": {},
   "outputs": [
    {
     "data": {
      "text/plain": [
       "17208"
      ]
     },
     "execution_count": 73,
     "metadata": {},
     "output_type": "execute_result"
    }
   ],
   "source": [
    "ds10s['대여권'].str.contains('정기권').sum() # 17208"
   ]
  },
  {
   "cell_type": "code",
   "execution_count": 74,
   "id": "a7d9fa82-972d-4958-a605-6cec299145aa",
   "metadata": {},
   "outputs": [
    {
     "data": {
      "text/plain": [
       "8926"
      ]
     },
     "execution_count": 74,
     "metadata": {},
     "output_type": "execute_result"
    }
   ],
   "source": [
    "ds10s['대여권'].str.contains('일일권').sum() # 8926"
   ]
  },
  {
   "cell_type": "code",
   "execution_count": 75,
   "id": "1845579b-528e-4a90-b90e-9b2a6559b958",
   "metadata": {},
   "outputs": [
    {
     "data": {
      "text/html": [
       "<div>\n",
       "<style scoped>\n",
       "    .dataframe tbody tr th:only-of-type {\n",
       "        vertical-align: middle;\n",
       "    }\n",
       "\n",
       "    .dataframe tbody tr th {\n",
       "        vertical-align: top;\n",
       "    }\n",
       "\n",
       "    .dataframe thead th {\n",
       "        text-align: right;\n",
       "    }\n",
       "</style>\n",
       "<table border=\"1\" class=\"dataframe\">\n",
       "  <thead>\n",
       "    <tr style=\"text-align: right;\">\n",
       "      <th></th>\n",
       "      <th>10대</th>\n",
       "      <th>20대</th>\n",
       "      <th>30대</th>\n",
       "      <th>40대</th>\n",
       "      <th>50대</th>\n",
       "      <th>60대</th>\n",
       "      <th>70대</th>\n",
       "    </tr>\n",
       "  </thead>\n",
       "  <tbody>\n",
       "    <tr>\n",
       "      <th>대여시간(24)</th>\n",
       "      <td>14.88</td>\n",
       "      <td>14.40</td>\n",
       "      <td>14.33</td>\n",
       "      <td>13.35</td>\n",
       "      <td>12.58</td>\n",
       "      <td>12.03</td>\n",
       "      <td>12.52</td>\n",
       "    </tr>\n",
       "    <tr>\n",
       "      <th>이동거리(km)</th>\n",
       "      <td>4.59</td>\n",
       "      <td>4.91</td>\n",
       "      <td>4.53</td>\n",
       "      <td>4.42</td>\n",
       "      <td>4.19</td>\n",
       "      <td>4.22</td>\n",
       "      <td>3.51</td>\n",
       "    </tr>\n",
       "    <tr>\n",
       "      <th>사용시간(hr)</th>\n",
       "      <td>0.59</td>\n",
       "      <td>0.59</td>\n",
       "      <td>0.53</td>\n",
       "      <td>0.53</td>\n",
       "      <td>0.49</td>\n",
       "      <td>0.53</td>\n",
       "      <td>0.49</td>\n",
       "    </tr>\n",
       "    <tr>\n",
       "      <th>속도(km/h)</th>\n",
       "      <td>9.11</td>\n",
       "      <td>9.53</td>\n",
       "      <td>9.71</td>\n",
       "      <td>9.65</td>\n",
       "      <td>9.64</td>\n",
       "      <td>9.16</td>\n",
       "      <td>8.67</td>\n",
       "    </tr>\n",
       "  </tbody>\n",
       "</table>\n",
       "</div>"
      ],
      "text/plain": [
       "            10대    20대    30대    40대    50대    60대    70대\n",
       "대여시간(24)  14.88  14.40  14.33  13.35  12.58  12.03  12.52\n",
       "이동거리(km)   4.59   4.91   4.53   4.42   4.19   4.22   3.51\n",
       "사용시간(hr)   0.59   0.59   0.53   0.53   0.49   0.53   0.49\n",
       "속도(km/h)   9.11   9.53   9.71   9.65   9.64   9.16   8.67"
      ]
     },
     "execution_count": 75,
     "metadata": {},
     "output_type": "execute_result"
    }
   ],
   "source": [
    "avg_allage"
   ]
  },
  {
   "cell_type": "code",
   "execution_count": 76,
   "id": "f25afc2f-957f-4bd8-b5c6-74c36017eebd",
   "metadata": {},
   "outputs": [
    {
     "data": {
      "text/html": [
       "<div>\n",
       "<style scoped>\n",
       "    .dataframe tbody tr th:only-of-type {\n",
       "        vertical-align: middle;\n",
       "    }\n",
       "\n",
       "    .dataframe tbody tr th {\n",
       "        vertical-align: top;\n",
       "    }\n",
       "\n",
       "    .dataframe thead th {\n",
       "        text-align: right;\n",
       "    }\n",
       "</style>\n",
       "<table border=\"1\" class=\"dataframe\">\n",
       "  <thead>\n",
       "    <tr style=\"text-align: right;\">\n",
       "      <th></th>\n",
       "      <th>10대</th>\n",
       "      <th>20대</th>\n",
       "      <th>30대</th>\n",
       "      <th>40대</th>\n",
       "      <th>50대</th>\n",
       "      <th>60대</th>\n",
       "      <th>70대</th>\n",
       "    </tr>\n",
       "  </thead>\n",
       "  <tbody>\n",
       "    <tr>\n",
       "      <th>대여시간(24)</th>\n",
       "      <td>14.88</td>\n",
       "      <td>14.40</td>\n",
       "      <td>14.33</td>\n",
       "      <td>13.35</td>\n",
       "      <td>12.58</td>\n",
       "      <td>12.03</td>\n",
       "      <td>12.52</td>\n",
       "    </tr>\n",
       "    <tr>\n",
       "      <th>이동거리(km)</th>\n",
       "      <td>4.59</td>\n",
       "      <td>4.91</td>\n",
       "      <td>4.53</td>\n",
       "      <td>4.42</td>\n",
       "      <td>4.19</td>\n",
       "      <td>4.22</td>\n",
       "      <td>3.51</td>\n",
       "    </tr>\n",
       "    <tr>\n",
       "      <th>사용시간(hr)</th>\n",
       "      <td>0.59</td>\n",
       "      <td>0.59</td>\n",
       "      <td>0.53</td>\n",
       "      <td>0.53</td>\n",
       "      <td>0.49</td>\n",
       "      <td>0.53</td>\n",
       "      <td>0.49</td>\n",
       "    </tr>\n",
       "    <tr>\n",
       "      <th>속도(km/h)</th>\n",
       "      <td>9.11</td>\n",
       "      <td>9.53</td>\n",
       "      <td>9.71</td>\n",
       "      <td>9.65</td>\n",
       "      <td>9.64</td>\n",
       "      <td>9.16</td>\n",
       "      <td>8.67</td>\n",
       "    </tr>\n",
       "    <tr>\n",
       "      <th>정기권</th>\n",
       "      <td>17208.00</td>\n",
       "      <td>199708.00</td>\n",
       "      <td>122600.00</td>\n",
       "      <td>82690.00</td>\n",
       "      <td>47271.00</td>\n",
       "      <td>12389.00</td>\n",
       "      <td>3006.00</td>\n",
       "    </tr>\n",
       "    <tr>\n",
       "      <th>일일권</th>\n",
       "      <td>8926.00</td>\n",
       "      <td>69284.00</td>\n",
       "      <td>24080.00</td>\n",
       "      <td>8832.00</td>\n",
       "      <td>3112.00</td>\n",
       "      <td>564.00</td>\n",
       "      <td>164.00</td>\n",
       "    </tr>\n",
       "  </tbody>\n",
       "</table>\n",
       "</div>"
      ],
      "text/plain": [
       "               10대        20대        30대       40대       50대       60대  \\\n",
       "대여시간(24)     14.88      14.40      14.33     13.35     12.58     12.03   \n",
       "이동거리(km)      4.59       4.91       4.53      4.42      4.19      4.22   \n",
       "사용시간(hr)      0.59       0.59       0.53      0.53      0.49      0.53   \n",
       "속도(km/h)      9.11       9.53       9.71      9.65      9.64      9.16   \n",
       "정기권       17208.00  199708.00  122600.00  82690.00  47271.00  12389.00   \n",
       "일일권        8926.00   69284.00   24080.00   8832.00   3112.00    564.00   \n",
       "\n",
       "              70대  \n",
       "대여시간(24)    12.52  \n",
       "이동거리(km)     3.51  \n",
       "사용시간(hr)     0.49  \n",
       "속도(km/h)     8.67  \n",
       "정기권       3006.00  \n",
       "일일권        164.00  "
      ]
     },
     "execution_count": 76,
     "metadata": {},
     "output_type": "execute_result"
    }
   ],
   "source": [
    "# row 추가 = loc \n",
    "avg_allage.loc['정기권'] = [17208, 199708, 122600, 82690, 47271, 12389, 3006]\n",
    "avg_allage.loc['일일권'] = [8926, 69284, 24080, 8832, 3112, 564, 164]\n",
    "avg_allage"
   ]
  },
  {
   "cell_type": "code",
   "execution_count": 77,
   "id": "deb9aaa6-047f-4471-ac8b-25db883d6deb",
   "metadata": {},
   "outputs": [
    {
     "data": {
      "text/html": [
       "<div>\n",
       "<style scoped>\n",
       "    .dataframe tbody tr th:only-of-type {\n",
       "        vertical-align: middle;\n",
       "    }\n",
       "\n",
       "    .dataframe tbody tr th {\n",
       "        vertical-align: top;\n",
       "    }\n",
       "\n",
       "    .dataframe thead th {\n",
       "        text-align: right;\n",
       "    }\n",
       "</style>\n",
       "<table border=\"1\" class=\"dataframe\">\n",
       "  <thead>\n",
       "    <tr style=\"text-align: right;\">\n",
       "      <th></th>\n",
       "      <th>10대</th>\n",
       "      <th>20대</th>\n",
       "      <th>30대</th>\n",
       "      <th>40대</th>\n",
       "      <th>50대</th>\n",
       "      <th>60대</th>\n",
       "      <th>70대</th>\n",
       "      <th>평균</th>\n",
       "    </tr>\n",
       "  </thead>\n",
       "  <tbody>\n",
       "    <tr>\n",
       "      <th>대여시간(24)</th>\n",
       "      <td>14.88</td>\n",
       "      <td>14.40</td>\n",
       "      <td>14.33</td>\n",
       "      <td>13.35</td>\n",
       "      <td>12.58</td>\n",
       "      <td>12.03</td>\n",
       "      <td>12.52</td>\n",
       "      <td>13.441429</td>\n",
       "    </tr>\n",
       "    <tr>\n",
       "      <th>이동거리(km)</th>\n",
       "      <td>4.59</td>\n",
       "      <td>4.91</td>\n",
       "      <td>4.53</td>\n",
       "      <td>4.42</td>\n",
       "      <td>4.19</td>\n",
       "      <td>4.22</td>\n",
       "      <td>3.51</td>\n",
       "      <td>4.338571</td>\n",
       "    </tr>\n",
       "    <tr>\n",
       "      <th>사용시간(hr)</th>\n",
       "      <td>0.59</td>\n",
       "      <td>0.59</td>\n",
       "      <td>0.53</td>\n",
       "      <td>0.53</td>\n",
       "      <td>0.49</td>\n",
       "      <td>0.53</td>\n",
       "      <td>0.49</td>\n",
       "      <td>0.535714</td>\n",
       "    </tr>\n",
       "    <tr>\n",
       "      <th>속도(km/h)</th>\n",
       "      <td>9.11</td>\n",
       "      <td>9.53</td>\n",
       "      <td>9.71</td>\n",
       "      <td>9.65</td>\n",
       "      <td>9.64</td>\n",
       "      <td>9.16</td>\n",
       "      <td>8.67</td>\n",
       "      <td>9.352857</td>\n",
       "    </tr>\n",
       "    <tr>\n",
       "      <th>정기권</th>\n",
       "      <td>17208.00</td>\n",
       "      <td>199708.00</td>\n",
       "      <td>122600.00</td>\n",
       "      <td>82690.00</td>\n",
       "      <td>47271.00</td>\n",
       "      <td>12389.00</td>\n",
       "      <td>3006.00</td>\n",
       "      <td>69267.428571</td>\n",
       "    </tr>\n",
       "    <tr>\n",
       "      <th>일일권</th>\n",
       "      <td>8926.00</td>\n",
       "      <td>69284.00</td>\n",
       "      <td>24080.00</td>\n",
       "      <td>8832.00</td>\n",
       "      <td>3112.00</td>\n",
       "      <td>564.00</td>\n",
       "      <td>164.00</td>\n",
       "      <td>16423.142857</td>\n",
       "    </tr>\n",
       "  </tbody>\n",
       "</table>\n",
       "</div>"
      ],
      "text/plain": [
       "               10대        20대        30대       40대       50대       60대  \\\n",
       "대여시간(24)     14.88      14.40      14.33     13.35     12.58     12.03   \n",
       "이동거리(km)      4.59       4.91       4.53      4.42      4.19      4.22   \n",
       "사용시간(hr)      0.59       0.59       0.53      0.53      0.49      0.53   \n",
       "속도(km/h)      9.11       9.53       9.71      9.65      9.64      9.16   \n",
       "정기권       17208.00  199708.00  122600.00  82690.00  47271.00  12389.00   \n",
       "일일권        8926.00   69284.00   24080.00   8832.00   3112.00    564.00   \n",
       "\n",
       "              70대            평균  \n",
       "대여시간(24)    12.52     13.441429  \n",
       "이동거리(km)     3.51      4.338571  \n",
       "사용시간(hr)     0.49      0.535714  \n",
       "속도(km/h)     8.67      9.352857  \n",
       "정기권       3006.00  69267.428571  \n",
       "일일권        164.00  16423.142857  "
      ]
     },
     "execution_count": 77,
     "metadata": {},
     "output_type": "execute_result"
    }
   ],
   "source": [
    "# row - mean/avg value                # axis=1 (along the row)\n",
    "avg_allage['평균'] = avg_allage.mean(axis=1)\n",
    "avg_allage"
   ]
  },
  {
   "cell_type": "code",
   "execution_count": null,
   "id": "c8df06a6-1826-4fac-a0d4-8d53e4c8d60d",
   "metadata": {},
   "outputs": [],
   "source": []
  },
  {
   "cell_type": "code",
   "execution_count": null,
   "id": "da048e24-6fd5-42c6-81ad-9aeb5d317956",
   "metadata": {},
   "outputs": [],
   "source": []
  },
  {
   "cell_type": "code",
   "execution_count": 78,
   "id": "f9e569e6-44f6-48e5-a049-381d386f6a28",
   "metadata": {},
   "outputs": [
    {
     "data": {
      "text/html": [
       "<div>\n",
       "<style scoped>\n",
       "    .dataframe tbody tr th:only-of-type {\n",
       "        vertical-align: middle;\n",
       "    }\n",
       "\n",
       "    .dataframe tbody tr th {\n",
       "        vertical-align: top;\n",
       "    }\n",
       "\n",
       "    .dataframe thead th {\n",
       "        text-align: right;\n",
       "    }\n",
       "</style>\n",
       "<table border=\"1\" class=\"dataframe\">\n",
       "  <thead>\n",
       "    <tr style=\"text-align: right;\">\n",
       "      <th></th>\n",
       "      <th>대여시간(24)</th>\n",
       "      <th>이동거리(km)</th>\n",
       "      <th>사용시간(hr)</th>\n",
       "      <th>속도(km/h)</th>\n",
       "      <th>정기권</th>\n",
       "      <th>일일권</th>\n",
       "    </tr>\n",
       "  </thead>\n",
       "  <tbody>\n",
       "    <tr>\n",
       "      <th>10대</th>\n",
       "      <td>14.880000</td>\n",
       "      <td>4.590000</td>\n",
       "      <td>0.590000</td>\n",
       "      <td>9.110000</td>\n",
       "      <td>17208.000000</td>\n",
       "      <td>8926.000000</td>\n",
       "    </tr>\n",
       "    <tr>\n",
       "      <th>20대</th>\n",
       "      <td>14.400000</td>\n",
       "      <td>4.910000</td>\n",
       "      <td>0.590000</td>\n",
       "      <td>9.530000</td>\n",
       "      <td>199708.000000</td>\n",
       "      <td>69284.000000</td>\n",
       "    </tr>\n",
       "    <tr>\n",
       "      <th>30대</th>\n",
       "      <td>14.330000</td>\n",
       "      <td>4.530000</td>\n",
       "      <td>0.530000</td>\n",
       "      <td>9.710000</td>\n",
       "      <td>122600.000000</td>\n",
       "      <td>24080.000000</td>\n",
       "    </tr>\n",
       "    <tr>\n",
       "      <th>40대</th>\n",
       "      <td>13.350000</td>\n",
       "      <td>4.420000</td>\n",
       "      <td>0.530000</td>\n",
       "      <td>9.650000</td>\n",
       "      <td>82690.000000</td>\n",
       "      <td>8832.000000</td>\n",
       "    </tr>\n",
       "    <tr>\n",
       "      <th>50대</th>\n",
       "      <td>12.580000</td>\n",
       "      <td>4.190000</td>\n",
       "      <td>0.490000</td>\n",
       "      <td>9.640000</td>\n",
       "      <td>47271.000000</td>\n",
       "      <td>3112.000000</td>\n",
       "    </tr>\n",
       "    <tr>\n",
       "      <th>60대</th>\n",
       "      <td>12.030000</td>\n",
       "      <td>4.220000</td>\n",
       "      <td>0.530000</td>\n",
       "      <td>9.160000</td>\n",
       "      <td>12389.000000</td>\n",
       "      <td>564.000000</td>\n",
       "    </tr>\n",
       "    <tr>\n",
       "      <th>70대</th>\n",
       "      <td>12.520000</td>\n",
       "      <td>3.510000</td>\n",
       "      <td>0.490000</td>\n",
       "      <td>8.670000</td>\n",
       "      <td>3006.000000</td>\n",
       "      <td>164.000000</td>\n",
       "    </tr>\n",
       "    <tr>\n",
       "      <th>평균</th>\n",
       "      <td>13.441429</td>\n",
       "      <td>4.338571</td>\n",
       "      <td>0.535714</td>\n",
       "      <td>9.352857</td>\n",
       "      <td>69267.428571</td>\n",
       "      <td>16423.142857</td>\n",
       "    </tr>\n",
       "  </tbody>\n",
       "</table>\n",
       "</div>"
      ],
      "text/plain": [
       "      대여시간(24)  이동거리(km)  사용시간(hr)  속도(km/h)            정기권           일일권\n",
       "10대  14.880000  4.590000  0.590000  9.110000   17208.000000   8926.000000\n",
       "20대  14.400000  4.910000  0.590000  9.530000  199708.000000  69284.000000\n",
       "30대  14.330000  4.530000  0.530000  9.710000  122600.000000  24080.000000\n",
       "40대  13.350000  4.420000  0.530000  9.650000   82690.000000   8832.000000\n",
       "50대  12.580000  4.190000  0.490000  9.640000   47271.000000   3112.000000\n",
       "60대  12.030000  4.220000  0.530000  9.160000   12389.000000    564.000000\n",
       "70대  12.520000  3.510000  0.490000  8.670000    3006.000000    164.000000\n",
       "평균   13.441429  4.338571  0.535714  9.352857   69267.428571  16423.142857"
      ]
     },
     "execution_count": 78,
     "metadata": {},
     "output_type": "execute_result"
    }
   ],
   "source": [
    "avg_allage = avg_allage.transpose()\n",
    "avg_allage"
   ]
  },
  {
   "cell_type": "code",
   "execution_count": 79,
   "id": "178c786e-dceb-4a05-b6a4-5acbc7bb778c",
   "metadata": {},
   "outputs": [
    {
     "data": {
      "text/html": [
       "<style  type=\"text/css\" >\n",
       "</style><table id=\"T_56454_\" ><thead>    <tr>        <th class=\"blank level0\" ></th>        <th class=\"col_heading level0 col0\" >대여시간(24)</th>        <th class=\"col_heading level0 col1\" >이동거리(km)</th>        <th class=\"col_heading level0 col2\" >사용시간(hr)</th>        <th class=\"col_heading level0 col3\" >속도(km/h)</th>        <th class=\"col_heading level0 col4\" >정기권</th>        <th class=\"col_heading level0 col5\" >일일권</th>    </tr></thead><tbody>\n",
       "                <tr>\n",
       "                        <th id=\"T_56454_level0_row0\" class=\"row_heading level0 row0\" >10대</th>\n",
       "                        <td id=\"T_56454_row0_col0\" class=\"data row0 col0\" >14.88</td>\n",
       "                        <td id=\"T_56454_row0_col1\" class=\"data row0 col1\" >4.59</td>\n",
       "                        <td id=\"T_56454_row0_col2\" class=\"data row0 col2\" >0.59</td>\n",
       "                        <td id=\"T_56454_row0_col3\" class=\"data row0 col3\" >9.11</td>\n",
       "                        <td id=\"T_56454_row0_col4\" class=\"data row0 col4\" >17208.00</td>\n",
       "                        <td id=\"T_56454_row0_col5\" class=\"data row0 col5\" >8926.00</td>\n",
       "            </tr>\n",
       "            <tr>\n",
       "                        <th id=\"T_56454_level0_row1\" class=\"row_heading level0 row1\" >20대</th>\n",
       "                        <td id=\"T_56454_row1_col0\" class=\"data row1 col0\" >14.40</td>\n",
       "                        <td id=\"T_56454_row1_col1\" class=\"data row1 col1\" >4.91</td>\n",
       "                        <td id=\"T_56454_row1_col2\" class=\"data row1 col2\" >0.59</td>\n",
       "                        <td id=\"T_56454_row1_col3\" class=\"data row1 col3\" >9.53</td>\n",
       "                        <td id=\"T_56454_row1_col4\" class=\"data row1 col4\" >199708.00</td>\n",
       "                        <td id=\"T_56454_row1_col5\" class=\"data row1 col5\" >69284.00</td>\n",
       "            </tr>\n",
       "            <tr>\n",
       "                        <th id=\"T_56454_level0_row2\" class=\"row_heading level0 row2\" >30대</th>\n",
       "                        <td id=\"T_56454_row2_col0\" class=\"data row2 col0\" >14.33</td>\n",
       "                        <td id=\"T_56454_row2_col1\" class=\"data row2 col1\" >4.53</td>\n",
       "                        <td id=\"T_56454_row2_col2\" class=\"data row2 col2\" >0.53</td>\n",
       "                        <td id=\"T_56454_row2_col3\" class=\"data row2 col3\" >9.71</td>\n",
       "                        <td id=\"T_56454_row2_col4\" class=\"data row2 col4\" >122600.00</td>\n",
       "                        <td id=\"T_56454_row2_col5\" class=\"data row2 col5\" >24080.00</td>\n",
       "            </tr>\n",
       "            <tr>\n",
       "                        <th id=\"T_56454_level0_row3\" class=\"row_heading level0 row3\" >40대</th>\n",
       "                        <td id=\"T_56454_row3_col0\" class=\"data row3 col0\" >13.35</td>\n",
       "                        <td id=\"T_56454_row3_col1\" class=\"data row3 col1\" >4.42</td>\n",
       "                        <td id=\"T_56454_row3_col2\" class=\"data row3 col2\" >0.53</td>\n",
       "                        <td id=\"T_56454_row3_col3\" class=\"data row3 col3\" >9.65</td>\n",
       "                        <td id=\"T_56454_row3_col4\" class=\"data row3 col4\" >82690.00</td>\n",
       "                        <td id=\"T_56454_row3_col5\" class=\"data row3 col5\" >8832.00</td>\n",
       "            </tr>\n",
       "            <tr>\n",
       "                        <th id=\"T_56454_level0_row4\" class=\"row_heading level0 row4\" >50대</th>\n",
       "                        <td id=\"T_56454_row4_col0\" class=\"data row4 col0\" >12.58</td>\n",
       "                        <td id=\"T_56454_row4_col1\" class=\"data row4 col1\" >4.19</td>\n",
       "                        <td id=\"T_56454_row4_col2\" class=\"data row4 col2\" >0.49</td>\n",
       "                        <td id=\"T_56454_row4_col3\" class=\"data row4 col3\" >9.64</td>\n",
       "                        <td id=\"T_56454_row4_col4\" class=\"data row4 col4\" >47271.00</td>\n",
       "                        <td id=\"T_56454_row4_col5\" class=\"data row4 col5\" >3112.00</td>\n",
       "            </tr>\n",
       "            <tr>\n",
       "                        <th id=\"T_56454_level0_row5\" class=\"row_heading level0 row5\" >60대</th>\n",
       "                        <td id=\"T_56454_row5_col0\" class=\"data row5 col0\" >12.03</td>\n",
       "                        <td id=\"T_56454_row5_col1\" class=\"data row5 col1\" >4.22</td>\n",
       "                        <td id=\"T_56454_row5_col2\" class=\"data row5 col2\" >0.53</td>\n",
       "                        <td id=\"T_56454_row5_col3\" class=\"data row5 col3\" >9.16</td>\n",
       "                        <td id=\"T_56454_row5_col4\" class=\"data row5 col4\" >12389.00</td>\n",
       "                        <td id=\"T_56454_row5_col5\" class=\"data row5 col5\" >564.00</td>\n",
       "            </tr>\n",
       "            <tr>\n",
       "                        <th id=\"T_56454_level0_row6\" class=\"row_heading level0 row6\" >70대</th>\n",
       "                        <td id=\"T_56454_row6_col0\" class=\"data row6 col0\" >12.52</td>\n",
       "                        <td id=\"T_56454_row6_col1\" class=\"data row6 col1\" >3.51</td>\n",
       "                        <td id=\"T_56454_row6_col2\" class=\"data row6 col2\" >0.49</td>\n",
       "                        <td id=\"T_56454_row6_col3\" class=\"data row6 col3\" >8.67</td>\n",
       "                        <td id=\"T_56454_row6_col4\" class=\"data row6 col4\" >3006.00</td>\n",
       "                        <td id=\"T_56454_row6_col5\" class=\"data row6 col5\" >164.00</td>\n",
       "            </tr>\n",
       "            <tr>\n",
       "                        <th id=\"T_56454_level0_row7\" class=\"row_heading level0 row7\" >평균</th>\n",
       "                        <td id=\"T_56454_row7_col0\" class=\"data row7 col0\" >13.44</td>\n",
       "                        <td id=\"T_56454_row7_col1\" class=\"data row7 col1\" >4.34</td>\n",
       "                        <td id=\"T_56454_row7_col2\" class=\"data row7 col2\" >0.54</td>\n",
       "                        <td id=\"T_56454_row7_col3\" class=\"data row7 col3\" >9.35</td>\n",
       "                        <td id=\"T_56454_row7_col4\" class=\"data row7 col4\" >69267.43</td>\n",
       "                        <td id=\"T_56454_row7_col5\" class=\"data row7 col5\" >16423.14</td>\n",
       "            </tr>\n",
       "    </tbody></table>"
      ],
      "text/plain": [
       "<pandas.io.formats.style.Styler at 0x29cdc25c388>"
      ]
     },
     "execution_count": 79,
     "metadata": {},
     "output_type": "execute_result"
    }
   ],
   "source": [
    "# 소수점 자리수 조절 \n",
    "avg_allage.style.set_precision(2)"
   ]
  },
  {
   "cell_type": "code",
   "execution_count": 80,
   "id": "9af44ab8-617b-47c2-b302-6a21dcb7b32a",
   "metadata": {},
   "outputs": [],
   "source": [
    "# plt.figure(figsize=(6,6))\n",
    "# plt.scater(avg_allage[])"
   ]
  },
  {
   "cell_type": "code",
   "execution_count": 81,
   "id": "dd055348-7c91-4aad-91cd-13ca853ccc01",
   "metadata": {},
   "outputs": [],
   "source": [
    "# import warnings \n",
    "# warnings.filterwarnings('ignore')\n",
    "# pd.options.display.float_format = '{:,}'.format   # global/모든 df 적용\n",
    "\n",
    "# pd.set_option('display.float_format', None)"
   ]
  },
  {
   "cell_type": "code",
   "execution_count": 82,
   "id": "56f1f534-cf23-40a0-a2fd-e7dca7e70dbd",
   "metadata": {},
   "outputs": [],
   "source": [
    "# ----------------------------------시각화------------------------------------"
   ]
  },
  {
   "cell_type": "code",
   "execution_count": 83,
   "id": "beecdeec-e7e3-4eeb-a012-ab1a2ab9ee82",
   "metadata": {},
   "outputs": [
    {
     "data": {
      "image/png": "[encoded data removed]",
      "text/plain": [
       "<Figure size 432x288 with 1 Axes>"
      ]
     },
     "metadata": {
      "needs_background": "light"
     },
     "output_type": "display_data"
    }
   ],
   "source": [
    "avg_allage['대여시간(24)'].sort_values().plot(kind='barh', grid=True)\n",
    "plt.show()"
   ]
  },
  {
   "cell_type": "code",
   "execution_count": 84,
   "id": "d32f0100-7f2e-42fc-bd7d-fbbf2d70bbd5",
   "metadata": {},
   "outputs": [
    {
     "data": {
      "image/png": "[encoded data removed]",
      "text/plain": [
       "<Figure size 432x288 with 1 Axes>"
      ]
     },
     "metadata": {
      "needs_background": "light"
     },
     "output_type": "display_data"
    }
   ],
   "source": [
    "avg_allage['이동거리(km)'].sort_values().plot(kind='barh', grid=True)\n",
    "plt.show()"
   ]
  },
  {
   "cell_type": "code",
   "execution_count": 85,
   "id": "dfb77031-305f-4115-9795-7a9ece5cd5b5",
   "metadata": {},
   "outputs": [
    {
     "data": {
      "image/png": "[encoded data removed]",
      "text/plain": [
       "<Figure size 432x288 with 1 Axes>"
      ]
     },
     "metadata": {
      "needs_background": "light"
     },
     "output_type": "display_data"
    }
   ],
   "source": [
    "avg_allage['사용시간(hr)'].sort_values().plot(kind='barh', grid=True)\n",
    "plt.show()"
   ]
  },
  {
   "cell_type": "code",
   "execution_count": 86,
   "id": "a32471d6-2c3b-4ad2-a1f1-0aca367c0b04",
   "metadata": {},
   "outputs": [
    {
     "data": {
      "image/png": "[encoded data removed]",
      "text/plain": [
       "<Figure size 432x288 with 1 Axes>"
      ]
     },
     "metadata": {
      "needs_background": "light"
     },
     "output_type": "display_data"
    }
   ],
   "source": [
    "avg_allage['속도(km/h)'].sort_values().plot(kind='barh', grid=True)\n",
    "plt.show()"
   ]
  },
  {
   "cell_type": "code",
   "execution_count": null,
   "id": "2594cfee-8412-49a7-95ad-f2053d5e6f63",
   "metadata": {},
   "outputs": [],
   "source": []
  },
  {
   "cell_type": "code",
   "execution_count": null,
   "id": "f86553a5-2e27-42c6-819e-2846c84849cf",
   "metadata": {},
   "outputs": [],
   "source": []
  },
  {
   "cell_type": "code",
   "execution_count": 87,
   "id": "1e3cd663-e4df-441c-9bee-3afc7ec2c65c",
   "metadata": {},
   "outputs": [],
   "source": [
    "# --------------------------------------------GROUP BY-------------------------------------------------------\n",
    "                                         #연령대별 -> 사용시간/이동거리/속도\n",
    "grouped_age_df = df.groupby('연령대')"
   ]
  },
  {
   "cell_type": "code",
   "execution_count": 88,
   "id": "5a4b8813-5dfd-486b-9b68-7c91ac1c770e",
   "metadata": {},
   "outputs": [
    {
     "data": {
      "text/html": [
       "<div>\n",
       "<style scoped>\n",
       "    .dataframe tbody tr th:only-of-type {\n",
       "        vertical-align: middle;\n",
       "    }\n",
       "\n",
       "    .dataframe tbody tr th {\n",
       "        vertical-align: top;\n",
       "    }\n",
       "\n",
       "    .dataframe thead th {\n",
       "        text-align: right;\n",
       "    }\n",
       "</style>\n",
       "<table border=\"1\" class=\"dataframe\">\n",
       "  <thead>\n",
       "    <tr style=\"text-align: right;\">\n",
       "      <th></th>\n",
       "      <th>사용시간(hr)</th>\n",
       "      <th>이동거리(km)</th>\n",
       "      <th>속도(km/h)</th>\n",
       "    </tr>\n",
       "    <tr>\n",
       "      <th>연령대</th>\n",
       "      <th></th>\n",
       "      <th></th>\n",
       "      <th></th>\n",
       "    </tr>\n",
       "  </thead>\n",
       "  <tbody>\n",
       "    <tr>\n",
       "      <th>20대</th>\n",
       "      <td>0.590600</td>\n",
       "      <td>4.911036</td>\n",
       "      <td>9.525859</td>\n",
       "    </tr>\n",
       "    <tr>\n",
       "      <th>30대</th>\n",
       "      <td>0.532217</td>\n",
       "      <td>4.533074</td>\n",
       "      <td>9.712704</td>\n",
       "    </tr>\n",
       "    <tr>\n",
       "      <th>40대</th>\n",
       "      <td>0.527742</td>\n",
       "      <td>4.422659</td>\n",
       "      <td>9.651403</td>\n",
       "    </tr>\n",
       "    <tr>\n",
       "      <th>50대</th>\n",
       "      <td>0.487778</td>\n",
       "      <td>4.189637</td>\n",
       "      <td>9.641386</td>\n",
       "    </tr>\n",
       "    <tr>\n",
       "      <th>60대</th>\n",
       "      <td>0.525678</td>\n",
       "      <td>4.221814</td>\n",
       "      <td>9.161338</td>\n",
       "    </tr>\n",
       "    <tr>\n",
       "      <th>70대~</th>\n",
       "      <td>0.488957</td>\n",
       "      <td>3.507910</td>\n",
       "      <td>8.667201</td>\n",
       "    </tr>\n",
       "    <tr>\n",
       "      <th>~10대</th>\n",
       "      <td>0.585511</td>\n",
       "      <td>4.591676</td>\n",
       "      <td>9.105572</td>\n",
       "    </tr>\n",
       "  </tbody>\n",
       "</table>\n",
       "</div>"
      ],
      "text/plain": [
       "      사용시간(hr)  이동거리(km)  속도(km/h)\n",
       "연령대                               \n",
       "20대   0.590600  4.911036  9.525859\n",
       "30대   0.532217  4.533074  9.712704\n",
       "40대   0.527742  4.422659  9.651403\n",
       "50대   0.487778  4.189637  9.641386\n",
       "60대   0.525678  4.221814  9.161338\n",
       "70대~  0.488957  3.507910  8.667201\n",
       "~10대  0.585511  4.591676  9.105572"
      ]
     },
     "execution_count": 88,
     "metadata": {},
     "output_type": "execute_result"
    }
   ],
   "source": [
    "age_plot = grouped_age_df[['사용시간(hr)', '이동거리(km)', '속도(km/h)']].mean()\n",
    "age_plot"
   ]
  },
  {
   "cell_type": "code",
   "execution_count": 89,
   "id": "e8d67256-8de3-400d-915d-54c569593505",
   "metadata": {},
   "outputs": [],
   "source": [
    "# 대여시간 별 - 사용시간/이동거리/속도\n",
    "grouped_time_df = df.groupby('대여시간(24)')"
   ]
  },
  {
   "cell_type": "code",
   "execution_count": 90,
   "id": "cb199494-5d02-449c-8115-8015358ba1aa",
   "metadata": {},
   "outputs": [
    {
     "data": {
      "text/html": [
       "<div>\n",
       "<style scoped>\n",
       "    .dataframe tbody tr th:only-of-type {\n",
       "        vertical-align: middle;\n",
       "    }\n",
       "\n",
       "    .dataframe tbody tr th {\n",
       "        vertical-align: top;\n",
       "    }\n",
       "\n",
       "    .dataframe thead th {\n",
       "        text-align: right;\n",
       "    }\n",
       "</style>\n",
       "<table border=\"1\" class=\"dataframe\">\n",
       "  <thead>\n",
       "    <tr style=\"text-align: right;\">\n",
       "      <th></th>\n",
       "      <th>사용시간(hr)</th>\n",
       "      <th>이동거리(km)</th>\n",
       "      <th>속도(km/h)</th>\n",
       "    </tr>\n",
       "    <tr>\n",
       "      <th>대여시간(24)</th>\n",
       "      <th></th>\n",
       "      <th></th>\n",
       "      <th></th>\n",
       "    </tr>\n",
       "  </thead>\n",
       "  <tbody>\n",
       "    <tr>\n",
       "      <th>0</th>\n",
       "      <td>0.429448</td>\n",
       "      <td>3.832833</td>\n",
       "      <td>10.176759</td>\n",
       "    </tr>\n",
       "    <tr>\n",
       "      <th>1</th>\n",
       "      <td>0.406978</td>\n",
       "      <td>3.769189</td>\n",
       "      <td>10.306449</td>\n",
       "    </tr>\n",
       "    <tr>\n",
       "      <th>2</th>\n",
       "      <td>0.380315</td>\n",
       "      <td>3.565458</td>\n",
       "      <td>10.473500</td>\n",
       "    </tr>\n",
       "    <tr>\n",
       "      <th>3</th>\n",
       "      <td>0.376560</td>\n",
       "      <td>3.556897</td>\n",
       "      <td>10.510142</td>\n",
       "    </tr>\n",
       "    <tr>\n",
       "      <th>4</th>\n",
       "      <td>0.369947</td>\n",
       "      <td>3.556896</td>\n",
       "      <td>10.748413</td>\n",
       "    </tr>\n",
       "    <tr>\n",
       "      <th>5</th>\n",
       "      <td>0.362521</td>\n",
       "      <td>3.469015</td>\n",
       "      <td>11.227234</td>\n",
       "    </tr>\n",
       "    <tr>\n",
       "      <th>6</th>\n",
       "      <td>0.348917</td>\n",
       "      <td>3.520979</td>\n",
       "      <td>11.736888</td>\n",
       "    </tr>\n",
       "    <tr>\n",
       "      <th>7</th>\n",
       "      <td>0.338499</td>\n",
       "      <td>3.537059</td>\n",
       "      <td>11.598942</td>\n",
       "    </tr>\n",
       "    <tr>\n",
       "      <th>8</th>\n",
       "      <td>0.325537</td>\n",
       "      <td>3.195966</td>\n",
       "      <td>11.138960</td>\n",
       "    </tr>\n",
       "    <tr>\n",
       "      <th>9</th>\n",
       "      <td>0.373734</td>\n",
       "      <td>3.221435</td>\n",
       "      <td>10.346451</td>\n",
       "    </tr>\n",
       "    <tr>\n",
       "      <th>10</th>\n",
       "      <td>0.458781</td>\n",
       "      <td>3.640087</td>\n",
       "      <td>9.626109</td>\n",
       "    </tr>\n",
       "    <tr>\n",
       "      <th>11</th>\n",
       "      <td>0.520904</td>\n",
       "      <td>3.752005</td>\n",
       "      <td>9.040392</td>\n",
       "    </tr>\n",
       "    <tr>\n",
       "      <th>12</th>\n",
       "      <td>0.527595</td>\n",
       "      <td>3.841192</td>\n",
       "      <td>8.899662</td>\n",
       "    </tr>\n",
       "    <tr>\n",
       "      <th>13</th>\n",
       "      <td>0.577316</td>\n",
       "      <td>4.257089</td>\n",
       "      <td>8.811367</td>\n",
       "    </tr>\n",
       "    <tr>\n",
       "      <th>14</th>\n",
       "      <td>0.640792</td>\n",
       "      <td>4.764312</td>\n",
       "      <td>8.690700</td>\n",
       "    </tr>\n",
       "    <tr>\n",
       "      <th>15</th>\n",
       "      <td>0.661299</td>\n",
       "      <td>4.953096</td>\n",
       "      <td>8.655564</td>\n",
       "    </tr>\n",
       "    <tr>\n",
       "      <th>16</th>\n",
       "      <td>0.668412</td>\n",
       "      <td>5.184123</td>\n",
       "      <td>8.798881</td>\n",
       "    </tr>\n",
       "    <tr>\n",
       "      <th>17</th>\n",
       "      <td>0.650723</td>\n",
       "      <td>5.256553</td>\n",
       "      <td>9.059345</td>\n",
       "    </tr>\n",
       "    <tr>\n",
       "      <th>18</th>\n",
       "      <td>0.662882</td>\n",
       "      <td>5.784172</td>\n",
       "      <td>9.397261</td>\n",
       "    </tr>\n",
       "    <tr>\n",
       "      <th>19</th>\n",
       "      <td>0.664682</td>\n",
       "      <td>5.609043</td>\n",
       "      <td>9.158115</td>\n",
       "    </tr>\n",
       "    <tr>\n",
       "      <th>20</th>\n",
       "      <td>0.692072</td>\n",
       "      <td>5.841847</td>\n",
       "      <td>9.137073</td>\n",
       "    </tr>\n",
       "    <tr>\n",
       "      <th>21</th>\n",
       "      <td>0.652761</td>\n",
       "      <td>5.613751</td>\n",
       "      <td>9.282129</td>\n",
       "    </tr>\n",
       "    <tr>\n",
       "      <th>22</th>\n",
       "      <td>0.575324</td>\n",
       "      <td>5.120122</td>\n",
       "      <td>9.616522</td>\n",
       "    </tr>\n",
       "    <tr>\n",
       "      <th>23</th>\n",
       "      <td>0.494038</td>\n",
       "      <td>4.404616</td>\n",
       "      <td>9.893416</td>\n",
       "    </tr>\n",
       "  </tbody>\n",
       "</table>\n",
       "</div>"
      ],
      "text/plain": [
       "          사용시간(hr)  이동거리(km)   속도(km/h)\n",
       "대여시간(24)                               \n",
       "0         0.429448  3.832833  10.176759\n",
       "1         0.406978  3.769189  10.306449\n",
       "2         0.380315  3.565458  10.473500\n",
       "3         0.376560  3.556897  10.510142\n",
       "4         0.369947  3.556896  10.748413\n",
       "5         0.362521  3.469015  11.227234\n",
       "6         0.348917  3.520979  11.736888\n",
       "7         0.338499  3.537059  11.598942\n",
       "8         0.325537  3.195966  11.138960\n",
       "9         0.373734  3.221435  10.346451\n",
       "10        0.458781  3.640087   9.626109\n",
       "11        0.520904  3.752005   9.040392\n",
       "12        0.527595  3.841192   8.899662\n",
       "13        0.577316  4.257089   8.811367\n",
       "14        0.640792  4.764312   8.690700\n",
       "15        0.661299  4.953096   8.655564\n",
       "16        0.668412  5.184123   8.798881\n",
       "17        0.650723  5.256553   9.059345\n",
       "18        0.662882  5.784172   9.397261\n",
       "19        0.664682  5.609043   9.158115\n",
       "20        0.692072  5.841847   9.137073\n",
       "21        0.652761  5.613751   9.282129\n",
       "22        0.575324  5.120122   9.616522\n",
       "23        0.494038  4.404616   9.893416"
      ]
     },
     "execution_count": 90,
     "metadata": {},
     "output_type": "execute_result"
    }
   ],
   "source": [
    "grouped_time_df[['사용시간(hr)', '이동거리(km)', '속도(km/h)']].mean()"
   ]
  },
  {
   "cell_type": "code",
   "execution_count": 91,
   "id": "5e462a26-a0fa-44a9-8a34-8016ae043a4a",
   "metadata": {},
   "outputs": [],
   "source": [
    "# 대여시간(24) 별 - 사용시간, 이동거리, 속도\n"
   ]
  },
  {
   "cell_type": "code",
   "execution_count": null,
   "id": "b3911b39-aeec-4bb8-8248-75257c9310ca",
   "metadata": {},
   "outputs": [],
   "source": []
  },
  {
   "cell_type": "code",
   "execution_count": 92,
   "id": "2a68036b-da56-41c8-aa1a-976bc37092a9",
   "metadata": {},
   "outputs": [],
   "source": [
    "# 성별 - 사용시간/이동거리/속도\n",
    "grouped_sex_df = df.groupby('성별')"
   ]
  },
  {
   "cell_type": "code",
   "execution_count": 93,
   "id": "0603ff96-a41e-45cc-86b7-8250d3db2702",
   "metadata": {},
   "outputs": [
    {
     "data": {
      "text/html": [
       "<div>\n",
       "<style scoped>\n",
       "    .dataframe tbody tr th:only-of-type {\n",
       "        vertical-align: middle;\n",
       "    }\n",
       "\n",
       "    .dataframe tbody tr th {\n",
       "        vertical-align: top;\n",
       "    }\n",
       "\n",
       "    .dataframe thead th {\n",
       "        text-align: right;\n",
       "    }\n",
       "</style>\n",
       "<table border=\"1\" class=\"dataframe\">\n",
       "  <thead>\n",
       "    <tr style=\"text-align: right;\">\n",
       "      <th></th>\n",
       "      <th>사용시간(hr)</th>\n",
       "      <th>이동거리(km)</th>\n",
       "      <th>속도(km/h)</th>\n",
       "    </tr>\n",
       "    <tr>\n",
       "      <th>성별</th>\n",
       "      <th></th>\n",
       "      <th></th>\n",
       "      <th></th>\n",
       "    </tr>\n",
       "  </thead>\n",
       "  <tbody>\n",
       "    <tr>\n",
       "      <th>F</th>\n",
       "      <td>0.565240</td>\n",
       "      <td>4.576897</td>\n",
       "      <td>9.014206</td>\n",
       "    </tr>\n",
       "    <tr>\n",
       "      <th>M</th>\n",
       "      <td>0.466686</td>\n",
       "      <td>4.024572</td>\n",
       "      <td>10.112328</td>\n",
       "    </tr>\n",
       "    <tr>\n",
       "      <th>\\N</th>\n",
       "      <td>0.365572</td>\n",
       "      <td>3.142352</td>\n",
       "      <td>10.440070</td>\n",
       "    </tr>\n",
       "  </tbody>\n",
       "</table>\n",
       "</div>"
      ],
      "text/plain": [
       "    사용시간(hr)  이동거리(km)   속도(km/h)\n",
       "성별                               \n",
       "F   0.565240  4.576897   9.014206\n",
       "M   0.466686  4.024572  10.112328\n",
       "\\N  0.365572  3.142352  10.440070"
      ]
     },
     "execution_count": 93,
     "metadata": {},
     "output_type": "execute_result"
    }
   ],
   "source": [
    "sex_plot = grouped_sex_df[['사용시간(hr)', '이동거리(km)', '속도(km/h)']].mean()\n",
    "sex_plot"
   ]
  },
  {
   "cell_type": "code",
   "execution_count": 94,
   "id": "09918828-d5de-48ca-8cde-6b128623fa86",
   "metadata": {},
   "outputs": [
    {
     "data": {
      "text/plain": [
       "<AxesSubplot:xlabel='성별'>"
      ]
     },
     "execution_count": 94,
     "metadata": {},
     "output_type": "execute_result"
    },
    {
     "data": {
      "image/png": "[encoded data removed]",
      "text/plain": [
       "<Figure size 432x288 with 1 Axes>"
      ]
     },
     "metadata": {
      "needs_background": "light"
     },
     "output_type": "display_data"
    }
   ],
   "source": [
    "sex_plot.plot()"
   ]
  },
  {
   "cell_type": "code",
   "execution_count": 95,
   "id": "91d3b548-8af2-428d-b264-31509af0e42c",
   "metadata": {},
   "outputs": [],
   "source": [
    "# 연도 별 - 사용시간/이동거리/속도\n",
    "grouped_yr_df = df.groupby('년')"
   ]
  },
  {
   "cell_type": "code",
   "execution_count": 96,
   "id": "0e3c13f8-599d-4107-beba-072e82daf333",
   "metadata": {},
   "outputs": [
    {
     "data": {
      "text/html": [
       "<div>\n",
       "<style scoped>\n",
       "    .dataframe tbody tr th:only-of-type {\n",
       "        vertical-align: middle;\n",
       "    }\n",
       "\n",
       "    .dataframe tbody tr th {\n",
       "        vertical-align: top;\n",
       "    }\n",
       "\n",
       "    .dataframe thead th {\n",
       "        text-align: right;\n",
       "    }\n",
       "</style>\n",
       "<table border=\"1\" class=\"dataframe\">\n",
       "  <thead>\n",
       "    <tr style=\"text-align: right;\">\n",
       "      <th></th>\n",
       "      <th>사용시간(hr)</th>\n",
       "      <th>이동거리(km)</th>\n",
       "      <th>속도(km/h)</th>\n",
       "    </tr>\n",
       "    <tr>\n",
       "      <th>년</th>\n",
       "      <th></th>\n",
       "      <th></th>\n",
       "      <th></th>\n",
       "    </tr>\n",
       "  </thead>\n",
       "  <tbody>\n",
       "    <tr>\n",
       "      <th>2018</th>\n",
       "      <td>0.495492</td>\n",
       "      <td>4.258253</td>\n",
       "      <td>9.904782</td>\n",
       "    </tr>\n",
       "    <tr>\n",
       "      <th>2019</th>\n",
       "      <td>0.530407</td>\n",
       "      <td>4.648569</td>\n",
       "      <td>9.806558</td>\n",
       "    </tr>\n",
       "    <tr>\n",
       "      <th>2020</th>\n",
       "      <td>0.661468</td>\n",
       "      <td>5.012870</td>\n",
       "      <td>8.803996</td>\n",
       "    </tr>\n",
       "  </tbody>\n",
       "</table>\n",
       "</div>"
      ],
      "text/plain": [
       "      사용시간(hr)  이동거리(km)  속도(km/h)\n",
       "년                                 \n",
       "2018  0.495492  4.258253  9.904782\n",
       "2019  0.530407  4.648569  9.806558\n",
       "2020  0.661468  5.012870  8.803996"
      ]
     },
     "execution_count": 96,
     "metadata": {},
     "output_type": "execute_result"
    }
   ],
   "source": [
    "yr_plot = grouped_yr_df[['사용시간(hr)', '이동거리(km)', '속도(km/h)']].mean()\n",
    "yr_plot"
   ]
  },
  {
   "cell_type": "code",
   "execution_count": 97,
   "id": "11931318-5105-45e7-b140-ed3dcaf22370",
   "metadata": {},
   "outputs": [
    {
     "data": {
      "text/plain": [
       "<AxesSubplot:xlabel='년'>"
      ]
     },
     "execution_count": 97,
     "metadata": {},
     "output_type": "execute_result"
    },
    {
     "data": {
      "image/png": "[encoded data removed]",
      "text/plain": [
       "<Figure size 432x288 with 1 Axes>"
      ]
     },
     "metadata": {
      "needs_background": "light"
     },
     "output_type": "display_data"
    }
   ],
   "source": [
    "yr_plot.plot()"
   ]
  },
  {
   "cell_type": "code",
   "execution_count": 98,
   "id": "e89b0a8f-d400-4d5d-9026-cc2a5d96527e",
   "metadata": {},
   "outputs": [],
   "source": [
    "# 월별 - 사용시간/이동거리/속도\n",
    "grouped_mth_df = df.groupby('월')"
   ]
  },
  {
   "cell_type": "code",
   "execution_count": 99,
   "id": "a65bef1b-9a15-44a7-9ffc-4f96c7fce0c6",
   "metadata": {},
   "outputs": [
    {
     "data": {
      "text/html": [
       "<div>\n",
       "<style scoped>\n",
       "    .dataframe tbody tr th:only-of-type {\n",
       "        vertical-align: middle;\n",
       "    }\n",
       "\n",
       "    .dataframe tbody tr th {\n",
       "        vertical-align: top;\n",
       "    }\n",
       "\n",
       "    .dataframe thead th {\n",
       "        text-align: right;\n",
       "    }\n",
       "</style>\n",
       "<table border=\"1\" class=\"dataframe\">\n",
       "  <thead>\n",
       "    <tr style=\"text-align: right;\">\n",
       "      <th></th>\n",
       "      <th>사용시간(hr)</th>\n",
       "      <th>이동거리(km)</th>\n",
       "      <th>속도(km/h)</th>\n",
       "    </tr>\n",
       "    <tr>\n",
       "      <th>월</th>\n",
       "      <th></th>\n",
       "      <th></th>\n",
       "      <th></th>\n",
       "    </tr>\n",
       "  </thead>\n",
       "  <tbody>\n",
       "    <tr>\n",
       "      <th>1</th>\n",
       "      <td>0.353034</td>\n",
       "      <td>2.972759</td>\n",
       "      <td>10.409988</td>\n",
       "    </tr>\n",
       "    <tr>\n",
       "      <th>2</th>\n",
       "      <td>0.396590</td>\n",
       "      <td>3.394052</td>\n",
       "      <td>10.237261</td>\n",
       "    </tr>\n",
       "    <tr>\n",
       "      <th>3</th>\n",
       "      <td>0.622464</td>\n",
       "      <td>5.337944</td>\n",
       "      <td>9.578308</td>\n",
       "    </tr>\n",
       "    <tr>\n",
       "      <th>4</th>\n",
       "      <td>0.627747</td>\n",
       "      <td>5.237050</td>\n",
       "      <td>9.464098</td>\n",
       "    </tr>\n",
       "    <tr>\n",
       "      <th>5</th>\n",
       "      <td>0.637981</td>\n",
       "      <td>5.222502</td>\n",
       "      <td>9.335921</td>\n",
       "    </tr>\n",
       "    <tr>\n",
       "      <th>6</th>\n",
       "      <td>0.602922</td>\n",
       "      <td>5.067470</td>\n",
       "      <td>9.450412</td>\n",
       "    </tr>\n",
       "    <tr>\n",
       "      <th>7</th>\n",
       "      <td>0.568634</td>\n",
       "      <td>4.737251</td>\n",
       "      <td>9.260666</td>\n",
       "    </tr>\n",
       "    <tr>\n",
       "      <th>8</th>\n",
       "      <td>0.564755</td>\n",
       "      <td>4.908133</td>\n",
       "      <td>9.740895</td>\n",
       "    </tr>\n",
       "    <tr>\n",
       "      <th>9</th>\n",
       "      <td>0.618200</td>\n",
       "      <td>5.137637</td>\n",
       "      <td>9.411894</td>\n",
       "    </tr>\n",
       "    <tr>\n",
       "      <th>10</th>\n",
       "      <td>0.548088</td>\n",
       "      <td>4.586936</td>\n",
       "      <td>9.526458</td>\n",
       "    </tr>\n",
       "    <tr>\n",
       "      <th>11</th>\n",
       "      <td>0.429253</td>\n",
       "      <td>3.525983</td>\n",
       "      <td>9.796115</td>\n",
       "    </tr>\n",
       "    <tr>\n",
       "      <th>12</th>\n",
       "      <td>0.372518</td>\n",
       "      <td>2.945139</td>\n",
       "      <td>9.915934</td>\n",
       "    </tr>\n",
       "  </tbody>\n",
       "</table>\n",
       "</div>"
      ],
      "text/plain": [
       "    사용시간(hr)  이동거리(km)   속도(km/h)\n",
       "월                                \n",
       "1   0.353034  2.972759  10.409988\n",
       "2   0.396590  3.394052  10.237261\n",
       "3   0.622464  5.337944   9.578308\n",
       "4   0.627747  5.237050   9.464098\n",
       "5   0.637981  5.222502   9.335921\n",
       "6   0.602922  5.067470   9.450412\n",
       "7   0.568634  4.737251   9.260666\n",
       "8   0.564755  4.908133   9.740895\n",
       "9   0.618200  5.137637   9.411894\n",
       "10  0.548088  4.586936   9.526458\n",
       "11  0.429253  3.525983   9.796115\n",
       "12  0.372518  2.945139   9.915934"
      ]
     },
     "execution_count": 99,
     "metadata": {},
     "output_type": "execute_result"
    }
   ],
   "source": [
    "grouped_mth_df[['사용시간(hr)', '이동거리(km)', '속도(km/h)']].mean()"
   ]
  },
  {
   "cell_type": "code",
   "execution_count": 100,
   "id": "ac4c611b-030c-452d-bce4-619ba9376f84",
   "metadata": {},
   "outputs": [
    {
     "data": {
      "text/html": [
       "<div>\n",
       "<style scoped>\n",
       "    .dataframe tbody tr th:only-of-type {\n",
       "        vertical-align: middle;\n",
       "    }\n",
       "\n",
       "    .dataframe tbody tr th {\n",
       "        vertical-align: top;\n",
       "    }\n",
       "\n",
       "    .dataframe thead th {\n",
       "        text-align: right;\n",
       "    }\n",
       "</style>\n",
       "<table border=\"1\" class=\"dataframe\">\n",
       "  <thead>\n",
       "    <tr style=\"text-align: right;\">\n",
       "      <th></th>\n",
       "      <th>사용시간(hr)</th>\n",
       "      <th>이동거리(km)</th>\n",
       "      <th>속도(km/h)</th>\n",
       "    </tr>\n",
       "    <tr>\n",
       "      <th>대여권</th>\n",
       "      <th></th>\n",
       "      <th></th>\n",
       "      <th></th>\n",
       "    </tr>\n",
       "  </thead>\n",
       "  <tbody>\n",
       "    <tr>\n",
       "      <th>단체권</th>\n",
       "      <td>1.557690</td>\n",
       "      <td>11.831594</td>\n",
       "      <td>7.684933</td>\n",
       "    </tr>\n",
       "    <tr>\n",
       "      <th>일일권</th>\n",
       "      <td>0.877108</td>\n",
       "      <td>6.993269</td>\n",
       "      <td>8.651926</td>\n",
       "    </tr>\n",
       "    <tr>\n",
       "      <th>정기권</th>\n",
       "      <td>0.470938</td>\n",
       "      <td>4.027274</td>\n",
       "      <td>9.803516</td>\n",
       "    </tr>\n",
       "  </tbody>\n",
       "</table>\n",
       "</div>"
      ],
      "text/plain": [
       "     사용시간(hr)   이동거리(km)  속도(km/h)\n",
       "대여권                               \n",
       "단체권  1.557690  11.831594  7.684933\n",
       "일일권  0.877108   6.993269  8.651926\n",
       "정기권  0.470938   4.027274  9.803516"
      ]
     },
     "execution_count": 100,
     "metadata": {},
     "output_type": "execute_result"
    }
   ],
   "source": [
    "# 대여권 별 - 사용시간/이동거리/속도\n",
    "grouped_membership_df = df.groupby('대여권')\n",
    "grouped_membership_df[['사용시간(hr)', '이동거리(km)', '속도(km/h)']].mean()"
   ]
  },
  {
   "cell_type": "code",
   "execution_count": 101,
   "id": "d083ef6d-df2a-426b-9448-d3eb967dbf23",
   "metadata": {},
   "outputs": [],
   "source": [
    "# 그룹화된 데이터의 빈도(갯수) 카운트\n",
    "# df.groupby('col')['col'].nunique()"
   ]
  },
  {
   "cell_type": "code",
   "execution_count": 102,
   "id": "9a3d9328-4c91-469b-8380-3dbdd976b7c2",
   "metadata": {},
   "outputs": [],
   "source": [
    "# --------------------------------------------시각화-------------------------------------------------------"
   ]
  },
  {
   "cell_type": "code",
   "execution_count": 103,
   "id": "3bb7dc84-4156-4c34-8b9b-f41f2f663477",
   "metadata": {},
   "outputs": [],
   "source": [
    "# 대여시간(24) & 속도 \n",
    "# plt.bar(df['대여시간(24)'], df['속도(km/h)'])\n",
    "\n",
    "# plt.xlabel('대여시간(24:00')\n",
    "# plt.ylabel('속도(km/h)')\n",
    "# plt.title('대여시간 별 자전거 속도')\n",
    "\n",
    "# plt.show()"
   ]
  },
  {
   "cell_type": "code",
   "execution_count": 104,
   "id": "783988d7-f6da-485f-ba40-3997169a9769",
   "metadata": {},
   "outputs": [
    {
     "data": {
      "image/png": "[encoded data removed]",
      "text/plain": [
       "<Figure size 432x288 with 1 Axes>"
      ]
     },
     "metadata": {
      "needs_background": "light"
     },
     "output_type": "display_data"
    }
   ],
   "source": [
    "plt.plot(age_plot) \n",
    "plt.legend(['데이터1', '데이터2'])\n",
    "plt.xlabel('속도(km/h)')\n",
    "plt.ylabel('연령대')\n",
    "plt.title('연령대 별 자전거 속도')\n",
    "plt.grid(True)\n",
    "plt.show()"
   ]
  },
  {
   "cell_type": "code",
   "execution_count": null,
   "id": "e8ba01cc-569f-46a8-85a0-8815f3bb6945",
   "metadata": {},
   "outputs": [],
   "source": []
  },
  {
   "cell_type": "code",
   "execution_count": null,
   "id": "ae152126-e6b0-4bb5-8f2a-522207c1adb3",
   "metadata": {},
   "outputs": [],
   "source": []
  },
  {
   "cell_type": "code",
   "execution_count": null,
   "id": "0e6b0dc6-bf8a-48c4-ab18-d03705a62bd2",
   "metadata": {},
   "outputs": [],
   "source": []
  },
  {
   "cell_type": "code",
   "execution_count": null,
   "id": "cf1163d1-f8b1-4a8a-995c-fa88aee1a4ca",
   "metadata": {},
   "outputs": [],
   "source": []
  },
  {
   "cell_type": "code",
   "execution_count": 105,
   "id": "bf31093a-ea57-445b-9f5d-1561b03ec625",
   "metadata": {
    "tags": []
   },
   "outputs": [],
   "source": [
    "# 안됨\n",
    "\n",
    "# 조건 입력 : 연령대 - 대여권, 대여시간, 이동거리, 사용시간, 속도\n",
    "# cond_ds30s = (df.년 == '30대')\n",
    "# df.loc[cond_ds30s, ['대여권', '대여시간(24)', '이동거리(km)', '사용시간(hr)', '속도(km/h)']]\n",
    "\n",
    "\n",
    "# dataset (ds) 연도별\n",
    "\n",
    "# ds2020 = df[df['년'] == '2020']  \n",
    "\n",
    "# yr2020 = df[df.년 != '2019']\n",
    "# yr2020 = df[df.년 != '2018']\n",
    "# yr2020.head()"
   ]
  }
 ],
 "metadata": {
  "kernelspec": {
   "display_name": "Python 3 (ipykernel)",
   "language": "python",
   "name": "python3"
  },
  "language_info": {
   "codemirror_mode": {
    "name": "ipython",
    "version": 3
   },
   "file_extension": ".py",
   "mimetype": "text/x-python",
   "name": "python",
   "nbconvert_exporter": "python",
   "pygments_lexer": "ipython3",
   "version": "3.7.10"
  }
 },
 "nbformat": 4,
 "nbformat_minor": 5
}
